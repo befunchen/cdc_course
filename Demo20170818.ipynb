{
 "cells": [
  {
   "cell_type": "markdown",
   "metadata": {},
   "source": [
    "## FIC 網路爬蟲"
   ]
  },
  {
   "cell_type": "code",
   "execution_count": 2,
   "metadata": {},
   "outputs": [
    {
     "data": {
      "text/plain": [
       "<Response [200]>"
      ]
     },
     "execution_count": 2,
     "metadata": {},
     "output_type": "execute_result"
    }
   ],
   "source": [
    "import requests\n",
    "#print(dir(requests))\n",
    "res = requests.get('http://www.flu.org.cn/scn/news')\n",
    "res"
   ]
  },
  {
   "cell_type": "code",
   "execution_count": 4,
   "metadata": {},
   "outputs": [],
   "source": [
    "#res.text"
   ]
  },
  {
   "cell_type": "markdown",
   "metadata": {},
   "source": [
    "## PCHOME 網路爬蟲"
   ]
  },
  {
   "cell_type": "code",
   "execution_count": 5,
   "metadata": {},
   "outputs": [
    {
     "data": {
      "text/plain": [
       "'try{jsonp_prod({\"DEAY0N-19008BDRD-000\":{\"Seq\":18457501,\"Id\":\"DEAY0N-19008BDRD-000\",\"Name\":\"\\\\u5fb7\\\\u570bBRITA 3.5\\\\u516c\\\\u5347Aluna XL\\\\u611b\\\\u5974\\\\u5a1c\\\\u900f\\\\u8996\\\\u578b\\\\u6ffe\\\\u6c34\\\\u58fa\\\\u3010\\\\u542b1\\\\u6ffe\\\\u82af\\\\u3011+ MAXTRA Plus 12\\\\u5165\\\\u6ffe\\\\u82af\",\"Nick\":\"<font color=#FF00CC><b>\\\\u25bc\\\\u6bcf\\\\u65e5\\\\u5f37\\\\u6a94\\\\u2027\\\\u760b\\\\u6bba\\\\u7279\\\\u8ce3\\\\u25bc<\\\\/font><\\\\/b><BR>\\\\u5fb7\\\\u570bBRITA 3.5\\\\u516c\\\\u5347Aluna XL\\\\u611b\\\\u5974\\\\u5a1c\\\\u900f\\\\u8996\\\\u578b\\\\u6ffe\\\\u6c34\\\\u58fa\\\\u3010\\\\u542b1\\\\u6ffe\\\\u82af\\\\u3011+ MAXTRA Plus 12\\\\u5165\\\\u6ffe\\\\u82af\",\"Store\":\"DEAY0N\",\"PreOrdDate\":\"\",\"SpeOrdDate\":\"\",\"Price\":{\"M\":4030,\"P\":2760},\"Discount\":0,\"Pic\":{\"B\":\"\\\\/items\\\\/DEAY0N19008BDRD\\\\/000001_1503022008.jpg\",\"S\":\"\\\\/items\\\\/DEAY0N19008BDRD\\\\/000002_1503022008.jpg\"},\"Weight\":0,\"ISBN\":\"\",\"Qty\":0,\"Bonus\":0,\"isBig\":0,\"isSpec\":0,\"isCombine\":1,\"isDiy\":0,\"isRecyclable\":0,\"isCarrier\":0,\"isMedical\":0,\"isBigCart\":1,\"isSnapUp\":0,\"isDescAndIntroSync\":1,\"isFoodContents\":0,\"isHuge\":0,\"isEnergySubsidy\":0}});}catch(e){if(window.console){console.log(e);}}'"
      ]
     },
     "execution_count": 5,
     "metadata": {},
     "output_type": "execute_result"
    }
   ],
   "source": [
    "import requests\n",
    "res = requests.get('http://ecapi.pchome.com.tw/ecshop/prodapi/v2/prod/DEAY0N-19008BDRD-000&store=DEAY0N&fields=Seq,Id,Name,Nick,Store,PreOrdDate,SpeOrdDate,Price,Discount,Pic,Weight,ISBN,Qty,Bonus,isBig,isSpec,isCombine,isDiy,isRecyclable,isCarrier,isMedical,isBigCart,isSnapUp,isDescAndIntroSync,isFoodContents,isHuge,isEnergySubsidy&_callback=jsonp_prod&1503028800?_callback=jsonp_prod')\n",
    "res.text"
   ]
  },
  {
   "cell_type": "markdown",
   "metadata": {},
   "source": [
    "## 抓CDC 台灣"
   ]
  },
  {
   "cell_type": "code",
   "execution_count": 7,
   "metadata": {},
   "outputs": [],
   "source": [
    "import requests\n",
    "res = requests.get('http://www.cdc.gov.tw/disease.aspx?nowtreeid=dec84a2f0c6fac5b&treeid=8d54c504e820735b')\n",
    "#res.text"
   ]
  },
  {
   "cell_type": "markdown",
   "metadata": {},
   "source": [
    "## 抓CDC 美國"
   ]
  },
  {
   "cell_type": "code",
   "execution_count": 10,
   "metadata": {},
   "outputs": [
    {
     "name": "stderr",
     "output_type": "stream",
     "text": [
      "C:\\ProgramData\\Anaconda3\\lib\\site-packages\\requests\\packages\\urllib3\\connectionpool.py:852: InsecureRequestWarning: Unverified HTTPS request is being made. Adding certificate verification is strongly advised. See: https://urllib3.readthedocs.io/en/latest/advanced-usage.html#ssl-warnings\n",
      "  InsecureRequestWarning)\n"
     ]
    }
   ],
   "source": [
    "import requests\n",
    "res = requests.get('https://www.cdc.gov/', verify=False)\n",
    "#res.text"
   ]
  },
  {
   "cell_type": "markdown",
   "metadata": {},
   "source": [
    "## 抓高鐵時刻表"
   ]
  },
  {
   "cell_type": "code",
   "execution_count": 12,
   "metadata": {},
   "outputs": [],
   "source": [
    "import requests\n",
    "url = 'https://www.thsrc.com.tw/tw/TimeTable/SearchResult'\n",
    "payload = {\n",
    " 'StartStation':'977abb69-413a-4ccf-a109-0272c24fd490',\n",
    " 'EndStation':'fbd828d8-b1da-4b06-a3bd-680cdca4d2cd',\n",
    " 'SearchDate':'2017/08/18',\n",
    " 'SearchTime':'12:30',\n",
    " 'SearchWay':'DepartureInMandarin'   \n",
    "}\n",
    "\n",
    "res = requests.post(url , data = payload)\n",
    "#res.text"
   ]
  },
  {
   "cell_type": "markdown",
   "metadata": {},
   "source": [
    "## 台鐵時刻表\n",
    "- http://twtraffic.tra.gov.tw/twrail/EasySearch.aspx"
   ]
  },
  {
   "cell_type": "code",
   "execution_count": 19,
   "metadata": {},
   "outputs": [
    {
     "data": {
      "text/plain": [
       "requests.models.Response"
      ]
     },
     "execution_count": 19,
     "metadata": {},
     "output_type": "execute_result"
    }
   ],
   "source": [
    "import requests\n",
    "res = requests.get('http://twtraffic.tra.gov.tw/twrail/SearchResult.aspx?searchtype=0&searchdate=2017/08/18&fromstation=1810&tostation=1008&trainclass=%271100%27,%271101%27,%271102%27,%271107%27,%271110%27,%271120%27&fromtime=0600&totime=2359')\n",
    "res\n",
    "type(res)"
   ]
  },
  {
   "cell_type": "markdown",
   "metadata": {},
   "source": [
    "## 資料剖析"
   ]
  },
  {
   "cell_type": "code",
   "execution_count": 17,
   "metadata": {},
   "outputs": [],
   "source": [
    "from bs4 import BeautifulSoup\n",
    "html_sample = '''\n",
    "<html>\n",
    "    <body>\n",
    "        <h1 id=\"title\"> Hello World</h1>\n",
    "        <a href=\"#\" class='link'> THIS IS LINK1</a>\n",
    "        <a href=\"#2\" class='link'> THIS IS LINK2</a>\n",
    "    </body>\n",
    "</html>\n",
    "'''"
   ]
  },
  {
   "cell_type": "code",
   "execution_count": 22,
   "metadata": {},
   "outputs": [
    {
     "data": {
      "text/plain": [
       "bs4.BeautifulSoup"
      ]
     },
     "execution_count": 22,
     "metadata": {},
     "output_type": "execute_result"
    }
   ],
   "source": [
    "soup = BeautifulSoup(html_sample, 'html.parser')\n",
    "soup.text\n",
    "type(soup)"
   ]
  },
  {
   "cell_type": "code",
   "execution_count": 25,
   "metadata": {},
   "outputs": [],
   "source": [
    "alink = soup.select('a')"
   ]
  },
  {
   "cell_type": "code",
   "execution_count": 27,
   "metadata": {},
   "outputs": [
    {
     "data": {
      "text/plain": [
       "bs4.element.Tag"
      ]
     },
     "execution_count": 27,
     "metadata": {},
     "output_type": "execute_result"
    }
   ],
   "source": [
    "type(alink)\n",
    "type(alink[0])"
   ]
  },
  {
   "cell_type": "code",
   "execution_count": 30,
   "metadata": {},
   "outputs": [
    {
     "data": {
      "text/plain": [
       "' THIS IS LINK1'"
      ]
     },
     "execution_count": 30,
     "metadata": {},
     "output_type": "execute_result"
    }
   ],
   "source": [
    "soup.select('a')[0].text"
   ]
  },
  {
   "cell_type": "code",
   "execution_count": 32,
   "metadata": {},
   "outputs": [
    {
     "data": {
      "text/plain": [
       "' THIS IS LINK2'"
      ]
     },
     "execution_count": 32,
     "metadata": {},
     "output_type": "execute_result"
    }
   ],
   "source": [
    "soup.select('a')[1].text"
   ]
  },
  {
   "cell_type": "code",
   "execution_count": 37,
   "metadata": {},
   "outputs": [
    {
     "name": "stdout",
     "output_type": "stream",
     "text": [
      "[<h1 id=\"title\"> Hello World</h1>]\n",
      "<h1 id=\"title\"> Hello World</h1>\n",
      " Hello World\n"
     ]
    }
   ],
   "source": [
    "print(soup.select('h1'))\n",
    "print(soup.select('h1')[0])\n",
    "print(soup.select('h1')[0].text)"
   ]
  },
  {
   "cell_type": "code",
   "execution_count": 38,
   "metadata": {},
   "outputs": [
    {
     "data": {
      "text/plain": [
       "[]"
      ]
     },
     "execution_count": 38,
     "metadata": {},
     "output_type": "execute_result"
    }
   ],
   "source": [
    "soup.select('h2')"
   ]
  },
  {
   "cell_type": "code",
   "execution_count": 46,
   "metadata": {},
   "outputs": [
    {
     "name": "stdout",
     "output_type": "stream",
     "text": [
      "[<h1 id=\"title\"> Hello World</h1>]\n",
      "[<h1 id=\"title\"> Hello World</h1>]\n",
      "[<h1 id=\"title\"> Hello World</h1>]\n",
      "[<h1 id=\"title\"> Hello World</h1>]\n"
     ]
    }
   ],
   "source": [
    "print(soup.select('h1'))\n",
    "\n",
    "# id => #\n",
    "print(soup.select('#title'))\n",
    "\n",
    "print(soup.select('h1#title'))\n",
    "\n",
    "print(soup.select('body h1'))"
   ]
  },
  {
   "cell_type": "code",
   "execution_count": 45,
   "metadata": {},
   "outputs": [
    {
     "name": "stdout",
     "output_type": "stream",
     "text": [
      "[<a class=\"link\" href=\"#\"> THIS IS LINK1</a>, <a class=\"link\" href=\"#2\"> THIS IS LINK2</a>]\n",
      "[<a class=\"link\" href=\"#\"> THIS IS LINK1</a>, <a class=\"link\" href=\"#2\"> THIS IS LINK2</a>]\n",
      "[<a class=\"link\" href=\"#\"> THIS IS LINK1</a>, <a class=\"link\" href=\"#2\"> THIS IS LINK2</a>]\n"
     ]
    }
   ],
   "source": [
    "print(soup.select('a'))\n",
    "\n",
    "# class => .\n",
    "print(soup.select('.link'))\n",
    "\n",
    "print(soup.select('a.link'))"
   ]
  },
  {
   "cell_type": "code",
   "execution_count": 49,
   "metadata": {},
   "outputs": [
    {
     "name": "stdout",
     "output_type": "stream",
     "text": [
      "#\n",
      "#2\n"
     ]
    }
   ],
   "source": [
    "alink = soup.select('a')\n",
    "for link in alink:\n",
    "    #print(link.text)\n",
    "    print(link['href'])"
   ]
  },
  {
   "cell_type": "markdown",
   "metadata": {},
   "source": [
    "## FIC 抓取實務"
   ]
  },
  {
   "cell_type": "code",
   "execution_count": 51,
   "metadata": {},
   "outputs": [],
   "source": [
    "import requests\n",
    "res = requests.get('http://www.flu.org.cn/tcn/news')\n",
    "#res.text"
   ]
  },
  {
   "cell_type": "code",
   "execution_count": 52,
   "metadata": {
    "collapsed": true
   },
   "outputs": [],
   "source": [
    "from bs4 import BeautifulSoup\n",
    "soup = BeautifulSoup(res.text, 'html.parser') # html.parser, html5lib, lxml"
   ]
  },
  {
   "cell_type": "code",
   "execution_count": 55,
   "metadata": {},
   "outputs": [
    {
     "name": "stdout",
     "output_type": "stream",
     "text": [
      "中國：湖南省湘西自治州報告一例人感染H7N9流感確診病例\n",
      "中國：香港衛生防護中心獲通報福建人類感染甲型禽流感（H7N9）個案\n",
      "中國：內蒙古自治區通遼市科爾沁區發生一起家禽H5N1亞型高致病性禽流感疫情\n",
      "中國：2017年6月全國動物H7N9流感監測情況\n",
      "中國：香港衛生防護中心獲通報江蘇人類感染甲型禽流感(H7N9)個案\n",
      "中國：新疆報告1例H7N9流感病例\n",
      "中國：雲南省文山市確診4例H7N9病例\n",
      "中國：河北省H7N9疫情通報（6月16日~6月22日）\n",
      "文獻：反向遺傳操作文獻合集（中文）\n",
      "中國：貴陽市白雲區確診1例人感染H7N9流感病例\n",
      "中國：四川省報告兩例人感染H7N9流感病例（眉山市和內江市）\n",
      "中國：天津市確診一例H7N9病例\n",
      "中國：四川省攀枝花市報告1例H7N9流感病例\n",
      "中國：2017年5月全國動物H7N9流感監測情況\n",
      "中國：河北省H7N9疫情通報（6月9日~6月15日）\n",
      "中國：廣西百色市報告一例人感染H7N9病例\n",
      "中國：黑龍江省雙鴨山市寶清縣家禽H7N9流感疫情\n",
      "中國：江蘇省報告1例人感染H7N9病例\n",
      "中國：內蒙古包頭市九原區發生一起家禽H7N9流感疫情\n",
      "中國：河北省H7N9疫情通報（6月2日~6月8日）\n"
     ]
    }
   ],
   "source": [
    "for title in soup.select('.title3 a'):\n",
    "    print(title.text)"
   ]
  },
  {
   "cell_type": "markdown",
   "metadata": {},
   "source": [
    "## InfoLite\n",
    " - https://chrome.google.com/webstore/detail/infolite/ipjbadabbpedegielkhgpiekdlmfpgal"
   ]
  },
  {
   "cell_type": "code",
   "execution_count": null,
   "metadata": {
    "collapsed": true
   },
   "outputs": [],
   "source": []
  }
 ],
 "metadata": {
  "kernelspec": {
   "display_name": "Python 3",
   "language": "python",
   "name": "python3"
  },
  "language_info": {
   "codemirror_mode": {
    "name": "ipython",
    "version": 3
   },
   "file_extension": ".py",
   "mimetype": "text/x-python",
   "name": "python",
   "nbconvert_exporter": "python",
   "pygments_lexer": "ipython3",
   "version": "3.6.1"
  }
 },
 "nbformat": 4,
 "nbformat_minor": 2
}
