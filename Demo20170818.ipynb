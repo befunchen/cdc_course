{
 "cells": [
  {
   "cell_type": "markdown",
   "metadata": {},
   "source": [
    "## FIC 網路爬蟲"
   ]
  },
  {
   "cell_type": "code",
   "execution_count": 2,
   "metadata": {},
   "outputs": [
    {
     "data": {
      "text/plain": [
       "<Response [200]>"
      ]
     },
     "execution_count": 2,
     "metadata": {},
     "output_type": "execute_result"
    }
   ],
   "source": [
    "import requests\n",
    "#print(dir(requests))\n",
    "res = requests.get('http://www.flu.org.cn/scn/news')\n",
    "res"
   ]
  },
  {
   "cell_type": "code",
   "execution_count": 4,
   "metadata": {},
   "outputs": [],
   "source": [
    "#res.text"
   ]
  },
  {
   "cell_type": "markdown",
   "metadata": {},
   "source": [
    "## PCHOME 網路爬蟲"
   ]
  },
  {
   "cell_type": "code",
   "execution_count": 5,
   "metadata": {},
   "outputs": [
    {
     "data": {
      "text/plain": [
       "'try{jsonp_prod({\"DEAY0N-19008BDRD-000\":{\"Seq\":18457501,\"Id\":\"DEAY0N-19008BDRD-000\",\"Name\":\"\\\\u5fb7\\\\u570bBRITA 3.5\\\\u516c\\\\u5347Aluna XL\\\\u611b\\\\u5974\\\\u5a1c\\\\u900f\\\\u8996\\\\u578b\\\\u6ffe\\\\u6c34\\\\u58fa\\\\u3010\\\\u542b1\\\\u6ffe\\\\u82af\\\\u3011+ MAXTRA Plus 12\\\\u5165\\\\u6ffe\\\\u82af\",\"Nick\":\"<font color=#FF00CC><b>\\\\u25bc\\\\u6bcf\\\\u65e5\\\\u5f37\\\\u6a94\\\\u2027\\\\u760b\\\\u6bba\\\\u7279\\\\u8ce3\\\\u25bc<\\\\/font><\\\\/b><BR>\\\\u5fb7\\\\u570bBRITA 3.5\\\\u516c\\\\u5347Aluna XL\\\\u611b\\\\u5974\\\\u5a1c\\\\u900f\\\\u8996\\\\u578b\\\\u6ffe\\\\u6c34\\\\u58fa\\\\u3010\\\\u542b1\\\\u6ffe\\\\u82af\\\\u3011+ MAXTRA Plus 12\\\\u5165\\\\u6ffe\\\\u82af\",\"Store\":\"DEAY0N\",\"PreOrdDate\":\"\",\"SpeOrdDate\":\"\",\"Price\":{\"M\":4030,\"P\":2760},\"Discount\":0,\"Pic\":{\"B\":\"\\\\/items\\\\/DEAY0N19008BDRD\\\\/000001_1503022008.jpg\",\"S\":\"\\\\/items\\\\/DEAY0N19008BDRD\\\\/000002_1503022008.jpg\"},\"Weight\":0,\"ISBN\":\"\",\"Qty\":0,\"Bonus\":0,\"isBig\":0,\"isSpec\":0,\"isCombine\":1,\"isDiy\":0,\"isRecyclable\":0,\"isCarrier\":0,\"isMedical\":0,\"isBigCart\":1,\"isSnapUp\":0,\"isDescAndIntroSync\":1,\"isFoodContents\":0,\"isHuge\":0,\"isEnergySubsidy\":0}});}catch(e){if(window.console){console.log(e);}}'"
      ]
     },
     "execution_count": 5,
     "metadata": {},
     "output_type": "execute_result"
    }
   ],
   "source": [
    "import requests\n",
    "res = requests.get('http://ecapi.pchome.com.tw/ecshop/prodapi/v2/prod/DEAY0N-19008BDRD-000&store=DEAY0N&fields=Seq,Id,Name,Nick,Store,PreOrdDate,SpeOrdDate,Price,Discount,Pic,Weight,ISBN,Qty,Bonus,isBig,isSpec,isCombine,isDiy,isRecyclable,isCarrier,isMedical,isBigCart,isSnapUp,isDescAndIntroSync,isFoodContents,isHuge,isEnergySubsidy&_callback=jsonp_prod&1503028800?_callback=jsonp_prod')\n",
    "res.text"
   ]
  },
  {
   "cell_type": "markdown",
   "metadata": {},
   "source": [
    "## 抓CDC 台灣"
   ]
  },
  {
   "cell_type": "code",
   "execution_count": 7,
   "metadata": {},
   "outputs": [],
   "source": [
    "import requests\n",
    "res = requests.get('http://www.cdc.gov.tw/disease.aspx?nowtreeid=dec84a2f0c6fac5b&treeid=8d54c504e820735b')\n",
    "#res.text"
   ]
  },
  {
   "cell_type": "markdown",
   "metadata": {},
   "source": [
    "## 抓CDC 美國"
   ]
  },
  {
   "cell_type": "code",
   "execution_count": 10,
   "metadata": {},
   "outputs": [
    {
     "name": "stderr",
     "output_type": "stream",
     "text": [
      "C:\\ProgramData\\Anaconda3\\lib\\site-packages\\requests\\packages\\urllib3\\connectionpool.py:852: InsecureRequestWarning: Unverified HTTPS request is being made. Adding certificate verification is strongly advised. See: https://urllib3.readthedocs.io/en/latest/advanced-usage.html#ssl-warnings\n",
      "  InsecureRequestWarning)\n"
     ]
    }
   ],
   "source": [
    "import requests\n",
    "res = requests.get('https://www.cdc.gov/', verify=False)\n",
    "#res.text"
   ]
  },
  {
   "cell_type": "markdown",
   "metadata": {},
   "source": [
    "## 抓高鐵時刻表"
   ]
  },
  {
   "cell_type": "code",
   "execution_count": 12,
   "metadata": {},
   "outputs": [],
   "source": [
    "import requests\n",
    "url = 'https://www.thsrc.com.tw/tw/TimeTable/SearchResult'\n",
    "payload = {\n",
    " 'StartStation':'977abb69-413a-4ccf-a109-0272c24fd490',\n",
    " 'EndStation':'fbd828d8-b1da-4b06-a3bd-680cdca4d2cd',\n",
    " 'SearchDate':'2017/08/18',\n",
    " 'SearchTime':'12:30',\n",
    " 'SearchWay':'DepartureInMandarin'   \n",
    "}\n",
    "\n",
    "res = requests.post(url , data = payload)\n",
    "#res.text"
   ]
  },
  {
   "cell_type": "markdown",
   "metadata": {},
   "source": [
    "## 台鐵時刻表\n",
    "- http://twtraffic.tra.gov.tw/twrail/EasySearch.aspx"
   ]
  },
  {
   "cell_type": "code",
   "execution_count": 19,
   "metadata": {},
   "outputs": [
    {
     "data": {
      "text/plain": [
       "requests.models.Response"
      ]
     },
     "execution_count": 19,
     "metadata": {},
     "output_type": "execute_result"
    }
   ],
   "source": [
    "import requests\n",
    "res = requests.get('http://twtraffic.tra.gov.tw/twrail/SearchResult.aspx?searchtype=0&searchdate=2017/08/18&fromstation=1810&tostation=1008&trainclass=%271100%27,%271101%27,%271102%27,%271107%27,%271110%27,%271120%27&fromtime=0600&totime=2359')\n",
    "res\n",
    "type(res)"
   ]
  },
  {
   "cell_type": "markdown",
   "metadata": {},
   "source": [
    "## 資料剖析"
   ]
  },
  {
   "cell_type": "code",
   "execution_count": 17,
   "metadata": {},
   "outputs": [],
   "source": [
    "from bs4 import BeautifulSoup\n",
    "html_sample = '''\n",
    "<html>\n",
    "    <body>\n",
    "        <h1 id=\"title\"> Hello World</h1>\n",
    "        <a href=\"#\" class='link'> THIS IS LINK1</a>\n",
    "        <a href=\"#2\" class='link'> THIS IS LINK2</a>\n",
    "    </body>\n",
    "</html>\n",
    "'''"
   ]
  },
  {
   "cell_type": "code",
   "execution_count": 22,
   "metadata": {},
   "outputs": [
    {
     "data": {
      "text/plain": [
       "bs4.BeautifulSoup"
      ]
     },
     "execution_count": 22,
     "metadata": {},
     "output_type": "execute_result"
    }
   ],
   "source": [
    "soup = BeautifulSoup(html_sample, 'html.parser')\n",
    "soup.text\n",
    "type(soup)"
   ]
  },
  {
   "cell_type": "code",
   "execution_count": 25,
   "metadata": {},
   "outputs": [],
   "source": [
    "alink = soup.select('a')"
   ]
  },
  {
   "cell_type": "code",
   "execution_count": 27,
   "metadata": {},
   "outputs": [
    {
     "data": {
      "text/plain": [
       "bs4.element.Tag"
      ]
     },
     "execution_count": 27,
     "metadata": {},
     "output_type": "execute_result"
    }
   ],
   "source": [
    "type(alink)\n",
    "type(alink[0])"
   ]
  },
  {
   "cell_type": "code",
   "execution_count": 30,
   "metadata": {},
   "outputs": [
    {
     "data": {
      "text/plain": [
       "' THIS IS LINK1'"
      ]
     },
     "execution_count": 30,
     "metadata": {},
     "output_type": "execute_result"
    }
   ],
   "source": [
    "soup.select('a')[0].text"
   ]
  },
  {
   "cell_type": "code",
   "execution_count": 32,
   "metadata": {},
   "outputs": [
    {
     "data": {
      "text/plain": [
       "' THIS IS LINK2'"
      ]
     },
     "execution_count": 32,
     "metadata": {},
     "output_type": "execute_result"
    }
   ],
   "source": [
    "soup.select('a')[1].text"
   ]
  },
  {
   "cell_type": "code",
   "execution_count": 37,
   "metadata": {},
   "outputs": [
    {
     "name": "stdout",
     "output_type": "stream",
     "text": [
      "[<h1 id=\"title\"> Hello World</h1>]\n",
      "<h1 id=\"title\"> Hello World</h1>\n",
      " Hello World\n"
     ]
    }
   ],
   "source": [
    "print(soup.select('h1'))\n",
    "print(soup.select('h1')[0])\n",
    "print(soup.select('h1')[0].text)"
   ]
  },
  {
   "cell_type": "code",
   "execution_count": 38,
   "metadata": {},
   "outputs": [
    {
     "data": {
      "text/plain": [
       "[]"
      ]
     },
     "execution_count": 38,
     "metadata": {},
     "output_type": "execute_result"
    }
   ],
   "source": [
    "soup.select('h2')"
   ]
  },
  {
   "cell_type": "code",
   "execution_count": 46,
   "metadata": {},
   "outputs": [
    {
     "name": "stdout",
     "output_type": "stream",
     "text": [
      "[<h1 id=\"title\"> Hello World</h1>]\n",
      "[<h1 id=\"title\"> Hello World</h1>]\n",
      "[<h1 id=\"title\"> Hello World</h1>]\n",
      "[<h1 id=\"title\"> Hello World</h1>]\n"
     ]
    }
   ],
   "source": [
    "print(soup.select('h1'))\n",
    "\n",
    "# id => #\n",
    "print(soup.select('#title'))\n",
    "\n",
    "print(soup.select('h1#title'))\n",
    "\n",
    "print(soup.select('body h1'))"
   ]
  },
  {
   "cell_type": "code",
   "execution_count": 45,
   "metadata": {},
   "outputs": [
    {
     "name": "stdout",
     "output_type": "stream",
     "text": [
      "[<a class=\"link\" href=\"#\"> THIS IS LINK1</a>, <a class=\"link\" href=\"#2\"> THIS IS LINK2</a>]\n",
      "[<a class=\"link\" href=\"#\"> THIS IS LINK1</a>, <a class=\"link\" href=\"#2\"> THIS IS LINK2</a>]\n",
      "[<a class=\"link\" href=\"#\"> THIS IS LINK1</a>, <a class=\"link\" href=\"#2\"> THIS IS LINK2</a>]\n"
     ]
    }
   ],
   "source": [
    "print(soup.select('a'))\n",
    "\n",
    "# class => .\n",
    "print(soup.select('.link'))\n",
    "\n",
    "print(soup.select('a.link'))"
   ]
  },
  {
   "cell_type": "code",
   "execution_count": 49,
   "metadata": {},
   "outputs": [
    {
     "name": "stdout",
     "output_type": "stream",
     "text": [
      "#\n",
      "#2\n"
     ]
    }
   ],
   "source": [
    "alink = soup.select('a')\n",
    "for link in alink:\n",
    "    #print(link.text)\n",
    "    print(link['href'])"
   ]
  },
  {
   "cell_type": "markdown",
   "metadata": {},
   "source": [
    "## FIC 抓取實務 Part 1"
   ]
  },
  {
   "cell_type": "code",
   "execution_count": 51,
   "metadata": {},
   "outputs": [],
   "source": [
    "import requests\n",
    "res = requests.get('http://www.flu.org.cn/tcn/news')\n",
    "#res.text"
   ]
  },
  {
   "cell_type": "code",
   "execution_count": 52,
   "metadata": {
    "collapsed": true
   },
   "outputs": [],
   "source": [
    "from bs4 import BeautifulSoup\n",
    "soup = BeautifulSoup(res.text, 'html.parser') # html.parser, html5lib, lxml"
   ]
  },
  {
   "cell_type": "code",
   "execution_count": 55,
   "metadata": {},
   "outputs": [
    {
     "name": "stdout",
     "output_type": "stream",
     "text": [
      "中國：湖南省湘西自治州報告一例人感染H7N9流感確診病例\n",
      "中國：香港衛生防護中心獲通報福建人類感染甲型禽流感（H7N9）個案\n",
      "中國：內蒙古自治區通遼市科爾沁區發生一起家禽H5N1亞型高致病性禽流感疫情\n",
      "中國：2017年6月全國動物H7N9流感監測情況\n",
      "中國：香港衛生防護中心獲通報江蘇人類感染甲型禽流感(H7N9)個案\n",
      "中國：新疆報告1例H7N9流感病例\n",
      "中國：雲南省文山市確診4例H7N9病例\n",
      "中國：河北省H7N9疫情通報（6月16日~6月22日）\n",
      "文獻：反向遺傳操作文獻合集（中文）\n",
      "中國：貴陽市白雲區確診1例人感染H7N9流感病例\n",
      "中國：四川省報告兩例人感染H7N9流感病例（眉山市和內江市）\n",
      "中國：天津市確診一例H7N9病例\n",
      "中國：四川省攀枝花市報告1例H7N9流感病例\n",
      "中國：2017年5月全國動物H7N9流感監測情況\n",
      "中國：河北省H7N9疫情通報（6月9日~6月15日）\n",
      "中國：廣西百色市報告一例人感染H7N9病例\n",
      "中國：黑龍江省雙鴨山市寶清縣家禽H7N9流感疫情\n",
      "中國：江蘇省報告1例人感染H7N9病例\n",
      "中國：內蒙古包頭市九原區發生一起家禽H7N9流感疫情\n",
      "中國：河北省H7N9疫情通報（6月2日~6月8日）\n"
     ]
    }
   ],
   "source": [
    "for title in soup.select('.title3 a'):\n",
    "    print(title.text)"
   ]
  },
  {
   "cell_type": "markdown",
   "metadata": {},
   "source": [
    "## InfoLite\n",
    " - https://chrome.google.com/webstore/detail/infolite/ipjbadabbpedegielkhgpiekdlmfpgal"
   ]
  },
  {
   "cell_type": "markdown",
   "metadata": {},
   "source": [
    "## 抓取圖片"
   ]
  },
  {
   "cell_type": "code",
   "execution_count": 56,
   "metadata": {
    "collapsed": true
   },
   "outputs": [],
   "source": [
    "import requests\n",
    "res = requests.get('http://www.flu.org.cn/upfile/images/global.gif')\n",
    "with open('global.gif', 'wb') as f:\n",
    "    f.write(res.content)"
   ]
  },
  {
   "cell_type": "code",
   "execution_count": 57,
   "metadata": {},
   "outputs": [
    {
     "data": {
      "image/png": "[encoded data removed]",
      "text/plain": [
       "<PIL.GifImagePlugin.GifImageFile image mode=P size=440x277 at 0x7BED8D0>"
      ]
     },
     "execution_count": 57,
     "metadata": {},
     "output_type": "execute_result"
    }
   ],
   "source": [
    "from PIL import Image\n",
    "Image.open('global.gif')"
   ]
  },
  {
   "cell_type": "markdown",
   "metadata": {},
   "source": [
    "## 下載所有PDF"
   ]
  },
  {
   "cell_type": "code",
   "execution_count": 58,
   "metadata": {
    "collapsed": true
   },
   "outputs": [],
   "source": [
    "import requests\n",
    "from bs4 import BeautifulSoup\n",
    "res = requests.get('https://www.cdc.gov/mmwr/index2016.html')\n",
    "soup  = BeautifulSoup(res.text, 'html.parser')"
   ]
  },
  {
   "cell_type": "code",
   "execution_count": null,
   "metadata": {
    "collapsed": true
   },
   "outputs": [],
   "source": [
    "domain = 'https://www.cdc.gov'\n",
    "for alink in soup.select('a'):\n",
    "    if alink.get('href') and 'pdf' in alink['href']:\n",
    "        res = requests.get(domain + alink['href'])\n",
    "        with open(alink['href'].split('/')[-1], 'wb') as f:\n",
    "            f.write(res.content)"
   ]
  },
  {
   "cell_type": "markdown",
   "metadata": {},
   "source": [
    "## FIC 抓取實務 Part 2"
   ]
  },
  {
   "cell_type": "code",
   "execution_count": 65,
   "metadata": {
    "collapsed": true
   },
   "outputs": [],
   "source": [
    "import requests\n",
    "res = requests.get('http://www.flu.org.cn/tcn/news')"
   ]
  },
  {
   "cell_type": "code",
   "execution_count": 66,
   "metadata": {
    "collapsed": true
   },
   "outputs": [],
   "source": [
    "from bs4 import BeautifulSoup\n",
    "soup = BeautifulSoup(res.text, 'html.parser')"
   ]
  },
  {
   "cell_type": "code",
   "execution_count": 82,
   "metadata": {},
   "outputs": [
    {
     "name": "stdout",
     "output_type": "stream",
     "text": [
      "==========================\n",
      "中國：湖南省湘西自治州報告一例人感染H7N9流感確診病例 http://www.flu.org.cn/tcn/news-19596.html     2017年8月14日，湘西自治州報告一例人感染H7N9流感確診病例。患者莫某某，48歲，以收廢品為業，現居住於吉首市，有高血壓病史。患者於8月9日發病，13日經醫院搶救無效死亡。患者標本經湘西自治州疾控中...\n",
      "==========================\n",
      "中國：香港衛生防護中心獲通報福建人類感染甲型禽流感（H7N9）個案 http://www.flu.org.cn/tcn/news-19586.html 衛生署衛生防護中心今日（八月四日）正監察國家衛生和計劃生育委員會通報在七月二十八日至八月三日期間，福建新增一宗人類感染甲型禽流感（H7N9）個案，並強烈呼籲市民，不論在本地或外遊期間，應時刻保持個人、食物和環境衛生。　　該名福建58歲男病人曾...\n",
      "==========================\n",
      "中國：內蒙古自治區通遼市科爾沁區發生一起家禽H5N1亞型高致病性禽流感疫情 http://www.flu.org.cn/tcn/news-19584.html 農業部新聞辦公室8月1日發布，內蒙古自治區通遼市科爾沁區發生一起家禽H5N1亞型高致病性禽流感疫情。　　7月28日，內蒙古自治區通遼市科爾沁區獸醫部門在監測中發現一養殖場飼養的蛋雞出現疑似禽流感症狀，發病35000只，死亡15000只。7月2...\n",
      "==========================\n",
      "中國：2017年6月全國動物H7N9流感監測情況 http://www.flu.org.cn/tcn/news-19582.html 有關陽性樣品說明： \r\n",
      "　 　一、H7亞型禽流感血清學陽性樣品（3018份）\r\n",
      "　　（一）北京市。雞樣品2059份，來自豐台區、密雲區、平穀區、延慶區、房山區、昌平區、門頭溝區、順義區的675個養雞場（戶）。鴨樣品2份，來自順義區某養殖戶。鴿...\n",
      "==========================\n",
      "中國：香港衛生防護中心獲通報江蘇人類感染甲型禽流感(H7N9)個案 http://www.flu.org.cn/tcn/news-19578.html 香港衛生署衛生防護中心（七月二十一日）正監察國家衛生和計劃生育委員會通報在七月十四至二十日期間，江蘇新增一宗人類感染甲型禽流感（H7N9）個案，並強烈呼籲市民，不論在本地或外遊期間，應時刻保持個人、食物和環境衛生。　　該名南京62歲女病人曾到...\n",
      "==========================\n",
      "中國：新疆報告1例H7N9流感病例 http://www.flu.org.cn/tcn/news-19570.html     6月20日-7月4日，新疆建設兵團報告1例H7N9流感病例。6月30日，新疆建設兵團第七師醫院報告的一例不明原因肺炎病例，經兵團疾控中心實驗室和自治區疾控中心實驗室檢測均為H7N9病毒核酸陽性，6月30日...\n",
      "==========================\n",
      "中國：雲南省文山市確診4例H7N9病例 http://www.flu.org.cn/tcn/news-19559.html      雲南省衛生計生委6月28日通報：雲南省衛生計生委在強化流感和不明原因肺炎監測中，從流感病例中檢測出H7N9病毒核酸陽性，標本送國家疾控中心複核，檢測結果一致。省級專家組根據患者臨床表現、實驗室...\n",
      "==========================\n",
      "中國：河北省H7N9疫情通報（6月16日~6月22日） http://www.flu.org.cn/tcn/news-19557.html     2017年6月16日~6月22日，河北全省共報告3例人感染H7N9病例，均為滄州市病例。衛生計生等有關部門已采取有效防控措施。\r\n",
      "\r\n",
      "\r\n",
      " \r\n",
      "\r\n",
      "相關文獻：\r\n",
      "1、解益民 劉德新 劉國良 褚興傑 房青 ...\n",
      "==========================\n",
      "文獻：反向遺傳操作文獻合集（中文） http://www.flu.org.cn/tcn/news-19554.html 1、一株類禽型H1N1亞型豬流感病毒的反向遺傳系統的建立. 中國預防獸醫學報2013年02期\r\n",
      "2、H9N2亞型禽流感病毒在豚鼠間水平傳播能力研究及其反向遺傳系統構建. 中國農業科學院\r\n",
      "3、H6N6亞型禽流感病毒反向遺傳操作系統的建立. 中...\n",
      "==========================\n",
      "中國：貴陽市白雲區確診1例人感染H7N9流感病例 http://www.flu.org.cn/tcn/news-19547.html     2017年6月19日，貴州醫科大學附屬白雲分院報告1例不明原因肺炎病例，貴陽市疾控中心標本檢測結果為H7N9核酸陽性，經貴州省疾控中心流感實驗室複核和臨床專家診斷，確診為人感染H7N9流感病例。 &nbs...;\n",
      "==========================\n",
      "中國：四川省報告兩例人感染H7N9流感病例（眉山市和內江市） http://www.flu.org.cn/tcn/news-19544.html        5月24日至6月2日，四川省確診2例H7N9病例，分別為眉山市仁壽縣和內江市威遠縣各1例。\r\n",
      "\r\n",
      "\r\n",
      "\r\n",
      "\r\n",
      "\r\n",
      "\r\n",
      "\r\n",
      "\r\n",
      "李春群 李琦. 人感染H7N9禽流感患者二...\n",
      "==========================\n",
      "中國：天津市確診一例H7N9病例 http://www.flu.org.cn/tcn/news-19541.html 2017年6月20日，天津市確診一例H7N9病例。患者男，62歲，家住靜海區。目前患者在定點醫院由市級專家組進行治療。與患者密切接觸者均已實施醫學觀察，截止目前未發現異常。\r\n",
      "\r\n",
      "\r\n",
      "\r\n",
      "\r\n",
      "相關文獻\r\n",
      "1、天津市禽類養殖人員人感染H7N9禽...\n",
      "==========================\n",
      "中國：四川省攀枝花市報告1例H7N9流感病例 http://www.flu.org.cn/tcn/news-19535.html     2017年6月16日攀枝花市中心醫院報告1例疑似人感染H7N9禽流感病例，6月18日經四川省疾控中心實驗室複核確認，攀枝花市確診首例人感染H7N9禽流感病例。為加強疫情防控，攀枝花市疾控中心於2017年6...\n",
      "==========================\n",
      "中國：2017年5月全國動物H7N9流感監測情況 http://www.flu.org.cn/tcn/news-19530.html 有關陽性樣品說明：　　一、H7亞型禽流感血清學陽性樣品（1184份）　　（一）河北省。雞樣品417份，來自廊坊市和滄州市的4個養雞場（戶）。　　（二）河南省。雞樣品270份，其中28份來自周口市、商丘市、漯河市、許昌市、駐馬店市的6個活禽交易...\n",
      "==========================\n",
      "中國：河北省H7N9疫情通報（6月9日~6月15日） http://www.flu.org.cn/tcn/news-19527.html  2017年6月9日至6月15日，全省報告1例人感染H7N9病例，為承德市病例。衛生計生等有關部門已采取有效防控措施。 \r\n",
      "\r\n",
      "\r\n",
      "\r\n",
      "相關文獻：\r\n",
      "1、解益民 劉德新 劉國良 褚興傑 房青 鄭廣軍 王宇卓. 河北省首例人感染H7N...\n",
      "==========================\n",
      "中國：廣西百色市報告一例人感染H7N9病例 http://www.flu.org.cn/tcn/news-19524.html     2017年6月9日-6月15日24時，廣西新增1例H7N9病例，為百色市報告病例。2017年以來，廣西共報告H7N9病例27例，治愈出院13例，死亡14例。\r\n",
      "\r\n",
      "\r\n",
      " \r\n",
      "\r\n",
      "\r\n",
      "相關文獻：\r\n",
      "1、廣西...\n",
      "==========================\n",
      "中國：黑龍江省雙鴨山市寶清縣家禽H7N9流感疫情 http://www.flu.org.cn/tcn/news-19522.html 6月10日，黑龍江省雙鴨山市寶清縣獸醫部門在監測中發現一養殖場飼養的蛋雞出現疑似禽流感症狀，發病20150只，死亡19500只。6月13日，黑龍江省動物疫病預防控制中心診斷為疑似禽流感疫情。6月16日，經國家禽流感參考實驗室確診，該起疫情為H...\n",
      "==========================\n",
      "中國：江蘇省報告1例人感染H7N9病例 http://www.flu.org.cn/tcn/news-19517.html     江蘇省衛生計生委6月14日通報，上周（6月5日0時至6月11日24時），全省共報告人感染H7N9禽流感發病1例，病例分布在徐州市；無新增死亡病例。\r\n",
      "\r\n",
      "\r\n",
      " \r\n",
      "\r\n",
      " \r\n",
      "相關文獻：\r\n",
      "1、江...\n",
      "==========================\n",
      "中國：內蒙古包頭市九原區發生一起家禽H7N9流感疫情 http://www.flu.org.cn/tcn/news-19515.html     6月5日，內蒙古自治區包頭市九原區獸醫部門在監測中發現一養殖場飼養的蛋雞出現疑似禽流感症狀，發病3850只，死亡2056只。6月6日，內蒙古自治區動物疫病預防控制中心診斷為疑似禽流感疫情。6月12日，經國...\n",
      "==========================\n",
      "中國：河北省H7N9疫情通報（6月2日~6月8日） http://www.flu.org.cn/tcn/news-19512.html     2017年6月2日至6月8日，全省報告1例人感染H7N9病例，為滄州市病例。衛生計生等有關部門已采取有效防控措施。\r\n",
      "\r\n",
      "\r\n",
      " \r\n",
      "相關文獻：\r\n",
      "1、解益民 劉德新 劉國良 褚興傑 房青 鄭廣軍 王宇卓....\n"
     ]
    }
   ],
   "source": [
    "domain = 'http://www.flu.org.cn/tcn/'\n",
    "for news in soup.select('p'):\n",
    "    #print(news)\n",
    "    if news.select('.title3 a'):\n",
    "        title = news.select('.title3 a')[0].text\n",
    "        link  = domain + news.select('a')[0]['href']\n",
    "        content  = news.select('.article_note')[0].text\n",
    "        print('==========================')\n",
    "        print(title, link, content)"
   ]
  },
  {
   "cell_type": "code",
   "execution_count": 84,
   "metadata": {},
   "outputs": [],
   "source": [
    "import requests\n",
    "from bs4 import BeautifulSoup\n",
    "res = requests.get('http://www.flu.org.cn/tcn/news-19596.html')\n",
    "soup = BeautifulSoup(res.text, 'html.parser')\n"
   ]
  },
  {
   "cell_type": "code",
   "execution_count": 94,
   "metadata": {},
   "outputs": [
    {
     "data": {
      "text/plain": [
       "'2017年8月14日，湘西自治州報告一例人感染H7N9流感確診病例。患者莫某某，48歲，以收廢品為業，現居住於吉首市，有高血壓病史。患者於8月9日發病，13日經醫院搶救無效死亡。患者標本經湘西自治州疾控中心、湖南省疾控中心實驗室檢測和複核為H7N9流感病毒核酸陽性。\\xa0\\xa0\\xa0 專家提醒，目前雖天氣炎熱，仍可能會出現人感染H7N9流感散發病例，敬請廣大群眾做好預防措施。'"
      ]
     },
     "execution_count": 94,
     "metadata": {},
     "output_type": "execute_result"
    }
   ],
   "source": [
    "soup.select('.title2')[0].text\n",
    "soup.select('.article_property a')[0].text\n",
    "soup.select('.article_property .time')[0].text\n",
    "soup.select('.article_property strong')[0].text\n",
    "soup.select('.article_content')[0].text.strip()"
   ]
  },
  {
   "cell_type": "code",
   "execution_count": 95,
   "metadata": {
    "collapsed": true
   },
   "outputs": [],
   "source": [
    "def pageDetail(detailurl):\n",
    "    res     = requests.get(detailurl)\n",
    "    soup    = BeautifulSoup(res.text, 'html.parser')\n",
    "    title   = soup.select('.title2')[0].text\n",
    "    author  = soup.select('.article_property a')[0].text\n",
    "    dt      = soup.select('.article_property .time')[0].text\n",
    "    source  = soup.select('.article_property strong')[0].text\n",
    "    content = soup.select('.article_content')[0].text.strip()\n",
    "    return {'title':title, 'author':author, 'dt':dt, 'source':source, 'content':content}\n"
   ]
  },
  {
   "cell_type": "code",
   "execution_count": 96,
   "metadata": {},
   "outputs": [
    {
     "data": {
      "text/plain": [
       "{'author': 'kickingbird',\n",
       " 'content': '6月20日-7月4日，新疆建設兵團報告1例H7N9流感病例。6月30日，新疆建設兵團第七師醫院報告的一例不明原因肺炎病例，經兵團疾控中心實驗室和自治區疾控中心實驗室檢測均為H7N9病毒核酸陽性，6月30日23點29分患者因搶救無效死亡。此病例為2017年兵團首例確診H7N9病例。疫情發生後，兵團高度重視，組成兵地聯防聯控工作組，指導疫情防控，新疆建設兵團衛生局及時調集兵團專家全力救治患者，開展疫情處置工作。目前，醫學觀察139人，未發現人傳人的情況。\\n\\n\\n\\n相關文獻：\\n1、2013~2016年兵團第六師環境和職業暴露人群禽流感監測分析. 疾病預防控制通報\\n2、2012年~2015年新疆兵團禽流感外環境監測. 中國衛生檢驗雜志 2017年02期\\n3、2009年～2011年新疆野生鳥類禽流感流行病學調查與分析. 中國畜牧獸醫學會禽病學分會第十六次學術研討會論文集\\n4、新疆巴州地區流感病毒實驗室檢測分析. 中國公共衛生 2011年01期\\n5、新疆主要野生鳥類的生態環境、遷徙路線及其對禽流感發生與流行的影響. 動物醫學進展 2013年07期',\n",
       " 'dt': '2017年7月8日15点58分',\n",
       " 'source': '新疆建設兵團衛生局',\n",
       " 'title': '中國：新疆報告1例H7N9流感病例'}"
      ]
     },
     "execution_count": 96,
     "metadata": {},
     "output_type": "execute_result"
    }
   ],
   "source": [
    "pageDetail('http://www.flu.org.cn/tcn/news-19570.html')"
   ]
  }
 ],
 "metadata": {
  "kernelspec": {
   "display_name": "Python 3",
   "language": "python",
   "name": "python3"
  },
  "language_info": {
   "codemirror_mode": {
    "name": "ipython",
    "version": 3
   },
   "file_extension": ".py",
   "mimetype": "text/x-python",
   "name": "python",
   "nbconvert_exporter": "python",
   "pygments_lexer": "ipython3",
   "version": "3.6.1"
  }
 },
 "nbformat": 4,
 "nbformat_minor": 2
}
