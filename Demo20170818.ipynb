{
 "cells": [
  {
   "cell_type": "markdown",
   "metadata": {},
   "source": [
    "## FIC 網路爬蟲"
   ]
  },
  {
   "cell_type": "code",
   "execution_count": 2,
   "metadata": {},
   "outputs": [
    {
     "data": {
      "text/plain": [
       "<Response [200]>"
      ]
     },
     "execution_count": 2,
     "metadata": {},
     "output_type": "execute_result"
    }
   ],
   "source": [
    "import requests\n",
    "#print(dir(requests))\n",
    "res = requests.get('http://www.flu.org.cn/scn/news')\n",
    "res"
   ]
  },
  {
   "cell_type": "code",
   "execution_count": 4,
   "metadata": {},
   "outputs": [],
   "source": [
    "#res.text"
   ]
  },
  {
   "cell_type": "markdown",
   "metadata": {},
   "source": [
    "## PCHOME 網路爬蟲"
   ]
  },
  {
   "cell_type": "code",
   "execution_count": 5,
   "metadata": {},
   "outputs": [
    {
     "data": {
      "text/plain": [
       "'try{jsonp_prod({\"DEAY0N-19008BDRD-000\":{\"Seq\":18457501,\"Id\":\"DEAY0N-19008BDRD-000\",\"Name\":\"\\\\u5fb7\\\\u570bBRITA 3.5\\\\u516c\\\\u5347Aluna XL\\\\u611b\\\\u5974\\\\u5a1c\\\\u900f\\\\u8996\\\\u578b\\\\u6ffe\\\\u6c34\\\\u58fa\\\\u3010\\\\u542b1\\\\u6ffe\\\\u82af\\\\u3011+ MAXTRA Plus 12\\\\u5165\\\\u6ffe\\\\u82af\",\"Nick\":\"<font color=#FF00CC><b>\\\\u25bc\\\\u6bcf\\\\u65e5\\\\u5f37\\\\u6a94\\\\u2027\\\\u760b\\\\u6bba\\\\u7279\\\\u8ce3\\\\u25bc<\\\\/font><\\\\/b><BR>\\\\u5fb7\\\\u570bBRITA 3.5\\\\u516c\\\\u5347Aluna XL\\\\u611b\\\\u5974\\\\u5a1c\\\\u900f\\\\u8996\\\\u578b\\\\u6ffe\\\\u6c34\\\\u58fa\\\\u3010\\\\u542b1\\\\u6ffe\\\\u82af\\\\u3011+ MAXTRA Plus 12\\\\u5165\\\\u6ffe\\\\u82af\",\"Store\":\"DEAY0N\",\"PreOrdDate\":\"\",\"SpeOrdDate\":\"\",\"Price\":{\"M\":4030,\"P\":2760},\"Discount\":0,\"Pic\":{\"B\":\"\\\\/items\\\\/DEAY0N19008BDRD\\\\/000001_1503022008.jpg\",\"S\":\"\\\\/items\\\\/DEAY0N19008BDRD\\\\/000002_1503022008.jpg\"},\"Weight\":0,\"ISBN\":\"\",\"Qty\":0,\"Bonus\":0,\"isBig\":0,\"isSpec\":0,\"isCombine\":1,\"isDiy\":0,\"isRecyclable\":0,\"isCarrier\":0,\"isMedical\":0,\"isBigCart\":1,\"isSnapUp\":0,\"isDescAndIntroSync\":1,\"isFoodContents\":0,\"isHuge\":0,\"isEnergySubsidy\":0}});}catch(e){if(window.console){console.log(e);}}'"
      ]
     },
     "execution_count": 5,
     "metadata": {},
     "output_type": "execute_result"
    }
   ],
   "source": [
    "import requests\n",
    "res = requests.get('http://ecapi.pchome.com.tw/ecshop/prodapi/v2/prod/DEAY0N-19008BDRD-000&store=DEAY0N&fields=Seq,Id,Name,Nick,Store,PreOrdDate,SpeOrdDate,Price,Discount,Pic,Weight,ISBN,Qty,Bonus,isBig,isSpec,isCombine,isDiy,isRecyclable,isCarrier,isMedical,isBigCart,isSnapUp,isDescAndIntroSync,isFoodContents,isHuge,isEnergySubsidy&_callback=jsonp_prod&1503028800?_callback=jsonp_prod')\n",
    "res.text"
   ]
  },
  {
   "cell_type": "markdown",
   "metadata": {},
   "source": [
    "## 抓CDC 台灣"
   ]
  },
  {
   "cell_type": "code",
   "execution_count": 7,
   "metadata": {},
   "outputs": [],
   "source": [
    "import requests\n",
    "res = requests.get('http://www.cdc.gov.tw/disease.aspx?nowtreeid=dec84a2f0c6fac5b&treeid=8d54c504e820735b')\n",
    "#res.text"
   ]
  },
  {
   "cell_type": "markdown",
   "metadata": {},
   "source": [
    "## 抓CDC 美國"
   ]
  },
  {
   "cell_type": "code",
   "execution_count": 10,
   "metadata": {},
   "outputs": [
    {
     "name": "stderr",
     "output_type": "stream",
     "text": [
      "C:\\ProgramData\\Anaconda3\\lib\\site-packages\\requests\\packages\\urllib3\\connectionpool.py:852: InsecureRequestWarning: Unverified HTTPS request is being made. Adding certificate verification is strongly advised. See: https://urllib3.readthedocs.io/en/latest/advanced-usage.html#ssl-warnings\n",
      "  InsecureRequestWarning)\n"
     ]
    }
   ],
   "source": [
    "import requests\n",
    "res = requests.get('https://www.cdc.gov/', verify=False)\n",
    "#res.text"
   ]
  },
  {
   "cell_type": "markdown",
   "metadata": {},
   "source": [
    "## 抓高鐵時刻表"
   ]
  },
  {
   "cell_type": "code",
   "execution_count": 12,
   "metadata": {},
   "outputs": [],
   "source": [
    "import requests\n",
    "url = 'https://www.thsrc.com.tw/tw/TimeTable/SearchResult'\n",
    "payload = {\n",
    " 'StartStation':'977abb69-413a-4ccf-a109-0272c24fd490',\n",
    " 'EndStation':'fbd828d8-b1da-4b06-a3bd-680cdca4d2cd',\n",
    " 'SearchDate':'2017/08/18',\n",
    " 'SearchTime':'12:30',\n",
    " 'SearchWay':'DepartureInMandarin'   \n",
    "}\n",
    "\n",
    "res = requests.post(url , data = payload)\n",
    "#res.text"
   ]
  },
  {
   "cell_type": "markdown",
   "metadata": {},
   "source": [
    "## 台鐵時刻表\n",
    "- http://twtraffic.tra.gov.tw/twrail/EasySearch.aspx"
   ]
  },
  {
   "cell_type": "code",
   "execution_count": null,
   "metadata": {
    "collapsed": true
   },
   "outputs": [],
   "source": []
  }
 ],
 "metadata": {
  "kernelspec": {
   "display_name": "Python 3",
   "language": "python",
   "name": "python3"
  },
  "language_info": {
   "codemirror_mode": {
    "name": "ipython",
    "version": 3
   },
   "file_extension": ".py",
   "mimetype": "text/x-python",
   "name": "python",
   "nbconvert_exporter": "python",
   "pygments_lexer": "ipython3",
   "version": "3.6.1"
  }
 },
 "nbformat": 4,
 "nbformat_minor": 2
}
