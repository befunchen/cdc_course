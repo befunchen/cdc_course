{
 "cells": [
  {
   "cell_type": "markdown",
   "metadata": {
    "collapsed": false
   },
   "source": [
    "### 假設您以從蘋果新聞取得一篇登革熱相關新聞(https://github.com/ywchiu/cdc_course/blob/master/data/news.txt) ，請試著回答以下問題：\n",
    "1. 使用Python 讀取該新聞，並將新聞放置一名為disease_news 的物件中\n",
    "2. 使用Jibea 切出中文詞(您必須適當的加一些字詞到字典中，以提高斷詞精準度)，並統計每個字詞出現次數\n",
    "3. 請印出該新聞出現頻率最高三個字詞"
   ]
  },
  {
   "cell_type": "code",
   "execution_count": null,
   "metadata": {
    "collapsed": true
   },
   "outputs": [],
   "source": []
  }
 ],
 "metadata": {
  "kernelspec": {
   "display_name": "Python 3",
   "language": "python",
   "name": "python3"
  },
  "language_info": {
   "codemirror_mode": {
    "name": "ipython",
    "version": 3
   },
   "file_extension": ".py",
   "mimetype": "text/x-python",
   "name": "python",
   "nbconvert_exporter": "python",
   "pygments_lexer": "ipython3",
   "version": "3.6.0"
  }
 },
 "nbformat": 4,
 "nbformat_minor": 2
}
