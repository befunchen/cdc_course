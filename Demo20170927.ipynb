{
 "cells": [
  {
   "cell_type": "code",
   "execution_count": 1,
   "metadata": {},
   "outputs": [
    {
     "data": {
      "text/plain": [
       "['this', 'is', 'a', 'book']"
      ]
     },
     "execution_count": 1,
     "metadata": {},
     "output_type": "execute_result"
    }
   ],
   "source": [
    "a = 'this is a book'\n",
    "a.split()"
   ]
  },
  {
   "cell_type": "markdown",
   "metadata": {},
   "source": [
    "## 安裝 Jieba\n",
    "- 在網路全部都通的情況下\n",
    "    - pip install jieba\n",
    "- 假設SSL 憑證無法讓你連到pypi 時\n",
    "    - pip install --index-url=http://pypi.python.org/simple/ --trusted-host pypi.python.org  jieba\n",
    "    \n",
    "- 假設沒有網路環境的時候\n",
    "    - 從 https://pypi.python.org/pypi/jieba/ 下載套件\n",
    "    - 解壓縮zip 檔\n",
    "    - python setup.py install\n",
    "    \n",
    "- 注意: 要重啟 kernel"
   ]
  },
  {
   "cell_type": "code",
   "execution_count": 3,
   "metadata": {},
   "outputs": [
    {
     "name": "stdout",
     "output_type": "stream",
     "text": [
      "Collecting jieba\n",
      "  Downloading jieba-0.39.zip (7.3MB)\n",
      "Building wheels for collected packages: jieba\n",
      "  Running setup.py bdist_wheel for jieba: started\n",
      "  Running setup.py bdist_wheel for jieba: finished with status 'done'\n",
      "  Stored in directory: C:\\Users\\befun\\AppData\\Local\\pip\\Cache\\wheels\\ce\\32\\de\\c2be1db5f30804bc7f146ff698c52963f8aa11ba5049811b0d\n",
      "Successfully built jieba\n",
      "Installing collected packages: jieba\n",
      "Successfully installed jieba-0.39\n"
     ]
    }
   ],
   "source": [
    "! pip install --index-url=http://pypi.python.org/simple/ --trusted-host pypi.python.org  jieba"
   ]
  },
  {
   "cell_type": "code",
   "execution_count": 2,
   "metadata": {},
   "outputs": [
    {
     "name": "stdout",
     "output_type": "stream",
     "text": [
      "女子\n",
      "遊\n",
      "越南\n",
      "感染\n",
      "登革熱\n",
      " \n",
      "住院\n",
      "7\n",
      "天\n",
      "過世\n"
     ]
    }
   ],
   "source": [
    "import jieba\n",
    "jieba.add_word('過世')\n",
    "a = '女子遊越南感染登革熱 住院7天過世'\n",
    "for w in jieba.cut(a):\n",
    "    print(w)"
   ]
  }
 ],
 "metadata": {
  "kernelspec": {
   "display_name": "Python 3",
   "language": "python",
   "name": "python3"
  },
  "language_info": {
   "codemirror_mode": {
    "name": "ipython",
    "version": 3
   },
   "file_extension": ".py",
   "mimetype": "text/x-python",
   "name": "python",
   "nbconvert_exporter": "python",
   "pygments_lexer": "ipython3",
   "version": "3.6.1"
  }
 },
 "nbformat": 4,
 "nbformat_minor": 2
}
