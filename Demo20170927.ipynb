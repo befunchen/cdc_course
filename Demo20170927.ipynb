{
 "cells": [
  {
   "cell_type": "code",
   "execution_count": 1,
   "metadata": {},
   "outputs": [
    {
     "data": {
      "text/plain": [
       "['this', 'is', 'a', 'book']"
      ]
     },
     "execution_count": 1,
     "metadata": {},
     "output_type": "execute_result"
    }
   ],
   "source": [
    "a = 'this is a book'\n",
    "a.split()"
   ]
  },
  {
   "cell_type": "markdown",
   "metadata": {},
   "source": [
    "## 安裝 Jieba\n",
    "- 在網路全部都通的情況下\n",
    "    - pip install jieba\n",
    "- 假設SSL 憑證無法讓你連到pypi 時\n",
    "    - pip install --index-url=http://pypi.python.org/simple/ --trusted-host pypi.python.org  jieba\n",
    "    \n",
    "- 假設沒有網路環境的時候\n",
    "    - 從 https://pypi.python.org/pypi/jieba/ 下載套件\n",
    "    - 解壓縮zip 檔\n",
    "    - python setup.py install\n",
    "    \n",
    "- 注意: 要重啟 kernel"
   ]
  },
  {
   "cell_type": "code",
   "execution_count": 3,
   "metadata": {},
   "outputs": [
    {
     "name": "stdout",
     "output_type": "stream",
     "text": [
      "Collecting jieba\n",
      "  Downloading jieba-0.39.zip (7.3MB)\n",
      "Building wheels for collected packages: jieba\n",
      "  Running setup.py bdist_wheel for jieba: started\n",
      "  Running setup.py bdist_wheel for jieba: finished with status 'done'\n",
      "  Stored in directory: C:\\Users\\befun\\AppData\\Local\\pip\\Cache\\wheels\\ce\\32\\de\\c2be1db5f30804bc7f146ff698c52963f8aa11ba5049811b0d\n",
      "Successfully built jieba\n",
      "Installing collected packages: jieba\n",
      "Successfully installed jieba-0.39\n"
     ]
    }
   ],
   "source": [
    "! pip install --index-url=http://pypi.python.org/simple/ --trusted-host pypi.python.org  jieba"
   ]
  },
  {
   "cell_type": "code",
   "execution_count": 2,
   "metadata": {},
   "outputs": [
    {
     "name": "stdout",
     "output_type": "stream",
     "text": [
      "女子\n",
      "遊\n",
      "越南\n",
      "感染\n",
      "登革熱\n",
      " \n",
      "住院\n",
      "7\n",
      "天\n",
      "過世\n"
     ]
    }
   ],
   "source": [
    "import jieba\n",
    "jieba.add_word('過世')\n",
    "a = '女子遊越南感染登革熱 住院7天過世'\n",
    "for w in jieba.cut(a):\n",
    "    print(w)"
   ]
  },
  {
   "cell_type": "code",
   "execution_count": 8,
   "metadata": {},
   "outputs": [
    {
     "data": {
      "text/plain": [
       "['',\n",
       " '中央社記者陳偉婷台北25日電',\n",
       " '疾管署副署長羅一鈞今天說',\n",
       " '一名37歲女子到越南旅遊',\n",
       " '回國後發燒',\n",
       " '肌肉痛',\n",
       " '住院7天因敗血性休克等病症過世',\n",
       " '為今年登革熱境外移入死亡第2例',\n",
       " '民眾去東南亞一定要注意防蚊',\n",
       " '']"
      ]
     },
     "execution_count": 8,
     "metadata": {},
     "output_type": "execute_result"
    }
   ],
   "source": [
    "news = '（中央社記者陳偉婷台北25日電）疾管署副署長羅一鈞今天說，一名37歲女子到越南旅遊，回國後發燒、肌肉痛，住院7天因敗血性休克等病症過世；為今年登革熱境外移入死亡第2例，民眾去東南亞一定要注意防蚊。'\n",
    "\n",
    "import re\n",
    "re.split('、|；|，|）|（|。', news)"
   ]
  },
  {
   "cell_type": "code",
   "execution_count": 11,
   "metadata": {},
   "outputs": [
    {
     "name": "stdout",
     "output_type": "stream",
     "text": [
      "大\n",
      "巨蛋\n",
      "案\n",
      "對\n",
      "市府\n",
      "同仁\n",
      "下\n",
      "封口\n",
      "封口令\n",
      "口令\n",
      "\n",
      "\n",
      "柯\n",
      "P\n",
      "否\n",
      "認\n"
     ]
    },
    {
     "data": {
      "text/plain": [
       "'大 巨蛋 案 對 市府 同仁 下 封口 封口令 口令   柯 P 否 認'"
      ]
     },
     "execution_count": 11,
     "metadata": {},
     "output_type": "execute_result"
    }
   ],
   "source": [
    "import jieba\n",
    "for w in jieba.cut('大巨蛋案對市府同仁下封口令？柯P否認', cut_all=True):\n",
    "    print(w)\n",
    "\n",
    "' '.join(jieba.cut('大巨蛋案對市府同仁下封口令？柯P否認', cut_all=True))"
   ]
  },
  {
   "cell_type": "code",
   "execution_count": 12,
   "metadata": {},
   "outputs": [
    {
     "data": {
      "text/plain": [
       "'大 巨蛋 案對 市府 同仁 下 封口令 ？ 柯 P 否認'"
      ]
     },
     "execution_count": 12,
     "metadata": {},
     "output_type": "execute_result"
    }
   ],
   "source": [
    "' '.join(jieba.cut('大巨蛋案對市府同仁下封口令？柯P否認'))"
   ]
  },
  {
   "cell_type": "code",
   "execution_count": 16,
   "metadata": {
    "collapsed": true
   },
   "outputs": [],
   "source": [
    "jieba.load_userdict('localdict.txt')"
   ]
  },
  {
   "cell_type": "code",
   "execution_count": 17,
   "metadata": {},
   "outputs": [
    {
     "data": {
      "text/plain": [
       "'大巨蛋 案對 市府 同仁 下 封口令 ？ 柯P 否認'"
      ]
     },
     "execution_count": 17,
     "metadata": {},
     "output_type": "execute_result"
    }
   ],
   "source": [
    "' '.join(jieba.cut('大巨蛋案對市府同仁下封口令？柯P否認'))"
   ]
  },
  {
   "cell_type": "code",
   "execution_count": 18,
   "metadata": {},
   "outputs": [
    {
     "name": "stdout",
     "output_type": "stream",
     "text": [
      "大巨蛋 x\n",
      "案 ng\n",
      "對 p\n",
      "市府 n\n",
      "同仁 nr\n",
      "下 f\n",
      "封口令 n\n",
      "？ x\n",
      "柯P x\n",
      "否認 v\n"
     ]
    }
   ],
   "source": [
    "import jieba.posseg as pseg\n",
    "words=pseg.cut(\"大巨蛋案對市府同仁下封口令？柯P否認\")\n",
    "for w in words:\n",
    "    print(w.word,w.flag)"
   ]
  },
  {
   "cell_type": "code",
   "execution_count": 21,
   "metadata": {},
   "outputs": [
    {
     "name": "stdout",
     "output_type": "stream",
     "text": [
      "疾管署\n",
      "監測\n",
      "資料\n",
      "顯示\n",
      "，\n",
      "國內\n",
      "上\n",
      "週\n",
      "新增\n",
      "4\n",
      "例登革熱\n",
      "境外\n",
      "移入\n",
      "病例\n",
      "及\n",
      "1\n",
      "例自\n",
      "越南\n",
      "移入\n",
      "病例\n",
      "死亡\n"
     ]
    }
   ],
   "source": [
    "import jieba\n",
    "#jieba.add_word('登革熱', 100 ,'nr')\n",
    "jieba.add_word('登革熱')\n",
    "jieba.del_word('登革熱')\n",
    "s = '疾管署監測資料顯示，國內上週新增4例登革熱境外移入病例及1例自越南移入病例死亡'\n",
    "for w in jieba.cut(s):\n",
    "    print(w)"
   ]
  },
  {
   "cell_type": "code",
   "execution_count": 22,
   "metadata": {},
   "outputs": [
    {
     "name": "stdout",
     "output_type": "stream",
     "text": [
      "('疾管署', 0, 3)\n",
      "('監測', 3, 5)\n",
      "('資料', 5, 7)\n",
      "('顯示', 7, 9)\n",
      "('，', 9, 10)\n",
      "('國內', 10, 12)\n",
      "('上', 12, 13)\n",
      "('週', 13, 14)\n",
      "('新增', 14, 16)\n",
      "('4', 16, 17)\n",
      "('例登革熱', 17, 21)\n",
      "('境外', 21, 23)\n",
      "('移入', 23, 25)\n",
      "('病例', 25, 27)\n",
      "('及', 27, 28)\n",
      "('1', 28, 29)\n",
      "('例自', 29, 31)\n",
      "('越南', 31, 33)\n",
      "('移入', 33, 35)\n",
      "('病例', 35, 37)\n",
      "('死亡', 37, 39)\n"
     ]
    }
   ],
   "source": [
    "for w in jieba.tokenize(s):\n",
    "    print(w)"
   ]
  },
  {
   "cell_type": "code",
   "execution_count": 26,
   "metadata": {},
   "outputs": [
    {
     "name": "stdout",
     "output_type": "stream",
     "text": [
      "那我\n",
      "我們\n",
      "們酸\n",
      "酸民\n",
      "民婉\n",
      "婉君\n",
      "君也\n",
      "也可\n",
      "可以\n",
      "以報\n",
      "報名\n",
      "名嗎\n"
     ]
    }
   ],
   "source": [
    "sentence = '那我們酸民婉君也可以報名嗎'\n",
    "for i in range(0, len(sentence) - 2 + 1):\n",
    "    print(sentence[i:i+2])"
   ]
  },
  {
   "cell_type": "code",
   "execution_count": 27,
   "metadata": {},
   "outputs": [
    {
     "name": "stdout",
     "output_type": "stream",
     "text": [
      "那我們\n",
      "我們酸\n",
      "們酸民\n",
      "酸民婉\n",
      "民婉君\n",
      "婉君也\n",
      "君也可\n",
      "也可以\n",
      "可以報\n",
      "以報名\n",
      "報名嗎\n"
     ]
    }
   ],
   "source": [
    "sentence = '那我們酸民婉君也可以報名嗎'\n",
    "for i in range(0, len(sentence) - 3 + 1):\n",
    "    print(sentence[i:i+3])"
   ]
  },
  {
   "cell_type": "code",
   "execution_count": 30,
   "metadata": {},
   "outputs": [
    {
     "name": "stdout",
     "output_type": "stream",
     "text": [
      "疾管\n",
      "管署\n",
      "署監\n",
      "監測\n",
      "測資\n",
      "資料\n",
      "料顯\n",
      "顯示\n",
      "示，\n",
      "，國\n",
      "國內\n",
      "內上\n",
      "上週\n",
      "週新\n",
      "新增\n",
      "增4\n",
      "4例\n",
      "例登\n",
      "登革\n",
      "革熱\n",
      "熱境\n",
      "境外\n",
      "外移\n",
      "移入\n",
      "入病\n",
      "病例\n",
      "例及\n",
      "及1\n",
      "1例\n",
      "例自\n",
      "自越\n",
      "越南\n",
      "南移\n",
      "移入\n",
      "入病\n",
      "病例\n",
      "例死\n",
      "死亡\n"
     ]
    }
   ],
   "source": [
    "s = '疾管署監測資料顯示，國內上週新增4例登革熱境外移入病例及1例自越南移入病例死亡'\n",
    "def ngram(article ,  n = 2):\n",
    "    for i in range(0, len(article) - n + 1):\n",
    "        print(article[i:i+n])\n",
    "ngram(s, 2)"
   ]
  },
  {
   "cell_type": "code",
   "execution_count": 31,
   "metadata": {},
   "outputs": [
    {
     "data": {
      "text/plain": [
       "Counter({'a': 3, 'b': 2, 'c': 1})"
      ]
     },
     "execution_count": 31,
     "metadata": {},
     "output_type": "execute_result"
    }
   ],
   "source": [
    "a = ['a', 'b', 'a', 'c', 'a', 'b']\n",
    "from collections import Counter\n",
    "c = Counter(a)\n",
    "c"
   ]
  },
  {
   "cell_type": "code",
   "execution_count": 36,
   "metadata": {},
   "outputs": [
    {
     "data": {
      "text/plain": [
       "[('移入病', 2), ('入病例', 2), ('疾管署', 1), ('管署監', 1), ('署監測', 1)]"
      ]
     },
     "execution_count": 36,
     "metadata": {},
     "output_type": "execute_result"
    }
   ],
   "source": [
    "def ngram(article ,  n = 2):\n",
    "    words = []\n",
    "    for i in range(0, len(article) - n + 1):\n",
    "        words.append(article[i:i+n])\n",
    "    return words\n",
    "\n",
    "res = ngram(s, 3)\n",
    "\n",
    "from collections import Counter\n",
    "c = Counter(res)\n",
    "c.most_common(5)"
   ]
  },
  {
   "cell_type": "code",
   "execution_count": 46,
   "metadata": {},
   "outputs": [
    {
     "data": {
      "text/plain": [
       "['衛生福利部疾病管制署長周志浩今天在記者會中表示',\n",
       " '近期登革熱境外移入病例數增加',\n",
       " '國內登革熱疑似病例通報數呈上升趨勢',\n",
       " '且正值登革熱流行期',\n",
       " '民眾必須格外小心提防',\n",
       " '落實',\n",
       " '巡',\n",
       " '倒',\n",
       " '清',\n",
       " '刷',\n",
       " '的防蚊步驟',\n",
       " '']"
      ]
     },
     "execution_count": 46,
     "metadata": {},
     "output_type": "execute_result"
    }
   ],
   "source": [
    "text='衛生福利部疾病管制署長周志浩今天在記者會中表示，近期登革熱境外移入病例數增加，國內登革熱疑似病例通報數呈上升趨勢，且正值登革熱流行期，民眾必須格外小心提防，落實「巡、倒、清、刷」的防蚊步驟。'\n",
    "delimiter = '，|、|「|」|。'\n",
    "import re\n",
    "re.split(delimiter, text)"
   ]
  },
  {
   "cell_type": "code",
   "execution_count": 47,
   "metadata": {},
   "outputs": [
    {
     "data": {
      "text/plain": [
       "'國內疑似病例通報數呈上升趨勢'"
      ]
     },
     "execution_count": 47,
     "metadata": {},
     "output_type": "execute_result"
    }
   ],
   "source": [
    "a='國內登革熱疑似病例通報數呈上升趨勢'\n",
    "a.replace('登革熱', '')"
   ]
  },
  {
   "cell_type": "code",
   "execution_count": 51,
   "metadata": {},
   "outputs": [
    {
     "data": {
      "text/plain": [
       "'國內疑似病例通報數呈上升趨勢'"
      ]
     },
     "execution_count": 51,
     "metadata": {},
     "output_type": "execute_result"
    }
   ],
   "source": [
    "a\n",
    "''.join(a.split('登革熱'))"
   ]
  },
  {
   "cell_type": "code",
   "execution_count": 53,
   "metadata": {},
   "outputs": [
    {
     "data": {
      "text/plain": [
       "'國內疑似通報數呈上升趨勢'"
      ]
     },
     "execution_count": 53,
     "metadata": {},
     "output_type": "execute_result"
    }
   ],
   "source": [
    "def removeKey(text, keyword):\n",
    "    for key in keyword:\n",
    "        text = text.replace(key,'')\n",
    "    return text\n",
    "\n",
    "def removeKey2(text, keyword):\n",
    "    for key in keyword:\n",
    "        text = ''.join(text.split(key))\n",
    "    return text\n",
    "\n",
    "a='國內登革熱疑似病例通報數呈上升趨勢'\n",
    "removeKey(a, ['登革熱', '病例'])\n",
    "\n",
    "removeKey2(a, ['登革熱', '病例'])"
   ]
  }
 ],
 "metadata": {
  "kernelspec": {
   "display_name": "Python 3",
   "language": "python",
   "name": "python3"
  },
  "language_info": {
   "codemirror_mode": {
    "name": "ipython",
    "version": 3
   },
   "file_extension": ".py",
   "mimetype": "text/x-python",
   "name": "python",
   "nbconvert_exporter": "python",
   "pygments_lexer": "ipython3",
   "version": "3.6.1"
  }
 },
 "nbformat": 4,
 "nbformat_minor": 2
}
