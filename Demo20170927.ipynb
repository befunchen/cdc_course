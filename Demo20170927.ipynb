{
 "cells": [
  {
   "cell_type": "code",
   "execution_count": 1,
   "metadata": {},
   "outputs": [
    {
     "data": {
      "text/plain": [
       "['this', 'is', 'a', 'book']"
      ]
     },
     "execution_count": 1,
     "metadata": {},
     "output_type": "execute_result"
    }
   ],
   "source": [
    "a = 'this is a book'\n",
    "a.split()"
   ]
  },
  {
   "cell_type": "markdown",
   "metadata": {},
   "source": [
    "## 安裝 Jieba\n",
    "- 在網路全部都通的情況下\n",
    "    - pip install jieba\n",
    "- 假設SSL 憑證無法讓你連到pypi 時\n",
    "    - pip install --index-url=http://pypi.python.org/simple/ --trusted-host pypi.python.org  jieba\n",
    "    \n",
    "- 假設沒有網路環境的時候\n",
    "    - 從 https://pypi.python.org/pypi/jieba/ 下載套件\n",
    "    - 解壓縮zip 檔\n",
    "    - python setup.py install\n",
    "    \n",
    "- 注意: 要重啟 kernel"
   ]
  },
  {
   "cell_type": "code",
   "execution_count": 3,
   "metadata": {},
   "outputs": [
    {
     "name": "stdout",
     "output_type": "stream",
     "text": [
      "Collecting jieba\n",
      "  Downloading jieba-0.39.zip (7.3MB)\n",
      "Building wheels for collected packages: jieba\n",
      "  Running setup.py bdist_wheel for jieba: started\n",
      "  Running setup.py bdist_wheel for jieba: finished with status 'done'\n",
      "  Stored in directory: C:\\Users\\befun\\AppData\\Local\\pip\\Cache\\wheels\\ce\\32\\de\\c2be1db5f30804bc7f146ff698c52963f8aa11ba5049811b0d\n",
      "Successfully built jieba\n",
      "Installing collected packages: jieba\n",
      "Successfully installed jieba-0.39\n"
     ]
    }
   ],
   "source": [
    "! pip install --index-url=http://pypi.python.org/simple/ --trusted-host pypi.python.org  jieba"
   ]
  },
  {
   "cell_type": "code",
   "execution_count": 2,
   "metadata": {},
   "outputs": [
    {
     "name": "stdout",
     "output_type": "stream",
     "text": [
      "女子\n",
      "遊\n",
      "越南\n",
      "感染\n",
      "登革熱\n",
      " \n",
      "住院\n",
      "7\n",
      "天\n",
      "過世\n"
     ]
    }
   ],
   "source": [
    "import jieba\n",
    "jieba.add_word('過世')\n",
    "a = '女子遊越南感染登革熱 住院7天過世'\n",
    "for w in jieba.cut(a):\n",
    "    print(w)"
   ]
  },
  {
   "cell_type": "code",
   "execution_count": 8,
   "metadata": {},
   "outputs": [
    {
     "data": {
      "text/plain": [
       "['',\n",
       " '中央社記者陳偉婷台北25日電',\n",
       " '疾管署副署長羅一鈞今天說',\n",
       " '一名37歲女子到越南旅遊',\n",
       " '回國後發燒',\n",
       " '肌肉痛',\n",
       " '住院7天因敗血性休克等病症過世',\n",
       " '為今年登革熱境外移入死亡第2例',\n",
       " '民眾去東南亞一定要注意防蚊',\n",
       " '']"
      ]
     },
     "execution_count": 8,
     "metadata": {},
     "output_type": "execute_result"
    }
   ],
   "source": [
    "news = '（中央社記者陳偉婷台北25日電）疾管署副署長羅一鈞今天說，一名37歲女子到越南旅遊，回國後發燒、肌肉痛，住院7天因敗血性休克等病症過世；為今年登革熱境外移入死亡第2例，民眾去東南亞一定要注意防蚊。'\n",
    "\n",
    "import re\n",
    "re.split('、|；|，|）|（|。', news)"
   ]
  },
  {
   "cell_type": "code",
   "execution_count": 11,
   "metadata": {},
   "outputs": [
    {
     "name": "stdout",
     "output_type": "stream",
     "text": [
      "大\n",
      "巨蛋\n",
      "案\n",
      "對\n",
      "市府\n",
      "同仁\n",
      "下\n",
      "封口\n",
      "封口令\n",
      "口令\n",
      "\n",
      "\n",
      "柯\n",
      "P\n",
      "否\n",
      "認\n"
     ]
    },
    {
     "data": {
      "text/plain": [
       "'大 巨蛋 案 對 市府 同仁 下 封口 封口令 口令   柯 P 否 認'"
      ]
     },
     "execution_count": 11,
     "metadata": {},
     "output_type": "execute_result"
    }
   ],
   "source": [
    "import jieba\n",
    "for w in jieba.cut('大巨蛋案對市府同仁下封口令？柯P否認', cut_all=True):\n",
    "    print(w)\n",
    "\n",
    "' '.join(jieba.cut('大巨蛋案對市府同仁下封口令？柯P否認', cut_all=True))"
   ]
  },
  {
   "cell_type": "code",
   "execution_count": 12,
   "metadata": {},
   "outputs": [
    {
     "data": {
      "text/plain": [
       "'大 巨蛋 案對 市府 同仁 下 封口令 ？ 柯 P 否認'"
      ]
     },
     "execution_count": 12,
     "metadata": {},
     "output_type": "execute_result"
    }
   ],
   "source": [
    "' '.join(jieba.cut('大巨蛋案對市府同仁下封口令？柯P否認'))"
   ]
  },
  {
   "cell_type": "code",
   "execution_count": 16,
   "metadata": {
    "collapsed": true
   },
   "outputs": [],
   "source": [
    "jieba.load_userdict('localdict.txt')"
   ]
  },
  {
   "cell_type": "code",
   "execution_count": 17,
   "metadata": {},
   "outputs": [
    {
     "data": {
      "text/plain": [
       "'大巨蛋 案對 市府 同仁 下 封口令 ？ 柯P 否認'"
      ]
     },
     "execution_count": 17,
     "metadata": {},
     "output_type": "execute_result"
    }
   ],
   "source": [
    "' '.join(jieba.cut('大巨蛋案對市府同仁下封口令？柯P否認'))"
   ]
  },
  {
   "cell_type": "code",
   "execution_count": 18,
   "metadata": {},
   "outputs": [
    {
     "name": "stdout",
     "output_type": "stream",
     "text": [
      "大巨蛋 x\n",
      "案 ng\n",
      "對 p\n",
      "市府 n\n",
      "同仁 nr\n",
      "下 f\n",
      "封口令 n\n",
      "？ x\n",
      "柯P x\n",
      "否認 v\n"
     ]
    }
   ],
   "source": [
    "import jieba.posseg as pseg\n",
    "words=pseg.cut(\"大巨蛋案對市府同仁下封口令？柯P否認\")\n",
    "for w in words:\n",
    "    print(w.word,w.flag)"
   ]
  },
  {
   "cell_type": "code",
   "execution_count": null,
   "metadata": {
    "collapsed": true
   },
   "outputs": [],
   "source": []
  }
 ],
 "metadata": {
  "kernelspec": {
   "display_name": "Python 3",
   "language": "python",
   "name": "python3"
  },
  "language_info": {
   "codemirror_mode": {
    "name": "ipython",
    "version": 3
   },
   "file_extension": ".py",
   "mimetype": "text/x-python",
   "name": "python",
   "nbconvert_exporter": "python",
   "pygments_lexer": "ipython3",
   "version": "3.6.1"
  }
 },
 "nbformat": 4,
 "nbformat_minor": 2
}
