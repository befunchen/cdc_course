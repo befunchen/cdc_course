{
 "cells": [
  {
   "cell_type": "markdown",
   "metadata": {},
   "source": [
    "## 安裝 PDFMiner3k (For Pyhton 3 and above)"
   ]
  },
  {
   "cell_type": "code",
   "execution_count": 2,
   "metadata": {
    "collapsed": false
   },
   "outputs": [
    {
     "name": "stdout",
     "output_type": "stream",
     "text": [
      "Collecting pdfminer3k\n",
      "  Downloading pdfminer3k-1.3.1.tar.gz (4.1MB)\n",
      "Requirement already satisfied: pytest>=2.0 in c:\\programdata\\anaconda3\\lib\\site-packages (from pdfminer3k)\n",
      "Requirement already satisfied: ply>=3.4 in c:\\programdata\\anaconda3\\lib\\site-packages (from pdfminer3k)\n",
      "Requirement already satisfied: py>=1.4.29 in c:\\programdata\\anaconda3\\lib\\site-packages (from pytest>=2.0->pdfminer3k)\n",
      "Requirement already satisfied: colorama in c:\\programdata\\anaconda3\\lib\\site-packages (from pytest>=2.0->pdfminer3k)\n",
      "Building wheels for collected packages: pdfminer3k\n",
      "  Running setup.py bdist_wheel for pdfminer3k: started\n",
      "  Running setup.py bdist_wheel for pdfminer3k: finished with status 'done'\n",
      "  Stored in directory: C:\\Users\\User\\AppData\\Local\\pip\\Cache\\wheels\\cd\\84\\67\\3eb20c984d51d38db1ca65ecba0d866407f46d8b3a9e72f7b2\n",
      "Successfully built pdfminer3k\n",
      "Installing collected packages: pdfminer3k\n",
      "Successfully installed pdfminer3k-1.3.1\n"
     ]
    }
   ],
   "source": [
    "! pip install pdfminer3k"
   ]
  },
  {
   "cell_type": "markdown",
   "metadata": {},
   "source": [
    "## 將PDF 轉換成文字"
   ]
  },
  {
   "cell_type": "code",
   "execution_count": 2,
   "metadata": {
    "collapsed": false
   },
   "outputs": [
    {
     "name": "stderr",
     "output_type": "stream",
     "text": [
      "WARNING:root:Cannot locate objid=350\n"
     ]
    },
    {
     "name": "stdout",
     "output_type": "stream",
     "text": [
      "<LTTextBoxHorizontal(0) 72.000,-93.888,204.648,-67.104 'Please wait... \\n'>\n",
      "<LTTextBoxHorizontal(1) 72.000,-136.200,516.936,-109.500 'If this message is not eventually replaced by the proper contents of the document, your PDF \\nviewer may not be able to display this type of document. \\n'>\n",
      "<LTTextBoxHorizontal(2) 72.000,-176.124,507.924,-149.424 'You can upgrade to the latest version of Adobe Reader for Windows®, Mac, or Linux® by \\nvisiting  http://www.adobe.com/go/reader_download. \\n'>\n",
      "<LTTextBoxHorizontal(3) 72.000,-202.740,472.596,-189.348 'For more assistance with Adobe Reader visit  http://www.adobe.com/go/acrreader. \\n'>\n",
      "<LTTextBoxHorizontal(4) 72.000,-243.460,539.904,-216.788 'Windows is either a registered trademark or a trademark of Microsoft Corporation in the United States and/or other countries. Mac is a trademark \\nof Apple Inc., registered in the United States and other countries. Linux is the registered trademark of Linus Torvalds in the U.S. and other \\ncountries.\\n'>\n",
      "<LTTextLineHorizontal 72.000,-109.584,78.000,-96.192 '  \\n'>\n",
      "<LTTextLineHorizontal 72.000,-149.508,78.000,-136.116 '  \\n'>\n",
      "<LTTextLineHorizontal 72.000,-189.432,78.000,-176.040 '  \\n'>\n",
      "<LTTextLineHorizontal 72.000,-216.048,78.000,-202.656 '  \\n'>\n"
     ]
    }
   ],
   "source": [
    "from pdfminer.pdfparser import PDFParser, PDFDocument\n",
    "from pdfminer.pdfinterp import PDFResourceManager, PDFPageInterpreter\n",
    "from pdfminer.converter import PDFPageAggregator\n",
    "from pdfminer.layout import LAParams, LTTextBox, LTTextLine\n",
    "\n",
    "s = ''\n",
    "fp = open('01 LIU JIALI.pdf', 'rb')\n",
    "parser = PDFParser(fp)\n",
    "doc = PDFDocument()\n",
    "parser.set_document(doc)\n",
    "doc.set_parser(parser)\n",
    "doc.initialize('')\n",
    "rsrcmgr = PDFResourceManager()\n",
    "laparams = LAParams()\n",
    "device = PDFPageAggregator(rsrcmgr, laparams=laparams)\n",
    "interpreter = PDFPageInterpreter(rsrcmgr, device)\n",
    "# Process each page contained in the document.\n",
    "for page in doc.get_pages():\n",
    "    interpreter.process_page(page)\n",
    "    layout = device.get_result()\n",
    "    for lt_obj in layout:\n",
    "        print(lt_obj)\n",
    "        #if isinstance(lt_obj, LTTextBox) or isinstance(lt_obj, LTTextLine):\n",
    "        #    s = s + lt_obj.get_text()"
   ]
  },
  {
   "cell_type": "code",
   "execution_count": 3,
   "metadata": {
    "collapsed": false
   },
   "outputs": [
    {
     "data": {
      "text/plain": [
       "25"
      ]
     },
     "execution_count": 3,
     "metadata": {},
     "output_type": "execute_result"
    }
   ],
   "source": [
    "s.count('腸病毒')"
   ]
  }
 ],
 "metadata": {
  "kernelspec": {
   "display_name": "Python 3",
   "language": "python",
   "name": "python3"
  },
  "language_info": {
   "codemirror_mode": {
    "name": "ipython",
    "version": 3
   },
   "file_extension": ".py",
   "mimetype": "text/x-python",
   "name": "python",
   "nbconvert_exporter": "python",
   "pygments_lexer": "ipython3",
   "version": "3.6.0"
  }
 },
 "nbformat": 4,
 "nbformat_minor": 2
}
