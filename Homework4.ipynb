{
 "cells": [
  {
   "cell_type": "markdown",
   "metadata": {
    "collapsed": false
   },
   "source": [
    "### 為了能定期追蹤國際疫情爆發新聞，請\n",
    "1. 撰寫一個網路爬蟲抓取世界衛生組織2017年的疫情爆發新聞清單(http://www.who.int/csr/don/archive/year/2017/en/)\n",
    "2. 並將連結、日期、標題與國家整理成一Pandas 的 表格如以下範例：\n",
    "\n",
    "| 連結                                                                             | 標題                                                       | 日期           | 國家         |\n",
    "|----------------------------------------------------------------------------------|------------------------------------------------------------|----------------|--------------|\n",
    "| http://www.who.int/entity/csr/don/17-august-2017-mers-saudi-arabia/en/index.html | Middle East respiratory syndrome coronavirus (MERS-CoV) –  | 17 August 2017 | Saudi Arabia |\n"
   ]
  }
 ],
 "metadata": {
  "kernelspec": {
   "display_name": "Python 3",
   "language": "python",
   "name": "python3"
  },
  "language_info": {
   "codemirror_mode": {
    "name": "ipython",
    "version": 3
   },
   "file_extension": ".py",
   "mimetype": "text/x-python",
   "name": "python",
   "nbconvert_exporter": "python",
   "pygments_lexer": "ipython3",
   "version": "3.6.0"
  }
 },
 "nbformat": 4,
 "nbformat_minor": 2
}
