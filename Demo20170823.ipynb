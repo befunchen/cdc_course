{
 "cells": [
  {
   "cell_type": "markdown",
   "metadata": {},
   "source": [
    "## OIE.INT\n",
    "- http://www.oie.int/wahis_2/public/wahid.php/Diseaseinformation/Immsummary"
   ]
  },
  {
   "cell_type": "markdown",
   "metadata": {},
   "source": [
    "### 使用requests 取得列表頁面"
   ]
  },
  {
   "cell_type": "code",
   "execution_count": 1,
   "metadata": {
    "collapsed": true
   },
   "outputs": [],
   "source": [
    "import requests\n",
    "url = 'http://www.oie.int/wahis_2/public/wahid.php/Diseaseinformation/Immsummary'\n",
    "\n",
    "payload = {\n",
    "'disease_type_hidden':'0',\n",
    "'disease_id_hidden':'15',\n",
    "'selected_disease_name_hidden':'Highly path. avian influenza (- -) ',\n",
    "'disease_type':'0',\n",
    "'disease_id_terrestrial':'15',\n",
    "'disease_id_aquatic':'-999',\n",
    "'year':'2017'\n",
    "}\n",
    "\n",
    "res = requests.post(url, data=payload)"
   ]
  },
  {
   "cell_type": "markdown",
   "metadata": {},
   "source": [
    "### 使用BeautfulSoup 剖析頁面"
   ]
  },
  {
   "cell_type": "code",
   "execution_count": 4,
   "metadata": {},
   "outputs": [],
   "source": [
    "from bs4 import BeautifulSoup\n",
    "soup = BeautifulSoup(res.text, 'html.parser')"
   ]
  },
  {
   "cell_type": "markdown",
   "metadata": {},
   "source": [
    "### 取得報告連結"
   ]
  },
  {
   "cell_type": "code",
   "execution_count": 15,
   "metadata": {},
   "outputs": [],
   "source": [
    "alinks = soup.select('.vacborder a')"
   ]
  },
  {
   "cell_type": "markdown",
   "metadata": {},
   "source": [
    "### 取得報告內頁摘要"
   ]
  },
  {
   "cell_type": "code",
   "execution_count": 63,
   "metadata": {},
   "outputs": [
    {
     "data": {
      "text/plain": [
       "datetime.datetime(2017, 8, 23, 10, 38, 40, 709239)"
      ]
     },
     "execution_count": 63,
     "metadata": {},
     "output_type": "execute_result"
    }
   ],
   "source": [
    "#取得現在時間\n",
    "from datetime import datetime\n",
    "datetime.now()"
   ]
  },
  {
   "cell_type": "code",
   "execution_count": 64,
   "metadata": {},
   "outputs": [],
   "source": [
    "def getReportDetail(reportURL):\n",
    "    res  = requests.get(reportURL)\n",
    "    soup = BeautifulSoup(res.text, 'html.parser')\n",
    "    country = soup.select('.Rap12-Subtitle')[0].contents[-1]\n",
    "    \n",
    "    # 使用prettify 可將 tag 轉換成字串\n",
    "    dfs  = pandas.read_html(soup.select('.TableFoyers')[0].prettify())\n",
    "    \n",
    "    # 將資料轉置\n",
    "    df = dfs[0].T\n",
    "    # 將第一列變成欄位名\n",
    "    df.columns = df.ix[0,]\n",
    "    # 將第一列刪除\n",
    "    df = df.drop(0)\n",
    "    # 增添國家資訊\n",
    "    df['country'] = country\n",
    "    \n",
    "    # 增添抓取時間\n",
    "    df['search_time'] = datetime.now()\n",
    "    return df"
   ]
  },
  {
   "cell_type": "markdown",
   "metadata": {},
   "source": [
    "### 根據每個報告連結取得內文摘要"
   ]
  },
  {
   "cell_type": "code",
   "execution_count": 65,
   "metadata": {},
   "outputs": [
    {
     "name": "stderr",
     "output_type": "stream",
     "text": [
      "C:\\ProgramData\\Anaconda3\\lib\\site-packages\\ipykernel_launcher.py:12: DeprecationWarning: \n",
      ".ix is deprecated. Please use\n",
      ".loc for label based indexing or\n",
      ".iloc for positional indexing\n",
      "\n",
      "See the documentation here:\n",
      "http://pandas.pydata.org/pandas-docs/stable/indexing.html#deprecate_ix\n",
      "  if sys.path[0] == '':\n"
     ]
    }
   ],
   "source": [
    "import re\n",
    "\n",
    "reportURL = 'http://www.oie.int/wahis_2/public/wahid.php/Reviewreport/Review?page_refer=MapFullEventReport&reportid={}'\n",
    "\n",
    "cnt = 0\n",
    "report_ary = []\n",
    "for link in alinks:\n",
    "    if 'MapFullEventReport' in link['href']:\n",
    "        # method 1: use split and strip\n",
    "        reportid = link['href'].split(',',)[1].strip(');')\n",
    "        report_ary.append(getReportDetail(reportURL.format(reportid)))\n",
    "        \n",
    "        # 當取得第五份報告時, 停止, 如果要取得所有報告, 就把下面程式碼拿掉\n",
    "        cnt = cnt + 1\n",
    "        if cnt == 5:\n",
    "            break\n",
    "        \n",
    "        # method 2: use regular expression\n",
    "        #m = re.match('javascript: open_report\\(\"(.*?)\",(\\d+)\\);', link['href'])\n",
    "        #print(m.groups())"
   ]
  },
  {
   "cell_type": "markdown",
   "metadata": {},
   "source": [
    "### 使用Pandas 合併報告"
   ]
  },
  {
   "cell_type": "code",
   "execution_count": 66,
   "metadata": {},
   "outputs": [
    {
     "data": {
      "text/html": [
       "<div>\n",
       "<style>\n",
       "    .dataframe thead tr:only-child th {\n",
       "        text-align: right;\n",
       "    }\n",
       "\n",
       "    .dataframe thead th {\n",
       "        text-align: left;\n",
       "    }\n",
       "\n",
       "    .dataframe tbody tr th {\n",
       "        vertical-align: top;\n",
       "    }\n",
       "</style>\n",
       "<table border=\"1\" class=\"dataframe\">\n",
       "  <thead>\n",
       "    <tr style=\"text-align: right;\">\n",
       "      <th></th>\n",
       "      <th>country</th>\n",
       "      <th>search_time</th>\n",
       "      <th>Causal agent</th>\n",
       "      <th>Date event resolved</th>\n",
       "      <th>Date of confirmation of the event</th>\n",
       "      <th>Date of previous occurrence</th>\n",
       "      <th>Date of start of the event</th>\n",
       "      <th>Date submitted to OIE</th>\n",
       "      <th>Manifestation of disease</th>\n",
       "      <th>Nature of diagnosis</th>\n",
       "      <th>Reason for notification</th>\n",
       "      <th>Related reports</th>\n",
       "      <th>Report date</th>\n",
       "      <th>Report type</th>\n",
       "      <th>Serotype</th>\n",
       "      <th>This event pertains to</th>\n",
       "    </tr>\n",
       "  </thead>\n",
       "  <tbody>\n",
       "    <tr>\n",
       "      <th>1</th>\n",
       "      <td>Algeria</td>\n",
       "      <td>2017-08-23 10:39:26.532781</td>\n",
       "      <td>Highly pathogenic avian influenza virus</td>\n",
       "      <td>19/01/2017</td>\n",
       "      <td>30/10/2016</td>\n",
       "      <td>NaN</td>\n",
       "      <td>20/10/2016</td>\n",
       "      <td>02/11/2016</td>\n",
       "      <td>NaN</td>\n",
       "      <td>Clinical, Laboratory (advanced)</td>\n",
       "      <td>First occurrence of a listed disease in the co...</td>\n",
       "      <td>Immediate notification (02/11/2016)  Follow-up...</td>\n",
       "      <td>02/11/2016</td>\n",
       "      <td>Immediate notification</td>\n",
       "      <td>H7N1</td>\n",
       "      <td>a defined zone within the country</td>\n",
       "    </tr>\n",
       "    <tr>\n",
       "      <th>1</th>\n",
       "      <td>Austria</td>\n",
       "      <td>2017-08-23 10:39:32.014353</td>\n",
       "      <td>Highly pathogenic avian influenza virus</td>\n",
       "      <td>28/04/2017</td>\n",
       "      <td>09/11/2016</td>\n",
       "      <td>26/04/2006</td>\n",
       "      <td>07/11/2016</td>\n",
       "      <td>10/11/2016</td>\n",
       "      <td>Clinical disease</td>\n",
       "      <td>Laboratory (advanced)</td>\n",
       "      <td>Recurrence of a listed disease</td>\n",
       "      <td>Immediate notification (10/11/2016)  Follow-up...</td>\n",
       "      <td>10/11/2016</td>\n",
       "      <td>Immediate notification</td>\n",
       "      <td>H5N8</td>\n",
       "      <td>a defined zone within the country</td>\n",
       "    </tr>\n",
       "    <tr>\n",
       "      <th>1</th>\n",
       "      <td>Austria</td>\n",
       "      <td>2017-08-23 10:39:37.883832</td>\n",
       "      <td>Highly pathogenic avian influenza virus</td>\n",
       "      <td>20/02/2017</td>\n",
       "      <td>11/11/2016</td>\n",
       "      <td>26/04/2006</td>\n",
       "      <td>09/11/2016</td>\n",
       "      <td>11/11/2016</td>\n",
       "      <td>Clinical disease</td>\n",
       "      <td>Laboratory (advanced)</td>\n",
       "      <td>Recurrence of a listed disease</td>\n",
       "      <td>Immediate notification (11/11/2016)  Follow-up...</td>\n",
       "      <td>11/11/2016</td>\n",
       "      <td>Immediate notification</td>\n",
       "      <td>H5N8</td>\n",
       "      <td>a defined zone within the country</td>\n",
       "    </tr>\n",
       "    <tr>\n",
       "      <th>1</th>\n",
       "      <td>Bangladesh</td>\n",
       "      <td>2017-08-23 10:39:43.159502</td>\n",
       "      <td>Highly Pathogenic Avian Influenza virus</td>\n",
       "      <td>NaN</td>\n",
       "      <td>16/01/2017</td>\n",
       "      <td>04/02/2016</td>\n",
       "      <td>15/01/2017</td>\n",
       "      <td>21/01/2017</td>\n",
       "      <td>Clinical disease</td>\n",
       "      <td>Clinical, Laboratory (basic), Laboratory (adva...</td>\n",
       "      <td>Recurrence of a listed disease</td>\n",
       "      <td>Immediate notification (21/01/2017)  Follow-up...</td>\n",
       "      <td>21/01/2017</td>\n",
       "      <td>Immediate notification</td>\n",
       "      <td>H5N1</td>\n",
       "      <td>a defined zone within the country</td>\n",
       "    </tr>\n",
       "    <tr>\n",
       "      <th>1</th>\n",
       "      <td>Belgium</td>\n",
       "      <td>2017-08-23 10:39:48.472374</td>\n",
       "      <td>Highly pathogenic avian influenza virus</td>\n",
       "      <td>NaN</td>\n",
       "      <td>16/06/2017</td>\n",
       "      <td>28/03/2017</td>\n",
       "      <td>10/06/2017</td>\n",
       "      <td>19/06/2017</td>\n",
       "      <td>Clinical disease</td>\n",
       "      <td>Clinical, Laboratory (advanced), Necropsy</td>\n",
       "      <td>Recurrence of a listed disease</td>\n",
       "      <td>Immediate notification (19/06/2017)  Follow-up...</td>\n",
       "      <td>19/06/2017</td>\n",
       "      <td>Immediate notification</td>\n",
       "      <td>H5N8</td>\n",
       "      <td>a defined zone within the country</td>\n",
       "    </tr>\n",
       "  </tbody>\n",
       "</table>\n",
       "</div>"
      ],
      "text/plain": [
       "      country                search_time  \\\n",
       "1     Algeria 2017-08-23 10:39:26.532781   \n",
       "1     Austria 2017-08-23 10:39:32.014353   \n",
       "1     Austria 2017-08-23 10:39:37.883832   \n",
       "1  Bangladesh 2017-08-23 10:39:43.159502   \n",
       "1     Belgium 2017-08-23 10:39:48.472374   \n",
       "\n",
       "                              Causal agent Date event resolved  \\\n",
       "1  Highly pathogenic avian influenza virus          19/01/2017   \n",
       "1  Highly pathogenic avian influenza virus          28/04/2017   \n",
       "1  Highly pathogenic avian influenza virus          20/02/2017   \n",
       "1  Highly Pathogenic Avian Influenza virus                 NaN   \n",
       "1  Highly pathogenic avian influenza virus                 NaN   \n",
       "\n",
       "  Date of confirmation of the event Date of previous occurrence  \\\n",
       "1                        30/10/2016                         NaN   \n",
       "1                        09/11/2016                  26/04/2006   \n",
       "1                        11/11/2016                  26/04/2006   \n",
       "1                        16/01/2017                  04/02/2016   \n",
       "1                        16/06/2017                  28/03/2017   \n",
       "\n",
       "  Date of start of the event Date submitted to OIE Manifestation of disease  \\\n",
       "1                 20/10/2016            02/11/2016                      NaN   \n",
       "1                 07/11/2016            10/11/2016         Clinical disease   \n",
       "1                 09/11/2016            11/11/2016         Clinical disease   \n",
       "1                 15/01/2017            21/01/2017         Clinical disease   \n",
       "1                 10/06/2017            19/06/2017         Clinical disease   \n",
       "\n",
       "                                 Nature of diagnosis  \\\n",
       "1                    Clinical, Laboratory (advanced)   \n",
       "1                              Laboratory (advanced)   \n",
       "1                              Laboratory (advanced)   \n",
       "1  Clinical, Laboratory (basic), Laboratory (adva...   \n",
       "1          Clinical, Laboratory (advanced), Necropsy   \n",
       "\n",
       "                             Reason for notification  \\\n",
       "1  First occurrence of a listed disease in the co...   \n",
       "1                     Recurrence of a listed disease   \n",
       "1                     Recurrence of a listed disease   \n",
       "1                     Recurrence of a listed disease   \n",
       "1                     Recurrence of a listed disease   \n",
       "\n",
       "                                     Related reports Report date  \\\n",
       "1  Immediate notification (02/11/2016)  Follow-up...  02/11/2016   \n",
       "1  Immediate notification (10/11/2016)  Follow-up...  10/11/2016   \n",
       "1  Immediate notification (11/11/2016)  Follow-up...  11/11/2016   \n",
       "1  Immediate notification (21/01/2017)  Follow-up...  21/01/2017   \n",
       "1  Immediate notification (19/06/2017)  Follow-up...  19/06/2017   \n",
       "\n",
       "              Report type Serotype             This event pertains to  \n",
       "1  Immediate notification     H7N1  a defined zone within the country  \n",
       "1  Immediate notification     H5N8  a defined zone within the country  \n",
       "1  Immediate notification     H5N8  a defined zone within the country  \n",
       "1  Immediate notification     H5N1  a defined zone within the country  \n",
       "1  Immediate notification     H5N8  a defined zone within the country  "
      ]
     },
     "execution_count": 66,
     "metadata": {},
     "output_type": "execute_result"
    }
   ],
   "source": [
    "reportdf = pandas.concat(report_ary)\n",
    "reportdf.columns\n",
    "reportdf = reportdf[(['country', 'search_time','Causal agent', 'Date event resolved',\n",
    "       'Date of confirmation of the event', 'Date of previous occurrence',\n",
    "       'Date of start of the event', 'Date submitted to OIE',\n",
    "       'Manifestation of disease', 'Nature of diagnosis',\n",
    "       'Reason for notification', 'Related reports', 'Report date',\n",
    "       'Report type', 'Serotype', 'This event pertains to'])]\n",
    "reportdf.head()"
   ]
  },
  {
   "cell_type": "markdown",
   "metadata": {},
   "source": [
    "### 使用Pandas匯出報告"
   ]
  },
  {
   "cell_type": "code",
   "execution_count": 68,
   "metadata": {},
   "outputs": [],
   "source": [
    "reportdf.to_excel('HPAI.xlsx')"
   ]
  },
  {
   "cell_type": "markdown",
   "metadata": {},
   "source": [
    "### ==========以下為實驗==========="
   ]
  },
  {
   "cell_type": "code",
   "execution_count": 50,
   "metadata": {},
   "outputs": [
    {
     "data": {
      "text/plain": [
       "[<div class=\"Rap12-Subtitle\">Highly pathogenic avian influenza,<br/>Algeria</div>]"
      ]
     },
     "execution_count": 50,
     "metadata": {},
     "output_type": "execute_result"
    }
   ],
   "source": [
    "res  = requests.get('http://www.oie.int/wahis_2/public/wahid.php/Reviewreport/Review?page_refer=MapFullEventReport&reportid=21433')\n",
    "soup = BeautifulSoup(res.text, 'html.parser')\n",
    "soup.select('.Rap12-Subtitle')"
   ]
  },
  {
   "cell_type": "code",
   "execution_count": 55,
   "metadata": {},
   "outputs": [
    {
     "data": {
      "text/plain": [
       "'Algeria'"
      ]
     },
     "execution_count": 55,
     "metadata": {},
     "output_type": "execute_result"
    }
   ],
   "source": [
    "soup.select('.Rap12-Subtitle')[0].contents[-1]"
   ]
  }
 ],
 "metadata": {
  "kernelspec": {
   "display_name": "Python 3",
   "language": "python",
   "name": "python3"
  },
  "language_info": {
   "codemirror_mode": {
    "name": "ipython",
    "version": 3
   },
   "file_extension": ".py",
   "mimetype": "text/x-python",
   "name": "python",
   "nbconvert_exporter": "python",
   "pygments_lexer": "ipython3",
   "version": "3.6.1"
  }
 },
 "nbformat": 4,
 "nbformat_minor": 2
}
