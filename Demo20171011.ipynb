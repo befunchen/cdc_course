{
 "cells": [
  {
   "cell_type": "markdown",
   "metadata": {},
   "source": [
    "## 詞頻計算"
   ]
  },
  {
   "cell_type": "code",
   "execution_count": 1,
   "metadata": {
    "collapsed": true
   },
   "outputs": [],
   "source": [
    "news = '''\n",
    "北部本土登革熱疫情擴大，繼上周新北市鶯歌區一對50歲夫妻感染登革熱後，今衛福部疾管署再宣布，其鄰居和離住處3公里外友人共2名中年男子也感染，疫情僅過1周再添2例，並有157名接觸者密切監測健康狀況，北部已有4名本土登革熱病例，相較南部3例，為歷年來北部本土疫情首度超過南部。\n",
    "疾管署副署長羅一鈞指出，這2名感染者為中年男性，其中1人與日前群聚感染的50歲夫妻比鄰而居，上月下旬經蚊蟲叮咬後，10月1日出現發燒、頭痛、肌肉痛、惡心等症狀，隔2日就醫經通報採檢；另1名雖與夫妻居住逾3公里，無出現感染症狀，但因每日皆至夫妻住家後耕田，經擴大疫調後採檢驗出感染。\n",
    "\n",
    "疾管署表示，此次群聚事件，透過4名感染者已掌握157名相關接觸者進行健康監測至本月29日，研判此次疫情與日前的夫妻群聚感染為同一波蚊蟲叮咬，若再相隔2周以後再出現感染者，疫情便會擴大至下一波，範圍擴大。羅一鈞說，北部本土登革熱疫情超越南部較少見，為阻絕疫情，已針對感染者住家周邊加強病媒蚊清除與感染源調查。\n",
    "\n",
    "疾管署統計，北部本土登革熱群聚新增個案已累計4例，南部累計3例，國內目前截至7例本土病例，與242例境外移入病例且含2例死亡個案、8起境外移入群聚事件。\n",
    "\n",
    "羅一鈞呼籲，目前登革熱屬病媒蚊活躍期，民眾除勤加清除孳生源、降低病媒蚊密度外，若出現疑似症狀應就醫，且返家做好防蚊措施，避免被蚊蟲再次叮咬造成次波感染。\n",
    "'''"
   ]
  },
  {
   "cell_type": "code",
   "execution_count": 6,
   "metadata": {
    "collapsed": true
   },
   "outputs": [],
   "source": [
    "import jieba\n",
    "jieba.load_userdict('localdict.txt')\n",
    "words = []\n",
    "for term in jieba.cut(news):\n",
    "    words.append(term)"
   ]
  },
  {
   "cell_type": "markdown",
   "metadata": {},
   "source": [
    "### 詞頻計算方法一 (字典)"
   ]
  },
  {
   "cell_type": "code",
   "execution_count": 8,
   "metadata": {
    "collapsed": true
   },
   "outputs": [],
   "source": [
    "dic = {}\n",
    "for ele in words:\n",
    "    if ele not in dic:\n",
    "        dic[ele] = 1\n",
    "    else:\n",
    "        dic[ele] = dic[ele] + 1"
   ]
  },
  {
   "cell_type": "code",
   "execution_count": 13,
   "metadata": {
    "collapsed": true
   },
   "outputs": [],
   "source": [
    "import operator\n",
    "swd = sorted(dic.items(), key = operator.itemgetter(1), reverse=True)\n",
    "#swd\n",
    "#dic.items()"
   ]
  },
  {
   "cell_type": "markdown",
   "metadata": {},
   "source": [
    "### 詞頻計算方法二 (collections)\n",
    "- https://docs.python.org/3/library/collections.html"
   ]
  },
  {
   "cell_type": "code",
   "execution_count": 17,
   "metadata": {},
   "outputs": [
    {
     "data": {
      "text/plain": [
       "'感染'"
      ]
     },
     "execution_count": 17,
     "metadata": {},
     "output_type": "execute_result"
    }
   ],
   "source": [
    "t = ('感染', 8)\n",
    "k,v = t\n",
    "k"
   ]
  },
  {
   "cell_type": "code",
   "execution_count": 18,
   "metadata": {},
   "outputs": [
    {
     "name": "stdout",
     "output_type": "stream",
     "text": [
      "感染 8\n",
      "疫情 7\n",
      "本土 6\n",
      "登革熱 6\n",
      "北部 5\n",
      "夫妻 5\n",
      "群聚 5\n",
      "疾管署 4\n",
      "南部 4\n",
      "感染者 4\n",
      "病例 3\n",
      "羅一鈞 3\n",
      "蚊蟲 3\n",
      "叮咬 3\n",
      "出現 3\n",
      "病媒蚊 3\n",
      "擴大 2\n",
      "50 2\n",
      "公里 2\n",
      "157 2\n",
      "監測 2\n",
      "健康 2\n",
      "日前 2\n",
      "症狀 2\n",
      "住家 2\n",
      "此次 2\n",
      "事件 2\n"
     ]
    }
   ],
   "source": [
    "from collections import Counter\n",
    "c = Counter(words)\n",
    "for k, v in c.most_common(50):\n",
    "    if len(k) >=2:\n",
    "        print(k,v)"
   ]
  },
  {
   "cell_type": "markdown",
   "metadata": {},
   "source": [
    "## TFIDF 計算"
   ]
  },
  {
   "cell_type": "code",
   "execution_count": 26,
   "metadata": {
    "collapsed": true
   },
   "outputs": [],
   "source": [
    "a, abb, abc = ['a'], ['a', 'b', 'b'], ['a', 'b', 'c']"
   ]
  },
  {
   "cell_type": "code",
   "execution_count": 27,
   "metadata": {},
   "outputs": [
    {
     "data": {
      "text/plain": [
       "0.0"
      ]
     },
     "execution_count": 27,
     "metadata": {},
     "output_type": "execute_result"
    }
   ],
   "source": [
    "#tfidf('a', a)\n",
    "import math\n",
    "tf  = 1/1\n",
    "idf = math.log(3/3)\n",
    "tf * idf "
   ]
  },
  {
   "cell_type": "code",
   "execution_count": 28,
   "metadata": {},
   "outputs": [
    {
     "data": {
      "text/plain": [
       "0.0"
      ]
     },
     "execution_count": 28,
     "metadata": {},
     "output_type": "execute_result"
    }
   ],
   "source": [
    "#tfidf('a', abb)\n",
    "tf = 1/3\n",
    "idf = math.log(3/3)\n",
    "tf * idf "
   ]
  },
  {
   "cell_type": "code",
   "execution_count": 29,
   "metadata": {},
   "outputs": [
    {
     "data": {
      "text/plain": [
       "0.27031007207210955"
      ]
     },
     "execution_count": 29,
     "metadata": {},
     "output_type": "execute_result"
    }
   ],
   "source": [
    "#tfidf('b', abb)\n",
    "tf = 2/3\n",
    "idf = math.log(3/2)\n",
    "tf *idf "
   ]
  },
  {
   "cell_type": "code",
   "execution_count": 30,
   "metadata": {},
   "outputs": [
    {
     "data": {
      "text/plain": [
       "0.0"
      ]
     },
     "execution_count": 30,
     "metadata": {},
     "output_type": "execute_result"
    }
   ],
   "source": [
    "#tfidf('a', abc)\n",
    "tf = 1/3\n",
    "idf = math.log(3/3)\n",
    "tf * idf "
   ]
  },
  {
   "cell_type": "code",
   "execution_count": 31,
   "metadata": {},
   "outputs": [
    {
     "data": {
      "text/plain": [
       "0.13515503603605478"
      ]
     },
     "execution_count": 31,
     "metadata": {},
     "output_type": "execute_result"
    }
   ],
   "source": [
    "#tfidf('b', abc)\n",
    "tf = 1/3\n",
    "idf = math.log(3/2)\n",
    "tf * idf "
   ]
  },
  {
   "cell_type": "code",
   "execution_count": 32,
   "metadata": {},
   "outputs": [
    {
     "data": {
      "text/plain": [
       "0.3662040962227032"
      ]
     },
     "execution_count": 32,
     "metadata": {},
     "output_type": "execute_result"
    }
   ],
   "source": [
    "#tfidf('c', abc)\n",
    "tf = 1/3\n",
    "idf = math.log(3/1)\n",
    "tf * idf "
   ]
  },
  {
   "cell_type": "code",
   "execution_count": 33,
   "metadata": {},
   "outputs": [
    {
     "data": {
      "text/plain": [
       "2"
      ]
     },
     "execution_count": 33,
     "metadata": {},
     "output_type": "execute_result"
    }
   ],
   "source": [
    "abb = ['a', 'b', 'b']\n",
    "abb.count('b')"
   ]
  },
  {
   "cell_type": "code",
   "execution_count": 37,
   "metadata": {},
   "outputs": [
    {
     "data": {
      "text/plain": [
       "2"
      ]
     },
     "execution_count": 37,
     "metadata": {},
     "output_type": "execute_result"
    }
   ],
   "source": [
    "a, abb, abc = ['a'], ['a', 'b', 'b'], ['a', 'b', 'c']\n",
    "ary = []\n",
    "for doc in D:\n",
    "    if 'b' in doc:\n",
    "        ary.append(doc)\n",
    "len(ary)\n",
    "\n",
    "len([ doc for doc in D if 'b' in doc ])"
   ]
  },
  {
   "cell_type": "code",
   "execution_count": 42,
   "metadata": {},
   "outputs": [
    {
     "name": "stdout",
     "output_type": "stream",
     "text": [
      "0.0\n",
      "0.0\n",
      "0.0\n",
      "0.27031007207210955\n",
      "0.13515503603605478\n",
      "0.3662040962227032\n"
     ]
    }
   ],
   "source": [
    "a, abb, abc = ['a'], ['a', 'b', 'b'], ['a', 'b', 'c']\n",
    "D = [a,abb,abc]\n",
    "\n",
    "def tfidf(t, d, D):\n",
    "    tf = d.count(t) / len(d)\n",
    "    idf = math.log(len(D) / len([ doc for doc in D if t in doc ]) )\n",
    "    return tf * idf\n",
    "    \n",
    "print(tfidf('a', a, D))\n",
    "print(tfidf('a', abb, D))\n",
    "print(tfidf('a', abc, D))\n",
    "print(tfidf('b', abb, D))\n",
    "print(tfidf('b', abc, D))\n",
    "print(tfidf('c', abc, D))\n"
   ]
  },
  {
   "cell_type": "markdown",
   "metadata": {},
   "source": [
    "## Jieba 關鍵詞\n",
    "- C:\\ProgramData\\Anaconda3\\Lib\\site-packages\\jieba\\analyse\\idf.txt"
   ]
  },
  {
   "cell_type": "code",
   "execution_count": 43,
   "metadata": {},
   "outputs": [
    {
     "name": "stdout",
     "output_type": "stream",
     "text": [
      "登革熱,疫情,群聚,感染,疾管署\n"
     ]
    }
   ],
   "source": [
    "import jieba.analyse \n",
    "tags=jieba.analyse.extract_tags(news,5)\n",
    "print(\",\".join(tags))"
   ]
  },
  {
   "cell_type": "markdown",
   "metadata": {},
   "source": [
    "## 使用sklearn 求得詞頻矩陣"
   ]
  },
  {
   "cell_type": "code",
   "execution_count": 50,
   "metadata": {},
   "outputs": [
    {
     "data": {
      "text/plain": [
       "['出國 旅遊 防蚊 不可 輕忽 30 多歲 女性 染 登革熱 返台 亡',\n",
       " '女子 遊 越南 感染 登革熱 住院 7 天 過世',\n",
       " '37 歲 女 越南 旅行 返國 染 登革熱 致 免疫 風暴 死亡']"
      ]
     },
     "execution_count": 50,
     "metadata": {},
     "output_type": "execute_result"
    }
   ],
   "source": [
    "import jieba\n",
    "jieba.load_userdict('localdict.txt')\n",
    "ary= [ '出國旅遊防蚊不可輕忽30多歲女性染登革熱返台亡',\n",
    "       '女子遊越南感染登革熱住院7天過世',\n",
    "       '37歲女越南旅行返國染登革熱致免疫風暴死亡']\n",
    "\n",
    "corpus = []\n",
    "for sentence in ary:\n",
    "    #words = []\n",
    "    #for ele in jieba.cut(sentence):\n",
    "    #    words.append(ele)\n",
    "    #print(' '.join(words))\n",
    "    corpus.append(' '.join([ele for ele in jieba.cut(sentence)]))\n",
    "corpus\n",
    "\n"
   ]
  },
  {
   "cell_type": "code",
   "execution_count": 54,
   "metadata": {},
   "outputs": [
    {
     "data": {
      "text/plain": [
       "<3x21 sparse matrix of type '<class 'numpy.int64'>'\n",
       "\twith 24 stored elements in Compressed Sparse Row format>"
      ]
     },
     "execution_count": 54,
     "metadata": {},
     "output_type": "execute_result"
    }
   ],
   "source": [
    "from sklearn.feature_extraction.text import CountVectorizer\n",
    "vectorizer = CountVectorizer()\n",
    "X = vectorizer.fit_transform(corpus)\n",
    "X"
   ]
  },
  {
   "cell_type": "code",
   "execution_count": 56,
   "metadata": {},
   "outputs": [
    {
     "name": "stdout",
     "output_type": "stream",
     "text": [
      "['30', '37', '不可', '住院', '免疫', '出國', '多歲', '女子', '女性', '感染', '旅行', '旅遊', '死亡', '登革熱', '越南', '輕忽', '返台', '返國', '過世', '防蚊', '風暴']\n"
     ]
    },
    {
     "data": {
      "text/plain": [
       "array([[1, 0, 1, 0, 0, 1, 1, 0, 1, 0, 0, 1, 0, 1, 0, 1, 1, 0, 0, 1, 0],\n",
       "       [0, 0, 0, 1, 0, 0, 0, 1, 0, 1, 0, 0, 0, 1, 1, 0, 0, 0, 1, 0, 0],\n",
       "       [0, 1, 0, 0, 1, 0, 0, 0, 0, 0, 1, 0, 1, 1, 1, 0, 0, 1, 0, 0, 1]], dtype=int64)"
      ]
     },
     "execution_count": 56,
     "metadata": {},
     "output_type": "execute_result"
    }
   ],
   "source": [
    "print(vectorizer.get_feature_names())\n",
    "X.toarray()"
   ]
  },
  {
   "cell_type": "code",
   "execution_count": 64,
   "metadata": {},
   "outputs": [
    {
     "data": {
      "text/plain": [
       "array([3, 0, 2, 1, 4], dtype=int64)"
      ]
     },
     "execution_count": 64,
     "metadata": {},
     "output_type": "execute_result"
    }
   ],
   "source": [
    "import numpy\n",
    "a = numpy.array([180,168,172,188,153])\n",
    "#a.sort()\n",
    "#a\n",
    "a.argsort()[::-1]\n"
   ]
  },
  {
   "cell_type": "code",
   "execution_count": 65,
   "metadata": {},
   "outputs": [
    {
     "data": {
      "text/plain": [
       "array([13, 14, 20,  8,  1,  2,  3,  4,  5,  6,  7, 10,  9, 19, 11, 12, 15,\n",
       "       16, 17, 18,  0], dtype=int64)"
      ]
     },
     "execution_count": 65,
     "metadata": {},
     "output_type": "execute_result"
    }
   ],
   "source": [
    "cnt = X.toarray().sum(axis = 0)\n",
    "cnt.argsort()[::-1]"
   ]
  },
  {
   "cell_type": "code",
   "execution_count": 67,
   "metadata": {},
   "outputs": [
    {
     "data": {
      "text/plain": [
       "array(['登革熱', '越南', '風暴', '女性', '37', '不可', '住院', '免疫', '出國', '多歲', '女子',\n",
       "       '旅行', '感染', '防蚊', '旅遊', '死亡', '輕忽', '返台', '返國', '過世', '30'], \n",
       "      dtype='<U3')"
      ]
     },
     "execution_count": 67,
     "metadata": {},
     "output_type": "execute_result"
    }
   ],
   "source": [
    "terms = numpy.array(vectorizer.get_feature_names())\n",
    "terms[cnt.argsort()[::-1]]"
   ]
  },
  {
   "cell_type": "code",
   "execution_count": 69,
   "metadata": {},
   "outputs": [
    {
     "name": "stdout",
     "output_type": "stream",
     "text": [
      "30 1\n",
      "37 1\n",
      "不可 1\n",
      "住院 1\n",
      "免疫 1\n",
      "出國 1\n",
      "多歲 1\n",
      "女子 1\n",
      "女性 1\n",
      "感染 1\n",
      "旅行 1\n",
      "旅遊 1\n",
      "死亡 1\n",
      "登革熱 3\n",
      "越南 2\n",
      "輕忽 1\n",
      "返台 1\n",
      "返國 1\n",
      "過世 1\n",
      "防蚊 1\n",
      "風暴 1\n"
     ]
    }
   ],
   "source": [
    "cnt = X.toarray().sum(axis = 0)\n",
    "terms = numpy.array(vectorizer.get_feature_names())\n",
    "for t, c in zip(terms, cnt):\n",
    "    print(t,c)"
   ]
  },
  {
   "cell_type": "code",
   "execution_count": 70,
   "metadata": {},
   "outputs": [
    {
     "data": {
      "text/plain": [
       "<3x21 sparse matrix of type '<class 'numpy.float64'>'\n",
       "\twith 24 stored elements in Compressed Sparse Row format>"
      ]
     },
     "execution_count": 70,
     "metadata": {},
     "output_type": "execute_result"
    }
   ],
   "source": [
    "from sklearn.feature_extraction.text import TfidfVectorizer\n",
    "vectorizer = TfidfVectorizer()\n",
    "X = vectorizer.fit_transform(corpus)\n",
    "X"
   ]
  },
  {
   "cell_type": "code",
   "execution_count": 71,
   "metadata": {},
   "outputs": [
    {
     "data": {
      "text/plain": [
       "array([[ 0.32705548,  0.        ,  0.32705548,  0.        ,  0.        ,\n",
       "         0.32705548,  0.32705548,  0.        ,  0.32705548,  0.        ,\n",
       "         0.        ,  0.32705548,  0.        ,  0.19316423,  0.        ,\n",
       "         0.32705548,  0.32705548,  0.        ,  0.        ,  0.32705548,\n",
       "         0.        ],\n",
       "       [ 0.        ,  0.        ,  0.        ,  0.45050407,  0.        ,\n",
       "         0.        ,  0.        ,  0.45050407,  0.        ,  0.45050407,\n",
       "         0.        ,  0.        ,  0.        ,  0.26607496,  0.34261996,\n",
       "         0.        ,  0.        ,  0.        ,  0.45050407,  0.        ,\n",
       "         0.        ],\n",
       "       [ 0.        ,  0.37994462,  0.        ,  0.        ,  0.37994462,\n",
       "         0.        ,  0.        ,  0.        ,  0.        ,  0.        ,\n",
       "         0.37994462,  0.        ,  0.37994462,  0.22440141,  0.28895767,\n",
       "         0.        ,  0.        ,  0.37994462,  0.        ,  0.        ,\n",
       "         0.37994462]])"
      ]
     },
     "execution_count": 71,
     "metadata": {},
     "output_type": "execute_result"
    }
   ],
   "source": [
    "X.toarray()"
   ]
  },
  {
   "cell_type": "markdown",
   "metadata": {},
   "source": [
    "## 計算文章之間的距離"
   ]
  },
  {
   "cell_type": "code",
   "execution_count": 82,
   "metadata": {},
   "outputs": [
    {
     "data": {
      "text/plain": [
       "2"
      ]
     },
     "execution_count": 82,
     "metadata": {},
     "output_type": "execute_result"
    }
   ],
   "source": [
    "a = [1, 0, 1]\n",
    "b = [1, 1, 0]\n",
    "\n",
    "a1 = numpy.array(a)\n",
    "b1 = numpy.array(b)\n",
    "\n",
    "#Euclidean Distance\n",
    "math.sqrt(sum((b1 - a1) * (b1 - a1)))\n",
    "#Mahattan Distance\n",
    "sum(abs(b1 - a1))"
   ]
  },
  {
   "cell_type": "code",
   "execution_count": 83,
   "metadata": {},
   "outputs": [
    {
     "data": {
      "text/plain": [
       "3.1622776601683795"
      ]
     },
     "execution_count": 83,
     "metadata": {},
     "output_type": "execute_result"
    }
   ],
   "source": [
    "#   柯文哲  趙藤雄 大巨蛋\n",
    "a = [1,     1,    1, 0,0,0,0,0,0,0,0,0,0]\n",
    "b = [1,     1,    1, 1,1,1,1,1,1,1,1,1,1]\n",
    "a1 = numpy.array(a)\n",
    "b1 = numpy.array(b)\n",
    "math.sqrt(sum((b1 - a1) * (b1 - a1)))"
   ]
  },
  {
   "cell_type": "markdown",
   "metadata": {},
   "source": [
    "## Cosine Distance"
   ]
  },
  {
   "cell_type": "code",
   "execution_count": null,
   "metadata": {
    "collapsed": true
   },
   "outputs": [],
   "source": [
    "# cos = A 。 B / |A| X |B|"
   ]
  },
  {
   "cell_type": "code",
   "execution_count": 88,
   "metadata": {},
   "outputs": [
    {
     "data": {
      "text/plain": [
       "0.93819418743314187"
      ]
     },
     "execution_count": 88,
     "metadata": {},
     "output_type": "execute_result"
    }
   ],
   "source": [
    "a = [1, 2, 2, 1, 1, 1, 0]\n",
    "b = [1, 2, 2, 1, 1, 2, 1]\n",
    "\n",
    "a1 = numpy.array(a)\n",
    "b1 = numpy.array(b)\n",
    "\n",
    "sum(a1 * b1) / (math.sqrt(sum(a1 * a1)) * math.sqrt(sum(b1 * b1)))"
   ]
  },
  {
   "cell_type": "code",
   "execution_count": 93,
   "metadata": {},
   "outputs": [
    {
     "data": {
      "text/plain": [
       "array([[ 1.        ,  0.93819419],\n",
       "       [ 0.93819419,  1.        ]])"
      ]
     },
     "execution_count": 93,
     "metadata": {},
     "output_type": "execute_result"
    }
   ],
   "source": [
    "from sklearn.metrics.pairwise import cosine_distances, cosine_similarity\n",
    "a = [1, 2, 2, 1, 1, 1, 0]\n",
    "b = [1, 2, 2, 1, 1, 2, 1]\n",
    "m  = numpy.array([a,b])\n",
    "#cosine_distances(m)\n",
    "cosine_similarity(m)"
   ]
  },
  {
   "cell_type": "code",
   "execution_count": 94,
   "metadata": {},
   "outputs": [
    {
     "data": {
      "text/plain": [
       "<3x21 sparse matrix of type '<class 'numpy.int64'>'\n",
       "\twith 24 stored elements in Compressed Sparse Row format>"
      ]
     },
     "execution_count": 94,
     "metadata": {},
     "output_type": "execute_result"
    }
   ],
   "source": [
    "from sklearn.feature_extraction.text import CountVectorizer\n",
    "vectorizer = CountVectorizer()\n",
    "X = vectorizer.fit_transform(corpus)\n",
    "X"
   ]
  },
  {
   "cell_type": "code",
   "execution_count": 97,
   "metadata": {},
   "outputs": [
    {
     "data": {
      "text/plain": [
       "array([[ 0.        ,  0.87090056,  0.8881966 ],\n",
       "       [ 0.87090056,  0.        ,  0.71132487],\n",
       "       [ 0.8881966 ,  0.71132487,  0.        ]])"
      ]
     },
     "execution_count": 97,
     "metadata": {},
     "output_type": "execute_result"
    }
   ],
   "source": [
    "ary= [ '出國旅遊防蚊不可輕忽30多歲女性染登革熱返台亡',\n",
    "       '女子遊越南感染登革熱住院7天過世',\n",
    "       '37歲女越南旅行返國染登革熱致免疫風暴死亡']\n",
    "cosine_similarity(X.toarray())\n",
    "cosine_distances(X.toarray())"
   ]
  },
  {
   "cell_type": "code",
   "execution_count": 103,
   "metadata": {},
   "outputs": [
    {
     "data": {
      "text/plain": [
       "array([1, 0], dtype=int64)"
      ]
     },
     "execution_count": 103,
     "metadata": {},
     "output_type": "execute_result"
    }
   ],
   "source": [
    "cosine_similarity(X.toarray())[0].argsort()[::-1][1:]\n",
    "cosine_similarity(X.toarray())[1].argsort()[::-1][1:]\n",
    "cosine_similarity(X.toarray())[2].argsort()[::-1][1:]"
   ]
  },
  {
   "cell_type": "markdown",
   "metadata": {},
   "source": [
    "## 抓取蘋果新聞"
   ]
  },
  {
   "cell_type": "code",
   "execution_count": null,
   "metadata": {
    "collapsed": true
   },
   "outputs": [],
   "source": [
    "import requests\n",
    "from bs4 import BeautifulSoup\n",
    "domain = 'http://www.appledaily.com.tw'\n",
    "res = requests.get('http://www.appledaily.com.tw/realtimenews/section/new/')\n",
    "soup = BeautifulSoup(res.text, 'html.parser')\n",
    "news = []\n",
    "for link in soup.select('.rtddt a'):\n",
    "    dic = {}\n",
    "    res2 = requests.get(domain + link['href'])\n",
    "    soup2 = BeautifulSoup(res2.text, 'html.parser')\n",
    "    dic['category'] = soup.select('h2')[0].text\n",
    "    dic['content'] = soup2.select('#summary')[0].text\n",
    "    dic['title']   = soup2.select('#h1')[0].text\n",
    "    news.append(dic)"
   ]
  },
  {
   "cell_type": "code",
   "execution_count": 1,
   "metadata": {
    "collapsed": true
   },
   "outputs": [],
   "source": [
    "import pandas\n",
    "appledaily = pandas.read_excel('https://raw.githubusercontent.com/ywchiu/cdc_course/master/data/20171003_applenews.xlsx')"
   ]
  },
  {
   "cell_type": "code",
   "execution_count": 4,
   "metadata": {},
   "outputs": [
    {
     "name": "stderr",
     "output_type": "stream",
     "text": [
      "Building prefix dict from the default dictionary ...\n",
      "Loading model from cache C:\\Users\\befun\\AppData\\Local\\Temp\\jieba.cache\n",
      "Loading model cost 2.963 seconds.\n",
      "Prefix dict has been built succesfully.\n"
     ]
    }
   ],
   "source": [
    "corpus = []\n",
    "titles = []\n",
    "\n",
    "import jieba\n",
    "for news in appledaily.iterrows():\n",
    "    corpus.append(' '.join(jieba.cut(news[1].content)))\n",
    "    titles.append(news[1].title)\n",
    "    #print(news[1].title)"
   ]
  },
  {
   "cell_type": "code",
   "execution_count": 6,
   "metadata": {},
   "outputs": [
    {
     "data": {
      "text/plain": [
       "<1020x41915 sparse matrix of type '<class 'numpy.int64'>'\n",
       "\twith 133567 stored elements in Compressed Sparse Row format>"
      ]
     },
     "execution_count": 6,
     "metadata": {},
     "output_type": "execute_result"
    }
   ],
   "source": [
    "from sklearn.feature_extraction.text import CountVectorizer\n",
    "vectorizer = CountVectorizer()\n",
    "X = vectorizer.fit_transform(corpus)\n",
    "X"
   ]
  },
  {
   "cell_type": "code",
   "execution_count": 8,
   "metadata": {},
   "outputs": [],
   "source": [
    "from sklearn.metrics.pairwise import cosine_distances, cosine_similarity\n",
    "cosine_similarities = cosine_similarity(X.toarray())"
   ]
  },
  {
   "cell_type": "code",
   "execution_count": 9,
   "metadata": {},
   "outputs": [
    {
     "data": {
      "text/plain": [
       "(1020, 1020)"
      ]
     },
     "execution_count": 9,
     "metadata": {},
     "output_type": "execute_result"
    }
   ],
   "source": [
    "cosine_similarities.shape"
   ]
  },
  {
   "cell_type": "code",
   "execution_count": 14,
   "metadata": {},
   "outputs": [
    {
     "name": "stdout",
     "output_type": "stream",
     "text": [
      "路人闖入遭自強號撞死　彰化至竹南站間一度延誤\n",
      "路人闖入遭自強號撞死　彰化至竹南站間一度延誤 0.96\n",
      "男子闖鐵軌遭撞死　班次延誤返鄉旅客無奈 0.466666666667\n",
      "搭火車到這6站　可享轉乘優惠21元 0.179231397376\n",
      "變壓器突毀損　中友百貨局部停電 0.17240873134\n",
      "美國賭城槍響　觀光局：我國旅行團人員平安 0.172038703309\n",
      "【慎入片】女駕駛出車禍　回神驚見友人嘴以上全部噴飛 0.168732297546\n",
      "秋老虎發威　台北今中午熱到36.4℃ 0.166666666667\n",
      "爆頭之後更神勇　響尾蛇雷伊傷後K功更恐怖 0.159673888624\n",
      "首款國產98吋4K電視今亮相 0.158999682001\n"
     ]
    }
   ],
   "source": [
    "print(titles[0])\n",
    "for idx in cosine_similarities[0].argsort()[::-1][1:10]:\n",
    "    print(titles[idx], cosine_similarities[0][idx])"
   ]
  },
  {
   "cell_type": "code",
   "execution_count": 31,
   "metadata": {},
   "outputs": [
    {
     "name": "stdout",
     "output_type": "stream",
     "text": [
      "查詢文章: 被柯P酸放病毒入台　葉俊榮：他應感謝內政部協辦世大運\n",
      "相關文章: 核准《中國新歌聲》2原因　管媽揭就是因北市府 0.437463124722\n",
      "相關文章: 「中國新歌聲」惹議　北市府：中央大可拒絕活動舉辦 0.421093685746\n",
      "相關文章: 「中國新歌聲」遭批是統戰病毒　柯Ｐ：病毒是內政部放進來的 0.336791683964\n",
      "相關文章: 台大濺血案　教長：場地租借、治安維繫單位各有權責 0.191168599102\n",
      "相關文章: 【呼籲片】李明哲恐已被秘密宣判　台權會要求蔡英文政府表態 0.171899732007\n",
      "相關文章: 賭城槍擊　中國網友冷回：我們正享受假期 0.162325744941\n"
     ]
    }
   ],
   "source": [
    "def getSimiliarArticle(query_idx, threshold):\n",
    "    print('查詢文章:',titles[query_idx])\n",
    "    for idx in cosine_similarities[query_idx].argsort()[::-1][1:10]:\n",
    "        if cosine_similarities[query_idx][idx] > threshold:\n",
    "            print('相關文章:',titles[idx], cosine_similarities[query_idx][idx])\n",
    "        \n",
    "getSimiliarArticle(210, 0.15)"
   ]
  },
  {
   "cell_type": "markdown",
   "metadata": {},
   "source": [
    "## 機器人問答資料"
   ]
  },
  {
   "cell_type": "code",
   "execution_count": 42,
   "metadata": {},
   "outputs": [
    {
     "data": {
      "text/plain": [
       "Index(['message', 'Timestamp'], dtype='object')"
      ]
     },
     "execution_count": 42,
     "metadata": {},
     "output_type": "execute_result"
    }
   ],
   "source": [
    "import pandas\n",
    "df = pandas.read_csv('results.csv', sep='\\t', encoding='utf-8')\n",
    "df.columns"
   ]
  },
  {
   "cell_type": "code",
   "execution_count": 45,
   "metadata": {},
   "outputs": [
    {
     "data": {
      "text/html": [
       "<div>\n",
       "<style>\n",
       "    .dataframe thead tr:only-child th {\n",
       "        text-align: right;\n",
       "    }\n",
       "\n",
       "    .dataframe thead th {\n",
       "        text-align: left;\n",
       "    }\n",
       "\n",
       "    .dataframe tbody tr th {\n",
       "        vertical-align: top;\n",
       "    }\n",
       "</style>\n",
       "<table border=\"1\" class=\"dataframe\">\n",
       "  <thead>\n",
       "    <tr style=\"text-align: right;\">\n",
       "      <th></th>\n",
       "      <th>message</th>\n",
       "      <th>Timestamp</th>\n",
       "    </tr>\n",
       "  </thead>\n",
       "  <tbody>\n",
       "    <tr>\n",
       "      <th>0</th>\n",
       "      <td>家裡好多蚊子怎麼辦？又擔心會有登革熱(what?!)快來看！防疫醫師來幫大家解答囉！</td>\n",
       "      <td>NaN</td>\n",
       "    </tr>\n",
       "    <tr>\n",
       "      <th>1</th>\n",
       "      <td>https://goo.gl/6YdkmJ</td>\n",
       "      <td>2017/9/27 02:04</td>\n",
       "    </tr>\n",
       "    <tr>\n",
       "      <th>2</th>\n",
       "      <td>有那些人可以接種流感疫苗呢？</td>\n",
       "      <td>2017/9/28 09:48</td>\n",
       "    </tr>\n",
       "    <tr>\n",
       "      <th>3</th>\n",
       "      <td>你好帥</td>\n",
       "      <td>2017/9/28 10:28</td>\n",
       "    </tr>\n",
       "    <tr>\n",
       "      <th>4</th>\n",
       "      <td>帥哥</td>\n",
       "      <td>2017/9/28 10:28</td>\n",
       "    </tr>\n",
       "  </tbody>\n",
       "</table>\n",
       "</div>"
      ],
      "text/plain": [
       "                                      message        Timestamp\n",
       "0  家裡好多蚊子怎麼辦？又擔心會有登革熱(what?!)快來看！防疫醫師來幫大家解答囉！              NaN\n",
       "1                       https://goo.gl/6YdkmJ  2017/9/27 02:04\n",
       "2                              有那些人可以接種流感疫苗呢？  2017/9/28 09:48\n",
       "3                                         你好帥  2017/9/28 10:28\n",
       "4                                          帥哥  2017/9/28 10:28"
      ]
     },
     "execution_count": 45,
     "metadata": {},
     "output_type": "execute_result"
    }
   ],
   "source": [
    "df.head()"
   ]
  },
  {
   "cell_type": "code",
   "execution_count": 53,
   "metadata": {},
   "outputs": [],
   "source": [
    "corpus = []\n",
    "titles = []\n",
    "import jieba\n",
    "for rec in df.iterrows():\n",
    "    corpus.append(' '.join(jieba.cut(str(rec[1].message) )))\n",
    "    titles.append(rec[1].message)"
   ]
  },
  {
   "cell_type": "code",
   "execution_count": 54,
   "metadata": {},
   "outputs": [
    {
     "data": {
      "text/plain": [
       "<3713x1975 sparse matrix of type '<class 'numpy.float64'>'\n",
       "\twith 6040 stored elements in Compressed Sparse Row format>"
      ]
     },
     "execution_count": 54,
     "metadata": {},
     "output_type": "execute_result"
    }
   ],
   "source": [
    "from sklearn.feature_extraction.text import TfidfVectorizer\n",
    "vectorizer = TfidfVectorizer()\n",
    "X = vectorizer.fit_transform(corpus)\n",
    "X"
   ]
  },
  {
   "cell_type": "code",
   "execution_count": 55,
   "metadata": {
    "collapsed": true
   },
   "outputs": [],
   "source": [
    "from sklearn.metrics.pairwise import cosine_distances, cosine_similarity\n",
    "cosine_similarities = cosine_similarity(X.toarray())"
   ]
  },
  {
   "cell_type": "code",
   "execution_count": 64,
   "metadata": {},
   "outputs": [
    {
     "name": "stdout",
     "output_type": "stream",
     "text": [
      "查詢文章: 流感疫苗是什麼\n",
      "相關文章: 786 什麼是流感疫苗 1.0\n",
      "相關文章: 1112 要吃什麼 0.74871393522\n",
      "相關文章: 332 你會做什麼 0.74871393522\n",
      "相關文章: 307 你懂什麼 0.74871393522\n",
      "相關文章: 1009 四價流感疫苗多的是什麼 0.698049656128\n",
      "相關文章: 54 打流感疫苗，會很痛嗎？ 0.662893236658\n",
      "相關文章: 723 你有打流感疫苗嗎？ 0.662893236658\n",
      "相關文章: 1200 流感疫苗有幾總 0.662893236658\n",
      "相關文章: 17 我想打流感疫苗 0.662893236658\n"
     ]
    }
   ],
   "source": [
    "def getSimiliarArticle(query_idx, threshold):\n",
    "    print('查詢文章:',titles[query_idx])\n",
    "    for idx in cosine_similarities[query_idx].argsort()[::-1][1:10]:\n",
    "        if cosine_similarities[query_idx][idx] > threshold:\n",
    "            print('相關文章:',idx, titles[idx], cosine_similarities[query_idx][idx])\n",
    "        \n",
    "getSimiliarArticle(1308, 0.15)"
   ]
  },
  {
   "cell_type": "markdown",
   "metadata": {},
   "source": [
    "## 新聞分群"
   ]
  },
  {
   "cell_type": "markdown",
   "metadata": {},
   "source": [
    "### 讀取文章資料"
   ]
  },
  {
   "cell_type": "code",
   "execution_count": 65,
   "metadata": {
    "collapsed": true
   },
   "outputs": [],
   "source": [
    "import pandas\n",
    "appledaily = pandas.read_excel('https://raw.githubusercontent.com/ywchiu/cdc_course/master/data/20171003_applenews.xlsx')"
   ]
  },
  {
   "cell_type": "markdown",
   "metadata": {},
   "source": [
    "### 文章切詞"
   ]
  },
  {
   "cell_type": "code",
   "execution_count": 66,
   "metadata": {
    "collapsed": true
   },
   "outputs": [],
   "source": [
    "corpus = []\n",
    "titles = []\n",
    "\n",
    "import jieba\n",
    "for news in appledaily.iterrows():\n",
    "    corpus.append(' '.join(jieba.cut(news[1].content)))\n",
    "    titles.append(news[1].title)"
   ]
  },
  {
   "cell_type": "markdown",
   "metadata": {},
   "source": [
    "### 產生TFIDF 矩陣"
   ]
  },
  {
   "cell_type": "code",
   "execution_count": 67,
   "metadata": {},
   "outputs": [
    {
     "data": {
      "text/plain": [
       "<1020x41915 sparse matrix of type '<class 'numpy.float64'>'\n",
       "\twith 133567 stored elements in Compressed Sparse Row format>"
      ]
     },
     "execution_count": 67,
     "metadata": {},
     "output_type": "execute_result"
    }
   ],
   "source": [
    "from sklearn.feature_extraction.text import TfidfVectorizer\n",
    "vectorizer = TfidfVectorizer()\n",
    "X = vectorizer.fit_transform(corpus)\n",
    "X"
   ]
  },
  {
   "cell_type": "markdown",
   "metadata": {},
   "source": [
    "### 計算Cosine Similarity"
   ]
  },
  {
   "cell_type": "code",
   "execution_count": 68,
   "metadata": {
    "collapsed": true
   },
   "outputs": [],
   "source": [
    "from sklearn.metrics.pairwise import cosine_distances, cosine_similarity\n",
    "cosine_similarities = cosine_similarity(X.toarray())"
   ]
  },
  {
   "cell_type": "markdown",
   "metadata": {},
   "source": [
    "### KMeans 分群"
   ]
  },
  {
   "cell_type": "code",
   "execution_count": 77,
   "metadata": {},
   "outputs": [],
   "source": [
    "from sklearn.cluster import KMeans\n",
    "clf = KMeans(n_clusters=20)\n",
    "kc = clf.fit_predict(cosine_similarities)"
   ]
  },
  {
   "cell_type": "code",
   "execution_count": 110,
   "metadata": {},
   "outputs": [
    {
     "name": "stdout",
     "output_type": "stream",
     "text": [
      "0\n",
      "1\n",
      "4\n"
     ]
    },
    {
     "data": {
      "text/plain": [
       "array([ True,  True, False, False,  True, False], dtype=bool)"
      ]
     },
     "execution_count": 110,
     "metadata": {},
     "output_type": "execute_result"
    }
   ],
   "source": [
    "a = [2,2,1,1,2,1]\n",
    "for idx, ele in enumerate(a):\n",
    "    if ele == 2:\n",
    "        print(idx)\n",
    "a1 = numpy.array(a)\n",
    "a1 == 2"
   ]
  },
  {
   "cell_type": "markdown",
   "metadata": {},
   "source": [
    "### 取出分群結果"
   ]
  },
  {
   "cell_type": "code",
   "execution_count": 78,
   "metadata": {
    "collapsed": true
   },
   "outputs": [],
   "source": [
    "import numpy as np\n",
    "titles_ary = np.array(titles)"
   ]
  },
  {
   "cell_type": "code",
   "execution_count": 84,
   "metadata": {},
   "outputs": [
    {
     "name": "stdout",
     "output_type": "stream",
     "text": [
      "台積電如何分工？　傳魏哲家負責最大客戶蘋果、劉德音負責高通\n",
      "【張忠謀將退休】當年這3場勝仗　徹底打趴三星、格羅方德\n",
      "【張忠謀將退休】台積電開低走高　收盤漲近1%\n",
      "老謝讚：張董是創造台灣價值的瑰寶　後人恐難以超越\n",
      "張忠謀怎麼激勵員工力拚「重要戰役」？　底薪加3成、分紅加5成！\n",
      "十月三日各報頭條搶先報\n",
      "十月三日財經焦點搶先看\n",
      "【張忠謀將退休】創立台積「第一桶金」哪來？　原來是英特爾創辦人下單\n",
      "【張忠謀將退休】1張圖看懂　台積電30年來成長路徑\n",
      "【明年6月裸退片】張忠謀：留給台積最後貢獻是「雙首長制」\n",
      "【張忠謀將退休】投資人對交棒有信心　台積電ADR「股漲」\n",
      "​張忠謀：市場沒問題　台積電未來挑戰是來自於競爭者\n",
      "【回鍋片】張忠謀2005年曾交棒　因這件事重掌兵符\n",
      "【張忠謀將退休】陸行之：沒他就沒台灣超強半導體業\n",
      "【張忠謀將退休】蔡力行：他是成功、穩健的創業家\n",
      "張忠謀身家直逼3百億　名列台灣第50大富豪\n",
      "台積電雙首長有何特質？張忠謀這樣說\n",
      "奉獻台積30年　張忠謀感性告白「天下無不散宴席」\n",
      "談退休後的生活　張忠謀：寫自傳、打橋牌及旅遊\n",
      "張忠謀譜浪漫黃昏戀　古稀之年迎娶張淑芬\n",
      "【張忠謀將退休】外資：無縫接軌領軍台積軍隊\n",
      "【巨擘動畫】半導體教父張忠謀　30年打造台灣驕傲\n",
      "【張忠謀將退休】接班不穩定性排除　法人判讀為利多\n",
      "【張忠謀將退休】寶成蔡其瑞：他是我的人生楷模\n",
      "【蘋果Live】張忠謀16:30主持記者會　宣布明年退休\n",
      "【蘋果Live】張忠謀16:30主持記者會　宣布明年退休\n",
      "【張忠謀將退休】國安基金：不捨但相信繼任者\n",
      "【張忠謀將退休】怎麼找接班人？　曾趣言「最好的不會比我更好」\n",
      "【張忠謀將退休】他讚「巨人選在最好時候退場」\n",
      "【張忠謀將退休】儲祥生：台積電明股價恐受衝擊\n",
      "【張忠謀將退休】學者：後年考驗才開始\n"
     ]
    }
   ],
   "source": [
    "for news in titles_ary[kc == 5]:\n",
    "    print(news)"
   ]
  },
  {
   "cell_type": "code",
   "execution_count": 116,
   "metadata": {},
   "outputs": [
    {
     "name": "stdout",
     "output_type": "stream",
     "text": [
      "加斯 2.32584354436\n",
      "拉斯 2.28524509014\n",
      "美國 2.21252414317\n",
      "酒店 2.03007054831\n",
      "賭城 1.91810980417\n",
      "槍擊案 1.8755289307\n",
      "發生 1.8066073635\n",
      "當地 1.39329049802\n",
      "槍枝 1.32727201117\n",
      "槍擊 1.25120667218\n",
      "我們 1.13931341702\n",
      "管制 1.13006592828\n"
     ]
    }
   ],
   "source": [
    "import numpy\n",
    "feature_names = numpy.array(vectorizer.get_feature_names())\n",
    "\n",
    "\n",
    "X2 = X.toarray()[kc==1]\n",
    "colsum = X2.sum(axis=0)\n",
    "rank = X2.sum(axis=0).argsort()[::-1]\n",
    "for idx in rank:\n",
    "    if colsum[idx] >= 1:\n",
    "        print(feature_names[idx], colsum[idx])\n",
    "#for ele in feature_names[rank][0:10]:\n",
    "#    print(ele, colsum)"
   ]
  },
  {
   "cell_type": "code",
   "execution_count": 119,
   "metadata": {
    "collapsed": true
   },
   "outputs": [],
   "source": [
    "def getKeyTerm(cluster):\n",
    "    X2 = X.toarray()[kc==cluster]\n",
    "    colsum = X2.sum(axis=0)\n",
    "    rank = X2.sum(axis=0).argsort()[::-1]\n",
    "    powerterms = []\n",
    "    for idx in rank:\n",
    "        if colsum[idx] >= 1:\n",
    "            #print(feature_names[idx], colsum[idx])\n",
    "            powerterms.append(feature_names[idx])\n",
    "    return powerterms"
   ]
  },
  {
   "cell_type": "code",
   "execution_count": 121,
   "metadata": {},
   "outputs": [],
   "source": [
    "#for c in range(0,20):\n",
    "#    print(c, getKeyTerm(c))"
   ]
  },
  {
   "cell_type": "code",
   "execution_count": null,
   "metadata": {
    "collapsed": true
   },
   "outputs": [],
   "source": []
  }
 ],
 "metadata": {
  "kernelspec": {
   "display_name": "Python 3",
   "language": "python",
   "name": "python3"
  },
  "language_info": {
   "codemirror_mode": {
    "name": "ipython",
    "version": 3
   },
   "file_extension": ".py",
   "mimetype": "text/x-python",
   "name": "python",
   "nbconvert_exporter": "python",
   "pygments_lexer": "ipython3",
   "version": "3.6.1"
  }
 },
 "nbformat": 4,
 "nbformat_minor": 2
}
