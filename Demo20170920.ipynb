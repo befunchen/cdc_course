{
 "cells": [
  {
   "cell_type": "markdown",
   "metadata": {},
   "source": [
    "## 資料庫連線"
   ]
  },
  {
   "cell_type": "code",
   "execution_count": 2,
   "metadata": {
    "collapsed": true
   },
   "outputs": [],
   "source": [
    "import sqlite3 as lite\n",
    "con = lite.connect('test.sqlite')\n",
    "con.close()"
   ]
  },
  {
   "cell_type": "markdown",
   "metadata": {},
   "source": [
    "## 操作資料庫"
   ]
  },
  {
   "cell_type": "code",
   "execution_count": 4,
   "metadata": {},
   "outputs": [
    {
     "name": "stdout",
     "output_type": "stream",
     "text": [
      "('3.14.2',)\n"
     ]
    }
   ],
   "source": [
    "import sqlite3 as lite\n",
    "# 建立連線\n",
    "con = lite.connect('test.sqlite')\n",
    "with con:\n",
    "    # 建立游標 (Cursor)\n",
    "    cur = con.cursor()\n",
    "    # 使用游標檢視資料\n",
    "    cur.execute('SELECT SQLITE_VERSION();')\n",
    "    # 拿取游標選取到的資料\n",
    "    data = cur.fetchone()\n",
    "    print(data)"
   ]
  },
  {
   "cell_type": "markdown",
   "metadata": {},
   "source": [
    "## 資料庫CRUD 操作"
   ]
  },
  {
   "cell_type": "code",
   "execution_count": 10,
   "metadata": {},
   "outputs": [
    {
     "name": "stdout",
     "output_type": "stream",
     "text": [
      "[('0912173381', 'United State', 'JhonDoe', 53), ('0928375018', 'Tokyo Japan', 'MuMuCat', 6), ('0957209108', 'Taipei', 'Richard', 29)]\n"
     ]
    }
   ],
   "source": [
    "import sqlite3 as lite\n",
    "# 建立連線\n",
    "con = lite.connect('test.sqlite')\n",
    "with con:\n",
    "    # 建立游標 (Cursor)\n",
    "    cur = con.cursor()\n",
    "    \n",
    "    # 使用游標捨棄資料表\n",
    "    cur.execute(''' DROP TABLE IF EXISTS PhoneAddress;\n",
    "                ''')\n",
    "    \n",
    "    # 使用游標建立資料表\n",
    "    cur.execute('''CREATE TABLE PhoneAddress(\n",
    "                        phone   CHAR(10) PRIMARY KEY,\n",
    "                        address TEXT,\n",
    "                        name    TEXT NOT NULL,\n",
    "                        age     INT NOT NULL\n",
    "                    );                        \n",
    "                ''')\n",
    "    \n",
    "    # 使用游標新增資料\n",
    "    cur.execute(\"INSERT INTO PhoneAddress(phone, address, name, age)\\\n",
    "                 VALUES('0912173381','United State','JhonDoe',53);\")\n",
    "    cur.execute(\"INSERT INTO PhoneAddress(phone, address, name, age)\\\n",
    "                 VALUES('0928375018','Tokyo Japan','MuMuCat',6);\")\n",
    "    cur.execute(\"INSERT INTO PhoneAddress(phone, address, name, age)\\\n",
    "                 VALUES('0957209108','Taipei','Richard',29);\")\n",
    "    \n",
    "    # 拿取游標撈取資料\n",
    "    cur.execute('SELECT * FROM PhoneAddress;')\n",
    "    \n",
    "    data = cur.fetchall()\n",
    "    print(data)"
   ]
  },
  {
   "cell_type": "markdown",
   "metadata": {},
   "source": [
    "## 資料修改"
   ]
  },
  {
   "cell_type": "code",
   "execution_count": 12,
   "metadata": {},
   "outputs": [
    {
     "name": "stdout",
     "output_type": "stream",
     "text": [
      "BEFORE UPDATE: [('0912173381', 'United State', 'JhonDoe', 53), ('0928375018', 'Tokyo Japan', 'MuMuCat', 6), ('0957209108', 'Chiayi', 'Richard', 29)]\n",
      "AFTER UPDATE: [('0912173381', 'United State', 'JhonDoe', 53), ('0928375018', 'Tokyo Japan', 'MuMuCat', 6), ('0957209108', 'Shenjian', 'Richard', 29)]\n"
     ]
    }
   ],
   "source": [
    "import sqlite3 as lite\n",
    "# 建立連線\n",
    "con = lite.connect('test.sqlite')\n",
    "with con:\n",
    "    # 建立游標 (Cursor)\n",
    "    cur = con.cursor()\n",
    "    \n",
    "    # 拿取游標撈取資料\n",
    "    cur.execute('SELECT * FROM PhoneAddress;')\n",
    "    \n",
    "    data = cur.fetchall()\n",
    "    print('BEFORE UPDATE:', data)\n",
    "    \n",
    "    # 使用游標新增資料\n",
    "    cur.execute(\"UPDATE PhoneAddress SET address = 'Shenjian' \\\n",
    "                WHERE phone = '0957209108'; \")\n",
    "    \n",
    "    # 拿取游標撈取資料\n",
    "    cur.execute('SELECT * FROM PhoneAddress;')\n",
    "    \n",
    "    data = cur.fetchall()\n",
    "    print('AFTER UPDATE:', data)"
   ]
  },
  {
   "cell_type": "markdown",
   "metadata": {},
   "source": [
    "## 撈取資料"
   ]
  },
  {
   "cell_type": "code",
   "execution_count": 17,
   "metadata": {},
   "outputs": [
    {
     "name": "stdout",
     "output_type": "stream",
     "text": [
      "GET ONE DATA: ('0912173381', 'United State', 'JhonDoe', 53)\n",
      "===================\n",
      "GET ALL DATA:\n",
      "0928375018 MuMuCat\n",
      "0957209108 Richard\n",
      "0912345678 QOO\n"
     ]
    }
   ],
   "source": [
    "import sqlite3 as lite\n",
    "# 建立連線\n",
    "con = lite.connect('test.sqlite')\n",
    "with con:\n",
    "    # 建立游標 (Cursor)\n",
    "    cur = con.cursor()\n",
    "    \n",
    "    # 使用SELECT 語法操作資料庫\n",
    "    # cur.execute('SELECT * FROM PhoneAddress;')\n",
    "    cur.execute('SELECT phone, address, name, age \\\n",
    "                   FROM PhoneAddress;')\n",
    "    \n",
    "    data = cur.fetchone()\n",
    "    print('GET ONE DATA:', data)\n",
    "    \n",
    "    print('===================')\n",
    "    \n",
    "    data = cur.fetchall()\n",
    "    print('GET ALL DATA:')\n",
    "    for rec in data:\n",
    "        #print(rec)\n",
    "        print(rec[0], rec[2])"
   ]
  },
  {
   "cell_type": "markdown",
   "metadata": {},
   "source": [
    "## 使用不同的SELECT 語法撈取資料"
   ]
  },
  {
   "cell_type": "code",
   "execution_count": 23,
   "metadata": {},
   "outputs": [
    {
     "name": "stdout",
     "output_type": "stream",
     "text": [
      "GET ALL DATA:\n",
      "('0912173381', 'United State', 'JhonDoe', 53)\n",
      "('0928375018', 'Tokyo Japan', 'MuMuCat', 6)\n",
      "('0957209108', 'Shenjian', 'Richard', 29)\n",
      "('0912345678', 'MARS', 'QOO', 12)\n",
      "GET AGE ABOVE 30:\n",
      "('0912173381', 'United State', 'JhonDoe', 53)\n",
      "GET DATA BY AGE ORDER:\n",
      "('0912173381', 'United State', 'JhonDoe', 53)\n",
      "('0957209108', 'Shenjian', 'Richard', 29)\n",
      "('0912345678', 'MARS', 'QOO', 12)\n",
      "('0928375018', 'Tokyo Japan', 'MuMuCat', 6)\n",
      "GET 2 DATA BY AGE ORDER:\n",
      "('0912173381', 'United State', 'JhonDoe', 53)\n",
      "('0957209108', 'Shenjian', 'Richard', 29)\n"
     ]
    }
   ],
   "source": [
    "import sqlite3 as lite\n",
    "# 建立連線\n",
    "con = lite.connect('test.sqlite')\n",
    "with con:\n",
    "    # 建立游標 (Cursor)\n",
    "    cur = con.cursor()\n",
    "    \n",
    "    # 使用SELECT 撈取所有資料\n",
    "    cur.execute('SELECT phone, address, name, age \\\n",
    "                   FROM PhoneAddress;')\n",
    "    data = cur.fetchall()\n",
    "    print('GET ALL DATA:')\n",
    "    for rec in data:\n",
    "        print(rec)\n",
    "        \n",
    "        \n",
    "    # 使用WHERE 篩選資料\n",
    "    cur.execute('SELECT phone, address, name, age \\\n",
    "                   FROM PhoneAddress WHERE age >= 30;')\n",
    "    data = cur.fetchall()\n",
    "    print('GET AGE ABOVE 30:')\n",
    "    for rec in data:\n",
    "        print(rec)\n",
    "        \n",
    "    # 使用ORDER BY 排序資料: ASC => 由小到大, DESC => 由大到小\n",
    "    cur.execute('SELECT phone, address, name, age \\\n",
    "                   FROM PhoneAddress ORDER BY age DESC;')\n",
    "    data = cur.fetchall()\n",
    "    print('GET DATA BY AGE ORDER:')\n",
    "    for rec in data:\n",
    "        print(rec)\n",
    "        \n",
    "    # 使用LIMIT 限制資料筆數\n",
    "    cur.execute('SELECT phone, address, name, age \\\n",
    "                   FROM PhoneAddress ORDER BY age DESC LIMIT 2;')\n",
    "    data = cur.fetchall()\n",
    "    print('GET 2 DATA BY AGE ORDER:')\n",
    "    for rec in data:\n",
    "        print(rec)"
   ]
  },
  {
   "cell_type": "markdown",
   "metadata": {},
   "source": [
    "## 使用SQL 做資料分析"
   ]
  },
  {
   "cell_type": "code",
   "execution_count": 27,
   "metadata": {},
   "outputs": [
    {
     "name": "stdout",
     "output_type": "stream",
     "text": [
      "GET DATA COUNTS:\n",
      "(4,)\n",
      "GET AVERAGE AGE:\n",
      "(25.0,)\n",
      "GET AGE BY GENDER:\n",
      "('M', 25.0)\n"
     ]
    }
   ],
   "source": [
    "import sqlite3 as lite\n",
    "# 建立連線\n",
    "con = lite.connect('test.sqlite')\n",
    "with con:\n",
    "    # 建立游標 (Cursor)\n",
    "    cur = con.cursor()\n",
    "\n",
    "    # 使用COUNT 統計筆數\n",
    "    cur.execute('SELECT COUNT(*) \\\n",
    "                   FROM PhoneAddress;')    \n",
    "    cnt = cur.fetchone()\n",
    "    print('GET DATA COUNTS:')\n",
    "    print(cnt)\n",
    "    \n",
    "    # 使用AVG 計算平均年齡\n",
    "    cur.execute('SELECT AVG(age) \\\n",
    "                   FROM PhoneAddress;')\n",
    "    age = cur.fetchone()\n",
    "    print('GET AVERAGE AGE:')\n",
    "    print(age)\n",
    "\n",
    "    # 新增性別欄位\n",
    "    cur.execute('ALTER TABLE PhoneAddress \\\n",
    "                   ADD COLUMN gender;')\n",
    "    \n",
    "    cur.execute(\"UPDATE PhoneAddress SET gender = 'M';\")    \n",
    "    # 使用GROUP BY 根據性別計算平均年齡\n",
    "    cur.execute('SELECT gender, AVG(age) \\\n",
    "                   FROM PhoneAddress GROUP BY gender;')\n",
    "    data = cur.fetchall()\n",
    "    print('GET AGE BY GENDER:')\n",
    "    for rec in data:\n",
    "        print(rec)"
   ]
  },
  {
   "cell_type": "markdown",
   "metadata": {},
   "source": [
    "## 將 FIC 資料匯入資料庫"
   ]
  },
  {
   "cell_type": "code",
   "execution_count": 28,
   "metadata": {},
   "outputs": [
    {
     "data": {
      "text/html": [
       "<div>\n",
       "<style>\n",
       "    .dataframe thead tr:only-child th {\n",
       "        text-align: right;\n",
       "    }\n",
       "\n",
       "    .dataframe thead th {\n",
       "        text-align: left;\n",
       "    }\n",
       "\n",
       "    .dataframe tbody tr th {\n",
       "        vertical-align: top;\n",
       "    }\n",
       "</style>\n",
       "<table border=\"1\" class=\"dataframe\">\n",
       "  <thead>\n",
       "    <tr style=\"text-align: right;\">\n",
       "      <th></th>\n",
       "      <th>author</th>\n",
       "      <th>content</th>\n",
       "      <th>dt</th>\n",
       "      <th>source</th>\n",
       "      <th>title</th>\n",
       "    </tr>\n",
       "  </thead>\n",
       "  <tbody>\n",
       "    <tr>\n",
       "      <th>0</th>\n",
       "      <td>kickingbird</td>\n",
       "      <td>2017年8月14日，湘西自治州報告一例人感染H7N9流感確診病例。患者莫某某，48歲，以收...</td>\n",
       "      <td>2017-08-15 11:58:00</td>\n",
       "      <td>湖南省疾病預防控制中心</td>\n",
       "      <td>中國：湖南省湘西自治州報告一例人感染H7N9流感確診病例</td>\n",
       "    </tr>\n",
       "    <tr>\n",
       "      <th>1</th>\n",
       "      <td>kickingbird</td>\n",
       "      <td>衛生署衛生防護中心今日（八月四日）正監察國家衛生和計劃生育委員會通報在七月二十八日至八月三日...</td>\n",
       "      <td>2017-08-05 19:19:00</td>\n",
       "      <td>香港衛生防護中心</td>\n",
       "      <td>中國：香港衛生防護中心獲通報福建人類感染甲型禽流感（H7N9）個案</td>\n",
       "    </tr>\n",
       "    <tr>\n",
       "      <th>2</th>\n",
       "      <td>kickingbird</td>\n",
       "      <td>農業部新聞辦公室8月1日發布，內蒙古自治區通遼市科爾沁區發生一起家禽H5N1亞型高致病性禽流...</td>\n",
       "      <td>2017-08-05 19:16:00</td>\n",
       "      <td>中國農業部</td>\n",
       "      <td>中國：內蒙古自治區通遼市科爾沁區發生一起家禽H5N1亞型高致病性禽流感疫情</td>\n",
       "    </tr>\n",
       "    <tr>\n",
       "      <th>3</th>\n",
       "      <td>kickingbird</td>\n",
       "      <td>有關陽性樣品說明：\\n　 　一、H7亞型禽流感血清學陽性樣品（3018份）\\n　　（一）北京...</td>\n",
       "      <td>2017-07-26 10:34:00</td>\n",
       "      <td>中國農業部</td>\n",
       "      <td>中國：2017年6月全國動物H7N9流感監測情況</td>\n",
       "    </tr>\n",
       "    <tr>\n",
       "      <th>4</th>\n",
       "      <td>kickingbird</td>\n",
       "      <td>香港衛生署衛生防護中心（七月二十一日）正監察國家衛生和計劃生育委員會通報在七月十四至二十日期...</td>\n",
       "      <td>2017-07-23 16:48:00</td>\n",
       "      <td>香港衛生防護中心</td>\n",
       "      <td>中國：香港衛生防護中心獲通報江蘇人類感染甲型禽流感(H7N9)個案</td>\n",
       "    </tr>\n",
       "  </tbody>\n",
       "</table>\n",
       "</div>"
      ],
      "text/plain": [
       "        author                                            content  \\\n",
       "0  kickingbird  2017年8月14日，湘西自治州報告一例人感染H7N9流感確診病例。患者莫某某，48歲，以收...   \n",
       "1  kickingbird  衛生署衛生防護中心今日（八月四日）正監察國家衛生和計劃生育委員會通報在七月二十八日至八月三日...   \n",
       "2  kickingbird  農業部新聞辦公室8月1日發布，內蒙古自治區通遼市科爾沁區發生一起家禽H5N1亞型高致病性禽流...   \n",
       "3  kickingbird  有關陽性樣品說明：\\n　 　一、H7亞型禽流感血清學陽性樣品（3018份）\\n　　（一）北京...   \n",
       "4  kickingbird  香港衛生署衛生防護中心（七月二十一日）正監察國家衛生和計劃生育委員會通報在七月十四至二十日期...   \n",
       "\n",
       "                   dt       source                                  title  \n",
       "0 2017-08-15 11:58:00  湖南省疾病預防控制中心           中國：湖南省湘西自治州報告一例人感染H7N9流感確診病例  \n",
       "1 2017-08-05 19:19:00     香港衛生防護中心      中國：香港衛生防護中心獲通報福建人類感染甲型禽流感（H7N9）個案  \n",
       "2 2017-08-05 19:16:00        中國農業部  中國：內蒙古自治區通遼市科爾沁區發生一起家禽H5N1亞型高致病性禽流感疫情  \n",
       "3 2017-07-26 10:34:00        中國農業部               中國：2017年6月全國動物H7N9流感監測情況  \n",
       "4 2017-07-23 16:48:00     香港衛生防護中心      中國：香港衛生防護中心獲通報江蘇人類感染甲型禽流感(H7N9)個案  "
      ]
     },
     "execution_count": 28,
     "metadata": {},
     "output_type": "execute_result"
    }
   ],
   "source": [
    "import pandas\n",
    "fic = pandas.read_excel('fic.xlsx')\n",
    "fic.head()"
   ]
  },
  {
   "cell_type": "markdown",
   "metadata": {},
   "source": [
    "## 建立資料表"
   ]
  },
  {
   "cell_type": "code",
   "execution_count": 40,
   "metadata": {},
   "outputs": [],
   "source": [
    "import sqlite3 as lite\n",
    "# 建立連線\n",
    "con = lite.connect('test.sqlite')\n",
    "with con:\n",
    "    # 建立游標 (Cursor)\n",
    "    cur = con.cursor()\n",
    "    \n",
    "    # 使用游標捨棄資料表\n",
    "    cur.execute(''' DROP TABLE IF EXISTS fic;\n",
    "                ''')\n",
    "    \n",
    "    # 使用游標建立資料表\n",
    "    cur.execute('''CREATE TABLE fic(\n",
    "                        content TEXT,\n",
    "                        dt      DATETIME,\n",
    "                        source  VARCHAR(100),\n",
    "                        title   TEXT\n",
    "                    );                        \n",
    "                ''')"
   ]
  },
  {
   "cell_type": "markdown",
   "metadata": {},
   "source": [
    "## 使用SQL 新增資料"
   ]
  },
  {
   "cell_type": "code",
   "execution_count": 41,
   "metadata": {},
   "outputs": [],
   "source": [
    "# cur.execute(\"INSERT INTO PhoneAddress(phone, address, name, age)\\\n",
    "# VALUES('0912173381','United State','JhonDoe',53);\")\n",
    "\n",
    "INSERT_STMT = \"INSERT INTO fic(content, source, title, dt) \\\n",
    "                        VALUES('{}','{}','{}','{}')\"\n",
    "for rec in fic.iterrows():\n",
    "    content = rec[1]['content']\n",
    "    source = rec[1]['source']\n",
    "    title = rec[1]['title']\n",
    "    dt = rec[1]['dt']\n",
    "    #print(INSERT_STMT.format(content, source, title, dt))"
   ]
  },
  {
   "cell_type": "markdown",
   "metadata": {},
   "source": [
    "## 使用SQL 新增資料 (II)"
   ]
  },
  {
   "cell_type": "code",
   "execution_count": 42,
   "metadata": {
    "collapsed": true
   },
   "outputs": [],
   "source": [
    "import sqlite3 as lite\n",
    "\n",
    "INSERT_STMT = \"INSERT INTO fic(content, source, title, dt) \\\n",
    "                        VALUES('{}','{}','{}','{}')\"\n",
    "\n",
    "# 建立連線\n",
    "con = lite.connect('test.sqlite')\n",
    "with con:\n",
    "    # 建立游標 (Cursor)\n",
    "    cur = con.cursor()\n",
    "    for rec in fic.iterrows():\n",
    "        content = rec[1]['content']\n",
    "        source = rec[1]['source']\n",
    "        title = rec[1]['title']\n",
    "        dt = rec[1]['dt']\n",
    "        cur.execute(INSERT_STMT.format(content, source, title, dt))"
   ]
  },
  {
   "cell_type": "markdown",
   "metadata": {},
   "source": [
    "## 使用Pandas 將DataFrame 匯入資料庫"
   ]
  },
  {
   "cell_type": "code",
   "execution_count": 44,
   "metadata": {},
   "outputs": [],
   "source": [
    "import sqlite3 as lite\n",
    "# 建立連線\n",
    "con = lite.connect('test.sqlite')\n",
    "with con:\n",
    "    fic.to_sql('fic_data', con = con)"
   ]
  },
  {
   "cell_type": "markdown",
   "metadata": {},
   "source": [
    "## 從資料庫讀取資料"
   ]
  },
  {
   "cell_type": "code",
   "execution_count": 48,
   "metadata": {},
   "outputs": [
    {
     "data": {
      "text/html": [
       "<div>\n",
       "<style>\n",
       "    .dataframe thead tr:only-child th {\n",
       "        text-align: right;\n",
       "    }\n",
       "\n",
       "    .dataframe thead th {\n",
       "        text-align: left;\n",
       "    }\n",
       "\n",
       "    .dataframe tbody tr th {\n",
       "        vertical-align: top;\n",
       "    }\n",
       "</style>\n",
       "<table border=\"1\" class=\"dataframe\">\n",
       "  <thead>\n",
       "    <tr style=\"text-align: right;\">\n",
       "      <th></th>\n",
       "      <th>source</th>\n",
       "      <th>cnt</th>\n",
       "    </tr>\n",
       "  </thead>\n",
       "  <tbody>\n",
       "    <tr>\n",
       "      <th>0</th>\n",
       "      <td>中國農業部</td>\n",
       "      <td>12</td>\n",
       "    </tr>\n",
       "    <tr>\n",
       "      <th>1</th>\n",
       "      <td>河北省衛生計生委</td>\n",
       "      <td>9</td>\n",
       "    </tr>\n",
       "    <tr>\n",
       "      <th>2</th>\n",
       "      <td>重慶市衛生計生委</td>\n",
       "      <td>6</td>\n",
       "    </tr>\n",
       "  </tbody>\n",
       "</table>\n",
       "</div>"
      ],
      "text/plain": [
       "     source  cnt\n",
       "0     中國農業部   12\n",
       "1  河北省衛生計生委    9\n",
       "2  重慶市衛生計生委    6"
      ]
     },
     "execution_count": 48,
     "metadata": {},
     "output_type": "execute_result"
    }
   ],
   "source": [
    "import pandas\n",
    "# 建立連線\n",
    "con = lite.connect('test.sqlite')\n",
    "with con:\n",
    "    df2 = pandas.read_sql_query('select source, count(*)as cnt from fic_data group by source order by count(*) desc limit 3', con = con)\n",
    "df2"
   ]
  },
  {
   "cell_type": "markdown",
   "metadata": {},
   "source": [
    "## 使用資料庫管理 OIE 資料"
   ]
  },
  {
   "cell_type": "code",
   "execution_count": 142,
   "metadata": {},
   "outputs": [
    {
     "name": "stderr",
     "output_type": "stream",
     "text": [
      "C:\\ProgramData\\Anaconda3\\lib\\site-packages\\ipykernel_launcher.py:31: DeprecationWarning: \n",
      ".ix is deprecated. Please use\n",
      ".loc for label based indexing or\n",
      ".iloc for positional indexing\n",
      "\n",
      "See the documentation here:\n",
      "http://pandas.pydata.org/pandas-docs/stable/indexing.html#deprecate_ix\n"
     ]
    },
    {
     "data": {
      "text/html": [
       "<div>\n",
       "<style>\n",
       "    .dataframe thead tr:only-child th {\n",
       "        text-align: right;\n",
       "    }\n",
       "\n",
       "    .dataframe thead th {\n",
       "        text-align: left;\n",
       "    }\n",
       "\n",
       "    .dataframe tbody tr th {\n",
       "        vertical-align: top;\n",
       "    }\n",
       "</style>\n",
       "<table border=\"1\" class=\"dataframe\">\n",
       "  <thead>\n",
       "    <tr style=\"text-align: right;\">\n",
       "      <th></th>\n",
       "      <th>reportID</th>\n",
       "      <th>reportURL</th>\n",
       "      <th>search_time</th>\n",
       "      <th>country</th>\n",
       "    </tr>\n",
       "  </thead>\n",
       "  <tbody>\n",
       "    <tr>\n",
       "      <th>1</th>\n",
       "      <td>21433</td>\n",
       "      <td>http://www.oie.int/wahis_2/public/wahid.php/Re...</td>\n",
       "      <td>2017-09-20 16:21:56.849711</td>\n",
       "      <td>Algeria</td>\n",
       "    </tr>\n",
       "    <tr>\n",
       "      <th>1</th>\n",
       "      <td>21489</td>\n",
       "      <td>http://www.oie.int/wahis_2/public/wahid.php/Re...</td>\n",
       "      <td>2017-09-20 16:22:05.662071</td>\n",
       "      <td>Austria</td>\n",
       "    </tr>\n",
       "    <tr>\n",
       "      <th>1</th>\n",
       "      <td>21520</td>\n",
       "      <td>http://www.oie.int/wahis_2/public/wahid.php/Re...</td>\n",
       "      <td>2017-09-20 16:22:13.702123</td>\n",
       "      <td>Austria</td>\n",
       "    </tr>\n",
       "    <tr>\n",
       "      <th>1</th>\n",
       "      <td>22467</td>\n",
       "      <td>http://www.oie.int/wahis_2/public/wahid.php/Re...</td>\n",
       "      <td>2017-09-20 16:22:19.561161</td>\n",
       "      <td>Bangladesh</td>\n",
       "    </tr>\n",
       "    <tr>\n",
       "      <th>1</th>\n",
       "      <td>24102</td>\n",
       "      <td>http://www.oie.int/wahis_2/public/wahid.php/Re...</td>\n",
       "      <td>2017-09-20 16:22:26.176604</td>\n",
       "      <td>Belgium</td>\n",
       "    </tr>\n",
       "  </tbody>\n",
       "</table>\n",
       "</div>"
      ],
      "text/plain": [
       "  reportID                                          reportURL  \\\n",
       "1    21433  http://www.oie.int/wahis_2/public/wahid.php/Re...   \n",
       "1    21489  http://www.oie.int/wahis_2/public/wahid.php/Re...   \n",
       "1    21520  http://www.oie.int/wahis_2/public/wahid.php/Re...   \n",
       "1    22467  http://www.oie.int/wahis_2/public/wahid.php/Re...   \n",
       "1    24102  http://www.oie.int/wahis_2/public/wahid.php/Re...   \n",
       "\n",
       "                 search_time     country  \n",
       "1 2017-09-20 16:21:56.849711     Algeria  \n",
       "1 2017-09-20 16:22:05.662071     Austria  \n",
       "1 2017-09-20 16:22:13.702123     Austria  \n",
       "1 2017-09-20 16:22:19.561161  Bangladesh  \n",
       "1 2017-09-20 16:22:26.176604     Belgium  "
      ]
     },
     "execution_count": 142,
     "metadata": {},
     "output_type": "execute_result"
    }
   ],
   "source": [
    "import requests\n",
    "from bs4 import BeautifulSoup\n",
    "from datetime import datetime\n",
    "import re\n",
    "\n",
    "\n",
    "url = 'http://www.oie.int/wahis_2/public/wahid.php/Diseaseinformation/Immsummary'\n",
    "reportURL = 'http://www.oie.int/wahis_2/public/wahid.php/Reviewreport/Review?page_refer=MapFullEventReport&reportid={}'\n",
    "payload = {\n",
    "'disease_type_hidden':'0',\n",
    "'disease_id_hidden':'15',\n",
    "'selected_disease_name_hidden':'Highly path. avian influenza (- -) ',\n",
    "'disease_type':'0',\n",
    "'disease_id_terrestrial':'15',\n",
    "'disease_id_aquatic':'-999',\n",
    "'year':'2017'\n",
    "}\n",
    "\n",
    "def getReportDetail(reportID):\n",
    "    url  = reportURL.format(reportID)\n",
    "    res  = requests.get(url)\n",
    "    soup = BeautifulSoup(res.text, 'html.parser')\n",
    "    country = soup.select('.Rap12-Subtitle')[0].contents[-1]\n",
    "    \n",
    "    # 使用prettify 可將 tag 轉換成字串\n",
    "    dfs  = pandas.read_html(soup.select('.TableFoyers')[0].prettify())\n",
    "    \n",
    "    # 將資料轉置\n",
    "    df = dfs[0].T\n",
    "    # 將第一列變成欄位名\n",
    "    df.columns = df.ix[0,]\n",
    "    # 將第一列刪除\n",
    "    df = df.drop(0)\n",
    "    # 增添國家資訊\n",
    "    df['country'] = country\n",
    "    \n",
    "    # 增添抓取時間\n",
    "    df['search_time'] = datetime.now()\n",
    "    \n",
    "    #增添reportID\n",
    "    df['reportID']  = reportID\n",
    "    \n",
    "    # 增添 reportURL\n",
    "    df['reportURL'] = url\n",
    "    return df\n",
    "\n",
    "\n",
    "\n",
    "res = requests.post(url, data=payload)\n",
    "soup = BeautifulSoup(res.text, 'html.parser')\n",
    "alinks = soup.select('.vacborder a')\n",
    "\n",
    "cnt = 0\n",
    "report_ary = []\n",
    "for link in alinks:\n",
    "    if 'MapFullEventReport' in link['href']:\n",
    "        # method 1: use split and strip\n",
    "        reportid = link['href'].split(',',)[1].strip(');')\n",
    "        report_ary.append(getReportDetail(reportid))\n",
    "        \n",
    "        # 當取得第五份報告時, 停止, 如果要取得所有報告, 就把下面程式碼拿掉\n",
    "        cnt = cnt + 1\n",
    "        if cnt == 5:\n",
    "            break\n",
    "\n",
    "reportdf = pandas.concat(report_ary)\n",
    "reportdf.columns\n",
    "reportdf = reportdf[(['reportID', 'reportURL', 'search_time', 'Causal agent', 'Date event resolved',\n",
    "       'Date of confirmation of the event', 'Date of previous occurrence',\n",
    "       'Date of start of the event', 'Date submitted to OIE',\n",
    "       'Manifestation of disease', 'Nature of diagnosis',\n",
    "       'Reason for notification', 'Related reports', 'Report date',\n",
    "       'Report type', 'Serotype', 'This event pertains to', 'country'])]\n",
    "reportdf = reportdf[(['reportID', 'reportURL', 'search_time', 'country'])]\n",
    "reportdf.head()\n"
   ]
  },
  {
   "cell_type": "markdown",
   "metadata": {},
   "source": [
    "## 使用Pandas 匯入整批資料"
   ]
  },
  {
   "cell_type": "code",
   "execution_count": 143,
   "metadata": {},
   "outputs": [
    {
     "ename": "ValueError",
     "evalue": "Table 'OIE' already exists.",
     "output_type": "error",
     "traceback": [
      "\u001b[1;31m---------------------------------------------------------------------------\u001b[0m",
      "\u001b[1;31mValueError\u001b[0m                                Traceback (most recent call last)",
      "\u001b[1;32m<ipython-input-143-00f447924131>\u001b[0m in \u001b[0;36m<module>\u001b[1;34m()\u001b[0m\n\u001b[0;32m      3\u001b[0m \u001b[0mcon\u001b[0m \u001b[1;33m=\u001b[0m \u001b[0mlite\u001b[0m\u001b[1;33m.\u001b[0m\u001b[0mconnect\u001b[0m\u001b[1;33m(\u001b[0m\u001b[1;34m'test.sqlite'\u001b[0m\u001b[1;33m)\u001b[0m\u001b[1;33m\u001b[0m\u001b[0m\n\u001b[0;32m      4\u001b[0m \u001b[1;32mwith\u001b[0m \u001b[0mcon\u001b[0m\u001b[1;33m:\u001b[0m\u001b[1;33m\u001b[0m\u001b[0m\n\u001b[1;32m----> 5\u001b[1;33m     \u001b[0mreportdf\u001b[0m\u001b[1;33m.\u001b[0m\u001b[0mto_sql\u001b[0m\u001b[1;33m(\u001b[0m\u001b[1;34m'OIE'\u001b[0m\u001b[1;33m,\u001b[0m \u001b[0mcon\u001b[0m \u001b[1;33m=\u001b[0m \u001b[0mcon\u001b[0m\u001b[1;33m)\u001b[0m\u001b[1;33m\u001b[0m\u001b[0m\n\u001b[0m",
      "\u001b[1;32mC:\\ProgramData\\Anaconda3\\lib\\site-packages\\pandas\\core\\generic.py\u001b[0m in \u001b[0;36mto_sql\u001b[1;34m(self, name, con, flavor, schema, if_exists, index, index_label, chunksize, dtype)\u001b[0m\n\u001b[0;32m   1343\u001b[0m         sql.to_sql(self, name, con, flavor=flavor, schema=schema,\n\u001b[0;32m   1344\u001b[0m                    \u001b[0mif_exists\u001b[0m\u001b[1;33m=\u001b[0m\u001b[0mif_exists\u001b[0m\u001b[1;33m,\u001b[0m \u001b[0mindex\u001b[0m\u001b[1;33m=\u001b[0m\u001b[0mindex\u001b[0m\u001b[1;33m,\u001b[0m \u001b[0mindex_label\u001b[0m\u001b[1;33m=\u001b[0m\u001b[0mindex_label\u001b[0m\u001b[1;33m,\u001b[0m\u001b[1;33m\u001b[0m\u001b[0m\n\u001b[1;32m-> 1345\u001b[1;33m                    chunksize=chunksize, dtype=dtype)\n\u001b[0m\u001b[0;32m   1346\u001b[0m \u001b[1;33m\u001b[0m\u001b[0m\n\u001b[0;32m   1347\u001b[0m     \u001b[1;32mdef\u001b[0m \u001b[0mto_pickle\u001b[0m\u001b[1;33m(\u001b[0m\u001b[0mself\u001b[0m\u001b[1;33m,\u001b[0m \u001b[0mpath\u001b[0m\u001b[1;33m,\u001b[0m \u001b[0mcompression\u001b[0m\u001b[1;33m=\u001b[0m\u001b[1;34m'infer'\u001b[0m\u001b[1;33m)\u001b[0m\u001b[1;33m:\u001b[0m\u001b[1;33m\u001b[0m\u001b[0m\n",
      "\u001b[1;32mC:\\ProgramData\\Anaconda3\\lib\\site-packages\\pandas\\io\\sql.py\u001b[0m in \u001b[0;36mto_sql\u001b[1;34m(frame, name, con, flavor, schema, if_exists, index, index_label, chunksize, dtype)\u001b[0m\n\u001b[0;32m    469\u001b[0m     pandas_sql.to_sql(frame, name, if_exists=if_exists, index=index,\n\u001b[0;32m    470\u001b[0m                       \u001b[0mindex_label\u001b[0m\u001b[1;33m=\u001b[0m\u001b[0mindex_label\u001b[0m\u001b[1;33m,\u001b[0m \u001b[0mschema\u001b[0m\u001b[1;33m=\u001b[0m\u001b[0mschema\u001b[0m\u001b[1;33m,\u001b[0m\u001b[1;33m\u001b[0m\u001b[0m\n\u001b[1;32m--> 471\u001b[1;33m                       chunksize=chunksize, dtype=dtype)\n\u001b[0m\u001b[0;32m    472\u001b[0m \u001b[1;33m\u001b[0m\u001b[0m\n\u001b[0;32m    473\u001b[0m \u001b[1;33m\u001b[0m\u001b[0m\n",
      "\u001b[1;32mC:\\ProgramData\\Anaconda3\\lib\\site-packages\\pandas\\io\\sql.py\u001b[0m in \u001b[0;36mto_sql\u001b[1;34m(self, frame, name, if_exists, index, index_label, schema, chunksize, dtype)\u001b[0m\n\u001b[0;32m   1503\u001b[0m                             \u001b[0mif_exists\u001b[0m\u001b[1;33m=\u001b[0m\u001b[0mif_exists\u001b[0m\u001b[1;33m,\u001b[0m \u001b[0mindex_label\u001b[0m\u001b[1;33m=\u001b[0m\u001b[0mindex_label\u001b[0m\u001b[1;33m,\u001b[0m\u001b[1;33m\u001b[0m\u001b[0m\n\u001b[0;32m   1504\u001b[0m                             dtype=dtype)\n\u001b[1;32m-> 1505\u001b[1;33m         \u001b[0mtable\u001b[0m\u001b[1;33m.\u001b[0m\u001b[0mcreate\u001b[0m\u001b[1;33m(\u001b[0m\u001b[1;33m)\u001b[0m\u001b[1;33m\u001b[0m\u001b[0m\n\u001b[0m\u001b[0;32m   1506\u001b[0m         \u001b[0mtable\u001b[0m\u001b[1;33m.\u001b[0m\u001b[0minsert\u001b[0m\u001b[1;33m(\u001b[0m\u001b[0mchunksize\u001b[0m\u001b[1;33m)\u001b[0m\u001b[1;33m\u001b[0m\u001b[0m\n\u001b[0;32m   1507\u001b[0m \u001b[1;33m\u001b[0m\u001b[0m\n",
      "\u001b[1;32mC:\\ProgramData\\Anaconda3\\lib\\site-packages\\pandas\\io\\sql.py\u001b[0m in \u001b[0;36mcreate\u001b[1;34m(self)\u001b[0m\n\u001b[0;32m    586\u001b[0m         \u001b[1;32mif\u001b[0m \u001b[0mself\u001b[0m\u001b[1;33m.\u001b[0m\u001b[0mexists\u001b[0m\u001b[1;33m(\u001b[0m\u001b[1;33m)\u001b[0m\u001b[1;33m:\u001b[0m\u001b[1;33m\u001b[0m\u001b[0m\n\u001b[0;32m    587\u001b[0m             \u001b[1;32mif\u001b[0m \u001b[0mself\u001b[0m\u001b[1;33m.\u001b[0m\u001b[0mif_exists\u001b[0m \u001b[1;33m==\u001b[0m \u001b[1;34m'fail'\u001b[0m\u001b[1;33m:\u001b[0m\u001b[1;33m\u001b[0m\u001b[0m\n\u001b[1;32m--> 588\u001b[1;33m                 \u001b[1;32mraise\u001b[0m \u001b[0mValueError\u001b[0m\u001b[1;33m(\u001b[0m\u001b[1;34m\"Table '%s' already exists.\"\u001b[0m \u001b[1;33m%\u001b[0m \u001b[0mself\u001b[0m\u001b[1;33m.\u001b[0m\u001b[0mname\u001b[0m\u001b[1;33m)\u001b[0m\u001b[1;33m\u001b[0m\u001b[0m\n\u001b[0m\u001b[0;32m    589\u001b[0m             \u001b[1;32melif\u001b[0m \u001b[0mself\u001b[0m\u001b[1;33m.\u001b[0m\u001b[0mif_exists\u001b[0m \u001b[1;33m==\u001b[0m \u001b[1;34m'replace'\u001b[0m\u001b[1;33m:\u001b[0m\u001b[1;33m\u001b[0m\u001b[0m\n\u001b[0;32m    590\u001b[0m                 \u001b[0mself\u001b[0m\u001b[1;33m.\u001b[0m\u001b[0mpd_sql\u001b[0m\u001b[1;33m.\u001b[0m\u001b[0mdrop_table\u001b[0m\u001b[1;33m(\u001b[0m\u001b[0mself\u001b[0m\u001b[1;33m.\u001b[0m\u001b[0mname\u001b[0m\u001b[1;33m,\u001b[0m \u001b[0mself\u001b[0m\u001b[1;33m.\u001b[0m\u001b[0mschema\u001b[0m\u001b[1;33m)\u001b[0m\u001b[1;33m\u001b[0m\u001b[0m\n",
      "\u001b[1;31mValueError\u001b[0m: Table 'OIE' already exists."
     ]
    }
   ],
   "source": [
    "import pandas\n",
    "import sqlite3 as lite\n",
    "con = lite.connect('test.sqlite')\n",
    "with con:\n",
    "    reportdf.to_sql('OIE', con = con)"
   ]
  },
  {
   "cell_type": "markdown",
   "metadata": {},
   "source": [
    "## 手動建立表格"
   ]
  },
  {
   "cell_type": "code",
   "execution_count": 138,
   "metadata": {
    "collapsed": true
   },
   "outputs": [],
   "source": [
    "import sqlite3 as lite\n",
    "# 建立連線\n",
    "con = lite.connect('test.sqlite')\n",
    "with con:\n",
    "    # 建立游標 (Cursor)\n",
    "    cur = con.cursor()\n",
    "    \n",
    "    # 使用游標捨棄資料表\n",
    "    cur.execute(''' DROP TABLE IF EXISTS OIE;\n",
    "                ''')\n",
    "    \n",
    "    # 使用游標建立資料表\n",
    "    cur.execute('''CREATE TABLE \"OIE\" (\n",
    "                  \"reportID\" TEXT PRIMARY KEY,\n",
    "                  \"reportURL\" TEXT,\n",
    "                  \"search_time\" TIMESTAMP,\n",
    "                  \"country\" TEXT\n",
    "                )                       \n",
    "                ''')"
   ]
  },
  {
   "cell_type": "code",
   "execution_count": 139,
   "metadata": {
    "collapsed": true
   },
   "outputs": [],
   "source": [
    "reportdf = pandas.concat(report_ary)\n",
    "reportdf.columns\n",
    "reportdf = reportdf[(['reportID', 'reportURL', 'search_time', 'Causal agent', 'Date event resolved',\n",
    "       'Date of confirmation of the event', 'Date of previous occurrence',\n",
    "       'Date of start of the event', 'Date submitted to OIE',\n",
    "       'Manifestation of disease', 'Nature of diagnosis',\n",
    "       'Reason for notification', 'Related reports', 'Report date',\n",
    "       'Report type', 'Serotype', 'This event pertains to', 'country'])]\n",
    "\n",
    "reportdf = reportdf[(['reportID', 'reportURL', 'search_time', 'country'])]"
   ]
  },
  {
   "cell_type": "code",
   "execution_count": 141,
   "metadata": {},
   "outputs": [],
   "source": [
    "import pandas\n",
    "import sqlite3 as lite\n",
    "con = lite.connect('test.sqlite')\n",
    "with con:\n",
    "    reportdf.to_sql('OIE', con = con, if_exists='append', index = None)"
   ]
  },
  {
   "cell_type": "markdown",
   "metadata": {},
   "source": [
    "##  PANDAS 只能塞整批資料"
   ]
  },
  {
   "cell_type": "code",
   "execution_count": 116,
   "metadata": {},
   "outputs": [],
   "source": [
    "import sqlite3 as lite\n",
    "# 建立連線\n",
    "con = lite.connect('test.sqlite')\n",
    "with con:\n",
    "    reportdf.to_sql('OIE', con = con, if_exists='replace', index=None)"
   ]
  },
  {
   "cell_type": "markdown",
   "metadata": {},
   "source": [
    "## 使用SQLIte 一筆一筆塞"
   ]
  },
  {
   "cell_type": "code",
   "execution_count": 144,
   "metadata": {},
   "outputs": [],
   "source": [
    "reportdf['search_time'] = reportdf['search_time'].dt.strftime('%Y-%m-%d %H:%M%:%S')"
   ]
  },
  {
   "cell_type": "code",
   "execution_count": 145,
   "metadata": {},
   "outputs": [
    {
     "name": "stdout",
     "output_type": "stream",
     "text": [
      "1\n",
      "1\n",
      "1\n",
      "1\n"
     ]
    }
   ],
   "source": [
    "import sqlite3 as lite\n",
    "\n",
    "INSERT_STMT = 'INSERT INTO OIE({}) VALUES({})'\n",
    "#reportdf['search_time'] = reportdf['search_time'].dt.strftime('%Y-%m-%d')\n",
    "# 建立連線\n",
    "con = lite.connect('test.sqlite')\n",
    "with con:\n",
    "    # 建立游標 (Cursor)\n",
    "    cur = con.cursor()\n",
    "    \n",
    "    for rec in reportdf.iterrows():\n",
    "        try:\n",
    "            data = rec[1].to_dict()\n",
    "\n",
    "            columns = ', '.join(['\"{}\"'.format(ele) for ele in data.keys()])\n",
    "            placeholder = ', '.join(['\"{}\"'.format(ele) for ele in data.values()])\n",
    "            SQL = INSERT_STMT.format(columns, placeholder)\n",
    "            #print(SQL)\n",
    "            cur.execute(SQL)\n",
    "        except:\n",
    "            print(rec[0])\n",
    "            "
   ]
  },
  {
   "cell_type": "code",
   "execution_count": null,
   "metadata": {
    "collapsed": true
   },
   "outputs": [],
   "source": []
  }
 ],
 "metadata": {
  "kernelspec": {
   "display_name": "Python 3",
   "language": "python",
   "name": "python3"
  },
  "language_info": {
   "codemirror_mode": {
    "name": "ipython",
    "version": 3
   },
   "file_extension": ".py",
   "mimetype": "text/x-python",
   "name": "python",
   "nbconvert_exporter": "python",
   "pygments_lexer": "ipython3",
   "version": "3.6.1"
  }
 },
 "nbformat": 4,
 "nbformat_minor": 2
}
