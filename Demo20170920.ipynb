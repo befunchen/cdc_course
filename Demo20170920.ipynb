{
 "cells": [
  {
   "cell_type": "code",
   "execution_count": 2,
   "metadata": {
    "collapsed": true
   },
   "outputs": [],
   "source": [
    "import sqlite3 as lite\n",
    "con = lite.connect('test.sqlite')\n",
    "con.close()"
   ]
  },
  {
   "cell_type": "code",
   "execution_count": 4,
   "metadata": {},
   "outputs": [
    {
     "name": "stdout",
     "output_type": "stream",
     "text": [
      "('3.14.2',)\n"
     ]
    }
   ],
   "source": [
    "import sqlite3 as lite\n",
    "# 建立連線\n",
    "con = lite.connect('test.sqlite')\n",
    "with con:\n",
    "    # 建立游標 (Cursor)\n",
    "    cur = con.cursor()\n",
    "    # 使用游標檢視資料\n",
    "    cur.execute('SELECT SQLITE_VERSION();')\n",
    "    # 拿取游標選取到的資料\n",
    "    data = cur.fetchone()\n",
    "    print(data)"
   ]
  },
  {
   "cell_type": "markdown",
   "metadata": {},
   "source": [
    "## 資料庫CRUD 操作"
   ]
  },
  {
   "cell_type": "code",
   "execution_count": 10,
   "metadata": {},
   "outputs": [
    {
     "name": "stdout",
     "output_type": "stream",
     "text": [
      "[('0912173381', 'United State', 'JhonDoe', 53), ('0928375018', 'Tokyo Japan', 'MuMuCat', 6), ('0957209108', 'Taipei', 'Richard', 29)]\n"
     ]
    }
   ],
   "source": [
    "import sqlite3 as lite\n",
    "# 建立連線\n",
    "con = lite.connect('test.sqlite')\n",
    "with con:\n",
    "    # 建立游標 (Cursor)\n",
    "    cur = con.cursor()\n",
    "    \n",
    "    # 使用游標捨棄資料表\n",
    "    cur.execute(''' DROP TABLE IF EXISTS PhoneAddress;\n",
    "                ''')\n",
    "    \n",
    "    # 使用游標建立資料表\n",
    "    cur.execute('''CREATE TABLE PhoneAddress(\n",
    "                        phone   CHAR(10) PRIMARY KEY,\n",
    "                        address TEXT,\n",
    "                        name    TEXT NOT NULL,\n",
    "                        age     INT NOT NULL\n",
    "                    );                        \n",
    "                ''')\n",
    "    \n",
    "    # 使用游標新增資料\n",
    "    cur.execute(\"INSERT INTO PhoneAddress(phone, address, name, age)\\\n",
    "                 VALUES('0912173381','United State','JhonDoe',53);\")\n",
    "    cur.execute(\"INSERT INTO PhoneAddress(phone, address, name, age)\\\n",
    "                 VALUES('0928375018','Tokyo Japan','MuMuCat',6);\")\n",
    "    cur.execute(\"INSERT INTO PhoneAddress(phone, address, name, age)\\\n",
    "                 VALUES('0957209108','Taipei','Richard',29);\")\n",
    "    \n",
    "    # 拿取游標撈取資料\n",
    "    cur.execute('SELECT * FROM PhoneAddress;')\n",
    "    \n",
    "    data = cur.fetchall()\n",
    "    print(data)"
   ]
  },
  {
   "cell_type": "code",
   "execution_count": 12,
   "metadata": {},
   "outputs": [
    {
     "name": "stdout",
     "output_type": "stream",
     "text": [
      "BEFORE UPDATE: [('0912173381', 'United State', 'JhonDoe', 53), ('0928375018', 'Tokyo Japan', 'MuMuCat', 6), ('0957209108', 'Chiayi', 'Richard', 29)]\n",
      "AFTER UPDATE: [('0912173381', 'United State', 'JhonDoe', 53), ('0928375018', 'Tokyo Japan', 'MuMuCat', 6), ('0957209108', 'Shenjian', 'Richard', 29)]\n"
     ]
    }
   ],
   "source": [
    "import sqlite3 as lite\n",
    "# 建立連線\n",
    "con = lite.connect('test.sqlite')\n",
    "with con:\n",
    "    # 建立游標 (Cursor)\n",
    "    cur = con.cursor()\n",
    "    \n",
    "    # 拿取游標撈取資料\n",
    "    cur.execute('SELECT * FROM PhoneAddress;')\n",
    "    \n",
    "    data = cur.fetchall()\n",
    "    print('BEFORE UPDATE:', data)\n",
    "    \n",
    "    # 使用游標新增資料\n",
    "    cur.execute(\"UPDATE PhoneAddress SET address = 'Shenjian' \\\n",
    "                WHERE phone = '0957209108'; \")\n",
    "    \n",
    "    # 拿取游標撈取資料\n",
    "    cur.execute('SELECT * FROM PhoneAddress;')\n",
    "    \n",
    "    data = cur.fetchall()\n",
    "    print('AFTER UPDATE:', data)"
   ]
  },
  {
   "cell_type": "code",
   "execution_count": null,
   "metadata": {
    "collapsed": true
   },
   "outputs": [],
   "source": []
  }
 ],
 "metadata": {
  "kernelspec": {
   "display_name": "Python 3",
   "language": "python",
   "name": "python3"
  },
  "language_info": {
   "codemirror_mode": {
    "name": "ipython",
    "version": 3
   },
   "file_extension": ".py",
   "mimetype": "text/x-python",
   "name": "python",
   "nbconvert_exporter": "python",
   "pygments_lexer": "ipython3",
   "version": "3.6.1"
  }
 },
 "nbformat": 4,
 "nbformat_minor": 2
}
