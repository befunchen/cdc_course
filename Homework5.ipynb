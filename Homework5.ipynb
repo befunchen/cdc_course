{
 "cells": [
  {
   "cell_type": "markdown",
   "metadata": {},
   "source": [
    "### 您以經寫了一個爬蟲可以抓取世界衛生組織2017年的疫情爆發新聞，目前已經將資料整理在一 csv 檔 ( https://raw.githubusercontent.com/ywchiu/cdc_course/master/data/who_sample.xlsx )，資料範例如下方表格，為了能讓抓取下來的國際疫情資料變得更好分析，請："
   ]
  },
  {
   "cell_type": "code",
   "execution_count": 24,
   "metadata": {},
   "outputs": [
    {
     "data": {
      "text/html": [
       "<div>\n",
       "<table border=\"1\" class=\"dataframe\">\n",
       "  <thead>\n",
       "    <tr style=\"text-align: right;\">\n",
       "      <th></th>\n",
       "      <th>date</th>\n",
       "      <th>link</th>\n",
       "      <th>title</th>\n",
       "    </tr>\n",
       "  </thead>\n",
       "  <tbody>\n",
       "    <tr>\n",
       "      <th>0</th>\n",
       "      <td>6 September 2017</td>\n",
       "      <td>http://www.who.int/entity/csr/don/6-september-...</td>\n",
       "      <td>Middle East respiratory syndrome coronavirus (...</td>\n",
       "    </tr>\n",
       "    <tr>\n",
       "      <th>1</th>\n",
       "      <td>5 September 2017</td>\n",
       "      <td>http://www.who.int/entity/csr/don/5-september-...</td>\n",
       "      <td>Human infection with avian influenza A(H7N9) v...</td>\n",
       "    </tr>\n",
       "    <tr>\n",
       "      <th>2</th>\n",
       "      <td>30 August 2017</td>\n",
       "      <td>http://www.who.int/entity/csr/don/30-august-20...</td>\n",
       "      <td>Yellow fever ??? France ??? French Guiana</td>\n",
       "    </tr>\n",
       "  </tbody>\n",
       "</table>\n",
       "</div>"
      ],
      "text/plain": [
       "               date                                               link  \\\n",
       "0  6 September 2017  http://www.who.int/entity/csr/don/6-september-...   \n",
       "1  5 September 2017  http://www.who.int/entity/csr/don/5-september-...   \n",
       "2    30 August 2017  http://www.who.int/entity/csr/don/30-august-20...   \n",
       "\n",
       "                                               title  \n",
       "0  Middle East respiratory syndrome coronavirus (...  \n",
       "1  Human infection with avian influenza A(H7N9) v...  \n",
       "2          Yellow fever ??? France ??? French Guiana  "
      ]
     },
     "execution_count": 24,
     "metadata": {},
     "output_type": "execute_result"
    }
   ],
   "source": []
  },
  {
   "cell_type": "markdown",
   "metadata": {
    "collapsed": true
   },
   "source": [
    "1. 使用Pandas 讀取 excel 的資料，並將資料放置一名為who 的DataFrame 之中\n",
    "2. 抽取出標題(title)中所敘述的疾病名稱，並將該疾病另存成一名為disease 的欄位\n",
    "   - e.g. Human infection with avian influenza A(H7N9) virus – China 須抽取出 H7N9 並將之放入disease 欄位\n",
    "3. 使用pandas 的to_datetime 功能將date 欄位從字串格式(object)轉換為時間格式(datetime)\n",
    "4. 根據新聞月份統計各疾病(disease)出現數量\n",
    "\n"
   ]
  },
  {
   "cell_type": "markdown",
   "metadata": {
    "collapsed": true
   },
   "source": [
    "## 答案一"
   ]
  },
  {
   "cell_type": "code",
   "execution_count": 2,
   "metadata": {},
   "outputs": [
    {
     "data": {
      "text/html": [
       "<div>\n",
       "<style>\n",
       "    .dataframe thead tr:only-child th {\n",
       "        text-align: right;\n",
       "    }\n",
       "\n",
       "    .dataframe thead th {\n",
       "        text-align: left;\n",
       "    }\n",
       "\n",
       "    .dataframe tbody tr th {\n",
       "        vertical-align: top;\n",
       "    }\n",
       "</style>\n",
       "<table border=\"1\" class=\"dataframe\">\n",
       "  <thead>\n",
       "    <tr style=\"text-align: right;\">\n",
       "      <th></th>\n",
       "      <th>date</th>\n",
       "      <th>link</th>\n",
       "      <th>title</th>\n",
       "    </tr>\n",
       "  </thead>\n",
       "  <tbody>\n",
       "    <tr>\n",
       "      <th>0</th>\n",
       "      <td>6 September 2017</td>\n",
       "      <td>http://www.who.int/entity/csr/don/6-september-...</td>\n",
       "      <td>Middle East respiratory syndrome coronavirus (...</td>\n",
       "    </tr>\n",
       "    <tr>\n",
       "      <th>1</th>\n",
       "      <td>5 September 2017</td>\n",
       "      <td>http://www.who.int/entity/csr/don/5-september-...</td>\n",
       "      <td>Human infection with avian influenza A(H7N9) v...</td>\n",
       "    </tr>\n",
       "    <tr>\n",
       "      <th>2</th>\n",
       "      <td>30 August 2017</td>\n",
       "      <td>http://www.who.int/entity/csr/don/30-august-20...</td>\n",
       "      <td>Yellow fever ??? France ??? French Guiana</td>\n",
       "    </tr>\n",
       "    <tr>\n",
       "      <th>3</th>\n",
       "      <td>28 August 2017</td>\n",
       "      <td>http://www.who.int/entity/csr/don/28-august-20...</td>\n",
       "      <td>Middle East respiratory syndrome coronavirus (...</td>\n",
       "    </tr>\n",
       "    <tr>\n",
       "      <th>4</th>\n",
       "      <td>25 August 2017</td>\n",
       "      <td>http://www.who.int/entity/csr/don/25-august-20...</td>\n",
       "      <td>Chikungunya ??? France</td>\n",
       "    </tr>\n",
       "  </tbody>\n",
       "</table>\n",
       "</div>"
      ],
      "text/plain": [
       "               date                                               link  \\\n",
       "0  6 September 2017  http://www.who.int/entity/csr/don/6-september-...   \n",
       "1  5 September 2017  http://www.who.int/entity/csr/don/5-september-...   \n",
       "2    30 August 2017  http://www.who.int/entity/csr/don/30-august-20...   \n",
       "3    28 August 2017  http://www.who.int/entity/csr/don/28-august-20...   \n",
       "4    25 August 2017  http://www.who.int/entity/csr/don/25-august-20...   \n",
       "\n",
       "                                               title  \n",
       "0  Middle East respiratory syndrome coronavirus (...  \n",
       "1  Human infection with avian influenza A(H7N9) v...  \n",
       "2          Yellow fever ??? France ??? French Guiana  \n",
       "3  Middle East respiratory syndrome coronavirus (...  \n",
       "4                             Chikungunya ??? France  "
      ]
     },
     "execution_count": 2,
     "metadata": {},
     "output_type": "execute_result"
    }
   ],
   "source": [
    "import pandas\n",
    "who = pandas.read_excel('who_sample.xlsx')\n",
    "who.head()"
   ]
  },
  {
   "cell_type": "markdown",
   "metadata": {},
   "source": [
    "## 答案二"
   ]
  },
  {
   "cell_type": "code",
   "execution_count": 7,
   "metadata": {},
   "outputs": [
    {
     "data": {
      "text/plain": [
       "'H7N9'"
      ]
     },
     "execution_count": 7,
     "metadata": {},
     "output_type": "execute_result"
    }
   ],
   "source": [
    "s = 'Human infection with avian influenza A(H7N9) virus – China ' \n",
    "\n",
    "import re\n",
    "m = re.search('\\((.+)\\)', s)\n",
    "m.group(1)"
   ]
  },
  {
   "cell_type": "code",
   "execution_count": 9,
   "metadata": {},
   "outputs": [],
   "source": [
    "who['disease'] = who['title'].str.extract('\\((.+)\\)', expand=False)"
   ]
  },
  {
   "cell_type": "code",
   "execution_count": 11,
   "metadata": {},
   "outputs": [],
   "source": [
    "#who"
   ]
  },
  {
   "cell_type": "markdown",
   "metadata": {},
   "source": [
    "## 答案三"
   ]
  },
  {
   "cell_type": "markdown",
   "metadata": {},
   "source": [
    "### 參考 strptime 符號用法\n",
    "- https://docs.python.org/3/library/datetime.html#strftime-and-strptime-behavior"
   ]
  },
  {
   "cell_type": "code",
   "execution_count": 15,
   "metadata": {},
   "outputs": [
    {
     "data": {
      "text/plain": [
       "datetime.datetime(2017, 9, 6, 0, 0)"
      ]
     },
     "execution_count": 15,
     "metadata": {},
     "output_type": "execute_result"
    }
   ],
   "source": [
    "d = '6 September 2017'\n",
    "from datetime import datetime\n",
    "datetime.strptime(d,'%d %B %Y')"
   ]
  },
  {
   "cell_type": "code",
   "execution_count": 19,
   "metadata": {},
   "outputs": [],
   "source": [
    "who['date'] = pandas.to_datetime(who['date'], format = '%d %B %Y')"
   ]
  },
  {
   "cell_type": "code",
   "execution_count": 24,
   "metadata": {},
   "outputs": [
    {
     "data": {
      "text/plain": [
       "0     14 days 11:15:57.113651\n",
       "1     15 days 11:15:57.113651\n",
       "2     21 days 11:15:57.113651\n",
       "3     23 days 11:15:57.113651\n",
       "4     26 days 11:15:57.113651\n",
       "5     34 days 11:15:57.113651\n",
       "6     44 days 11:15:57.113651\n",
       "7     47 days 11:15:57.113651\n",
       "8     61 days 11:15:57.113651\n",
       "9     63 days 11:15:57.113651\n",
       "10    63 days 11:15:57.113651\n",
       "11    70 days 11:15:57.113651\n",
       "12    70 days 11:15:57.113651\n",
       "13    76 days 11:15:57.113651\n",
       "14    76 days 11:15:57.113651\n",
       "15    78 days 11:15:57.113651\n",
       "16    84 days 11:15:57.113651\n",
       "17    84 days 11:15:57.113651\n",
       "18    84 days 11:15:57.113651\n",
       "19    93 days 11:15:57.113651\n",
       "20    99 days 11:15:57.113651\n",
       "21    99 days 11:15:57.113651\n",
       "22    99 days 11:15:57.113651\n",
       "23   104 days 11:15:57.113651\n",
       "24   105 days 11:15:57.113651\n",
       "25   106 days 11:15:57.113651\n",
       "26   117 days 11:15:57.113651\n",
       "27   120 days 11:15:57.113651\n",
       "28   125 days 11:15:57.113651\n",
       "29   130 days 11:15:57.113651\n",
       "               ...           \n",
       "38   168 days 11:15:57.113651\n",
       "39   169 days 11:15:57.113651\n",
       "40   169 days 11:15:57.113651\n",
       "41   170 days 11:15:57.113651\n",
       "42   170 days 11:15:57.113651\n",
       "43   176 days 11:15:57.113651\n",
       "44   180 days 11:15:57.113651\n",
       "45   181 days 11:15:57.113651\n",
       "46   184 days 11:15:57.113651\n",
       "47   188 days 11:15:57.113651\n",
       "48   189 days 11:15:57.113651\n",
       "49   194 days 11:15:57.113651\n",
       "50   194 days 11:15:57.113651\n",
       "51   198 days 11:15:57.113651\n",
       "52   205 days 11:15:57.113651\n",
       "53   208 days 11:15:57.113651\n",
       "54   209 days 11:15:57.113651\n",
       "55   210 days 11:15:57.113651\n",
       "56   212 days 11:15:57.113651\n",
       "57   212 days 11:15:57.113651\n",
       "58   222 days 11:15:57.113651\n",
       "59   236 days 11:15:57.113651\n",
       "60   237 days 11:15:57.113651\n",
       "61   239 days 11:15:57.113651\n",
       "62   245 days 11:15:57.113651\n",
       "63   246 days 11:15:57.113651\n",
       "64   246 days 11:15:57.113651\n",
       "65   250 days 11:15:57.113651\n",
       "66   254 days 11:15:57.113651\n",
       "67   260 days 11:15:57.113651\n",
       "Name: date, Length: 68, dtype: timedelta64[ns]"
      ]
     },
     "execution_count": 24,
     "metadata": {},
     "output_type": "execute_result"
    }
   ],
   "source": [
    "#datetime.now() - who['date']"
   ]
  },
  {
   "cell_type": "markdown",
   "metadata": {},
   "source": [
    "##  答案四"
   ]
  },
  {
   "cell_type": "code",
   "execution_count": 54,
   "metadata": {},
   "outputs": [],
   "source": [
    "#who['date'].dt.month\n",
    "# SELECT count(disease), MONTH(date) FROM WHO GROUP BY MONTH(date)\n",
    "who_stat  = who.groupby([who['date'].dt.month, 'disease'])['disease'].count()"
   ]
  },
  {
   "cell_type": "code",
   "execution_count": 56,
   "metadata": {},
   "outputs": [
    {
     "data": {
      "text/html": [
       "<div>\n",
       "<style>\n",
       "    .dataframe thead tr:only-child th {\n",
       "        text-align: right;\n",
       "    }\n",
       "\n",
       "    .dataframe thead th {\n",
       "        text-align: left;\n",
       "    }\n",
       "\n",
       "    .dataframe tbody tr th {\n",
       "        vertical-align: top;\n",
       "    }\n",
       "</style>\n",
       "<table border=\"1\" class=\"dataframe\">\n",
       "  <thead>\n",
       "    <tr style=\"text-align: right;\">\n",
       "      <th>date</th>\n",
       "      <th>1</th>\n",
       "      <th>2</th>\n",
       "      <th>3</th>\n",
       "      <th>4</th>\n",
       "      <th>5</th>\n",
       "      <th>6</th>\n",
       "      <th>7</th>\n",
       "      <th>8</th>\n",
       "      <th>9</th>\n",
       "    </tr>\n",
       "    <tr>\n",
       "      <th>disease</th>\n",
       "      <th></th>\n",
       "      <th></th>\n",
       "      <th></th>\n",
       "      <th></th>\n",
       "      <th></th>\n",
       "      <th></th>\n",
       "      <th></th>\n",
       "      <th></th>\n",
       "      <th></th>\n",
       "    </tr>\n",
       "  </thead>\n",
       "  <tbody>\n",
       "    <tr>\n",
       "      <th>H7N9</th>\n",
       "      <td>3.0</td>\n",
       "      <td>3.0</td>\n",
       "      <td>3.0</td>\n",
       "      <td>4.0</td>\n",
       "      <td>4.0</td>\n",
       "      <td>2.0</td>\n",
       "      <td>1.0</td>\n",
       "      <td>1.0</td>\n",
       "      <td>1.0</td>\n",
       "    </tr>\n",
       "    <tr>\n",
       "      <th>MERS-CoV</th>\n",
       "      <td>2.0</td>\n",
       "      <td>1.0</td>\n",
       "      <td>1.0</td>\n",
       "      <td>4.0</td>\n",
       "      <td>NaN</td>\n",
       "      <td>4.0</td>\n",
       "      <td>2.0</td>\n",
       "      <td>2.0</td>\n",
       "      <td>1.0</td>\n",
       "    </tr>\n",
       "  </tbody>\n",
       "</table>\n",
       "</div>"
      ],
      "text/plain": [
       "date        1    2    3    4    5    6    7    8    9\n",
       "disease                                              \n",
       "H7N9      3.0  3.0  3.0  4.0  4.0  2.0  1.0  1.0  1.0\n",
       "MERS-CoV  2.0  1.0  1.0  4.0  NaN  4.0  2.0  2.0  1.0"
      ]
     },
     "execution_count": 56,
     "metadata": {},
     "output_type": "execute_result"
    }
   ],
   "source": [
    "whodf = who_stat.to_frame()\n",
    "whodf.columns = ['cnt']\n",
    "#whodf\n",
    "pandas.pivot_table(whodf, index='date', columns='disease', values='cnt')\n",
    "pandas.pivot_table(whodf, index='disease', columns='date', values='cnt')\n",
    "#pandas.pivot_table(who_stat, index = 'date')"
   ]
  },
  {
   "cell_type": "markdown",
   "metadata": {},
   "source": [
    "# 修正版本的答案"
   ]
  },
  {
   "cell_type": "code",
   "execution_count": 61,
   "metadata": {},
   "outputs": [
    {
     "data": {
      "text/html": [
       "<div>\n",
       "<style>\n",
       "    .dataframe thead tr:only-child th {\n",
       "        text-align: right;\n",
       "    }\n",
       "\n",
       "    .dataframe thead th {\n",
       "        text-align: left;\n",
       "    }\n",
       "\n",
       "    .dataframe tbody tr th {\n",
       "        vertical-align: top;\n",
       "    }\n",
       "</style>\n",
       "<table border=\"1\" class=\"dataframe\">\n",
       "  <thead>\n",
       "    <tr style=\"text-align: right;\">\n",
       "      <th></th>\n",
       "      <th>date</th>\n",
       "      <th>link</th>\n",
       "      <th>title</th>\n",
       "    </tr>\n",
       "  </thead>\n",
       "  <tbody>\n",
       "    <tr>\n",
       "      <th>0</th>\n",
       "      <td>6 September 2017</td>\n",
       "      <td>http://www.who.int/entity/csr/don/6-september-...</td>\n",
       "      <td>Middle East respiratory syndrome coronavirus (...</td>\n",
       "    </tr>\n",
       "    <tr>\n",
       "      <th>1</th>\n",
       "      <td>5 September 2017</td>\n",
       "      <td>http://www.who.int/entity/csr/don/5-september-...</td>\n",
       "      <td>Human infection with avian influenza A(H7N9) v...</td>\n",
       "    </tr>\n",
       "    <tr>\n",
       "      <th>2</th>\n",
       "      <td>30 August 2017</td>\n",
       "      <td>http://www.who.int/entity/csr/don/30-august-20...</td>\n",
       "      <td>Yellow fever ??? France ??? French Guiana</td>\n",
       "    </tr>\n",
       "    <tr>\n",
       "      <th>3</th>\n",
       "      <td>28 August 2017</td>\n",
       "      <td>http://www.who.int/entity/csr/don/28-august-20...</td>\n",
       "      <td>Middle East respiratory syndrome coronavirus (...</td>\n",
       "    </tr>\n",
       "    <tr>\n",
       "      <th>4</th>\n",
       "      <td>25 August 2017</td>\n",
       "      <td>http://www.who.int/entity/csr/don/25-august-20...</td>\n",
       "      <td>Chikungunya ??? France</td>\n",
       "    </tr>\n",
       "  </tbody>\n",
       "</table>\n",
       "</div>"
      ],
      "text/plain": [
       "               date                                               link  \\\n",
       "0  6 September 2017  http://www.who.int/entity/csr/don/6-september-...   \n",
       "1  5 September 2017  http://www.who.int/entity/csr/don/5-september-...   \n",
       "2    30 August 2017  http://www.who.int/entity/csr/don/30-august-20...   \n",
       "3    28 August 2017  http://www.who.int/entity/csr/don/28-august-20...   \n",
       "4    25 August 2017  http://www.who.int/entity/csr/don/25-august-20...   \n",
       "\n",
       "                                               title  \n",
       "0  Middle East respiratory syndrome coronavirus (...  \n",
       "1  Human infection with avian influenza A(H7N9) v...  \n",
       "2          Yellow fever ??? France ??? French Guiana  \n",
       "3  Middle East respiratory syndrome coronavirus (...  \n",
       "4                             Chikungunya ??? France  "
      ]
     },
     "execution_count": 61,
     "metadata": {},
     "output_type": "execute_result"
    }
   ],
   "source": [
    "import pandas\n",
    "who = pandas.read_excel('who_sample.xlsx')\n",
    "who.head()"
   ]
  },
  {
   "cell_type": "code",
   "execution_count": 63,
   "metadata": {},
   "outputs": [],
   "source": [
    "who['disease'] = who['title'].map(lambda e: e.split(' ??? ', 1)[0])\n",
    "who['date'] = pandas.to_datetime(who['date'], format = '%d %B %Y')"
   ]
  },
  {
   "cell_type": "code",
   "execution_count": 64,
   "metadata": {
    "collapsed": true
   },
   "outputs": [],
   "source": [
    "who_stat  = who.groupby([who['date'].dt.month, 'disease'])['disease'].count()"
   ]
  },
  {
   "cell_type": "code",
   "execution_count": 65,
   "metadata": {},
   "outputs": [
    {
     "data": {
      "text/html": [
       "<div>\n",
       "<style>\n",
       "    .dataframe thead tr:only-child th {\n",
       "        text-align: right;\n",
       "    }\n",
       "\n",
       "    .dataframe thead th {\n",
       "        text-align: left;\n",
       "    }\n",
       "\n",
       "    .dataframe tbody tr th {\n",
       "        vertical-align: top;\n",
       "    }\n",
       "</style>\n",
       "<table border=\"1\" class=\"dataframe\">\n",
       "  <thead>\n",
       "    <tr style=\"text-align: right;\">\n",
       "      <th>date</th>\n",
       "      <th>1</th>\n",
       "      <th>2</th>\n",
       "      <th>3</th>\n",
       "      <th>4</th>\n",
       "      <th>5</th>\n",
       "      <th>6</th>\n",
       "      <th>7</th>\n",
       "      <th>8</th>\n",
       "      <th>9</th>\n",
       "    </tr>\n",
       "    <tr>\n",
       "      <th>disease</th>\n",
       "      <th></th>\n",
       "      <th></th>\n",
       "      <th></th>\n",
       "      <th></th>\n",
       "      <th></th>\n",
       "      <th></th>\n",
       "      <th></th>\n",
       "      <th></th>\n",
       "      <th></th>\n",
       "    </tr>\n",
       "  </thead>\n",
       "  <tbody>\n",
       "    <tr>\n",
       "      <th>Acute hepatitis E</th>\n",
       "      <td>NaN</td>\n",
       "      <td>NaN</td>\n",
       "      <td>NaN</td>\n",
       "      <td>NaN</td>\n",
       "      <td>NaN</td>\n",
       "      <td>NaN</td>\n",
       "      <td>1.0</td>\n",
       "      <td>NaN</td>\n",
       "      <td>NaN</td>\n",
       "    </tr>\n",
       "    <tr>\n",
       "      <th>Chikungunya</th>\n",
       "      <td>NaN</td>\n",
       "      <td>NaN</td>\n",
       "      <td>NaN</td>\n",
       "      <td>NaN</td>\n",
       "      <td>NaN</td>\n",
       "      <td>NaN</td>\n",
       "      <td>NaN</td>\n",
       "      <td>1.0</td>\n",
       "      <td>NaN</td>\n",
       "    </tr>\n",
       "    <tr>\n",
       "      <th>Cholera</th>\n",
       "      <td>NaN</td>\n",
       "      <td>NaN</td>\n",
       "      <td>NaN</td>\n",
       "      <td>NaN</td>\n",
       "      <td>NaN</td>\n",
       "      <td>NaN</td>\n",
       "      <td>2.0</td>\n",
       "      <td>NaN</td>\n",
       "      <td>NaN</td>\n",
       "    </tr>\n",
       "    <tr>\n",
       "      <th>Circulating vaccine-derived poliovirus type 2</th>\n",
       "      <td>NaN</td>\n",
       "      <td>NaN</td>\n",
       "      <td>NaN</td>\n",
       "      <td>NaN</td>\n",
       "      <td>NaN</td>\n",
       "      <td>2.0</td>\n",
       "      <td>NaN</td>\n",
       "      <td>NaN</td>\n",
       "      <td>NaN</td>\n",
       "    </tr>\n",
       "    <tr>\n",
       "      <th>Dengue fever</th>\n",
       "      <td>NaN</td>\n",
       "      <td>NaN</td>\n",
       "      <td>NaN</td>\n",
       "      <td>NaN</td>\n",
       "      <td>NaN</td>\n",
       "      <td>NaN</td>\n",
       "      <td>1.0</td>\n",
       "      <td>1.0</td>\n",
       "      <td>NaN</td>\n",
       "    </tr>\n",
       "    <tr>\n",
       "      <th>Ebola virus disease</th>\n",
       "      <td>NaN</td>\n",
       "      <td>NaN</td>\n",
       "      <td>NaN</td>\n",
       "      <td>NaN</td>\n",
       "      <td>1.0</td>\n",
       "      <td>NaN</td>\n",
       "      <td>NaN</td>\n",
       "      <td>NaN</td>\n",
       "      <td>NaN</td>\n",
       "    </tr>\n",
       "    <tr>\n",
       "      <th>Hepatitis A outbreaks mostly affecting men who have sex with men</th>\n",
       "      <td>NaN</td>\n",
       "      <td>NaN</td>\n",
       "      <td>NaN</td>\n",
       "      <td>NaN</td>\n",
       "      <td>NaN</td>\n",
       "      <td>1.0</td>\n",
       "      <td>NaN</td>\n",
       "      <td>NaN</td>\n",
       "      <td>NaN</td>\n",
       "    </tr>\n",
       "    <tr>\n",
       "      <th>Hepatitis E</th>\n",
       "      <td>1.0</td>\n",
       "      <td>NaN</td>\n",
       "      <td>NaN</td>\n",
       "      <td>NaN</td>\n",
       "      <td>1.0</td>\n",
       "      <td>NaN</td>\n",
       "      <td>NaN</td>\n",
       "      <td>NaN</td>\n",
       "      <td>NaN</td>\n",
       "    </tr>\n",
       "    <tr>\n",
       "      <th>Human infection with avian influenza A(H7N9) virus</th>\n",
       "      <td>3.0</td>\n",
       "      <td>3.0</td>\n",
       "      <td>3.0</td>\n",
       "      <td>4.0</td>\n",
       "      <td>4.0</td>\n",
       "      <td>2.0</td>\n",
       "      <td>1.0</td>\n",
       "      <td>1.0</td>\n",
       "      <td>1.0</td>\n",
       "    </tr>\n",
       "    <tr>\n",
       "      <th>Lassa Fever</th>\n",
       "      <td>NaN</td>\n",
       "      <td>NaN</td>\n",
       "      <td>1.0</td>\n",
       "      <td>NaN</td>\n",
       "      <td>NaN</td>\n",
       "      <td>1.0</td>\n",
       "      <td>NaN</td>\n",
       "      <td>NaN</td>\n",
       "      <td>NaN</td>\n",
       "    </tr>\n",
       "    <tr>\n",
       "      <th>Meningococcal disease</th>\n",
       "      <td>NaN</td>\n",
       "      <td>1.0</td>\n",
       "      <td>1.0</td>\n",
       "      <td>NaN</td>\n",
       "      <td>NaN</td>\n",
       "      <td>NaN</td>\n",
       "      <td>NaN</td>\n",
       "      <td>NaN</td>\n",
       "      <td>NaN</td>\n",
       "    </tr>\n",
       "    <tr>\n",
       "      <th>Meningococcal septicaemia associated with attending a funeral</th>\n",
       "      <td>NaN</td>\n",
       "      <td>NaN</td>\n",
       "      <td>NaN</td>\n",
       "      <td>NaN</td>\n",
       "      <td>NaN</td>\n",
       "      <td>NaN</td>\n",
       "      <td>1.0</td>\n",
       "      <td>NaN</td>\n",
       "      <td>NaN</td>\n",
       "    </tr>\n",
       "    <tr>\n",
       "      <th>Middle East respiratory syndrome coronavirus (MERS-CoV)</th>\n",
       "      <td>2.0</td>\n",
       "      <td>1.0</td>\n",
       "      <td>1.0</td>\n",
       "      <td>4.0</td>\n",
       "      <td>NaN</td>\n",
       "      <td>4.0</td>\n",
       "      <td>2.0</td>\n",
       "      <td>2.0</td>\n",
       "      <td>1.0</td>\n",
       "    </tr>\n",
       "    <tr>\n",
       "      <th>Plague</th>\n",
       "      <td>1.0</td>\n",
       "      <td>NaN</td>\n",
       "      <td>NaN</td>\n",
       "      <td>NaN</td>\n",
       "      <td>NaN</td>\n",
       "      <td>NaN</td>\n",
       "      <td>NaN</td>\n",
       "      <td>NaN</td>\n",
       "      <td>NaN</td>\n",
       "    </tr>\n",
       "    <tr>\n",
       "      <th>Seoul virus</th>\n",
       "      <td>NaN</td>\n",
       "      <td>1.0</td>\n",
       "      <td>NaN</td>\n",
       "      <td>NaN</td>\n",
       "      <td>NaN</td>\n",
       "      <td>NaN</td>\n",
       "      <td>NaN</td>\n",
       "      <td>NaN</td>\n",
       "      <td>NaN</td>\n",
       "    </tr>\n",
       "    <tr>\n",
       "      <th>Unexplained cluster of deaths</th>\n",
       "      <td>NaN</td>\n",
       "      <td>NaN</td>\n",
       "      <td>NaN</td>\n",
       "      <td>NaN</td>\n",
       "      <td>1.0</td>\n",
       "      <td>NaN</td>\n",
       "      <td>NaN</td>\n",
       "      <td>NaN</td>\n",
       "      <td>NaN</td>\n",
       "    </tr>\n",
       "    <tr>\n",
       "      <th>Yellow fever</th>\n",
       "      <td>2.0</td>\n",
       "      <td>1.0</td>\n",
       "      <td>3.0</td>\n",
       "      <td>1.0</td>\n",
       "      <td>NaN</td>\n",
       "      <td>NaN</td>\n",
       "      <td>NaN</td>\n",
       "      <td>1.0</td>\n",
       "      <td>NaN</td>\n",
       "    </tr>\n",
       "    <tr>\n",
       "      <th>Zika virus infection</th>\n",
       "      <td>NaN</td>\n",
       "      <td>NaN</td>\n",
       "      <td>NaN</td>\n",
       "      <td>NaN</td>\n",
       "      <td>1.0</td>\n",
       "      <td>NaN</td>\n",
       "      <td>NaN</td>\n",
       "      <td>NaN</td>\n",
       "      <td>NaN</td>\n",
       "    </tr>\n",
       "  </tbody>\n",
       "</table>\n",
       "</div>"
      ],
      "text/plain": [
       "date                                                  1    2    3    4    5  \\\n",
       "disease                                                                       \n",
       "Acute hepatitis E                                   NaN  NaN  NaN  NaN  NaN   \n",
       "Chikungunya                                         NaN  NaN  NaN  NaN  NaN   \n",
       "Cholera                                             NaN  NaN  NaN  NaN  NaN   \n",
       "Circulating vaccine-derived poliovirus type 2       NaN  NaN  NaN  NaN  NaN   \n",
       "Dengue fever                                        NaN  NaN  NaN  NaN  NaN   \n",
       "Ebola virus disease                                 NaN  NaN  NaN  NaN  1.0   \n",
       "Hepatitis A outbreaks mostly affecting men who ...  NaN  NaN  NaN  NaN  NaN   \n",
       "Hepatitis E                                         1.0  NaN  NaN  NaN  1.0   \n",
       "Human infection with avian influenza A(H7N9) virus  3.0  3.0  3.0  4.0  4.0   \n",
       "Lassa Fever                                         NaN  NaN  1.0  NaN  NaN   \n",
       "Meningococcal disease                               NaN  1.0  1.0  NaN  NaN   \n",
       "Meningococcal septicaemia associated with atten...  NaN  NaN  NaN  NaN  NaN   \n",
       "Middle East respiratory syndrome coronavirus (M...  2.0  1.0  1.0  4.0  NaN   \n",
       "Plague                                              1.0  NaN  NaN  NaN  NaN   \n",
       "Seoul virus                                         NaN  1.0  NaN  NaN  NaN   \n",
       "Unexplained cluster of deaths                       NaN  NaN  NaN  NaN  1.0   \n",
       "Yellow fever                                        2.0  1.0  3.0  1.0  NaN   \n",
       "Zika virus infection                                NaN  NaN  NaN  NaN  1.0   \n",
       "\n",
       "date                                                  6    7    8    9  \n",
       "disease                                                                 \n",
       "Acute hepatitis E                                   NaN  1.0  NaN  NaN  \n",
       "Chikungunya                                         NaN  NaN  1.0  NaN  \n",
       "Cholera                                             NaN  2.0  NaN  NaN  \n",
       "Circulating vaccine-derived poliovirus type 2       2.0  NaN  NaN  NaN  \n",
       "Dengue fever                                        NaN  1.0  1.0  NaN  \n",
       "Ebola virus disease                                 NaN  NaN  NaN  NaN  \n",
       "Hepatitis A outbreaks mostly affecting men who ...  1.0  NaN  NaN  NaN  \n",
       "Hepatitis E                                         NaN  NaN  NaN  NaN  \n",
       "Human infection with avian influenza A(H7N9) virus  2.0  1.0  1.0  1.0  \n",
       "Lassa Fever                                         1.0  NaN  NaN  NaN  \n",
       "Meningococcal disease                               NaN  NaN  NaN  NaN  \n",
       "Meningococcal septicaemia associated with atten...  NaN  1.0  NaN  NaN  \n",
       "Middle East respiratory syndrome coronavirus (M...  4.0  2.0  2.0  1.0  \n",
       "Plague                                              NaN  NaN  NaN  NaN  \n",
       "Seoul virus                                         NaN  NaN  NaN  NaN  \n",
       "Unexplained cluster of deaths                       NaN  NaN  NaN  NaN  \n",
       "Yellow fever                                        NaN  NaN  1.0  NaN  \n",
       "Zika virus infection                                NaN  NaN  NaN  NaN  "
      ]
     },
     "execution_count": 65,
     "metadata": {},
     "output_type": "execute_result"
    }
   ],
   "source": [
    "whodf = who_stat.to_frame()\n",
    "whodf.columns = ['cnt']\n",
    "pandas.pivot_table(whodf, index='disease', columns='date', values='cnt')"
   ]
  },
  {
   "cell_type": "markdown",
   "metadata": {},
   "source": [
    "# 取得多年版本的資料"
   ]
  },
  {
   "cell_type": "code",
   "execution_count": 66,
   "metadata": {},
   "outputs": [
    {
     "name": "stdout",
     "output_type": "stream",
     "text": [
      "1\n",
      "2\n",
      "3\n",
      "4\n",
      "5\n",
      "6\n",
      "7\n",
      "8\n",
      "9\n",
      "10\n"
     ]
    }
   ],
   "source": [
    "for i in range(1,11):\n",
    "    print(i)"
   ]
  },
  {
   "cell_type": "code",
   "execution_count": 91,
   "metadata": {},
   "outputs": [],
   "source": [
    "import requests\n",
    "import pandas\n",
    "from bs4 import BeautifulSoup\n",
    "from datetime import datetime\n",
    "\n",
    "who_list = []\n",
    "domain = 'http://www.who.int'\n",
    "url = 'http://www.who.int/csr/don/archive/year/{}/en/'\n",
    "for year in range(1996, 2018):\n",
    "    #print(year)\n",
    "    # 存取頁面\n",
    "    res = requests.get(url.format(year))\n",
    "    # 轉換編碼\n",
    "    res.encoding = 'utf-8'\n",
    "    # 將資料丟進剖析器\n",
    "    soup = BeautifulSoup(res.text, 'html.parser')\n",
    "    \n",
    "    for content in soup.select('.auto_archive li'):\n",
    "        dic       = {}\n",
    "        dic['dt']        = content.select('a')[0].text\n",
    "\n",
    "        # 增加搜尋時間\n",
    "        dic['search_dt'] = datetime.now()\n",
    "\n",
    "        dic['link']      = domain + content.select('a')[0]['href']\n",
    "        dic['link_info'] = content.select('.link_info')[0].text\n",
    "        who_list.append(dic)"
   ]
  },
  {
   "cell_type": "code",
   "execution_count": 132,
   "metadata": {},
   "outputs": [
    {
     "data": {
      "text/plain": [
       "dt           2595\n",
       "link         2595\n",
       "link_info    2595\n",
       "search_dt    2595\n",
       "dtype: int64"
      ]
     },
     "execution_count": 132,
     "metadata": {},
     "output_type": "execute_result"
    }
   ],
   "source": [
    "whodf = pandas.DataFrame(who_list)\n",
    "whodf.count()"
   ]
  },
  {
   "cell_type": "code",
   "execution_count": 133,
   "metadata": {},
   "outputs": [
    {
     "data": {
      "text/html": [
       "<div>\n",
       "<style>\n",
       "    .dataframe thead tr:only-child th {\n",
       "        text-align: right;\n",
       "    }\n",
       "\n",
       "    .dataframe thead th {\n",
       "        text-align: left;\n",
       "    }\n",
       "\n",
       "    .dataframe tbody tr th {\n",
       "        vertical-align: top;\n",
       "    }\n",
       "</style>\n",
       "<table border=\"1\" class=\"dataframe\">\n",
       "  <thead>\n",
       "    <tr style=\"text-align: right;\">\n",
       "      <th></th>\n",
       "      <th>dt</th>\n",
       "      <th>link</th>\n",
       "      <th>link_info</th>\n",
       "      <th>search_dt</th>\n",
       "    </tr>\n",
       "  </thead>\n",
       "  <tbody>\n",
       "    <tr>\n",
       "      <th>0</th>\n",
       "      <td>24 December 1996</td>\n",
       "      <td>http://www.who.int/entity/csr/don/1996_12_24/e...</td>\n",
       "      <td>1996 - Ebola haemorrhagic fever in Gabon (new ...</td>\n",
       "      <td>2017-09-20 11:55:02.880049</td>\n",
       "    </tr>\n",
       "    <tr>\n",
       "      <th>1</th>\n",
       "      <td>20 December 1996</td>\n",
       "      <td>http://www.who.int/entity/csr/don/1996_12_20/e...</td>\n",
       "      <td>1996 - Ebola haemorrhagic fever in Gabon (new ...</td>\n",
       "      <td>2017-09-20 11:55:02.881049</td>\n",
       "    </tr>\n",
       "    <tr>\n",
       "      <th>2</th>\n",
       "      <td>13 December 1996</td>\n",
       "      <td>http://www.who.int/entity/csr/don/1996_12_13a/...</td>\n",
       "      <td>1996 - Cholera in Rwanda and Zaire</td>\n",
       "      <td>2017-09-20 11:55:02.881049</td>\n",
       "    </tr>\n",
       "    <tr>\n",
       "      <th>3</th>\n",
       "      <td>13 December 1996</td>\n",
       "      <td>http://www.who.int/entity/csr/don/1996_12_13b/...</td>\n",
       "      <td>1996 - E.coli O157 infection in UK</td>\n",
       "      <td>2017-09-20 11:55:02.882049</td>\n",
       "    </tr>\n",
       "    <tr>\n",
       "      <th>4</th>\n",
       "      <td>6 December 1996</td>\n",
       "      <td>http://www.who.int/entity/csr/don/1996_12_06a/...</td>\n",
       "      <td>1996 - Ebola haemorrhagic fever in Gabon (new ...</td>\n",
       "      <td>2017-09-20 11:55:02.882049</td>\n",
       "    </tr>\n",
       "  </tbody>\n",
       "</table>\n",
       "</div>"
      ],
      "text/plain": [
       "                 dt                                               link  \\\n",
       "0  24 December 1996  http://www.who.int/entity/csr/don/1996_12_24/e...   \n",
       "1  20 December 1996  http://www.who.int/entity/csr/don/1996_12_20/e...   \n",
       "2  13 December 1996  http://www.who.int/entity/csr/don/1996_12_13a/...   \n",
       "3  13 December 1996  http://www.who.int/entity/csr/don/1996_12_13b/...   \n",
       "4   6 December 1996  http://www.who.int/entity/csr/don/1996_12_06a/...   \n",
       "\n",
       "                                           link_info  \\\n",
       "0  1996 - Ebola haemorrhagic fever in Gabon (new ...   \n",
       "1  1996 - Ebola haemorrhagic fever in Gabon (new ...   \n",
       "2                 1996 - Cholera in Rwanda and Zaire   \n",
       "3                 1996 - E.coli O157 infection in UK   \n",
       "4  1996 - Ebola haemorrhagic fever in Gabon (new ...   \n",
       "\n",
       "                   search_dt  \n",
       "0 2017-09-20 11:55:02.880049  \n",
       "1 2017-09-20 11:55:02.881049  \n",
       "2 2017-09-20 11:55:02.881049  \n",
       "3 2017-09-20 11:55:02.882049  \n",
       "4 2017-09-20 11:55:02.882049  "
      ]
     },
     "execution_count": 133,
     "metadata": {},
     "output_type": "execute_result"
    }
   ],
   "source": [
    "whodf.head()"
   ]
  },
  {
   "cell_type": "code",
   "execution_count": 134,
   "metadata": {},
   "outputs": [],
   "source": [
    "import re\n",
    "def DiseaseParser(rec):\n",
    "    try:\n",
    "        m1 = re.match('^\\d+ - (.+?) in (.*)', rec)\n",
    "        if m1:\n",
    "            disease = m1.group(1)\n",
    "            country = m1.group(2)\n",
    "        else:\n",
    "            disease, country  = rec.split(' – ', 1)\n",
    "        return disease.lower(), country.lower()\n",
    "    except:\n",
    "        #print(rec)\n",
    "        return None, None\n"
   ]
  },
  {
   "cell_type": "code",
   "execution_count": 135,
   "metadata": {},
   "outputs": [],
   "source": [
    "whodf['disease'] = whodf['link_info'].map(lambda e: DiseaseParser(e)[0])\n",
    "whodf['country'] = whodf['link_info'].map(lambda e: DiseaseParser(e)[1])"
   ]
  },
  {
   "cell_type": "code",
   "execution_count": 136,
   "metadata": {},
   "outputs": [
    {
     "data": {
      "text/html": [
       "<div>\n",
       "<style>\n",
       "    .dataframe thead tr:only-child th {\n",
       "        text-align: right;\n",
       "    }\n",
       "\n",
       "    .dataframe thead th {\n",
       "        text-align: left;\n",
       "    }\n",
       "\n",
       "    .dataframe tbody tr th {\n",
       "        vertical-align: top;\n",
       "    }\n",
       "</style>\n",
       "<table border=\"1\" class=\"dataframe\">\n",
       "  <thead>\n",
       "    <tr style=\"text-align: right;\">\n",
       "      <th></th>\n",
       "      <th>link</th>\n",
       "      <th>disease</th>\n",
       "      <th>dt</th>\n",
       "      <th>country</th>\n",
       "      <th>search_dt</th>\n",
       "    </tr>\n",
       "  </thead>\n",
       "  <tbody>\n",
       "    <tr>\n",
       "      <th>0</th>\n",
       "      <td>http://www.who.int/entity/csr/don/1996_12_24/e...</td>\n",
       "      <td>ebola haemorrhagic fever</td>\n",
       "      <td>24 December 1996</td>\n",
       "      <td>gabon (new outbreak) - update 9</td>\n",
       "      <td>2017-09-20 11:55:02.880049</td>\n",
       "    </tr>\n",
       "    <tr>\n",
       "      <th>1</th>\n",
       "      <td>http://www.who.int/entity/csr/don/1996_12_20/e...</td>\n",
       "      <td>ebola haemorrhagic fever</td>\n",
       "      <td>20 December 1996</td>\n",
       "      <td>gabon (new outbreak) - update 8</td>\n",
       "      <td>2017-09-20 11:55:02.881049</td>\n",
       "    </tr>\n",
       "    <tr>\n",
       "      <th>2</th>\n",
       "      <td>http://www.who.int/entity/csr/don/1996_12_13a/...</td>\n",
       "      <td>cholera</td>\n",
       "      <td>13 December 1996</td>\n",
       "      <td>rwanda and zaire</td>\n",
       "      <td>2017-09-20 11:55:02.881049</td>\n",
       "    </tr>\n",
       "    <tr>\n",
       "      <th>3</th>\n",
       "      <td>http://www.who.int/entity/csr/don/1996_12_13b/...</td>\n",
       "      <td>e.coli o157 infection</td>\n",
       "      <td>13 December 1996</td>\n",
       "      <td>uk</td>\n",
       "      <td>2017-09-20 11:55:02.882049</td>\n",
       "    </tr>\n",
       "    <tr>\n",
       "      <th>4</th>\n",
       "      <td>http://www.who.int/entity/csr/don/1996_12_06a/...</td>\n",
       "      <td>ebola haemorrhagic fever</td>\n",
       "      <td>6 December 1996</td>\n",
       "      <td>gabon (new outbreak) - update 7</td>\n",
       "      <td>2017-09-20 11:55:02.882049</td>\n",
       "    </tr>\n",
       "  </tbody>\n",
       "</table>\n",
       "</div>"
      ],
      "text/plain": [
       "                                                link  \\\n",
       "0  http://www.who.int/entity/csr/don/1996_12_24/e...   \n",
       "1  http://www.who.int/entity/csr/don/1996_12_20/e...   \n",
       "2  http://www.who.int/entity/csr/don/1996_12_13a/...   \n",
       "3  http://www.who.int/entity/csr/don/1996_12_13b/...   \n",
       "4  http://www.who.int/entity/csr/don/1996_12_06a/...   \n",
       "\n",
       "                    disease                dt  \\\n",
       "0  ebola haemorrhagic fever  24 December 1996   \n",
       "1  ebola haemorrhagic fever  20 December 1996   \n",
       "2                   cholera  13 December 1996   \n",
       "3     e.coli o157 infection  13 December 1996   \n",
       "4  ebola haemorrhagic fever   6 December 1996   \n",
       "\n",
       "                           country                  search_dt  \n",
       "0  gabon (new outbreak) - update 9 2017-09-20 11:55:02.880049  \n",
       "1  gabon (new outbreak) - update 8 2017-09-20 11:55:02.881049  \n",
       "2                 rwanda and zaire 2017-09-20 11:55:02.881049  \n",
       "3                               uk 2017-09-20 11:55:02.882049  \n",
       "4  gabon (new outbreak) - update 7 2017-09-20 11:55:02.882049  "
      ]
     },
     "execution_count": 136,
     "metadata": {},
     "output_type": "execute_result"
    }
   ],
   "source": [
    "df = whodf[['link', 'disease', 'dt', 'country', 'search_dt']]\n",
    "df.head()"
   ]
  },
  {
   "cell_type": "code",
   "execution_count": 137,
   "metadata": {},
   "outputs": [
    {
     "data": {
      "text/html": [
       "<div>\n",
       "<style>\n",
       "    .dataframe thead tr:only-child th {\n",
       "        text-align: right;\n",
       "    }\n",
       "\n",
       "    .dataframe thead th {\n",
       "        text-align: left;\n",
       "    }\n",
       "\n",
       "    .dataframe tbody tr th {\n",
       "        vertical-align: top;\n",
       "    }\n",
       "</style>\n",
       "<table border=\"1\" class=\"dataframe\">\n",
       "  <thead>\n",
       "    <tr style=\"text-align: right;\">\n",
       "      <th></th>\n",
       "      <th>link</th>\n",
       "      <th>disease</th>\n",
       "      <th>dt</th>\n",
       "      <th>country</th>\n",
       "      <th>search_dt</th>\n",
       "      <th>date</th>\n",
       "      <th>year</th>\n",
       "      <th>month</th>\n",
       "    </tr>\n",
       "  </thead>\n",
       "  <tbody>\n",
       "    <tr>\n",
       "      <th>0</th>\n",
       "      <td>http://www.who.int/entity/csr/don/1996_12_24/e...</td>\n",
       "      <td>ebola haemorrhagic fever</td>\n",
       "      <td>24 December 1996</td>\n",
       "      <td>gabon (new outbreak) - update 9</td>\n",
       "      <td>2017-09-20 11:55:02.880049</td>\n",
       "      <td>1996-12-24</td>\n",
       "      <td>1996</td>\n",
       "      <td>12</td>\n",
       "    </tr>\n",
       "  </tbody>\n",
       "</table>\n",
       "</div>"
      ],
      "text/plain": [
       "                                                link  \\\n",
       "0  http://www.who.int/entity/csr/don/1996_12_24/e...   \n",
       "\n",
       "                    disease                dt  \\\n",
       "0  ebola haemorrhagic fever  24 December 1996   \n",
       "\n",
       "                           country                  search_dt       date  \\\n",
       "0  gabon (new outbreak) - update 9 2017-09-20 11:55:02.880049 1996-12-24   \n",
       "\n",
       "   year  month  \n",
       "0  1996     12  "
      ]
     },
     "execution_count": 137,
     "metadata": {},
     "output_type": "execute_result"
    }
   ],
   "source": [
    "df['date'] = pandas.to_datetime(df['dt'], format = '%d %B %Y')\n",
    "df['year'] = df['date'].dt.year\n",
    "df['month'] = df['date'].dt.month\n",
    "df.head(1)"
   ]
  },
  {
   "cell_type": "code",
   "execution_count": 138,
   "metadata": {
    "collapsed": true
   },
   "outputs": [],
   "source": [
    "who_stat  = df.groupby([df['year'], df['month'] , 'disease'])['disease'].count()"
   ]
  },
  {
   "cell_type": "code",
   "execution_count": 141,
   "metadata": {},
   "outputs": [],
   "source": [
    "whodf = who_stat.to_frame()\n",
    "whodf.columns = ['cnt']\n",
    "whodf.head()\n",
    "who_pivot_tb = pandas.pivot_table(whodf, index='disease', columns=['year', 'month'], values='cnt')"
   ]
  },
  {
   "cell_type": "code",
   "execution_count": 142,
   "metadata": {
    "collapsed": true
   },
   "outputs": [],
   "source": [
    "who_pivot_tb.to_csv('who_stat.csv')"
   ]
  },
  {
   "cell_type": "markdown",
   "metadata": {},
   "source": [
    "## 繪製資料趨勢"
   ]
  },
  {
   "cell_type": "code",
   "execution_count": 131,
   "metadata": {},
   "outputs": [
    {
     "name": "stdout",
     "output_type": "stream",
     "text": [
      "Populating the interactive namespace from numpy and matplotlib\n"
     ]
    },
    {
     "name": "stderr",
     "output_type": "stream",
     "text": [
      "C:\\ProgramData\\Anaconda3\\lib\\site-packages\\ipykernel_launcher.py:5: SettingWithCopyWarning: \n",
      "A value is trying to be set on a copy of a slice from a DataFrame.\n",
      "Try using .loc[row_indexer,col_indexer] = value instead\n",
      "\n",
      "See the caveats in the documentation: http://pandas.pydata.org/pandas-docs/stable/indexing.html#indexing-view-versus-copy\n",
      "  \"\"\"\n"
     ]
    },
    {
     "data": {
      "image/png": "[encoded data removed]",
      "text/plain": [
       "<matplotlib.figure.Figure at 0xa6f3ba8>"
      ]
     },
     "metadata": {},
     "output_type": "display_data"
    }
   ],
   "source": [
    "whodf = pandas.DataFrame(who_list)\n",
    "%pylab inline\n",
    "def plotTrend(keyword):\n",
    "    df = whodf[whodf['link_info'].map(lambda e: True if keyword in str(e).lower() else False)]\n",
    "    df['date'] = pandas.to_datetime(df['dt'], format = '%d %B %Y')\n",
    "    who_stat  = df.groupby([df['date'].dt.strftime('%Y-%m-01')])['link_info'].count()\n",
    "    who_stat.plot(kind= 'line', figsize = [20,10], title= keyword)\n",
    "plotTrend('cholera')"
   ]
  },
  {
   "cell_type": "code",
   "execution_count": null,
   "metadata": {
    "collapsed": true
   },
   "outputs": [],
   "source": []
  }
 ],
 "metadata": {
  "kernelspec": {
   "display_name": "Python 3",
   "language": "python",
   "name": "python3"
  },
  "language_info": {
   "codemirror_mode": {
    "name": "ipython",
    "version": 3
   },
   "file_extension": ".py",
   "mimetype": "text/x-python",
   "name": "python",
   "nbconvert_exporter": "python",
   "pygments_lexer": "ipython3",
   "version": "3.6.1"
  }
 },
 "nbformat": 4,
 "nbformat_minor": 2
}
