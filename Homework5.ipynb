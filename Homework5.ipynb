{
 "cells": [
  {
   "cell_type": "markdown",
   "metadata": {
    "collapsed": false
   },
   "source": [
    "### 您以經寫了一個爬蟲可以抓取世界衛生組織2017年的疫情爆發新聞，目前已經將資料整理在一 csv 檔 ( https://raw.githubusercontent.com/ywchiu/cdc_course/master/data/who_sample.xlsx )，資料範例如下方表格，為了能讓抓取下來的國際疫情資料變得更好分析，請："
   ]
  },
  {
   "cell_type": "code",
   "execution_count": 24,
   "metadata": {
    "collapsed": false
   },
   "outputs": [
    {
     "data": {
      "text/html": [
       "<div>\n",
       "<table border=\"1\" class=\"dataframe\">\n",
       "  <thead>\n",
       "    <tr style=\"text-align: right;\">\n",
       "      <th></th>\n",
       "      <th>date</th>\n",
       "      <th>link</th>\n",
       "      <th>title</th>\n",
       "    </tr>\n",
       "  </thead>\n",
       "  <tbody>\n",
       "    <tr>\n",
       "      <th>0</th>\n",
       "      <td>6 September 2017</td>\n",
       "      <td>http://www.who.int/entity/csr/don/6-september-...</td>\n",
       "      <td>Middle East respiratory syndrome coronavirus (...</td>\n",
       "    </tr>\n",
       "    <tr>\n",
       "      <th>1</th>\n",
       "      <td>5 September 2017</td>\n",
       "      <td>http://www.who.int/entity/csr/don/5-september-...</td>\n",
       "      <td>Human infection with avian influenza A(H7N9) v...</td>\n",
       "    </tr>\n",
       "    <tr>\n",
       "      <th>2</th>\n",
       "      <td>30 August 2017</td>\n",
       "      <td>http://www.who.int/entity/csr/don/30-august-20...</td>\n",
       "      <td>Yellow fever ??? France ??? French Guiana</td>\n",
       "    </tr>\n",
       "  </tbody>\n",
       "</table>\n",
       "</div>"
      ],
      "text/plain": [
       "               date                                               link  \\\n",
       "0  6 September 2017  http://www.who.int/entity/csr/don/6-september-...   \n",
       "1  5 September 2017  http://www.who.int/entity/csr/don/5-september-...   \n",
       "2    30 August 2017  http://www.who.int/entity/csr/don/30-august-20...   \n",
       "\n",
       "                                               title  \n",
       "0  Middle East respiratory syndrome coronavirus (...  \n",
       "1  Human infection with avian influenza A(H7N9) v...  \n",
       "2          Yellow fever ??? France ??? French Guiana  "
      ]
     },
     "execution_count": 24,
     "metadata": {},
     "output_type": "execute_result"
    }
   ],
   "source": []
  },
  {
   "cell_type": "markdown",
   "metadata": {
    "collapsed": true
   },
   "source": [
    "1. 使用Pandas 讀取 excel 的資料，並將資料放置一名為who 的DataFrame 之中\n",
    "2. 抽取出標題(title)中所敘述的疾病名稱，並將該疾病另存成一名為disease 的欄位\n",
    "   - e.g. Human infection with avian influenza A(H7N9) virus – China 須抽取出 H7N9 並將之放入disease 欄位\n",
    "3. 使用pandas 的to_datetime 功能將date 欄位從字串格式(object)轉換為時間格式(datetime)\n",
    "4. 根據新聞月份統計各疾病(disease)出現數量\n",
    "\n"
   ]
  },
  {
   "cell_type": "code",
   "execution_count": null,
   "metadata": {
    "collapsed": true
   },
   "outputs": [],
   "source": []
  }
 ],
 "metadata": {
  "kernelspec": {
   "display_name": "Python 3",
   "language": "python",
   "name": "python3"
  },
  "language_info": {
   "codemirror_mode": {
    "name": "ipython",
    "version": 3
   },
   "file_extension": ".py",
   "mimetype": "text/x-python",
   "name": "python",
   "nbconvert_exporter": "python",
   "pygments_lexer": "ipython3",
   "version": "3.6.0"
  }
 },
 "nbformat": 4,
 "nbformat_minor": 2
}
