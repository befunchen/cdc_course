{
 "cells": [
  {
   "cell_type": "markdown",
   "metadata": {
    "collapsed": false
   },
   "source": [
    "### 為了能夠提供更好的疾病詢答服務給一般民眾，因此你奉命要建立一個自動問答機器人。為了能夠正確回覆使用者的問題，我們首先從疾管署的官網上(http://www.cdc.gov.tw/disease.aspx?treeid=8d54c504e820735b )的傳染病專區蒐集了所有「疾病名稱」 、「相關發病症狀」與「治療方法與就醫資訊」，並將該資料存放於(https://raw.githubusercontent.com/ywchiu/cdc_course/master/data/disease_info.xlsx)　，現在有一民眾在網路問了以下問題：「請問陳醫生，我們家三歲小孩發燒，且嘴巴周圍和手腳都出現水泡和潰瘍，八歲的姊姊發燒喉嚨痛、手腳長水泡，請問我們家小孩生了什麼病呢？」，請試著用傳染病專區資料所建立的問答機器人回答以下問題：\n",
    "\n",
    "1. 請寫一個函數getResponse，當使用者輸入問題時，機器人可以根據問題與「相關發病症狀」的相似度，回傳最相似疾病症狀的「疾病名稱」與「治療方法與就醫資訊」\n",
    "2. 回答與該問題最相關的「疾病名稱」與「治療方法與就醫資訊」"
   ]
  }
 ],
 "metadata": {
  "kernelspec": {
   "display_name": "Python 3",
   "language": "python",
   "name": "python3"
  },
  "language_info": {
   "codemirror_mode": {
    "name": "ipython",
    "version": 3
   },
   "file_extension": ".py",
   "mimetype": "text/x-python",
   "name": "python",
   "nbconvert_exporter": "python",
   "pygments_lexer": "ipython3",
   "version": "3.6.0"
  }
 },
 "nbformat": 4,
 "nbformat_minor": 2
}
