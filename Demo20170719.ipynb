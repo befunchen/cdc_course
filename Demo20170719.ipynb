{
 "cells": [
  {
   "cell_type": "markdown",
   "metadata": {},
   "source": [
    "## Operator"
   ]
  },
  {
   "cell_type": "code",
   "execution_count": 1,
   "metadata": {
    "collapsed": true
   },
   "outputs": [],
   "source": [
    "a = 5\n",
    "b = 3"
   ]
  },
  {
   "cell_type": "code",
   "execution_count": 4,
   "metadata": {},
   "outputs": [
    {
     "data": {
      "text/plain": [
       "True"
      ]
     },
     "execution_count": 4,
     "metadata": {},
     "output_type": "execute_result"
    }
   ],
   "source": [
    "a > b"
   ]
  },
  {
   "cell_type": "code",
   "execution_count": 5,
   "metadata": {},
   "outputs": [
    {
     "data": {
      "text/plain": [
       "False"
      ]
     },
     "execution_count": 5,
     "metadata": {},
     "output_type": "execute_result"
    }
   ],
   "source": [
    "b > a"
   ]
  },
  {
   "cell_type": "code",
   "execution_count": 6,
   "metadata": {
    "collapsed": true
   },
   "outputs": [],
   "source": [
    "a = True\n",
    "b = False"
   ]
  },
  {
   "cell_type": "code",
   "execution_count": 7,
   "metadata": {},
   "outputs": [
    {
     "data": {
      "text/plain": [
       "False"
      ]
     },
     "execution_count": 7,
     "metadata": {},
     "output_type": "execute_result"
    }
   ],
   "source": [
    "a == b"
   ]
  },
  {
   "cell_type": "code",
   "execution_count": 8,
   "metadata": {},
   "outputs": [
    {
     "data": {
      "text/plain": [
       "True"
      ]
     },
     "execution_count": 8,
     "metadata": {},
     "output_type": "execute_result"
    }
   ],
   "source": [
    "a != b"
   ]
  },
  {
   "cell_type": "code",
   "execution_count": 10,
   "metadata": {},
   "outputs": [
    {
     "name": "stdout",
     "output_type": "stream",
     "text": [
      "False\n"
     ]
    }
   ],
   "source": [
    "c = a == b\n",
    "print(c)"
   ]
  },
  {
   "cell_type": "code",
   "execution_count": 12,
   "metadata": {},
   "outputs": [
    {
     "name": "stdout",
     "output_type": "stream",
     "text": [
      "True\n",
      "False\n"
     ]
    }
   ],
   "source": [
    "print(a)\n",
    "print(not a)"
   ]
  },
  {
   "cell_type": "code",
   "execution_count": 19,
   "metadata": {},
   "outputs": [
    {
     "name": "stdout",
     "output_type": "stream",
     "text": [
      "True\n"
     ]
    }
   ],
   "source": [
    "c = (not a == b)\n",
    "print(c)"
   ]
  },
  {
   "cell_type": "code",
   "execution_count": 20,
   "metadata": {},
   "outputs": [
    {
     "data": {
      "text/plain": [
       "20"
      ]
     },
     "execution_count": 20,
     "metadata": {},
     "output_type": "execute_result"
    }
   ],
   "source": [
    "3 + 5 * 2 + 7"
   ]
  },
  {
   "cell_type": "code",
   "execution_count": 21,
   "metadata": {},
   "outputs": [
    {
     "data": {
      "text/plain": [
       "72"
      ]
     },
     "execution_count": 21,
     "metadata": {},
     "output_type": "execute_result"
    }
   ],
   "source": [
    "(3 + 5) * (2 + 7)"
   ]
  },
  {
   "cell_type": "code",
   "execution_count": 22,
   "metadata": {},
   "outputs": [
    {
     "name": "stdout",
     "output_type": "stream",
     "text": [
      "True\n"
     ]
    }
   ],
   "source": [
    "a = None\n",
    "b = None\n",
    "print(a == b)"
   ]
  },
  {
   "cell_type": "markdown",
   "metadata": {},
   "source": [
    "## Statement"
   ]
  },
  {
   "cell_type": "code",
   "execution_count": 29,
   "metadata": {},
   "outputs": [
    {
     "data": {
      "text/plain": [
       "True"
      ]
     },
     "execution_count": 29,
     "metadata": {},
     "output_type": "execute_result"
    }
   ],
   "source": [
    "a = 5\n",
    "b = 3\n",
    "a > b"
   ]
  },
  {
   "cell_type": "code",
   "execution_count": 31,
   "metadata": {},
   "outputs": [
    {
     "data": {
      "text/plain": [
       "False"
      ]
     },
     "execution_count": 31,
     "metadata": {},
     "output_type": "execute_result"
    }
   ],
   "source": [
    "a = 2\n",
    "b = 4\n",
    "a > b"
   ]
  },
  {
   "cell_type": "code",
   "execution_count": 32,
   "metadata": {},
   "outputs": [
    {
     "name": "stdout",
     "output_type": "stream",
     "text": [
      "no matter what I will print this\n"
     ]
    }
   ],
   "source": [
    "if a > b :\n",
    "    print(\"a is greater than b\")\n",
    "print(\"no matter what I will print this\")"
   ]
  },
  {
   "cell_type": "code",
   "execution_count": 40,
   "metadata": {},
   "outputs": [
    {
     "name": "stdout",
     "output_type": "stream",
     "text": [
      "a is greater than b\n"
     ]
    }
   ],
   "source": [
    "a = 5\n",
    "b = 3\n",
    "if a > b :\n",
    "    print(\"a is greater than b\")"
   ]
  },
  {
   "cell_type": "markdown",
   "metadata": {},
   "source": [
    "## IF, ELIF, ELSE"
   ]
  },
  {
   "cell_type": "code",
   "execution_count": 41,
   "metadata": {},
   "outputs": [
    {
     "name": "stdout",
     "output_type": "stream",
     "text": [
      "a is greater than b\n"
     ]
    }
   ],
   "source": [
    "a = 5\n",
    "b = 3\n",
    "if a > b :\n",
    "    print(\"a is greater than b\")"
   ]
  },
  {
   "cell_type": "code",
   "execution_count": 42,
   "metadata": {},
   "outputs": [
    {
     "data": {
      "text/plain": [
       "True"
      ]
     },
     "execution_count": 42,
     "metadata": {},
     "output_type": "execute_result"
    }
   ],
   "source": [
    "a > b"
   ]
  },
  {
   "cell_type": "code",
   "execution_count": 43,
   "metadata": {},
   "outputs": [
    {
     "name": "stdout",
     "output_type": "stream",
     "text": [
      "a is greater than b\n"
     ]
    }
   ],
   "source": [
    "if True :\n",
    "    print(\"a is greater than b\")"
   ]
  },
  {
   "cell_type": "code",
   "execution_count": 44,
   "metadata": {},
   "outputs": [
    {
     "name": "stdout",
     "output_type": "stream",
     "text": [
      "it was true\n"
     ]
    }
   ],
   "source": [
    "if True:\n",
    "    print('it was true')"
   ]
  },
  {
   "cell_type": "code",
   "execution_count": 45,
   "metadata": {
    "collapsed": true
   },
   "outputs": [],
   "source": [
    "if False:\n",
    "    print('it was false')"
   ]
  },
  {
   "cell_type": "code",
   "execution_count": 48,
   "metadata": {},
   "outputs": [
    {
     "name": "stdout",
     "output_type": "stream",
     "text": [
      "x was not true\n"
     ]
    }
   ],
   "source": [
    "x = False\n",
    "if x:\n",
    "    print('x was true')\n",
    "else:\n",
    "    print('x was not true')"
   ]
  },
  {
   "cell_type": "code",
   "execution_count": 52,
   "metadata": {},
   "outputs": [
    {
     "name": "stdout",
     "output_type": "stream",
     "text": [
      "welcome to the bank\n"
     ]
    }
   ],
   "source": [
    "loc = 'Bank'\n",
    "\n",
    "if loc == 'auto shop':\n",
    "    print('welcome to the auto shop')\n",
    "elif loc == 'Bank':\n",
    "    print('welcome to the bank')\n",
    "else:\n",
    "    print('where are you')"
   ]
  },
  {
   "cell_type": "code",
   "execution_count": 56,
   "metadata": {},
   "outputs": [
    {
     "name": "stdout",
     "output_type": "stream",
     "text": [
      "cdc\n",
      "where are you\n"
     ]
    }
   ],
   "source": [
    "loc = input()\n",
    "\n",
    "if loc == 'auto shop':\n",
    "    print('welcome to the auto shop')\n",
    "elif loc == 'Bank':\n",
    "    print('welcome to the bank')\n",
    "else:\n",
    "    print('where are you')"
   ]
  },
  {
   "cell_type": "code",
   "execution_count": 60,
   "metadata": {},
   "outputs": [
    {
     "ename": "KeyError",
     "evalue": "'c'",
     "output_type": "error",
     "traceback": [
      "\u001b[1;31m---------------------------------------------------------------------------\u001b[0m",
      "\u001b[1;31mKeyError\u001b[0m                                  Traceback (most recent call last)",
      "\u001b[1;32m<ipython-input-60-928e7d538a73>\u001b[0m in \u001b[0;36m<module>\u001b[1;34m()\u001b[0m\n\u001b[0;32m      1\u001b[0m \u001b[0mdic\u001b[0m \u001b[1;33m=\u001b[0m \u001b[1;33m{\u001b[0m\u001b[1;34m'a'\u001b[0m\u001b[1;33m:\u001b[0m\u001b[1;36m1\u001b[0m\u001b[1;33m,\u001b[0m \u001b[1;34m'b'\u001b[0m\u001b[1;33m:\u001b[0m\u001b[1;36m2\u001b[0m\u001b[1;33m}\u001b[0m\u001b[1;33m\u001b[0m\u001b[0m\n\u001b[0;32m      2\u001b[0m \u001b[0mdic\u001b[0m\u001b[1;33m[\u001b[0m\u001b[1;34m'a'\u001b[0m\u001b[1;33m]\u001b[0m\u001b[1;33m\u001b[0m\u001b[0m\n\u001b[1;32m----> 3\u001b[1;33m \u001b[0mdic\u001b[0m\u001b[1;33m[\u001b[0m\u001b[1;34m'c'\u001b[0m\u001b[1;33m]\u001b[0m\u001b[1;33m\u001b[0m\u001b[0m\n\u001b[0m",
      "\u001b[1;31mKeyError\u001b[0m: 'c'"
     ]
    }
   ],
   "source": [
    "dic = {'a':1, 'b':2}\n",
    "dic['a']\n",
    "dic['c']"
   ]
  },
  {
   "cell_type": "code",
   "execution_count": 64,
   "metadata": {},
   "outputs": [
    {
     "name": "stdout",
     "output_type": "stream",
     "text": [
      "1\n",
      "None\n",
      "not found\n"
     ]
    }
   ],
   "source": [
    "print(dic.get('a'))\n",
    "\n",
    "print(dic.get('c'))\n",
    "\n",
    "print(dic.get('c', 'not found'))"
   ]
  },
  {
   "cell_type": "code",
   "execution_count": 59,
   "metadata": {},
   "outputs": [
    {
     "name": "stdout",
     "output_type": "stream",
     "text": [
      "welcome to the auto shop\n",
      "welcome to the bank\n"
     ]
    }
   ],
   "source": [
    "answer_dic = {'auto shop':'welcome to the auto shop', 'Bank': 'welcome to the bank'}\n",
    "print(answer_dic['auto shop'])\n",
    "print(answer_dic['Bank'])"
   ]
  },
  {
   "cell_type": "code",
   "execution_count": 65,
   "metadata": {},
   "outputs": [
    {
     "name": "stdout",
     "output_type": "stream",
     "text": [
      "where are you\n"
     ]
    }
   ],
   "source": [
    "print(answer_dic.get('CDC', 'where are you'))"
   ]
  },
  {
   "cell_type": "markdown",
   "metadata": {},
   "source": [
    "## For Loop"
   ]
  },
  {
   "cell_type": "code",
   "execution_count": 68,
   "metadata": {},
   "outputs": [
    {
     "name": "stdout",
     "output_type": "stream",
     "text": [
      "1\n",
      "4\n",
      "9\n",
      "16\n",
      "25\n",
      "36\n",
      "49\n",
      "64\n",
      "81\n",
      "100\n"
     ]
    }
   ],
   "source": [
    "l = [1,2,3,4,5,6,7,8,9,10]\n",
    "for qoo in l:\n",
    "    print(qoo * qoo)"
   ]
  },
  {
   "cell_type": "code",
   "execution_count": 71,
   "metadata": {},
   "outputs": [
    {
     "name": "stdout",
     "output_type": "stream",
     "text": [
      "1\n",
      "2\n",
      "3\n",
      "4\n",
      "5\n",
      "6\n",
      "7\n",
      "8\n",
      "9\n",
      "10\n"
     ]
    }
   ],
   "source": [
    "## Java: for(int i = 1; i< 11; i++)\n",
    "for num in range(1,11):\n",
    "    print(num)"
   ]
  },
  {
   "cell_type": "code",
   "execution_count": 73,
   "metadata": {},
   "outputs": [
    {
     "name": "stdout",
     "output_type": "stream",
     "text": [
      "0 1\n",
      "1 2\n",
      "3 3\n",
      "6 4\n",
      "10 5\n",
      "15 6\n",
      "21 7\n",
      "28 8\n",
      "36 9\n",
      "45 10\n",
      "55\n"
     ]
    }
   ],
   "source": [
    "list_num = 0\n",
    "for num in range(1,11):\n",
    "    print(list_num, num)\n",
    "    list_num = list_num + num\n",
    "print(list_num)"
   ]
  },
  {
   "cell_type": "code",
   "execution_count": 74,
   "metadata": {},
   "outputs": [
    {
     "name": "stdout",
     "output_type": "stream",
     "text": [
      "5050\n"
     ]
    }
   ],
   "source": [
    "list_num = 0\n",
    "for num in range(1,101):\n",
    "    list_num = list_num + num\n",
    "print(list_num)"
   ]
  },
  {
   "cell_type": "code",
   "execution_count": 75,
   "metadata": {},
   "outputs": [
    {
     "name": "stdout",
     "output_type": "stream",
     "text": [
      "5050\n"
     ]
    }
   ],
   "source": [
    "list_num = 0\n",
    "for num in range(1,101):\n",
    "    # list_num = list_num + num\n",
    "    list_num += num\n",
    "print(list_num)"
   ]
  },
  {
   "cell_type": "code",
   "execution_count": 77,
   "metadata": {},
   "outputs": [
    {
     "name": "stdout",
     "output_type": "stream",
     "text": [
      "t\n",
      "h\n",
      "i\n",
      "s\n",
      " \n",
      "i\n",
      "s\n",
      " \n",
      "a\n",
      " \n",
      "s\n",
      "t\n",
      "r\n",
      "i\n",
      "n\n",
      "g\n",
      ".\n"
     ]
    }
   ],
   "source": [
    "a = 'this is a string.'\n",
    "for s in a:\n",
    "    print(s)"
   ]
  },
  {
   "cell_type": "code",
   "execution_count": 80,
   "metadata": {},
   "outputs": [
    {
     "name": "stdout",
     "output_type": "stream",
     "text": [
      "1\n",
      "2\n",
      "3\n",
      "4\n",
      "5\n"
     ]
    }
   ],
   "source": [
    "a = (1,2,3,4,5)\n",
    "for l in a:\n",
    "    print(l)"
   ]
  },
  {
   "cell_type": "code",
   "execution_count": 86,
   "metadata": {},
   "outputs": [
    {
     "name": "stdout",
     "output_type": "stream",
     "text": [
      "(2, 4)\n",
      "(6, 8)\n",
      "(10, 12)\n",
      "2 4\n",
      "6 8\n",
      "10 12\n"
     ]
    }
   ],
   "source": [
    "l = [(2,4), (6,8), (10,12)]\n",
    "for tup in l:\n",
    "    print(tup)\n",
    "    \n",
    "for t1, t2 in l:\n",
    "    print(t1,t2)"
   ]
  },
  {
   "cell_type": "code",
   "execution_count": 91,
   "metadata": {},
   "outputs": [],
   "source": [
    "disease_name = ['侵襲性肺炎鏈球菌感染症', '急性病毒性Ａ型肝炎', '急性病毒性Ｃ型肝炎', '恙蟲病', '流感併發重症', '流行性腮腺炎', '登革熱']"
   ]
  },
  {
   "cell_type": "code",
   "execution_count": 92,
   "metadata": {
    "collapsed": true
   },
   "outputs": [],
   "source": [
    "disease_count = [7,7,10,14,101,12,8]"
   ]
  },
  {
   "cell_type": "code",
   "execution_count": 96,
   "metadata": {},
   "outputs": [
    {
     "name": "stdout",
     "output_type": "stream",
     "text": [
      "侵襲性肺炎鏈球菌感染症 7\n",
      "急性病毒性Ａ型肝炎 7\n",
      "急性病毒性Ｃ型肝炎 10\n",
      "恙蟲病 14\n",
      "流感併發重症 101\n",
      "流行性腮腺炎 12\n",
      "登革熱 8\n"
     ]
    }
   ],
   "source": [
    "len(disease_name)\n",
    "\n",
    "for i in range(0,len(disease_name)):\n",
    "    print(disease_name[i], disease_count[i])"
   ]
  },
  {
   "cell_type": "code",
   "execution_count": 98,
   "metadata": {},
   "outputs": [
    {
     "name": "stdout",
     "output_type": "stream",
     "text": [
      "('侵襲性肺炎鏈球菌感染症', 7)\n",
      "('急性病毒性Ａ型肝炎', 7)\n",
      "('急性病毒性Ｃ型肝炎', 10)\n",
      "('恙蟲病', 14)\n",
      "('流感併發重症', 101)\n",
      "('流行性腮腺炎', 12)\n",
      "('登革熱', 8)\n"
     ]
    }
   ],
   "source": [
    "for t in zip(disease_name, disease_count):\n",
    "    print(t)"
   ]
  },
  {
   "cell_type": "code",
   "execution_count": 99,
   "metadata": {},
   "outputs": [
    {
     "name": "stdout",
     "output_type": "stream",
     "text": [
      "侵襲性肺炎鏈球菌感染症 7\n",
      "急性病毒性Ａ型肝炎 7\n",
      "急性病毒性Ｃ型肝炎 10\n",
      "恙蟲病 14\n",
      "流感併發重症 101\n",
      "流行性腮腺炎 12\n",
      "登革熱 8\n"
     ]
    }
   ],
   "source": [
    "for t1, t2 in zip(disease_name, disease_count):\n",
    "    print(t1, t2)"
   ]
  },
  {
   "cell_type": "code",
   "execution_count": 100,
   "metadata": {},
   "outputs": [
    {
     "name": "stdout",
     "output_type": "stream",
     "text": [
      "k1\n",
      "k2\n",
      "k3\n"
     ]
    }
   ],
   "source": [
    "dic = {'k1':1, 'k2':2, 'k3':3}\n",
    "for item in dic:\n",
    "    print(item)"
   ]
  },
  {
   "cell_type": "code",
   "execution_count": 101,
   "metadata": {},
   "outputs": [
    {
     "name": "stdout",
     "output_type": "stream",
     "text": [
      "k1 1\n",
      "k2 2\n",
      "k3 3\n"
     ]
    }
   ],
   "source": [
    "for item in dic:\n",
    "    print(item, dic.get(item))"
   ]
  },
  {
   "cell_type": "code",
   "execution_count": 102,
   "metadata": {},
   "outputs": [
    {
     "data": {
      "text/plain": [
       "dict_keys(['k1', 'k2', 'k3'])"
      ]
     },
     "execution_count": 102,
     "metadata": {},
     "output_type": "execute_result"
    }
   ],
   "source": [
    "dic.keys()"
   ]
  },
  {
   "cell_type": "code",
   "execution_count": 103,
   "metadata": {},
   "outputs": [
    {
     "data": {
      "text/plain": [
       "dict_values([1, 2, 3])"
      ]
     },
     "execution_count": 103,
     "metadata": {},
     "output_type": "execute_result"
    }
   ],
   "source": [
    "dic.values()"
   ]
  },
  {
   "cell_type": "code",
   "execution_count": 105,
   "metadata": {},
   "outputs": [
    {
     "data": {
      "text/plain": [
       "dict_items([('k1', 1), ('k2', 2), ('k3', 3)])"
      ]
     },
     "execution_count": 105,
     "metadata": {},
     "output_type": "execute_result"
    }
   ],
   "source": [
    "dic.items()"
   ]
  },
  {
   "cell_type": "code",
   "execution_count": 106,
   "metadata": {},
   "outputs": [
    {
     "name": "stdout",
     "output_type": "stream",
     "text": [
      "k1 1\n",
      "k2 2\n",
      "k3 3\n"
     ]
    }
   ],
   "source": [
    "for k1,v1 in dic.items():\n",
    "    print(k1, v1)"
   ]
  },
  {
   "cell_type": "code",
   "execution_count": 107,
   "metadata": {},
   "outputs": [
    {
     "name": "stdout",
     "output_type": "stream",
     "text": [
      "1\n",
      "2\n",
      "3\n"
     ]
    }
   ],
   "source": [
    "li = [1,2,3]\n",
    "for item in li:\n",
    "    print(item)"
   ]
  },
  {
   "cell_type": "code",
   "execution_count": 108,
   "metadata": {},
   "outputs": [
    {
     "name": "stdout",
     "output_type": "stream",
     "text": [
      "1\n",
      "2\n",
      "3\n"
     ]
    }
   ],
   "source": [
    "for item in range(1,4):\n",
    "    print(item)"
   ]
  },
  {
   "cell_type": "code",
   "execution_count": 111,
   "metadata": {},
   "outputs": [
    {
     "name": "stdout",
     "output_type": "stream",
     "text": [
      "1\n",
      "2\n",
      "3\n"
     ]
    }
   ],
   "source": [
    "li = [1,2,3]\n",
    "print(li[0])\n",
    "print(li[1])\n",
    "print(li[2])"
   ]
  },
  {
   "cell_type": "code",
   "execution_count": 113,
   "metadata": {},
   "outputs": [
    {
     "name": "stdout",
     "output_type": "stream",
     "text": [
      "1\n",
      "2\n",
      "3\n"
     ]
    }
   ],
   "source": [
    "# rnage(0,3)\n",
    "for pos in range(0,len(li)):\n",
    "    print(li[pos])"
   ]
  },
  {
   "cell_type": "markdown",
   "metadata": {},
   "source": [
    "## revise hw1"
   ]
  },
  {
   "cell_type": "code",
   "execution_count": 114,
   "metadata": {
    "collapsed": true
   },
   "outputs": [],
   "source": [
    "disease = ['急性病毒性Ａ型肝炎', '登革熱', '急性病毒性Ｃ型肝炎', '流感併發重症', '流感併發重症', '流感併發重症', '流行性腮腺炎', '恙蟲病', '登革熱', '流感併發重症', '流感併發重症', '登革熱', '流感併發重症', '流感併發重症', '流感併發重症', '侵襲性肺炎鏈球菌感染症', '流行性腮腺炎', '流感併發重症', '流感併發重症', '侵襲性肺炎鏈球菌感染症', '流行性腮腺炎', '流感併發重症', '登革熱', '流行性腮腺炎', '流行性腮腺炎', '恙蟲病', '急性病毒性Ｃ型肝炎', '流行性腮腺炎', '流感併發重症', '流行性腮腺炎', '流感併發重症', '流感併發重症', '急性病毒性Ｃ型肝炎', '流感併發重症', '流感併發重症', '流感併發重症', '流感併發重症', '急性病毒性Ａ型肝炎', '侵襲性肺炎鏈球菌感染症', '流行性腮腺炎', '流感併發重症', '流感併發重症', '流感併發重症', '流感併發重症', '恙蟲病', '流感併發重症', '流感併發重症', '流感併發重症', '登革熱', '流感併發重症', '流感併發重症', '流感併發重症', '流感併發重症', '侵襲性肺炎鏈球菌感染症', '急性病毒性Ａ型肝炎', '流感併發重症', '流感併發重症', '流感併發重症', '流感併發重症', '流感併發重症', '流感併發重症', '流感併發重症', '流感併發重症', '流感併發重症', '流感併發重症', '急性病毒性Ｃ型肝炎', '流感併發重症', '急性病毒性Ｃ型肝炎', '恙蟲病', '急性病毒性Ｃ型肝炎', '流行性腮腺炎', '流感併發重症', '流感併發重症', '恙蟲病', '恙蟲病', '流感併發重症', '流感併發重症', '流感併發重症', '恙蟲病', '流感併發重症', '流感併發重症', '急性病毒性Ａ型肝炎', '流感併發重症', '流感併發重症', '流感併發重症', '流感併發重症', '流感併發重症', '流感併發重症', '流感併發重症', '流感併發重症', '流感併發重症', '流感併發重症', '流感併發重症', '流感併發重症', '登革熱', '流感併發重症', '流感併發重症', '流感併發重症', '流感併發重症', '流感併發重症', '恙蟲病', '流感併發重症', '流感併發重症', '流感併發重症', '流感併發重症', '流感併發重症', '流感併發重症', '流感併發重症', '流感併發重症', '急性病毒性Ｃ型肝炎', '流感併發重症', '流感併發重症', '恙蟲病', '流感併發重症', '流感併發重症', '恙蟲病', '流感併發重症', '流感併發重症', '流感併發重症', '急性病毒性Ａ型肝炎', '急性病毒性Ｃ型肝炎', '流感併發重症', '流感併發重症', '流感併發重症', '流感併發重症', '流感併發重症', '流行性腮腺炎', '恙蟲病', '恙蟲病', '侵襲性肺炎鏈球菌感染症', '流感併發重症', '流感併發重症', '流感併發重症', '流感併發重症', '急性病毒性Ａ型肝炎', '恙蟲病', '登革熱', '流感併發重症', '流感併發重症', '流行性腮腺炎', '流行性腮腺炎', '急性病毒性Ｃ型肝炎', '流感併發重症', '侵襲性肺炎鏈球菌感染症', '流感併發重症', '流感併發重症', '侵襲性肺炎鏈球菌感染症', '急性病毒性Ａ型肝炎', '流感併發重症', '流感併發重症', '登革熱', '流感併發重症', '流感併發重症', '流感併發重症', '流感併發重症', '急性病毒性Ｃ型肝炎', '恙蟲病', '流感併發重症', '流感併發重症']"
   ]
  },
  {
   "cell_type": "code",
   "execution_count": 115,
   "metadata": {},
   "outputs": [
    {
     "data": {
      "text/plain": [
       "{'侵襲性肺炎鏈球菌感染症', '急性病毒性Ａ型肝炎', '急性病毒性Ｃ型肝炎', '恙蟲病', '流感併發重症', '流行性腮腺炎', '登革熱'}"
      ]
     },
     "execution_count": 115,
     "metadata": {},
     "output_type": "execute_result"
    }
   ],
   "source": [
    "set(disease)"
   ]
  },
  {
   "cell_type": "code",
   "execution_count": 117,
   "metadata": {},
   "outputs": [
    {
     "name": "stdout",
     "output_type": "stream",
     "text": [
      "登革熱 8\n",
      "急性病毒性Ｃ型肝炎 10\n",
      "急性病毒性Ａ型肝炎 7\n",
      "流行性腮腺炎 12\n",
      "恙蟲病 14\n",
      "侵襲性肺炎鏈球菌感染症 7\n",
      "流感併發重症 101\n"
     ]
    }
   ],
   "source": [
    "for d in set(disease):\n",
    "    print(d, disease.count(d))"
   ]
  },
  {
   "cell_type": "code",
   "execution_count": 119,
   "metadata": {},
   "outputs": [],
   "source": [
    "disease_dic = {}\n",
    "for d in set(disease):\n",
    "    diseiease_dic[d] = disease.count(d)"
   ]
  },
  {
   "cell_type": "code",
   "execution_count": 120,
   "metadata": {},
   "outputs": [
    {
     "data": {
      "text/plain": [
       "{'侵襲性肺炎鏈球菌感染症': 7,\n",
       " '急性病毒性Ａ型肝炎': 7,\n",
       " '急性病毒性Ｃ型肝炎': 10,\n",
       " '恙蟲病': 14,\n",
       " '流感併發重症': 101,\n",
       " '流行性腮腺炎': 12,\n",
       " '登革熱': 8}"
      ]
     },
     "execution_count": 120,
     "metadata": {},
     "output_type": "execute_result"
    }
   ],
   "source": [
    "disease_dic"
   ]
  },
  {
   "cell_type": "code",
   "execution_count": 131,
   "metadata": {},
   "outputs": [
    {
     "data": {
      "text/plain": [
       "[('急性病毒性Ａ型肝炎', 7),\n",
       " ('侵襲性肺炎鏈球菌感染症', 7),\n",
       " ('登革熱', 8),\n",
       " ('急性病毒性Ｃ型肝炎', 10),\n",
       " ('流行性腮腺炎', 12),\n",
       " ('恙蟲病', 14),\n",
       " ('流感併發重症', 101)]"
      ]
     },
     "execution_count": 131,
     "metadata": {},
     "output_type": "execute_result"
    }
   ],
   "source": [
    "from operator import itemgetter\n",
    "#disease_dic.items()\n",
    "swd = sorted(disease_dic.items(), key=itemgetter(1), reverse=False)\n",
    "swd\n"
   ]
  },
  {
   "cell_type": "markdown",
   "metadata": {},
   "source": [
    "## Use Collections\n",
    "- https://docs.python.org/3.6/library/collections.html"
   ]
  },
  {
   "cell_type": "code",
   "execution_count": 121,
   "metadata": {},
   "outputs": [
    {
     "data": {
      "text/plain": [
       "Counter({'侵襲性肺炎鏈球菌感染症': 7,\n",
       "         '急性病毒性Ａ型肝炎': 7,\n",
       "         '急性病毒性Ｃ型肝炎': 10,\n",
       "         '恙蟲病': 14,\n",
       "         '流感併發重症': 101,\n",
       "         '流行性腮腺炎': 12,\n",
       "         '登革熱': 8})"
      ]
     },
     "execution_count": 121,
     "metadata": {},
     "output_type": "execute_result"
    }
   ],
   "source": [
    "from collections import Counter\n",
    "disease = ['急性病毒性Ａ型肝炎', '登革熱', '急性病毒性Ｃ型肝炎', '流感併發重症', '流感併發重症', '流感併發重症', '流行性腮腺炎', '恙蟲病', '登革熱', '流感併發重症', '流感併發重症', '登革熱', '流感併發重症', '流感併發重症', '流感併發重症', '侵襲性肺炎鏈球菌感染症', '流行性腮腺炎', '流感併發重症', '流感併發重症', '侵襲性肺炎鏈球菌感染症', '流行性腮腺炎', '流感併發重症', '登革熱', '流行性腮腺炎', '流行性腮腺炎', '恙蟲病', '急性病毒性Ｃ型肝炎', '流行性腮腺炎', '流感併發重症', '流行性腮腺炎', '流感併發重症', '流感併發重症', '急性病毒性Ｃ型肝炎', '流感併發重症', '流感併發重症', '流感併發重症', '流感併發重症', '急性病毒性Ａ型肝炎', '侵襲性肺炎鏈球菌感染症', '流行性腮腺炎', '流感併發重症', '流感併發重症', '流感併發重症', '流感併發重症', '恙蟲病', '流感併發重症', '流感併發重症', '流感併發重症', '登革熱', '流感併發重症', '流感併發重症', '流感併發重症', '流感併發重症', '侵襲性肺炎鏈球菌感染症', '急性病毒性Ａ型肝炎', '流感併發重症', '流感併發重症', '流感併發重症', '流感併發重症', '流感併發重症', '流感併發重症', '流感併發重症', '流感併發重症', '流感併發重症', '流感併發重症', '急性病毒性Ｃ型肝炎', '流感併發重症', '急性病毒性Ｃ型肝炎', '恙蟲病', '急性病毒性Ｃ型肝炎', '流行性腮腺炎', '流感併發重症', '流感併發重症', '恙蟲病', '恙蟲病', '流感併發重症', '流感併發重症', '流感併發重症', '恙蟲病', '流感併發重症', '流感併發重症', '急性病毒性Ａ型肝炎', '流感併發重症', '流感併發重症', '流感併發重症', '流感併發重症', '流感併發重症', '流感併發重症', '流感併發重症', '流感併發重症', '流感併發重症', '流感併發重症', '流感併發重症', '流感併發重症', '登革熱', '流感併發重症', '流感併發重症', '流感併發重症', '流感併發重症', '流感併發重症', '恙蟲病', '流感併發重症', '流感併發重症', '流感併發重症', '流感併發重症', '流感併發重症', '流感併發重症', '流感併發重症', '流感併發重症', '急性病毒性Ｃ型肝炎', '流感併發重症', '流感併發重症', '恙蟲病', '流感併發重症', '流感併發重症', '恙蟲病', '流感併發重症', '流感併發重症', '流感併發重症', '急性病毒性Ａ型肝炎', '急性病毒性Ｃ型肝炎', '流感併發重症', '流感併發重症', '流感併發重症', '流感併發重症', '流感併發重症', '流行性腮腺炎', '恙蟲病', '恙蟲病', '侵襲性肺炎鏈球菌感染症', '流感併發重症', '流感併發重症', '流感併發重症', '流感併發重症', '急性病毒性Ａ型肝炎', '恙蟲病', '登革熱', '流感併發重症', '流感併發重症', '流行性腮腺炎', '流行性腮腺炎', '急性病毒性Ｃ型肝炎', '流感併發重症', '侵襲性肺炎鏈球菌感染症', '流感併發重症', '流感併發重症', '侵襲性肺炎鏈球菌感染症', '急性病毒性Ａ型肝炎', '流感併發重症', '流感併發重症', '登革熱', '流感併發重症', '流感併發重症', '流感併發重症', '流感併發重症', '急性病毒性Ｃ型肝炎', '恙蟲病', '流感併發重症', '流感併發重症']\n",
    "c = Counter(disease)\n",
    "c"
   ]
  },
  {
   "cell_type": "code",
   "execution_count": 133,
   "metadata": {},
   "outputs": [
    {
     "data": {
      "text/plain": [
       "[('侵襲性肺炎鏈球菌感染症', 7),\n",
       " ('急性病毒性Ａ型肝炎', 7),\n",
       " ('登革熱', 8),\n",
       " ('急性病毒性Ｃ型肝炎', 10),\n",
       " ('流行性腮腺炎', 12),\n",
       " ('恙蟲病', 14),\n",
       " ('流感併發重症', 101)]"
      ]
     },
     "execution_count": 133,
     "metadata": {},
     "output_type": "execute_result"
    }
   ],
   "source": [
    "# for (i = len(disease_dic); i > 0 ; i--)\n",
    "c.most_common()[::-1]"
   ]
  },
  {
   "cell_type": "code",
   "execution_count": 123,
   "metadata": {
    "collapsed": true
   },
   "outputs": [],
   "source": [
    "?c"
   ]
  },
  {
   "cell_type": "markdown",
   "metadata": {},
   "source": [
    "## use pandas"
   ]
  },
  {
   "cell_type": "code",
   "execution_count": 138,
   "metadata": {
    "collapsed": true
   },
   "outputs": [],
   "source": [
    "disease_ary = []\n",
    "for d in set(disease):\n",
    "    disease_ary.append((d, disease.count(d)))"
   ]
  },
  {
   "cell_type": "code",
   "execution_count": 139,
   "metadata": {},
   "outputs": [
    {
     "data": {
      "text/html": [
       "<div>\n",
       "<style>\n",
       "    .dataframe thead tr:only-child th {\n",
       "        text-align: right;\n",
       "    }\n",
       "\n",
       "    .dataframe thead th {\n",
       "        text-align: left;\n",
       "    }\n",
       "\n",
       "    .dataframe tbody tr th {\n",
       "        vertical-align: top;\n",
       "    }\n",
       "</style>\n",
       "<table border=\"1\" class=\"dataframe\">\n",
       "  <thead>\n",
       "    <tr style=\"text-align: right;\">\n",
       "      <th></th>\n",
       "      <th>0</th>\n",
       "      <th>1</th>\n",
       "    </tr>\n",
       "  </thead>\n",
       "  <tbody>\n",
       "    <tr>\n",
       "      <th>0</th>\n",
       "      <td>登革熱</td>\n",
       "      <td>8</td>\n",
       "    </tr>\n",
       "    <tr>\n",
       "      <th>1</th>\n",
       "      <td>急性病毒性Ｃ型肝炎</td>\n",
       "      <td>10</td>\n",
       "    </tr>\n",
       "    <tr>\n",
       "      <th>2</th>\n",
       "      <td>急性病毒性Ａ型肝炎</td>\n",
       "      <td>7</td>\n",
       "    </tr>\n",
       "    <tr>\n",
       "      <th>3</th>\n",
       "      <td>流行性腮腺炎</td>\n",
       "      <td>12</td>\n",
       "    </tr>\n",
       "    <tr>\n",
       "      <th>4</th>\n",
       "      <td>恙蟲病</td>\n",
       "      <td>14</td>\n",
       "    </tr>\n",
       "    <tr>\n",
       "      <th>5</th>\n",
       "      <td>侵襲性肺炎鏈球菌感染症</td>\n",
       "      <td>7</td>\n",
       "    </tr>\n",
       "    <tr>\n",
       "      <th>6</th>\n",
       "      <td>流感併發重症</td>\n",
       "      <td>101</td>\n",
       "    </tr>\n",
       "  </tbody>\n",
       "</table>\n",
       "</div>"
      ],
      "text/plain": [
       "             0    1\n",
       "0          登革熱    8\n",
       "1    急性病毒性Ｃ型肝炎   10\n",
       "2    急性病毒性Ａ型肝炎    7\n",
       "3       流行性腮腺炎   12\n",
       "4          恙蟲病   14\n",
       "5  侵襲性肺炎鏈球菌感染症    7\n",
       "6       流感併發重症  101"
      ]
     },
     "execution_count": 139,
     "metadata": {},
     "output_type": "execute_result"
    }
   ],
   "source": [
    "import pandas\n",
    "df = pandas.DataFrame(disease_ary)\n",
    "df"
   ]
  },
  {
   "cell_type": "code",
   "execution_count": 140,
   "metadata": {
    "collapsed": true
   },
   "outputs": [],
   "source": [
    "df.columns = ['Disease', 'Count']"
   ]
  },
  {
   "cell_type": "code",
   "execution_count": 142,
   "metadata": {},
   "outputs": [
    {
     "data": {
      "text/html": [
       "<div>\n",
       "<style>\n",
       "    .dataframe thead tr:only-child th {\n",
       "        text-align: right;\n",
       "    }\n",
       "\n",
       "    .dataframe thead th {\n",
       "        text-align: left;\n",
       "    }\n",
       "\n",
       "    .dataframe tbody tr th {\n",
       "        vertical-align: top;\n",
       "    }\n",
       "</style>\n",
       "<table border=\"1\" class=\"dataframe\">\n",
       "  <thead>\n",
       "    <tr style=\"text-align: right;\">\n",
       "      <th></th>\n",
       "      <th>Disease</th>\n",
       "      <th>Count</th>\n",
       "    </tr>\n",
       "  </thead>\n",
       "  <tbody>\n",
       "    <tr>\n",
       "      <th>2</th>\n",
       "      <td>急性病毒性Ａ型肝炎</td>\n",
       "      <td>7</td>\n",
       "    </tr>\n",
       "    <tr>\n",
       "      <th>5</th>\n",
       "      <td>侵襲性肺炎鏈球菌感染症</td>\n",
       "      <td>7</td>\n",
       "    </tr>\n",
       "    <tr>\n",
       "      <th>0</th>\n",
       "      <td>登革熱</td>\n",
       "      <td>8</td>\n",
       "    </tr>\n",
       "    <tr>\n",
       "      <th>1</th>\n",
       "      <td>急性病毒性Ｃ型肝炎</td>\n",
       "      <td>10</td>\n",
       "    </tr>\n",
       "    <tr>\n",
       "      <th>3</th>\n",
       "      <td>流行性腮腺炎</td>\n",
       "      <td>12</td>\n",
       "    </tr>\n",
       "    <tr>\n",
       "      <th>4</th>\n",
       "      <td>恙蟲病</td>\n",
       "      <td>14</td>\n",
       "    </tr>\n",
       "    <tr>\n",
       "      <th>6</th>\n",
       "      <td>流感併發重症</td>\n",
       "      <td>101</td>\n",
       "    </tr>\n",
       "  </tbody>\n",
       "</table>\n",
       "</div>"
      ],
      "text/plain": [
       "       Disease  Count\n",
       "2    急性病毒性Ａ型肝炎      7\n",
       "5  侵襲性肺炎鏈球菌感染症      7\n",
       "0          登革熱      8\n",
       "1    急性病毒性Ｃ型肝炎     10\n",
       "3       流行性腮腺炎     12\n",
       "4          恙蟲病     14\n",
       "6       流感併發重症    101"
      ]
     },
     "execution_count": 142,
     "metadata": {},
     "output_type": "execute_result"
    }
   ],
   "source": [
    "df.sort_values('Count')"
   ]
  },
  {
   "cell_type": "code",
   "execution_count": 143,
   "metadata": {
    "collapsed": true
   },
   "outputs": [],
   "source": [
    "df.index = df['Disease']"
   ]
  },
  {
   "cell_type": "code",
   "execution_count": 145,
   "metadata": {},
   "outputs": [
    {
     "name": "stdout",
     "output_type": "stream",
     "text": [
      "Populating the interactive namespace from numpy and matplotlib\n"
     ]
    },
    {
     "data": {
      "text/plain": [
       "<matplotlib.axes._subplots.AxesSubplot at 0x9698ac8>"
      ]
     },
     "execution_count": 145,
     "metadata": {},
     "output_type": "execute_result"
    },
    {
     "data": {
      "image/png": "[encoded data removed]",
      "text/plain": [
       "<matplotlib.figure.Figure at 0x5186f60>"
      ]
     },
     "metadata": {},
     "output_type": "display_data"
    }
   ],
   "source": [
    "%pylab inline\n",
    "df['Count'].plot(kind='bar')"
   ]
  },
  {
   "cell_type": "code",
   "execution_count": 146,
   "metadata": {
    "collapsed": true
   },
   "outputs": [],
   "source": [
    "df.to_excel('disease.xlsx')"
   ]
  },
  {
   "cell_type": "markdown",
   "metadata": {},
   "source": [
    "## Iterator"
   ]
  },
  {
   "cell_type": "code",
   "execution_count": 148,
   "metadata": {},
   "outputs": [
    {
     "name": "stdout",
     "output_type": "stream",
     "text": [
      "1\n",
      "2\n",
      "3\n",
      "4\n",
      "5\n",
      "1\n",
      "2\n",
      "3\n",
      "4\n",
      "5\n"
     ]
    }
   ],
   "source": [
    "s = [1,2,3,4,5]\n",
    "for l in s:\n",
    "    print(l)\n",
    "for l in s:\n",
    "    print(l)"
   ]
  },
  {
   "cell_type": "code",
   "execution_count": 150,
   "metadata": {},
   "outputs": [
    {
     "data": {
      "text/plain": [
       "1"
      ]
     },
     "execution_count": 150,
     "metadata": {},
     "output_type": "execute_result"
    }
   ],
   "source": [
    "s_iter = iter(s)\n",
    "next(s_iter)"
   ]
  },
  {
   "cell_type": "code",
   "execution_count": 151,
   "metadata": {},
   "outputs": [
    {
     "data": {
      "text/plain": [
       "2"
      ]
     },
     "execution_count": 151,
     "metadata": {},
     "output_type": "execute_result"
    }
   ],
   "source": [
    "next(s_iter)"
   ]
  },
  {
   "cell_type": "code",
   "execution_count": 152,
   "metadata": {},
   "outputs": [
    {
     "data": {
      "text/plain": [
       "3"
      ]
     },
     "execution_count": 152,
     "metadata": {},
     "output_type": "execute_result"
    }
   ],
   "source": [
    "next(s_iter)"
   ]
  },
  {
   "cell_type": "code",
   "execution_count": 153,
   "metadata": {},
   "outputs": [
    {
     "data": {
      "text/plain": [
       "4"
      ]
     },
     "execution_count": 153,
     "metadata": {},
     "output_type": "execute_result"
    }
   ],
   "source": [
    "next(s_iter)"
   ]
  },
  {
   "cell_type": "code",
   "execution_count": 154,
   "metadata": {},
   "outputs": [
    {
     "data": {
      "text/plain": [
       "5"
      ]
     },
     "execution_count": 154,
     "metadata": {},
     "output_type": "execute_result"
    }
   ],
   "source": [
    "next(s_iter)"
   ]
  },
  {
   "cell_type": "code",
   "execution_count": 155,
   "metadata": {},
   "outputs": [
    {
     "ename": "StopIteration",
     "evalue": "",
     "output_type": "error",
     "traceback": [
      "\u001b[1;31m---------------------------------------------------------------------------\u001b[0m",
      "\u001b[1;31mStopIteration\u001b[0m                             Traceback (most recent call last)",
      "\u001b[1;32m<ipython-input-155-d24ba86a3c4d>\u001b[0m in \u001b[0;36m<module>\u001b[1;34m()\u001b[0m\n\u001b[1;32m----> 1\u001b[1;33m \u001b[0mnext\u001b[0m\u001b[1;33m(\u001b[0m\u001b[0ms_iter\u001b[0m\u001b[1;33m)\u001b[0m\u001b[1;33m\u001b[0m\u001b[0m\n\u001b[0m",
      "\u001b[1;31mStopIteration\u001b[0m: "
     ]
    }
   ],
   "source": [
    "next(s_iter)"
   ]
  },
  {
   "cell_type": "markdown",
   "metadata": {},
   "source": [
    "## While"
   ]
  },
  {
   "cell_type": "code",
   "execution_count": 158,
   "metadata": {},
   "outputs": [
    {
     "name": "stdout",
     "output_type": "stream",
     "text": [
      "this is an infinite loop\n",
      "this is an infinite loop\n",
      "this is an infinite loop\n",
      "this is an infinite loop\n",
      "this is an infinite loop\n",
      "this is an infinite loop\n",
      "this is an infinite loop\n",
      "this is an infinite loop\n",
      "this is an infinite loop\n",
      "this is an infinite loop\n"
     ]
    }
   ],
   "source": [
    "x = 0 \n",
    "while x < 10:\n",
    "    print(\"this is an infinite loop\")\n",
    "    #x =x +1\n",
    "    x += 1"
   ]
  },
  {
   "cell_type": "code",
   "execution_count": 159,
   "metadata": {},
   "outputs": [
    {
     "name": "stdout",
     "output_type": "stream",
     "text": [
      "this is a finite loop\n",
      "this is a finite loop\n",
      "this is a finite loop\n",
      "this is a finite loop\n",
      "this is a finite loop\n",
      "this is a finite loop\n",
      "this is a finite loop\n",
      "this is a finite loop\n",
      "this is a finite loop\n",
      "this is a finite loop\n",
      "All Done\n"
     ]
    }
   ],
   "source": [
    "x = 0 \n",
    "while x < 10:\n",
    "    print(\"this is a finite loop\")\n",
    "    #x =x +1\n",
    "    x += 1\n",
    "else:\n",
    "    print('All Done')"
   ]
  },
  {
   "cell_type": "code",
   "execution_count": 162,
   "metadata": {},
   "outputs": [
    {
     "name": "stdout",
     "output_type": "stream",
     "text": [
      "current x is  1\n",
      "continuing\n",
      "current x is  2\n",
      "continuing\n",
      "current x is  3\n",
      "x==3\n"
     ]
    }
   ],
   "source": [
    "x = 0 \n",
    "while x < 10:\n",
    "    x += 1\n",
    "    print('current x is ', x)\n",
    "    if x==3:\n",
    "        print('x==3')\n",
    "        break\n",
    "    else:\n",
    "        print('continuing')\n",
    "        continue\n",
    "    print('what else')\n",
    "    "
   ]
  },
  {
   "cell_type": "code",
   "execution_count": 165,
   "metadata": {},
   "outputs": [
    {
     "name": "stdout",
     "output_type": "stream",
     "text": [
      "2017-07-19 13:48:01.588388\n",
      "2017-07-19 13:48:06.590530\n",
      "2017-07-19 13:48:11.603064\n",
      "2017-07-19 13:48:16.605399\n",
      "2017-07-19 13:48:21.607734\n",
      "2017-07-19 13:48:26.620695\n"
     ]
    },
    {
     "ename": "KeyboardInterrupt",
     "evalue": "",
     "output_type": "error",
     "traceback": [
      "\u001b[1;31m---------------------------------------------------------------------------\u001b[0m",
      "\u001b[1;31mKeyboardInterrupt\u001b[0m                         Traceback (most recent call last)",
      "\u001b[1;32m<ipython-input-165-ac9a57a5d7a3>\u001b[0m in \u001b[0;36m<module>\u001b[1;34m()\u001b[0m\n\u001b[0;32m      3\u001b[0m \u001b[1;32mwhile\u001b[0m \u001b[1;32mTrue\u001b[0m\u001b[1;33m:\u001b[0m\u001b[1;33m\u001b[0m\u001b[0m\n\u001b[0;32m      4\u001b[0m     \u001b[0mprint\u001b[0m\u001b[1;33m(\u001b[0m\u001b[0mdatetime\u001b[0m\u001b[1;33m.\u001b[0m\u001b[0mnow\u001b[0m\u001b[1;33m(\u001b[0m\u001b[1;33m)\u001b[0m\u001b[1;33m)\u001b[0m\u001b[1;33m\u001b[0m\u001b[0m\n\u001b[1;32m----> 5\u001b[1;33m     \u001b[0mtime\u001b[0m\u001b[1;33m.\u001b[0m\u001b[0msleep\u001b[0m\u001b[1;33m(\u001b[0m\u001b[1;36m5\u001b[0m\u001b[1;33m)\u001b[0m\u001b[1;33m\u001b[0m\u001b[0m\n\u001b[0m",
      "\u001b[1;31mKeyboardInterrupt\u001b[0m: "
     ]
    }
   ],
   "source": [
    "import time\n",
    "from datetime import datetime\n",
    "while True:\n",
    "    print(datetime.now())\n",
    "    time.sleep(5)"
   ]
  },
  {
   "cell_type": "code",
   "execution_count": 166,
   "metadata": {},
   "outputs": [
    {
     "name": "stdout",
     "output_type": "stream",
     "text": [
      "David\n",
      "Hi Hi David\n",
      "John\n",
      "Hi Hi John\n",
      "DONE\n"
     ]
    }
   ],
   "source": [
    "while True:\n",
    "    answer = input()\n",
    "    if answer == 'DONE':\n",
    "        break\n",
    "    else:\n",
    "        print('Hi Hi', answer)"
   ]
  },
  {
   "cell_type": "markdown",
   "metadata": {},
   "source": [
    "## File operation"
   ]
  },
  {
   "cell_type": "code",
   "execution_count": 168,
   "metadata": {
    "collapsed": true
   },
   "outputs": [],
   "source": [
    "# w => write\n",
    "fid = open('test.txt', 'w')\n",
    "fid.write('Hello\\nWorld')\n",
    "fid.close()"
   ]
  },
  {
   "cell_type": "code",
   "execution_count": 169,
   "metadata": {
    "collapsed": true
   },
   "outputs": [],
   "source": [
    "with open('test.txt', 'w') as fid:\n",
    "    fid.write('THIS IS A TEST')"
   ]
  },
  {
   "cell_type": "code",
   "execution_count": 172,
   "metadata": {
    "collapsed": true
   },
   "outputs": [],
   "source": [
    "fid = open('test.txt', 'w')\n",
    "fid.write('侵襲性肺炎鏈球菌感染症: 7\\n')\n",
    "fid.write('急性病毒性Ａ型肝炎: 7\\n')\n",
    "fid.close()"
   ]
  },
  {
   "cell_type": "code",
   "execution_count": 173,
   "metadata": {
    "collapsed": true
   },
   "outputs": [],
   "source": [
    "# a => append\n",
    "fid = open('test.txt', 'a')\n",
    "fid.write('急性病毒性Ｃ型肝炎: 10')\n",
    "fid.close()\n"
   ]
  },
  {
   "cell_type": "code",
   "execution_count": 178,
   "metadata": {},
   "outputs": [
    {
     "name": "stdout",
     "output_type": "stream",
     "text": [
      "侵襲性肺炎鏈球菌感染症: 7\n",
      "急性病毒性Ａ型肝炎: 7\n",
      "急性病毒性Ｃ型肝炎: 10\n"
     ]
    }
   ],
   "source": [
    "# r => read\n",
    "with open('test.txt' , 'r') as fid:\n",
    "    for line in fid:\n",
    "        print(line.strip())"
   ]
  },
  {
   "cell_type": "code",
   "execution_count": 181,
   "metadata": {},
   "outputs": [
    {
     "name": "stdout",
     "output_type": "stream",
     "text": [
      "急性病毒性Ａ型肝炎: 7\n",
      "急性病毒性Ｃ型肝炎: 10\n"
     ]
    }
   ],
   "source": [
    "with open('test.txt' , 'r') as fid:\n",
    "    for line in fid:\n",
    "        if '肝炎' in line:\n",
    "            print(line.strip())"
   ]
  },
  {
   "cell_type": "code",
   "execution_count": 180,
   "metadata": {},
   "outputs": [
    {
     "data": {
      "text/plain": [
       "False"
      ]
     },
     "execution_count": 180,
     "metadata": {},
     "output_type": "execute_result"
    }
   ],
   "source": [
    "'肝炎' in '侵襲性肺炎鏈球菌感染症'"
   ]
  },
  {
   "cell_type": "code",
   "execution_count": 177,
   "metadata": {},
   "outputs": [
    {
     "name": "stdout",
     "output_type": "stream",
     "text": [
      "THIS IS A TEST\n"
     ]
    }
   ],
   "source": [
    "s = '            THIS IS A TEST       \\n\\n\\n   '\n",
    "print(s.strip())"
   ]
  },
  {
   "cell_type": "code",
   "execution_count": 182,
   "metadata": {},
   "outputs": [],
   "source": [
    "with open('test.txt', 'r') as fid:\n",
    "    s = fid.read()"
   ]
  },
  {
   "cell_type": "code",
   "execution_count": 183,
   "metadata": {},
   "outputs": [
    {
     "data": {
      "text/plain": [
       "'侵襲性肺炎鏈球菌感染症: 7\\n急性病毒性Ａ型肝炎: 7\\n急性病毒性Ｃ型肝炎: 10'"
      ]
     },
     "execution_count": 183,
     "metadata": {},
     "output_type": "execute_result"
    }
   ],
   "source": [
    "s"
   ]
  },
  {
   "cell_type": "code",
   "execution_count": 185,
   "metadata": {
    "scrolled": true
   },
   "outputs": [
    {
     "data": {
      "text/plain": [
       "22"
      ]
     },
     "execution_count": 185,
     "metadata": {},
     "output_type": "execute_result"
    }
   ],
   "source": [
    "with open('news.txt' , 'r', encoding='UTF-8') as fid:\n",
    "    news = fid.read()\n",
    "news.count('誠品')"
   ]
  },
  {
   "cell_type": "code",
   "execution_count": 186,
   "metadata": {},
   "outputs": [
    {
     "data": {
      "text/plain": [
       "22"
      ]
     },
     "execution_count": 186,
     "metadata": {},
     "output_type": "execute_result"
    }
   ],
   "source": [
    "with open('C:\\\\Users\\\\nc20\\\\news.txt' , 'r', encoding='UTF-8') as fid:\n",
    "    news = fid.read()\n",
    "news.count('誠品')"
   ]
  },
  {
   "cell_type": "code",
   "execution_count": 190,
   "metadata": {},
   "outputs": [
    {
     "name": "stdout",
     "output_type": "stream",
     "text": [
      "news.txt 22\n",
      "news1.txt 20\n",
      "news2.txt 5\n"
     ]
    }
   ],
   "source": [
    "import os\n",
    "for f in os.listdir('C:\\\\Users\\\\nc20\\\\archive'):\n",
    "    with open('C:\\\\Users\\\\nc20\\\\archive\\\\' + f , 'r', encoding='UTF-8') as fid:\n",
    "        news = fid.read()\n",
    "    print(f, news.count('誠品'))"
   ]
  },
  {
   "cell_type": "code",
   "execution_count": 191,
   "metadata": {},
   "outputs": [
    {
     "name": "stdout",
     "output_type": "stream",
     "text": [
      "3\n"
     ]
    }
   ],
   "source": [
    "line_num = 0\n",
    "with open('test.txt', 'r') as fid:\n",
    "    for line in fid:\n",
    "        line_num += 1\n",
    "print(line_num)"
   ]
  },
  {
   "cell_type": "code",
   "execution_count": 193,
   "metadata": {},
   "outputs": [
    {
     "name": "stdout",
     "output_type": "stream",
     "text": [
      "3\n"
     ]
    }
   ],
   "source": [
    "line_ary = []\n",
    "with open('test.txt', 'r') as fid:\n",
    "    for line in fid:\n",
    "        line_ary.append(line)\n",
    "print(len(line_ary))"
   ]
  },
  {
   "cell_type": "code",
   "execution_count": 195,
   "metadata": {},
   "outputs": [
    {
     "data": {
      "text/plain": [
       "3"
      ]
     },
     "execution_count": 195,
     "metadata": {},
     "output_type": "execute_result"
    }
   ],
   "source": [
    "len([line for line in open('test.txt', 'r')])"
   ]
  },
  {
   "cell_type": "code",
   "execution_count": null,
   "metadata": {
    "collapsed": true
   },
   "outputs": [],
   "source": []
  }
 ],
 "metadata": {
  "kernelspec": {
   "display_name": "Python 3",
   "language": "python",
   "name": "python3"
  },
  "language_info": {
   "codemirror_mode": {
    "name": "ipython",
    "version": 3
   },
   "file_extension": ".py",
   "mimetype": "text/x-python",
   "name": "python",
   "nbconvert_exporter": "python",
   "pygments_lexer": "ipython3",
   "version": "3.6.1"
  }
 },
 "nbformat": 4,
 "nbformat_minor": 2
}
