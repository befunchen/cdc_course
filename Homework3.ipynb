{
 "cells": [
  {
   "cell_type": "markdown",
   "metadata": {},
   "source": [
    "## 問題描述\n",
    "\n",
    "為了能夠提供民眾更好的疾病問答服務，您必須撰寫一個自動疾病問答機器人。而為了能夠將程式結構化，您必須把機器人程式包裝成一物件 robot, 該機器人需要包含以下功能：\n",
    "\n",
    "#### 1. 使用者在建立物件時，可以給予機器人的年齡(age)與性別(gender)\n",
    "#### 2. 為機器人建立函式 getRobotProperty: 可以列印出機器人的年齡與性別\n",
    "#### 3. 為機器人建立函式 getMessage 可以接收使用者打的訊息, 並根據使用者的輸入檢查是否有包含問題字樣,如果有的話會自動回傳預設好的訊息, 沒有包含下列字樣的話將回傳\"Haha, I do not know what you are talking about!\"\n",
    "\n",
    "\n",
    "#### 輸入範例如下\n",
    "\"請問什麼是登革熱?\"\n",
    "#### 輸出範例如下\n",
    "\"登革熱（Dengue fever），是一種由登革病毒所引起的急性傳染病，這種病毒會經由蚊子傳播給人類。並且依據不同的血清型病毒，分為Ⅰ、Ⅱ、Ⅲ、Ⅳ四種型別，而每一型都具有能感染致病的能力。\n",
    "患者感染到某一型的登革病毒，就會對那一型的病毒具有終身免疫，但是對於其他型別的登革病毒僅具有短暫的免疫力，還是有可能再感染其他血清型別病毒。\n",
    "臨床上重複感染不同型登革病毒，可引起宿主不同程度的反應，從輕微或不明顯的症狀，到發燒、出疹的典型登革熱，或出現嗜睡、躁動不安、肝臟腫大等警示徵象，甚至可能導致嚴重出血或嚴重器官損傷的登革熱重症。\n",
    "全球登革熱的好發地區，主要集中在熱帶、亞熱帶等有埃及斑蚊和白線斑蚊分布的國家，隨著全球化發展逐漸便利，各國之間相互流通及往返也趨於頻繁，自1980年代之後，登革熱也開始向各國蔓延，成為嚴重的公共衛生問題。臺灣位於亞熱帶地區，像這樣有點熱、又有點溼的環境，正是蚊子最喜歡的生長環境，為登革熱流行高風險地區。\""
   ]
  },
  {
   "cell_type": "markdown",
   "metadata": {
    "collapsed": true
   },
   "source": [
    "#### 問題關鍵字與答案皆放置在(https://github.com/ywchiu/cdc_course/blob/master/data/cdc_answer.tsv)中"
   ]
  },
  {
   "cell_type": "code",
   "execution_count": null,
   "metadata": {
    "collapsed": true
   },
   "outputs": [],
   "source": []
  }
 ],
 "metadata": {
  "kernelspec": {
   "display_name": "Python 3",
   "language": "python",
   "name": "python3"
  },
  "language_info": {
   "codemirror_mode": {
    "name": "ipython",
    "version": 3
   },
   "file_extension": ".py",
   "mimetype": "text/x-python",
   "name": "python",
   "nbconvert_exporter": "python",
   "pygments_lexer": "ipython3",
   "version": "3.6.0"
  }
 },
 "nbformat": 4,
 "nbformat_minor": 2
}
