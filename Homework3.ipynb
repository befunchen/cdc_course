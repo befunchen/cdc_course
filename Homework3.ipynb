{
 "cells": [
  {
   "cell_type": "markdown",
   "metadata": {},
   "source": [
    "## 問題描述\n",
    "\n",
    "為了能夠提供民眾更好的疾病問答服務，您必須撰寫一個自動疾病問答機器人。而為了能夠將程式結構化，您必須把機器人程式包裝成一物件 robot, 該機器人需要包含以下功能：\n",
    "\n",
    "#### 1. 使用者在建立物件時，可以給予機器人的年齡(age)與性別(gender)\n",
    "#### 2. 為機器人建立函式 getRobotProperty: 可以列印出機器人的年齡與性別\n",
    "#### 3. 為機器人建立函式 getMessage 可以接收使用者打的訊息, 並根據使用者的輸入檢查是否有包含問題字樣,如果有的話會自動回傳預設好的訊息, 沒有包含下列字樣的話將回傳\"Haha, I do not know what you are talking about!\"\n",
    "\n",
    "\n",
    "#### 輸入範例如下\n",
    "\"請問什麼是登革熱?\"\n",
    "#### 輸出範例如下\n",
    "\"登革熱（Dengue fever），是一種由登革病毒所引起的急性傳染病，這種病毒會經由蚊子傳播給人類。並且依據不同的血清型病毒，分為Ⅰ、Ⅱ、Ⅲ、Ⅳ四種型別，而每一型都具有能感染致病的能力。\n",
    "患者感染到某一型的登革病毒，就會對那一型的病毒具有終身免疫，但是對於其他型別的登革病毒僅具有短暫的免疫力，還是有可能再感染其他血清型別病毒。\n",
    "臨床上重複感染不同型登革病毒，可引起宿主不同程度的反應，從輕微或不明顯的症狀，到發燒、出疹的典型登革熱，或出現嗜睡、躁動不安、肝臟腫大等警示徵象，甚至可能導致嚴重出血或嚴重器官損傷的登革熱重症。\n",
    "全球登革熱的好發地區，主要集中在熱帶、亞熱帶等有埃及斑蚊和白線斑蚊分布的國家，隨著全球化發展逐漸便利，各國之間相互流通及往返也趨於頻繁，自1980年代之後，登革熱也開始向各國蔓延，成為嚴重的公共衛生問題。臺灣位於亞熱帶地區，像這樣有點熱、又有點溼的環境，正是蚊子最喜歡的生長環境，為登革熱流行高風險地區。\""
   ]
  },
  {
   "cell_type": "markdown",
   "metadata": {
    "collapsed": true
   },
   "source": [
    "#### 問題關鍵字與答案皆放置在(https://github.com/ywchiu/cdc_course/blob/master/data/cdc_answer.tsv)"
   ]
  },
  {
   "cell_type": "markdown",
   "metadata": {},
   "source": [
    "### 答案一"
   ]
  },
  {
   "cell_type": "code",
   "execution_count": 1,
   "metadata": {},
   "outputs": [
    {
     "data": {
      "text/plain": [
       "<__main__.Robot at 0x53b3b70>"
      ]
     },
     "execution_count": 1,
     "metadata": {},
     "output_type": "execute_result"
    }
   ],
   "source": [
    "class Robot(object):\n",
    "    def __init__(self, age, gender):\n",
    "        self.age = age\n",
    "        self.gender = gender\n",
    "        \n",
    "i = Robot(3, 'F')\n",
    "i"
   ]
  },
  {
   "cell_type": "markdown",
   "metadata": {},
   "source": [
    "### 答案二"
   ]
  },
  {
   "cell_type": "code",
   "execution_count": 2,
   "metadata": {},
   "outputs": [
    {
     "name": "stdout",
     "output_type": "stream",
     "text": [
      "My age is 3, and my gender is F\n"
     ]
    }
   ],
   "source": [
    "class Robot(object):\n",
    "    def __init__(self, age, gender):\n",
    "        self.age = age\n",
    "        self.gender = gender\n",
    "    def getRobotProperty(self):\n",
    "        print('My age is {}, and my gender is {}'.format(self.age, self.gender))\n",
    "        \n",
    "i = Robot(3, 'F')\n",
    "i.getRobotProperty()"
   ]
  },
  {
   "cell_type": "markdown",
   "metadata": {},
   "source": [
    "### 答案三"
   ]
  },
  {
   "cell_type": "code",
   "execution_count": 11,
   "metadata": {},
   "outputs": [],
   "source": [
    "answer_dic = {}\n",
    "with open('cdc_answer.tsv', 'r', encoding='utf-8') as f:\n",
    "    for line in f.readlines():        \n",
    "        keyword, answer = line.strip().split('\\t')\n",
    "        answer_dic[keyword] = answer"
   ]
  },
  {
   "cell_type": "code",
   "execution_count": 13,
   "metadata": {},
   "outputs": [
    {
     "name": "stdout",
     "output_type": "stream",
     "text": [
      " 登革熱（Dengue fever），是一種由登革病毒所引起的急性傳染病，這種病毒會經由蚊子傳播給人類。並且依據不同的血清型病毒，分為Ⅰ、Ⅱ、Ⅲ、Ⅳ四種型別，而每一型都具有能感染致病的能力。患者感染到某一型的登革病毒，就會對那一型的病毒具有終身免疫，但是對於其他型別的登革病毒僅具有短暫的免疫力，還是有可能再感染其他血清型別病毒。臨床上重複感染不同型登革病毒，可引起宿主不同程度的反應，從輕微或不明顯的症狀，到發燒、出疹的典型登革熱，或出現嗜睡、躁動不安、肝臟腫大等警示徵象，甚至可能導致嚴重出血或嚴重器官損傷的登革熱重症。全球登革熱的好發地區，主要集中在熱帶、亞熱帶等有埃及斑蚊和白線斑蚊分布的國家，隨著全球化發展逐漸便利，各國之間相互流通及往返也趨於頻繁，自1980年代之後，登革熱也開始向各國蔓延，成為嚴重的公共衛生問題。臺灣位於亞熱帶地區，像這樣有點熱、又有點溼的環境，正是蚊子最喜歡的生長環境，為登革熱流行高風險地區。\n"
     ]
    }
   ],
   "source": [
    "q = '我得了登革熱, 該怎麼辦'        \n",
    "for keyword in answer_dic:\n",
    "    if keyword in q:\n",
    "        print(answer_dic[keyword])\n",
    "        break"
   ]
  },
  {
   "cell_type": "code",
   "execution_count": 19,
   "metadata": {},
   "outputs": [
    {
     "data": {
      "text/plain": [
       "dict_keys(['天花', '嚴重急性呼吸道症候群', '鼠疫', '狂犬病', '登革熱', '德國麻疹', '霍亂', '流行性斑疹傷寒', '白喉', '流行性腦脊髓膜炎', '西尼羅熱', '傷寒', '副傷寒', '小兒麻痺症/急性無力肢體麻痺', '桿菌性痢疾', '阿米巴性痢疾', '瘧疾', '麻疹', '急性病毒性Ａ型肝炎', '腸道出血性大腸桿菌感染症', '漢他病毒症候群', '多重抗藥性結核病', '屈公病', '炭疽病', '先天性梅毒', '腸病毒感染併發重症', '結核病', '人類免疫缺乏病毒感染', '漢生病', '百日咳', '新生兒破傷風', '破傷風', '急性病毒性Ｂ型肝炎', '急性病毒性Ｃ型肝炎', '急性病毒性Ｄ型肝炎', '急性病毒性Ｅ型肝炎', '流行性腮腺炎', '梅毒', '淋病', '侵襲性ｂ型嗜血桿菌感染症', '退伍軍人病', '先天性德國麻疹症候群', '日本腦炎', '流感併發重症', '肉毒桿菌中毒', '庫賈氏病', '鉤端螺旋體病', '萊姆病', '類鼻疽', '地方性斑疹傷寒', 'Q熱', '水痘併發症', '恙蟲病', '兔熱病', '侵襲性肺炎鏈球菌感染症', '疱疹B病毒感染症', '弓形蟲感染症', '布氏桿菌病', '新型A型流感', '茲卡病毒感染症', '中東呼吸症候群冠狀病毒感染症', '黃熱病', '伊波拉病毒感染', '拉薩熱', '馬堡病毒出血熱', '裂谷熱', '棘狀阿米巴', '福氏內格里阿米巴腦膜腦炎', '貓抓病', 'NDM-1腸道菌感染症', '發熱伴血小板減少綜合症', '細菌性腸胃炎', '常見腸道寄生蟲病簡介', '中華肝吸蟲感染症', '旋毛蟲感染症', '肺吸蟲感染症', '廣東住血線蟲感染症', '鸚鵡熱', '亨德拉病毒及立百病毒感染症', '第二型豬鏈球菌感染症', '病毒性腸胃炎', '沙門氏菌感染症', '疥瘡感染症', '頭蝨感染症', '李斯特菌症', '隱球菌症', 'CRE抗藥性檢測', 'VISA/VRSA抗藥性檢測', '肺囊蟲肺炎', '淋巴絲蟲病'])"
      ]
     },
     "execution_count": 19,
     "metadata": {},
     "output_type": "execute_result"
    }
   ],
   "source": [
    "answer_dic.keys()"
   ]
  },
  {
   "cell_type": "code",
   "execution_count": 20,
   "metadata": {},
   "outputs": [
    {
     "name": "stdout",
     "output_type": "stream",
     "text": [
      "My age is 3, and my gender is F\n",
      " （一） 水痘(Varicella) 1. 為水痘帶狀疱疹病毒（varicella-zoster virus [VZV]）所引起之高傳染性疾病，初期（紅疹出現前1–2天）包含輕微發燒（37.5–39℃）、疲倦、食慾不振、頭痛及肌肉或關節痠痛等症狀，之後皮膚開始出現紅疹，逐漸發展成紅丘疹、水泡疹、膿泡疹而後結痂，由臉、頭皮往軀幹四肢延伸，全身性皮疹逐漸快速顯現隨後變成水疱，最後留下粒狀痂皮（通常約於二至四星期內痊癒）。 2. 曾施打過疫苗者仍可能罹患水痘，接種疫苗42天後仍感染野生株水痘稱之為「疫苗失敗的感染（Breakthrough Infection ）」，其病程較短(4–6天)、水疱數約50顆以下且症狀表現溫和，突破感染患者的傳染力約為未曾接種疫苗患者的1／3，惟曾接種過水痘疫苗者仍有25％至30％可能出現較嚴重的水痘症狀，若水疱多於50處，則傳染力與未曾接種疫苗患者相似，罹病期間仍應與他人區隔，不宜忽視。（二） 水痘併發症(Complications of Varicella)： 1. 小於1歲之嬰兒、孕婦、成人及免疫缺陷者（例：患有嚴重疾病如癌症、免疫缺陷與不全者、正使用免疫抑制劑如類固醇者）若罹患水痘為水痘併發症之高危險群。 2. 水痘併發症包含繼發性細菌感染（例如蜂窩組織炎、壞死性筋膜炎、敗血症、中毒性休克徵候群）、肺炎、腦炎、小腦性共濟失調、雷氏綜合症候群(Reye’s Syndrome)及死亡等。 3. 水痘併發症的致死原因，在成人以原發性肺炎，小孩以敗血症和腦炎最常見。對於某些特殊的患者，如白血病孩童和新生兒，則致死率高達5％至10％。（三） 新生兒水痘帶狀泡疹病毒（varicella-zoster virus）感染 1. 先天性水痘症候群（Congenital Varicella Syndrome）：懷孕20週前感染水痘之母親所生下之嬰兒，出現低體重、瘢痕性的皮膚病變（Cicatricial skin lesions in a dermatomal distribution ）、眼睛缺陷、四肢發育不全、中樞神經異常等先天性新生兒水痘症狀稱之。此症並不常見，發生率極低約在0.4%-2%間。 2. 新生兒水痘(Neonatal Varicella)： （１） 分娩前5天至後2天感染到水痘病毒的母親所產下的新生兒在出生後5-10天左右出現新生兒水痘症狀，又稱「周產期水痘」（Perinatal Varicella），由於母體沒有足夠時間產生抗體可以運送到胎兒體內保護胎兒有關。其危險性和致死率可達25-30%。 （２） 若新生兒於出生後10-28天才罹患水痘，症狀通常較周產期水痘輕微。 （３） 院內感染也可能是新生兒水痘的感染源之一。 3. 嬰幼兒期帶狀疱疹：母親於懷孕期間曾感染水痘，其嬰兒即有可能發生此症，除了分布在神經皮節的帶狀疱疹外，身體其他部位並出現水痘樣的皮疹。（四） 帶狀疱疹（Herpes Zoster）：在水痘復原之後藉潛伏於寄主的神經節中，以避免被免疫系統摧毀。當宿主免疫力減弱時，病毒便會活化並沿著其分布的神經皮節散布，造成帶狀疱疹，俗稱皮蛇（shingles）。而帶狀疱疹後的神經痛亦相當惱人。\n"
     ]
    }
   ],
   "source": [
    "class Robot(object):\n",
    "    def __init__(self, age, gender):\n",
    "        self.age = age\n",
    "        self.gender = gender\n",
    "        \n",
    "        self.answer_dic = {}\n",
    "        with open('cdc_answer.tsv', 'r', encoding='utf-8') as f:\n",
    "            for line in f.readlines():        \n",
    "                keyword, answer = line.strip().split('\\t')\n",
    "                self.answer_dic[keyword] = answer\n",
    "                \n",
    "    def getRobotProperty(self):\n",
    "        print('My age is {}, and my gender is {}'.format(self.age, self.gender))\n",
    "        \n",
    "    def getMessage(self, question):\n",
    "        for keyword in self.answer_dic:\n",
    "            if keyword in question:\n",
    "                return self.answer_dic[keyword]\n",
    "        return \"Haha, I do not know what you are talking about!\"\n",
    "    \n",
    "i = Robot(3 , 'F')\n",
    "i.getRobotProperty()\n",
    "print(i.getMessage('什麼是水痘併發症?'))"
   ]
  },
  {
   "cell_type": "code",
   "execution_count": null,
   "metadata": {
    "collapsed": true
   },
   "outputs": [],
   "source": []
  }
 ],
 "metadata": {
  "kernelspec": {
   "display_name": "Python 3",
   "language": "python",
   "name": "python3"
  },
  "language_info": {
   "codemirror_mode": {
    "name": "ipython",
    "version": 3
   },
   "file_extension": ".py",
   "mimetype": "text/x-python",
   "name": "python",
   "nbconvert_exporter": "python",
   "pygments_lexer": "ipython3",
   "version": "3.6.1"
  }
 },
 "nbformat": 4,
 "nbformat_minor": 2
}
