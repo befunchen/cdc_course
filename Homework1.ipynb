{
 "cells": [
  {
   "cell_type": "code",
   "execution_count": 4,
   "metadata": {
    "collapsed": false
   },
   "outputs": [
    {
     "ename": "ConnectionError",
     "evalue": "HTTPSConnectionPool(host='www.cathayholdings.com', port=443): Max retries exceeded with url: /holdings/ (Caused by NewConnectionError('<requests.packages.urllib3.connection.VerifiedHTTPSConnection object at 0x0000000004E9BF28>: Failed to establish a new connection: [Errno 11004] getaddrinfo failed',))",
     "output_type": "error",
     "traceback": [
      "\u001b[1;31m---------------------------------------------------------------------------\u001b[0m",
      "\u001b[1;31mgaierror\u001b[0m                                  Traceback (most recent call last)",
      "\u001b[1;32mC:\\Anaconda32\\lib\\site-packages\\requests\\packages\\urllib3\\connection.py\u001b[0m in \u001b[0;36m_new_conn\u001b[1;34m(self)\u001b[0m\n\u001b[0;32m    141\u001b[0m             conn = connection.create_connection(\n\u001b[1;32m--> 142\u001b[1;33m                 (self.host, self.port), self.timeout, **extra_kw)\n\u001b[0m\u001b[0;32m    143\u001b[0m \u001b[1;33m\u001b[0m\u001b[0m\n",
      "\u001b[1;32mC:\\Anaconda32\\lib\\site-packages\\requests\\packages\\urllib3\\util\\connection.py\u001b[0m in \u001b[0;36mcreate_connection\u001b[1;34m(address, timeout, source_address, socket_options)\u001b[0m\n\u001b[0;32m     66\u001b[0m     \u001b[0merr\u001b[0m \u001b[1;33m=\u001b[0m \u001b[1;32mNone\u001b[0m\u001b[1;33m\u001b[0m\u001b[0m\n\u001b[1;32m---> 67\u001b[1;33m     \u001b[1;32mfor\u001b[0m \u001b[0mres\u001b[0m \u001b[1;32min\u001b[0m \u001b[0msocket\u001b[0m\u001b[1;33m.\u001b[0m\u001b[0mgetaddrinfo\u001b[0m\u001b[1;33m(\u001b[0m\u001b[0mhost\u001b[0m\u001b[1;33m,\u001b[0m \u001b[0mport\u001b[0m\u001b[1;33m,\u001b[0m \u001b[1;36m0\u001b[0m\u001b[1;33m,\u001b[0m \u001b[0msocket\u001b[0m\u001b[1;33m.\u001b[0m\u001b[0mSOCK_STREAM\u001b[0m\u001b[1;33m)\u001b[0m\u001b[1;33m:\u001b[0m\u001b[1;33m\u001b[0m\u001b[0m\n\u001b[0m\u001b[0;32m     68\u001b[0m         \u001b[0maf\u001b[0m\u001b[1;33m,\u001b[0m \u001b[0msocktype\u001b[0m\u001b[1;33m,\u001b[0m \u001b[0mproto\u001b[0m\u001b[1;33m,\u001b[0m \u001b[0mcanonname\u001b[0m\u001b[1;33m,\u001b[0m \u001b[0msa\u001b[0m \u001b[1;33m=\u001b[0m \u001b[0mres\u001b[0m\u001b[1;33m\u001b[0m\u001b[0m\n",
      "\u001b[1;32mC:\\Anaconda32\\lib\\socket.py\u001b[0m in \u001b[0;36mgetaddrinfo\u001b[1;34m(host, port, family, type, proto, flags)\u001b[0m\n\u001b[0;32m    731\u001b[0m     \u001b[0maddrlist\u001b[0m \u001b[1;33m=\u001b[0m \u001b[1;33m[\u001b[0m\u001b[1;33m]\u001b[0m\u001b[1;33m\u001b[0m\u001b[0m\n\u001b[1;32m--> 732\u001b[1;33m     \u001b[1;32mfor\u001b[0m \u001b[0mres\u001b[0m \u001b[1;32min\u001b[0m \u001b[0m_socket\u001b[0m\u001b[1;33m.\u001b[0m\u001b[0mgetaddrinfo\u001b[0m\u001b[1;33m(\u001b[0m\u001b[0mhost\u001b[0m\u001b[1;33m,\u001b[0m \u001b[0mport\u001b[0m\u001b[1;33m,\u001b[0m \u001b[0mfamily\u001b[0m\u001b[1;33m,\u001b[0m \u001b[0mtype\u001b[0m\u001b[1;33m,\u001b[0m \u001b[0mproto\u001b[0m\u001b[1;33m,\u001b[0m \u001b[0mflags\u001b[0m\u001b[1;33m)\u001b[0m\u001b[1;33m:\u001b[0m\u001b[1;33m\u001b[0m\u001b[0m\n\u001b[0m\u001b[0;32m    733\u001b[0m         \u001b[0maf\u001b[0m\u001b[1;33m,\u001b[0m \u001b[0msocktype\u001b[0m\u001b[1;33m,\u001b[0m \u001b[0mproto\u001b[0m\u001b[1;33m,\u001b[0m \u001b[0mcanonname\u001b[0m\u001b[1;33m,\u001b[0m \u001b[0msa\u001b[0m \u001b[1;33m=\u001b[0m \u001b[0mres\u001b[0m\u001b[1;33m\u001b[0m\u001b[0m\n",
      "\u001b[1;31mgaierror\u001b[0m: [Errno 11004] getaddrinfo failed",
      "\nDuring handling of the above exception, another exception occurred:\n",
      "\u001b[1;31mNewConnectionError\u001b[0m                        Traceback (most recent call last)",
      "\u001b[1;32mC:\\Anaconda32\\lib\\site-packages\\requests\\packages\\urllib3\\connectionpool.py\u001b[0m in \u001b[0;36murlopen\u001b[1;34m(self, method, url, body, headers, retries, redirect, assert_same_host, timeout, pool_timeout, release_conn, chunked, **response_kw)\u001b[0m\n\u001b[0;32m    577\u001b[0m                                                   \u001b[0mbody\u001b[0m\u001b[1;33m=\u001b[0m\u001b[0mbody\u001b[0m\u001b[1;33m,\u001b[0m \u001b[0mheaders\u001b[0m\u001b[1;33m=\u001b[0m\u001b[0mheaders\u001b[0m\u001b[1;33m,\u001b[0m\u001b[1;33m\u001b[0m\u001b[0m\n\u001b[1;32m--> 578\u001b[1;33m                                                   chunked=chunked)\n\u001b[0m\u001b[0;32m    579\u001b[0m \u001b[1;33m\u001b[0m\u001b[0m\n",
      "\u001b[1;32mC:\\Anaconda32\\lib\\site-packages\\requests\\packages\\urllib3\\connectionpool.py\u001b[0m in \u001b[0;36m_make_request\u001b[1;34m(self, conn, method, url, timeout, chunked, **httplib_request_kw)\u001b[0m\n\u001b[0;32m    350\u001b[0m         \u001b[1;32mtry\u001b[0m\u001b[1;33m:\u001b[0m\u001b[1;33m\u001b[0m\u001b[0m\n\u001b[1;32m--> 351\u001b[1;33m             \u001b[0mself\u001b[0m\u001b[1;33m.\u001b[0m\u001b[0m_validate_conn\u001b[0m\u001b[1;33m(\u001b[0m\u001b[0mconn\u001b[0m\u001b[1;33m)\u001b[0m\u001b[1;33m\u001b[0m\u001b[0m\n\u001b[0m\u001b[0;32m    352\u001b[0m         \u001b[1;32mexcept\u001b[0m \u001b[1;33m(\u001b[0m\u001b[0mSocketTimeout\u001b[0m\u001b[1;33m,\u001b[0m \u001b[0mBaseSSLError\u001b[0m\u001b[1;33m)\u001b[0m \u001b[1;32mas\u001b[0m \u001b[0me\u001b[0m\u001b[1;33m:\u001b[0m\u001b[1;33m\u001b[0m\u001b[0m\n",
      "\u001b[1;32mC:\\Anaconda32\\lib\\site-packages\\requests\\packages\\urllib3\\connectionpool.py\u001b[0m in \u001b[0;36m_validate_conn\u001b[1;34m(self, conn)\u001b[0m\n\u001b[0;32m    813\u001b[0m         \u001b[1;32mif\u001b[0m \u001b[1;32mnot\u001b[0m \u001b[0mgetattr\u001b[0m\u001b[1;33m(\u001b[0m\u001b[0mconn\u001b[0m\u001b[1;33m,\u001b[0m \u001b[1;34m'sock'\u001b[0m\u001b[1;33m,\u001b[0m \u001b[1;32mNone\u001b[0m\u001b[1;33m)\u001b[0m\u001b[1;33m:\u001b[0m  \u001b[1;31m# AppEngine might not have  `.sock`\u001b[0m\u001b[1;33m\u001b[0m\u001b[0m\n\u001b[1;32m--> 814\u001b[1;33m             \u001b[0mconn\u001b[0m\u001b[1;33m.\u001b[0m\u001b[0mconnect\u001b[0m\u001b[1;33m(\u001b[0m\u001b[1;33m)\u001b[0m\u001b[1;33m\u001b[0m\u001b[0m\n\u001b[0m\u001b[0;32m    815\u001b[0m \u001b[1;33m\u001b[0m\u001b[0m\n",
      "\u001b[1;32mC:\\Anaconda32\\lib\\site-packages\\requests\\packages\\urllib3\\connection.py\u001b[0m in \u001b[0;36mconnect\u001b[1;34m(self)\u001b[0m\n\u001b[0;32m    253\u001b[0m         \u001b[1;31m# Add certificate verification\u001b[0m\u001b[1;33m\u001b[0m\u001b[1;33m\u001b[0m\u001b[0m\n\u001b[1;32m--> 254\u001b[1;33m         \u001b[0mconn\u001b[0m \u001b[1;33m=\u001b[0m \u001b[0mself\u001b[0m\u001b[1;33m.\u001b[0m\u001b[0m_new_conn\u001b[0m\u001b[1;33m(\u001b[0m\u001b[1;33m)\u001b[0m\u001b[1;33m\u001b[0m\u001b[0m\n\u001b[0m\u001b[0;32m    255\u001b[0m \u001b[1;33m\u001b[0m\u001b[0m\n",
      "\u001b[1;32mC:\\Anaconda32\\lib\\site-packages\\requests\\packages\\urllib3\\connection.py\u001b[0m in \u001b[0;36m_new_conn\u001b[1;34m(self)\u001b[0m\n\u001b[0;32m    150\u001b[0m             raise NewConnectionError(\n\u001b[1;32m--> 151\u001b[1;33m                 self, \"Failed to establish a new connection: %s\" % e)\n\u001b[0m\u001b[0;32m    152\u001b[0m \u001b[1;33m\u001b[0m\u001b[0m\n",
      "\u001b[1;31mNewConnectionError\u001b[0m: <requests.packages.urllib3.connection.VerifiedHTTPSConnection object at 0x0000000004E9BF28>: Failed to establish a new connection: [Errno 11004] getaddrinfo failed",
      "\nDuring handling of the above exception, another exception occurred:\n",
      "\u001b[1;31mMaxRetryError\u001b[0m                             Traceback (most recent call last)",
      "\u001b[1;32mC:\\Anaconda32\\lib\\site-packages\\requests\\adapters.py\u001b[0m in \u001b[0;36msend\u001b[1;34m(self, request, stream, timeout, verify, cert, proxies)\u001b[0m\n\u001b[0;32m    402\u001b[0m                     \u001b[0mretries\u001b[0m\u001b[1;33m=\u001b[0m\u001b[0mself\u001b[0m\u001b[1;33m.\u001b[0m\u001b[0mmax_retries\u001b[0m\u001b[1;33m,\u001b[0m\u001b[1;33m\u001b[0m\u001b[0m\n\u001b[1;32m--> 403\u001b[1;33m                     \u001b[0mtimeout\u001b[0m\u001b[1;33m=\u001b[0m\u001b[0mtimeout\u001b[0m\u001b[1;33m\u001b[0m\u001b[0m\n\u001b[0m\u001b[0;32m    404\u001b[0m                 )\n",
      "\u001b[1;32mC:\\Anaconda32\\lib\\site-packages\\requests\\packages\\urllib3\\connectionpool.py\u001b[0m in \u001b[0;36murlopen\u001b[1;34m(self, method, url, body, headers, retries, redirect, assert_same_host, timeout, pool_timeout, release_conn, chunked, **response_kw)\u001b[0m\n\u001b[0;32m    622\u001b[0m             retries = retries.increment(method, url, error=e, _pool=self,\n\u001b[1;32m--> 623\u001b[1;33m                                         _stacktrace=sys.exc_info()[2])\n\u001b[0m\u001b[0;32m    624\u001b[0m             \u001b[0mretries\u001b[0m\u001b[1;33m.\u001b[0m\u001b[0msleep\u001b[0m\u001b[1;33m(\u001b[0m\u001b[1;33m)\u001b[0m\u001b[1;33m\u001b[0m\u001b[0m\n",
      "\u001b[1;32mC:\\Anaconda32\\lib\\site-packages\\requests\\packages\\urllib3\\util\\retry.py\u001b[0m in \u001b[0;36mincrement\u001b[1;34m(self, method, url, response, error, _pool, _stacktrace)\u001b[0m\n\u001b[0;32m    280\u001b[0m         \u001b[1;32mif\u001b[0m \u001b[0mnew_retry\u001b[0m\u001b[1;33m.\u001b[0m\u001b[0mis_exhausted\u001b[0m\u001b[1;33m(\u001b[0m\u001b[1;33m)\u001b[0m\u001b[1;33m:\u001b[0m\u001b[1;33m\u001b[0m\u001b[0m\n\u001b[1;32m--> 281\u001b[1;33m             \u001b[1;32mraise\u001b[0m \u001b[0mMaxRetryError\u001b[0m\u001b[1;33m(\u001b[0m\u001b[0m_pool\u001b[0m\u001b[1;33m,\u001b[0m \u001b[0murl\u001b[0m\u001b[1;33m,\u001b[0m \u001b[0merror\u001b[0m \u001b[1;32mor\u001b[0m \u001b[0mResponseError\u001b[0m\u001b[1;33m(\u001b[0m\u001b[0mcause\u001b[0m\u001b[1;33m)\u001b[0m\u001b[1;33m)\u001b[0m\u001b[1;33m\u001b[0m\u001b[0m\n\u001b[0m\u001b[0;32m    282\u001b[0m \u001b[1;33m\u001b[0m\u001b[0m\n",
      "\u001b[1;31mMaxRetryError\u001b[0m: HTTPSConnectionPool(host='www.cathayholdings.com', port=443): Max retries exceeded with url: /holdings/ (Caused by NewConnectionError('<requests.packages.urllib3.connection.VerifiedHTTPSConnection object at 0x0000000004E9BF28>: Failed to establish a new connection: [Errno 11004] getaddrinfo failed',))",
      "\nDuring handling of the above exception, another exception occurred:\n",
      "\u001b[1;31mConnectionError\u001b[0m                           Traceback (most recent call last)",
      "\u001b[1;32m<ipython-input-4-2b5ac1992444>\u001b[0m in \u001b[0;36m<module>\u001b[1;34m()\u001b[0m\n\u001b[0;32m      1\u001b[0m \u001b[1;32mimport\u001b[0m \u001b[0mrequests\u001b[0m\u001b[1;33m\u001b[0m\u001b[0m\n\u001b[0;32m      2\u001b[0m \u001b[1;32mfrom\u001b[0m \u001b[0mbs4\u001b[0m \u001b[1;32mimport\u001b[0m \u001b[0mBeautifulSoup\u001b[0m\u001b[1;33m\u001b[0m\u001b[0m\n\u001b[1;32m----> 3\u001b[1;33m \u001b[0mres\u001b[0m \u001b[1;33m=\u001b[0m \u001b[0mrequests\u001b[0m\u001b[1;33m.\u001b[0m\u001b[0mget\u001b[0m\u001b[1;33m(\u001b[0m\u001b[1;34m'https://www.cathayholdings.com/holdings/'\u001b[0m\u001b[1;33m)\u001b[0m\u001b[1;33m\u001b[0m\u001b[0m\n\u001b[0m\u001b[0;32m      4\u001b[0m \u001b[0msoup\u001b[0m \u001b[1;33m=\u001b[0m \u001b[0mBeautifulSoup\u001b[0m\u001b[1;33m(\u001b[0m\u001b[0mres\u001b[0m\u001b[1;33m.\u001b[0m\u001b[0mtext\u001b[0m\u001b[1;33m)\u001b[0m\u001b[1;33m\u001b[0m\u001b[0m\n\u001b[0;32m      5\u001b[0m \u001b[0mcathay\u001b[0m \u001b[1;33m=\u001b[0m \u001b[1;33m[\u001b[0m\u001b[0mlink\u001b[0m\u001b[1;33m[\u001b[0m\u001b[1;34m'href'\u001b[0m\u001b[1;33m]\u001b[0m \u001b[1;32mfor\u001b[0m \u001b[0mlink\u001b[0m \u001b[1;32min\u001b[0m \u001b[0msoup\u001b[0m\u001b[1;33m.\u001b[0m\u001b[0mselect\u001b[0m\u001b[1;33m(\u001b[0m\u001b[1;34m'a'\u001b[0m\u001b[1;33m)\u001b[0m \u001b[1;33m]\u001b[0m\u001b[1;33m\u001b[0m\u001b[0m\n",
      "\u001b[1;32mC:\\Anaconda32\\lib\\site-packages\\requests\\api.py\u001b[0m in \u001b[0;36mget\u001b[1;34m(url, params, **kwargs)\u001b[0m\n\u001b[0;32m     69\u001b[0m \u001b[1;33m\u001b[0m\u001b[0m\n\u001b[0;32m     70\u001b[0m     \u001b[0mkwargs\u001b[0m\u001b[1;33m.\u001b[0m\u001b[0msetdefault\u001b[0m\u001b[1;33m(\u001b[0m\u001b[1;34m'allow_redirects'\u001b[0m\u001b[1;33m,\u001b[0m \u001b[1;32mTrue\u001b[0m\u001b[1;33m)\u001b[0m\u001b[1;33m\u001b[0m\u001b[0m\n\u001b[1;32m---> 71\u001b[1;33m     \u001b[1;32mreturn\u001b[0m \u001b[0mrequest\u001b[0m\u001b[1;33m(\u001b[0m\u001b[1;34m'get'\u001b[0m\u001b[1;33m,\u001b[0m \u001b[0murl\u001b[0m\u001b[1;33m,\u001b[0m \u001b[0mparams\u001b[0m\u001b[1;33m=\u001b[0m\u001b[0mparams\u001b[0m\u001b[1;33m,\u001b[0m \u001b[1;33m**\u001b[0m\u001b[0mkwargs\u001b[0m\u001b[1;33m)\u001b[0m\u001b[1;33m\u001b[0m\u001b[0m\n\u001b[0m\u001b[0;32m     72\u001b[0m \u001b[1;33m\u001b[0m\u001b[0m\n\u001b[0;32m     73\u001b[0m \u001b[1;33m\u001b[0m\u001b[0m\n",
      "\u001b[1;32mC:\\Anaconda32\\lib\\site-packages\\requests\\api.py\u001b[0m in \u001b[0;36mrequest\u001b[1;34m(method, url, **kwargs)\u001b[0m\n\u001b[0;32m     55\u001b[0m     \u001b[1;31m# cases, and look like a memory leak in others.\u001b[0m\u001b[1;33m\u001b[0m\u001b[1;33m\u001b[0m\u001b[0m\n\u001b[0;32m     56\u001b[0m     \u001b[1;32mwith\u001b[0m \u001b[0msessions\u001b[0m\u001b[1;33m.\u001b[0m\u001b[0mSession\u001b[0m\u001b[1;33m(\u001b[0m\u001b[1;33m)\u001b[0m \u001b[1;32mas\u001b[0m \u001b[0msession\u001b[0m\u001b[1;33m:\u001b[0m\u001b[1;33m\u001b[0m\u001b[0m\n\u001b[1;32m---> 57\u001b[1;33m         \u001b[1;32mreturn\u001b[0m \u001b[0msession\u001b[0m\u001b[1;33m.\u001b[0m\u001b[0mrequest\u001b[0m\u001b[1;33m(\u001b[0m\u001b[0mmethod\u001b[0m\u001b[1;33m=\u001b[0m\u001b[0mmethod\u001b[0m\u001b[1;33m,\u001b[0m \u001b[0murl\u001b[0m\u001b[1;33m=\u001b[0m\u001b[0murl\u001b[0m\u001b[1;33m,\u001b[0m \u001b[1;33m**\u001b[0m\u001b[0mkwargs\u001b[0m\u001b[1;33m)\u001b[0m\u001b[1;33m\u001b[0m\u001b[0m\n\u001b[0m\u001b[0;32m     58\u001b[0m \u001b[1;33m\u001b[0m\u001b[0m\n\u001b[0;32m     59\u001b[0m \u001b[1;33m\u001b[0m\u001b[0m\n",
      "\u001b[1;32mC:\\Anaconda32\\lib\\site-packages\\requests\\sessions.py\u001b[0m in \u001b[0;36mrequest\u001b[1;34m(self, method, url, params, data, headers, cookies, files, auth, timeout, allow_redirects, proxies, hooks, stream, verify, cert, json)\u001b[0m\n\u001b[0;32m    473\u001b[0m         }\n\u001b[0;32m    474\u001b[0m         \u001b[0msend_kwargs\u001b[0m\u001b[1;33m.\u001b[0m\u001b[0mupdate\u001b[0m\u001b[1;33m(\u001b[0m\u001b[0msettings\u001b[0m\u001b[1;33m)\u001b[0m\u001b[1;33m\u001b[0m\u001b[0m\n\u001b[1;32m--> 475\u001b[1;33m         \u001b[0mresp\u001b[0m \u001b[1;33m=\u001b[0m \u001b[0mself\u001b[0m\u001b[1;33m.\u001b[0m\u001b[0msend\u001b[0m\u001b[1;33m(\u001b[0m\u001b[0mprep\u001b[0m\u001b[1;33m,\u001b[0m \u001b[1;33m**\u001b[0m\u001b[0msend_kwargs\u001b[0m\u001b[1;33m)\u001b[0m\u001b[1;33m\u001b[0m\u001b[0m\n\u001b[0m\u001b[0;32m    476\u001b[0m \u001b[1;33m\u001b[0m\u001b[0m\n\u001b[0;32m    477\u001b[0m         \u001b[1;32mreturn\u001b[0m \u001b[0mresp\u001b[0m\u001b[1;33m\u001b[0m\u001b[0m\n",
      "\u001b[1;32mC:\\Anaconda32\\lib\\site-packages\\requests\\sessions.py\u001b[0m in \u001b[0;36msend\u001b[1;34m(self, request, **kwargs)\u001b[0m\n\u001b[0;32m    583\u001b[0m \u001b[1;33m\u001b[0m\u001b[0m\n\u001b[0;32m    584\u001b[0m         \u001b[1;31m# Send the request\u001b[0m\u001b[1;33m\u001b[0m\u001b[1;33m\u001b[0m\u001b[0m\n\u001b[1;32m--> 585\u001b[1;33m         \u001b[0mr\u001b[0m \u001b[1;33m=\u001b[0m \u001b[0madapter\u001b[0m\u001b[1;33m.\u001b[0m\u001b[0msend\u001b[0m\u001b[1;33m(\u001b[0m\u001b[0mrequest\u001b[0m\u001b[1;33m,\u001b[0m \u001b[1;33m**\u001b[0m\u001b[0mkwargs\u001b[0m\u001b[1;33m)\u001b[0m\u001b[1;33m\u001b[0m\u001b[0m\n\u001b[0m\u001b[0;32m    586\u001b[0m \u001b[1;33m\u001b[0m\u001b[0m\n\u001b[0;32m    587\u001b[0m         \u001b[1;31m# Total elapsed time of the request (approximately)\u001b[0m\u001b[1;33m\u001b[0m\u001b[1;33m\u001b[0m\u001b[0m\n",
      "\u001b[1;32mC:\\Anaconda32\\lib\\site-packages\\requests\\adapters.py\u001b[0m in \u001b[0;36msend\u001b[1;34m(self, request, stream, timeout, verify, cert, proxies)\u001b[0m\n\u001b[0;32m    465\u001b[0m                 \u001b[1;32mraise\u001b[0m \u001b[0mProxyError\u001b[0m\u001b[1;33m(\u001b[0m\u001b[0me\u001b[0m\u001b[1;33m,\u001b[0m \u001b[0mrequest\u001b[0m\u001b[1;33m=\u001b[0m\u001b[0mrequest\u001b[0m\u001b[1;33m)\u001b[0m\u001b[1;33m\u001b[0m\u001b[0m\n\u001b[0;32m    466\u001b[0m \u001b[1;33m\u001b[0m\u001b[0m\n\u001b[1;32m--> 467\u001b[1;33m             \u001b[1;32mraise\u001b[0m \u001b[0mConnectionError\u001b[0m\u001b[1;33m(\u001b[0m\u001b[0me\u001b[0m\u001b[1;33m,\u001b[0m \u001b[0mrequest\u001b[0m\u001b[1;33m=\u001b[0m\u001b[0mrequest\u001b[0m\u001b[1;33m)\u001b[0m\u001b[1;33m\u001b[0m\u001b[0m\n\u001b[0m\u001b[0;32m    468\u001b[0m \u001b[1;33m\u001b[0m\u001b[0m\n\u001b[0;32m    469\u001b[0m         \u001b[1;32mexcept\u001b[0m \u001b[0mClosedPoolError\u001b[0m \u001b[1;32mas\u001b[0m \u001b[0me\u001b[0m\u001b[1;33m:\u001b[0m\u001b[1;33m\u001b[0m\u001b[0m\n",
      "\u001b[1;31mConnectionError\u001b[0m: HTTPSConnectionPool(host='www.cathayholdings.com', port=443): Max retries exceeded with url: /holdings/ (Caused by NewConnectionError('<requests.packages.urllib3.connection.VerifiedHTTPSConnection object at 0x0000000004E9BF28>: Failed to establish a new connection: [Errno 11004] getaddrinfo failed',))"
     ]
    }
   ],
   "source": [
    "import requests\n",
    "from bs4 import BeautifulSoup\n",
    "res = requests.get('https://www.cathayholdings.com/holdings/')\n",
    "soup = BeautifulSoup(res.text)\n",
    "cathay = [link['href'] for link in soup.select('a') ] \n",
    "#print(cathay)"
   ]
  },
  {
   "cell_type": "code",
   "execution_count": 5,
   "metadata": {
    "collapsed": true
   },
   "outputs": [],
   "source": [
    "cathay = ['https://www.cathayholdings.com/holdings',\n",
    " 'https://www.cathayholdings.com/life',\n",
    " 'https://www.cathayholdings.com/bank',\n",
    " 'https://www.cathayholdings.com/insurance',\n",
    " 'https://www.cathayholdings.com/securities',\n",
    " 'https://www.cathayholdings.com/funds',\n",
    " 'https://www.cathayholdings.com/consulting',\n",
    " 'english/eindex.htm',\n",
    " 'about_intro01.asp',\n",
    " 'about_query01.asp',\n",
    " '/bank/cathaybk/contact/index.asp',\n",
    " 'join/index.asp',\n",
    " 'sitemap.asp',\n",
    " 'https://accessibility.cathaybk.com.tw/',\n",
    " '#',\n",
    " 'index.asp',\n",
    " '/bank/cathaybk/index.asp',\n",
    " '/bank/cathaybk/corp/index.asp',\n",
    " '/bank/cathaybk/private-bank/default.asp',\n",
    " '/bank/cathaybk/index.asp',\n",
    " 'javascript:',\n",
    " 'card/index.asp',\n",
    " 'card/card/card.asp',\n",
    " 'card/event/2011/travel_1.asp',\n",
    " 'card/card/right/right_1.asp',\n",
    " 'card/event/bonus_index.asp',\n",
    " 'card/event/2012/201203newcard_ggg/index.html',\n",
    " 'https://www.cathayholdings.com/bank/cathaybk/card/event/2012/201203newcard_ggg/index.asp                                                                      ',\n",
    " 'card/index.asp',\n",
    " 'javascript:',\n",
    " '/bank/cathaybk/deposit/account-savings.asp',\n",
    " '/bank/cathaybk/deposit/account-certificate.asp',\n",
    " '/bank/cathaybk/deposit/account-special.asp',\n",
    " '/bank/cathaybk/deposit/rate.asp',\n",
    " 'https://www.cathaybk.com.tw/cathaybk/personal/event/2016/201601/index.htm                                                                             ',\n",
    " '/bank/cathaybk/deposit/index.asp',\n",
    " 'javascript:',\n",
    " 'house-index.asp',\n",
    " 'house-reserve.asp',\n",
    " 'Onlinehouse_index.asp',\n",
    " 'credit-happytai.asp',\n",
    " 'credit-reserve.asp',\n",
    " '#lb_apply_loan_credit',\n",
    " 'other-stock.asp',\n",
    " 'other-reserve.asp?stock',\n",
    " '/bank/cathaybk/loan/event/2016/201604tax/index.asp',\n",
    " 'https://www.cathayholdings.com/bank/cathaybk/credit-happytai.asp                                                                                              ',\n",
    " 'javascript:',\n",
    " '/bank/cathaybk/exchange/currency-billboard.asp',\n",
    " '/bank/cathaybk/exchange/account.asp',\n",
    " '/bank/cathaybk/exchange/remittance-inward.asp',\n",
    " '/bank/cathaybk/exchange/checks.asp',\n",
    " '/bank/cathaybk/exchange/others-dbu.asp',\n",
    " '/bank/cathaybk/obu/index_personal.asp',\n",
    " 'https://www.cathayholdings.com/bank/cathaybk/card/event/2016/MyBill/20160523/card_news1050523_index.asp                                                       ',\n",
    " '/bank/cathaybk/exchange/index.asp',\n",
    " 'javascript:',\n",
    " '/bank/cathaybk/life/index.asp',\n",
    " '/bank/cathaybk/insurance/index.asp',\n",
    " 'https://www.cathayholdings.com/bank/cathaybk/insurance/index.asp                                                                                              ',\n",
    " 'javascript:',\n",
    " 'vip/myvip_1_1_1.asp',\n",
    " 'vip/myvip_1_05.asp',\n",
    " 'vip/myvip_1_02.asp',\n",
    " 'vip/myvip_2_1_1.asp',\n",
    " 'vip/myvip_index.asp',\n",
    " 'vip/myvip_3_01.asp',\n",
    " 'https://www.cathayholdings.com/bank/cathaybk/event/kids/index.htm',\n",
    " 'vip/hotkey_1_1.asp',\n",
    " 'https://www.cathayholdings.com/bank/cathaybk/vip/event/2014/201408Fund/index_B_0.html',\n",
    " '/bank/cathaybk/trust/trust_2_1_1.asp',\n",
    " '/bank/cathaybk/personal_marketing_securities.asp',\n",
    " 'https://www.cathayholdings.com/bank/cathaybk/vip/event/2014/201408Fund/desktop_index.html                                                                     ',\n",
    " 'vip/myvip_index.asp',\n",
    " 'https://www.mybank.com.tw',\n",
    " 'https://www.mybank.com.tw/MyBank/Quicklinks/Outer/HowToApply',\n",
    " 'https://www.mybank.com.tw/MyBank/Quicklinks/Outer/TxnOverViewRst',\n",
    " 'https://www.mybank.com.tw/myatm/cathaybk_myatm.asp',\n",
    " 'https://www.globalmyb2b.com/GEBANK/Login.aspx',\n",
    " 'https://www.cathayholdings.com/bank/cathaybk/trust/event/2016/201602trust/index.asp',\n",
    " 'https://www.cathayholdings.com/bank/cathaybk/credit-happytai.asp',\n",
    " 'https://www.cathayholdings.com/bank/cathaybk/card/card/formosa/index.html',\n",
    " 'https://www.kokobank.com/KOKO?utm_source=CUBbigbanner&utm_medium=banner&utm_campaign=KOKOoda',\n",
    " 'https://www.cathayholdings.com/bank/cathaybk/card/event/2016/MyBill/20160523/card_news1050523_index.asp',\n",
    " 'javascript:',\n",
    " 'javascript:',\n",
    " 'javascript:',\n",
    " 'javascript:',\n",
    " 'javascript:',\n",
    " 'javascript:Reset_ValidCode();',\n",
    " 'personal_info07.asp',\n",
    " 'personal_info05.asp',\n",
    " 'https://www.cathaybk.com.tw/cathaybk/dsa/openaccount/intro/index.aspx',\n",
    " 'https://www.cathaybk.com.tw/cathaybk/card/MyBill/index.asp',\n",
    " 'javascript:',\n",
    " '#lb_apply_loan_credit',\n",
    " 'https://www.cathaybk.com.tw/cathaybk/OnlineLoan_schedule.asp',\n",
    " '#lb_apply_loan_credit_02',\n",
    " '#lb_apply_loan_credit_03',\n",
    " 'Onlinehouse_index.asp',\n",
    " 'javascript:',\n",
    " 'https://www.cathaybk.com.tw/cathaybk/OnlineLoan_card_apply.asp',\n",
    " 'Online_ActivateCardForm.asp',\n",
    " 'Online_RecommendCardForm.asp',\n",
    " 'https://www.cathaybk.com.tw/cathaybk/contact.asp',\n",
    " 'https://www.kokobank.com/KOKO?utm_source=CUBindex&utm_medium=Banner&utm_campaign=CUBindex',\n",
    " 'mmb/index.asp',\n",
    " 'e_service/linepay/event/2015/201506linepay/index.asp',\n",
    " 'https://www.cathaybk.com.tw/cathaybk/e_service/MyMobiBank/event/2015/201502mmb_push/index.asp',\n",
    " 'https://www.cathaybk.com.tw/cathaybk/personal/event/2016/201601/index.htm#a04',\n",
    " 'https://www.cathayholdings.com/bank/cathaybk/enterprise/pdf/pdf34.pdf',\n",
    " 'https://www.cathayholdings.com/bank/cathaybk/enterprise/pdf/pdf33.pdf',\n",
    " 'https://www.cathayholdings.com/bank/cathaybk/enterprise/pdf/pdf32.pdf',\n",
    " 'https://www.cathayholdings.com/bank/cathaybk/enterprise/pdf/pdf31.pdf',\n",
    " 'https://www.cathayholdings.com/bank/cathaybk/enterprise/pdf/pdf30.pdf',\n",
    " 'https://www.cathayholdings.com/bank/cathaybk/vip/myvip_news1050628.asp',\n",
    " 'https://www.cathayholdings.com/bank/cathaybk/doc/cathay20160705.pdf',\n",
    " 'https://www.cathayholdings.com/bank/cathaybk/about_news1050628.asp',\n",
    " 'https://www.cathayholdings.com/bank/cathaybk/about_news1040511.asp',\n",
    " 'news-list.asp',\n",
    " 'https://www.cathaybk.com.tw/cathaybk/personal/event/2016/201601/index.htm',\n",
    " 'https://www.cathayholdings.com/bank/cathaybk/trust/event/2016/201602trust/index.asp',\n",
    " 'https://www.cathayholdings.com/bank/cathaybk/trust_fund_event201606.asp',\n",
    " 'https://www.cathayholdings.com/bank/cathaybk/credit-happytai.asp',\n",
    " 'https://www.kokobank.com/KOKO?utm_source=CUBsmallbanner&utm_medium=banner&utm_campaign=KOKOoda',\n",
    " 'javascript:',\n",
    " '/bank/cathaybk/card/index.asp',\n",
    " '/bank/cathaybk/card/card/card.asp',\n",
    " '/bank/cathaybk/card/news_list.asp',\n",
    " '/bank/cathaybk/card/card/right/right_1.asp',\n",
    " '/bank/cathaybk/card/event/bonus/bonus_2.asp',\n",
    " '/bank/cathaybk/card/event/2012/201203newcard_ggg/index.html',\n",
    " '/bank/cathaybk/deposit/index.asp',\n",
    " '/bank/cathaybk/deposit/account-savings.asp',\n",
    " '/bank/cathaybk/deposit/account-certificate.asp',\n",
    " '/bank/cathaybk/deposit/account-special.asp',\n",
    " '/bank/cathaybk/deposit/rate.asp',\n",
    " 'javascript:',\n",
    " '/bank/cathaybk/house-index.asp',\n",
    " '/bank/cathaybk/credit-happytai.asp',\n",
    " '/bank/cathaybk/other-stock.asp',\n",
    " '/bank/cathaybk/exchange/index.asp',\n",
    " '/bank/cathaybk/exchange/currency-billboard.asp',\n",
    " '/bank/cathaybk/exchange/account.asp',\n",
    " '/bank/cathaybk/exchange/remittance-inward.asp',\n",
    " '/bank/cathaybk/exchange/checks.asp',\n",
    " '/bank/cathaybk/exchange/others-dbu.asp',\n",
    " '/bank/cathaybk/obu/index_personal.asp',\n",
    " '/bank/cathaybk/life/index.asp',\n",
    " '/bank/cathaybk/life/index.asp',\n",
    " '/bank/cathaybk/insurance/index.asp',\n",
    " '/bank/cathaybk/vip/myvip_index.asp',\n",
    " '/bank/cathaybk/vip/myvip_1_1_1.asp',\n",
    " '/bank/cathaybk/vip/myvip_1_05.asp',\n",
    " '/bank/cathaybk/vip/myvip_1_02.asp',\n",
    " '/bank/cathaybk/vip/myvip_2_1_1.asp',\n",
    " '/bank/cathaybk/vip/myvip_index.asp',\n",
    " '/bank/cathaybk/vip/myvip_3_01.asp',\n",
    " '/bank/cathaybk/trust/trust_2_1_1.asp',\n",
    " '/bank/cathaybk/personal_marketing_securities.asp',\n",
    " 'https://www.mybank.com.tw/mybank/',\n",
    " 'javascript:void(0);',\n",
    " 'tel:+8860800818001',\n",
    " 'tel:+886223831000',\n",
    " '#',\n",
    " 'https://www.facebook.com/cathayunitedbank',\n",
    " 'https://www.youtube.com/user/cathayunitedbank/',\n",
    " 'about_creditcard.asp',\n",
    " 'about_finarpt.asp',\n",
    " 'index_environment.asp',\n",
    " 'about_safe.asp',\n",
    " 'set-browser.asp',\n",
    " 'https://www.cathaybk.com.tw/cathaybk/OnlineLoan_index.asp',\n",
    " 'https://www.mybank.com.tw/mybank/',\n",
    " 'credit-reserve.asp',\n",
    " '/bank/cathaybk/Online_Confirm_Card.asp',\n",
    " '/bank/cathaybk/Online_Confirm_Acct.asp',\n",
    " 'Online_Confirm_Srarch_Card.asp',\n",
    " 'Online_Confirm_Srarch_Acct.asp']"
   ]
  },
  {
   "cell_type": "markdown",
   "metadata": {},
   "source": [
    "### 問題:\n",
    "1. 裡面有多少副檔名包含pdf 的檔案\n",
    "2. 是否可以將包含pdf檔名的連結成整理一個List\n",
    "3. 除國泰世華網站 ( https://www.cathayholdings.com/ )外，這裡面有多少其他網域 (e.g. https://www.facebook.com/)"
   ]
  },
  {
   "cell_type": "code",
   "execution_count": 6,
   "metadata": {
    "collapsed": false
   },
   "outputs": [
    {
     "name": "stdout",
     "output_type": "stream",
     "text": [
      "179\n"
     ]
    }
   ],
   "source": [
    "print(len(cathay))"
   ]
  },
  {
   "cell_type": "code",
   "execution_count": 8,
   "metadata": {
    "collapsed": false
   },
   "outputs": [],
   "source": [
    "linklist = []\n",
    "for link in cathay:\n",
    "    if 'asp' in link:\n",
    "        linklist.append(link)\n",
    "#print(linklist)"
   ]
  },
  {
   "cell_type": "code",
   "execution_count": 9,
   "metadata": {
    "collapsed": false
   },
   "outputs": [
    {
     "name": "stdout",
     "output_type": "stream",
     "text": [
      "120\n"
     ]
    }
   ],
   "source": [
    "print(len(linklist))"
   ]
  },
  {
   "cell_type": "code",
   "execution_count": 7,
   "metadata": {
    "collapsed": false
   },
   "outputs": [
    {
     "name": "stdout",
     "output_type": "stream",
     "text": [
      "www.mybank.com.tw\n"
     ]
    }
   ],
   "source": [
    "url = 'https://www.mybank.com.tw/mybank/'\n",
    "url_split = url.split('/')\n",
    "print(url_split[2])"
   ]
  },
  {
   "cell_type": "markdown",
   "metadata": {},
   "source": [
    "## 印出所有的聯結"
   ]
  },
  {
   "cell_type": "code",
   "execution_count": 10,
   "metadata": {
    "collapsed": true
   },
   "outputs": [
    {
     "name": "stdout",
     "output_type": "stream",
     "text": [
      "https://www.cathayholdings.com/holdings\n",
      "https://www.cathayholdings.com/life\n",
      "https://www.cathayholdings.com/bank\n",
      "https://www.cathayholdings.com/insurance\n",
      "https://www.cathayholdings.com/securities\n",
      "https://www.cathayholdings.com/funds\n",
      "https://www.cathayholdings.com/consulting\n",
      "english/eindex.htm\n",
      "about_intro01.asp\n",
      "about_query01.asp\n",
      "/bank/cathaybk/contact/index.asp\n",
      "join/index.asp\n",
      "sitemap.asp\n",
      "https://accessibility.cathaybk.com.tw/\n",
      "#\n",
      "index.asp\n",
      "/bank/cathaybk/index.asp\n",
      "/bank/cathaybk/corp/index.asp\n",
      "/bank/cathaybk/private-bank/default.asp\n",
      "/bank/cathaybk/index.asp\n",
      "javascript:\n",
      "card/index.asp\n",
      "card/card/card.asp\n",
      "card/event/2011/travel_1.asp\n",
      "card/card/right/right_1.asp\n",
      "card/event/bonus_index.asp\n",
      "card/event/2012/201203newcard_ggg/index.html\n",
      "https://www.cathayholdings.com/bank/cathaybk/card/event/2012/201203newcard_ggg/index.asp                                                                      \n",
      "card/index.asp\n",
      "javascript:\n",
      "/bank/cathaybk/deposit/account-savings.asp\n",
      "/bank/cathaybk/deposit/account-certificate.asp\n",
      "/bank/cathaybk/deposit/account-special.asp\n",
      "/bank/cathaybk/deposit/rate.asp\n",
      "https://www.cathaybk.com.tw/cathaybk/personal/event/2016/201601/index.htm                                                                             \n",
      "/bank/cathaybk/deposit/index.asp\n",
      "javascript:\n",
      "house-index.asp\n",
      "house-reserve.asp\n",
      "Onlinehouse_index.asp\n",
      "credit-happytai.asp\n",
      "credit-reserve.asp\n",
      "#lb_apply_loan_credit\n",
      "other-stock.asp\n",
      "other-reserve.asp?stock\n",
      "/bank/cathaybk/loan/event/2016/201604tax/index.asp\n",
      "https://www.cathayholdings.com/bank/cathaybk/credit-happytai.asp                                                                                              \n",
      "javascript:\n",
      "/bank/cathaybk/exchange/currency-billboard.asp\n",
      "/bank/cathaybk/exchange/account.asp\n",
      "/bank/cathaybk/exchange/remittance-inward.asp\n",
      "/bank/cathaybk/exchange/checks.asp\n",
      "/bank/cathaybk/exchange/others-dbu.asp\n",
      "/bank/cathaybk/obu/index_personal.asp\n",
      "https://www.cathayholdings.com/bank/cathaybk/card/event/2016/MyBill/20160523/card_news1050523_index.asp                                                       \n",
      "/bank/cathaybk/exchange/index.asp\n",
      "javascript:\n",
      "/bank/cathaybk/life/index.asp\n",
      "/bank/cathaybk/insurance/index.asp\n",
      "https://www.cathayholdings.com/bank/cathaybk/insurance/index.asp                                                                                              \n",
      "javascript:\n",
      "vip/myvip_1_1_1.asp\n",
      "vip/myvip_1_05.asp\n",
      "vip/myvip_1_02.asp\n",
      "vip/myvip_2_1_1.asp\n",
      "vip/myvip_index.asp\n",
      "vip/myvip_3_01.asp\n",
      "https://www.cathayholdings.com/bank/cathaybk/event/kids/index.htm\n",
      "vip/hotkey_1_1.asp\n",
      "https://www.cathayholdings.com/bank/cathaybk/vip/event/2014/201408Fund/index_B_0.html\n",
      "/bank/cathaybk/trust/trust_2_1_1.asp\n",
      "/bank/cathaybk/personal_marketing_securities.asp\n",
      "https://www.cathayholdings.com/bank/cathaybk/vip/event/2014/201408Fund/desktop_index.html                                                                     \n",
      "vip/myvip_index.asp\n",
      "https://www.mybank.com.tw\n",
      "https://www.mybank.com.tw/MyBank/Quicklinks/Outer/HowToApply\n",
      "https://www.mybank.com.tw/MyBank/Quicklinks/Outer/TxnOverViewRst\n",
      "https://www.mybank.com.tw/myatm/cathaybk_myatm.asp\n",
      "https://www.globalmyb2b.com/GEBANK/Login.aspx\n",
      "https://www.cathayholdings.com/bank/cathaybk/trust/event/2016/201602trust/index.asp\n",
      "https://www.cathayholdings.com/bank/cathaybk/credit-happytai.asp\n",
      "https://www.cathayholdings.com/bank/cathaybk/card/card/formosa/index.html\n",
      "https://www.kokobank.com/KOKO?utm_source=CUBbigbanner&utm_medium=banner&utm_campaign=KOKOoda\n",
      "https://www.cathayholdings.com/bank/cathaybk/card/event/2016/MyBill/20160523/card_news1050523_index.asp\n",
      "javascript:\n",
      "javascript:\n",
      "javascript:\n",
      "javascript:\n",
      "javascript:\n",
      "javascript:Reset_ValidCode();\n",
      "personal_info07.asp\n",
      "personal_info05.asp\n",
      "https://www.cathaybk.com.tw/cathaybk/dsa/openaccount/intro/index.aspx\n",
      "https://www.cathaybk.com.tw/cathaybk/card/MyBill/index.asp\n",
      "javascript:\n",
      "#lb_apply_loan_credit\n",
      "https://www.cathaybk.com.tw/cathaybk/OnlineLoan_schedule.asp\n",
      "#lb_apply_loan_credit_02\n",
      "#lb_apply_loan_credit_03\n",
      "Onlinehouse_index.asp\n",
      "javascript:\n",
      "https://www.cathaybk.com.tw/cathaybk/OnlineLoan_card_apply.asp\n",
      "Online_ActivateCardForm.asp\n",
      "Online_RecommendCardForm.asp\n",
      "https://www.cathaybk.com.tw/cathaybk/contact.asp\n",
      "https://www.kokobank.com/KOKO?utm_source=CUBindex&utm_medium=Banner&utm_campaign=CUBindex\n",
      "mmb/index.asp\n",
      "e_service/linepay/event/2015/201506linepay/index.asp\n",
      "https://www.cathaybk.com.tw/cathaybk/e_service/MyMobiBank/event/2015/201502mmb_push/index.asp\n",
      "https://www.cathaybk.com.tw/cathaybk/personal/event/2016/201601/index.htm#a04\n",
      "https://www.cathayholdings.com/bank/cathaybk/enterprise/pdf/pdf34.pdf\n",
      "https://www.cathayholdings.com/bank/cathaybk/enterprise/pdf/pdf33.pdf\n",
      "https://www.cathayholdings.com/bank/cathaybk/enterprise/pdf/pdf32.pdf\n",
      "https://www.cathayholdings.com/bank/cathaybk/enterprise/pdf/pdf31.pdf\n",
      "https://www.cathayholdings.com/bank/cathaybk/enterprise/pdf/pdf30.pdf\n",
      "https://www.cathayholdings.com/bank/cathaybk/vip/myvip_news1050628.asp\n",
      "https://www.cathayholdings.com/bank/cathaybk/doc/cathay20160705.pdf\n",
      "https://www.cathayholdings.com/bank/cathaybk/about_news1050628.asp\n",
      "https://www.cathayholdings.com/bank/cathaybk/about_news1040511.asp\n",
      "news-list.asp\n",
      "https://www.cathaybk.com.tw/cathaybk/personal/event/2016/201601/index.htm\n",
      "https://www.cathayholdings.com/bank/cathaybk/trust/event/2016/201602trust/index.asp\n",
      "https://www.cathayholdings.com/bank/cathaybk/trust_fund_event201606.asp\n",
      "https://www.cathayholdings.com/bank/cathaybk/credit-happytai.asp\n",
      "https://www.kokobank.com/KOKO?utm_source=CUBsmallbanner&utm_medium=banner&utm_campaign=KOKOoda\n",
      "javascript:\n",
      "/bank/cathaybk/card/index.asp\n",
      "/bank/cathaybk/card/card/card.asp\n",
      "/bank/cathaybk/card/news_list.asp\n",
      "/bank/cathaybk/card/card/right/right_1.asp\n",
      "/bank/cathaybk/card/event/bonus/bonus_2.asp\n",
      "/bank/cathaybk/card/event/2012/201203newcard_ggg/index.html\n",
      "/bank/cathaybk/deposit/index.asp\n",
      "/bank/cathaybk/deposit/account-savings.asp\n",
      "/bank/cathaybk/deposit/account-certificate.asp\n",
      "/bank/cathaybk/deposit/account-special.asp\n",
      "/bank/cathaybk/deposit/rate.asp\n",
      "javascript:\n",
      "/bank/cathaybk/house-index.asp\n",
      "/bank/cathaybk/credit-happytai.asp\n",
      "/bank/cathaybk/other-stock.asp\n",
      "/bank/cathaybk/exchange/index.asp\n",
      "/bank/cathaybk/exchange/currency-billboard.asp\n",
      "/bank/cathaybk/exchange/account.asp\n",
      "/bank/cathaybk/exchange/remittance-inward.asp\n",
      "/bank/cathaybk/exchange/checks.asp\n",
      "/bank/cathaybk/exchange/others-dbu.asp\n",
      "/bank/cathaybk/obu/index_personal.asp\n",
      "/bank/cathaybk/life/index.asp\n",
      "/bank/cathaybk/life/index.asp\n",
      "/bank/cathaybk/insurance/index.asp\n",
      "/bank/cathaybk/vip/myvip_index.asp\n",
      "/bank/cathaybk/vip/myvip_1_1_1.asp\n",
      "/bank/cathaybk/vip/myvip_1_05.asp\n",
      "/bank/cathaybk/vip/myvip_1_02.asp\n",
      "/bank/cathaybk/vip/myvip_2_1_1.asp\n",
      "/bank/cathaybk/vip/myvip_index.asp\n",
      "/bank/cathaybk/vip/myvip_3_01.asp\n",
      "/bank/cathaybk/trust/trust_2_1_1.asp\n",
      "/bank/cathaybk/personal_marketing_securities.asp\n",
      "https://www.mybank.com.tw/mybank/\n",
      "javascript:void(0);\n",
      "tel:+8860800818001\n",
      "tel:+886223831000\n",
      "#\n",
      "https://www.facebook.com/cathayunitedbank\n",
      "https://www.youtube.com/user/cathayunitedbank/\n",
      "about_creditcard.asp\n",
      "about_finarpt.asp\n",
      "index_environment.asp\n",
      "about_safe.asp\n",
      "set-browser.asp\n",
      "https://www.cathaybk.com.tw/cathaybk/OnlineLoan_index.asp\n",
      "https://www.mybank.com.tw/mybank/\n",
      "credit-reserve.asp\n",
      "/bank/cathaybk/Online_Confirm_Card.asp\n",
      "/bank/cathaybk/Online_Confirm_Acct.asp\n",
      "Online_Confirm_Srarch_Card.asp\n",
      "Online_Confirm_Srarch_Acct.asp\n"
     ]
    }
   ],
   "source": [
    "for link in cathay:\n",
    "    print(link)"
   ]
  },
  {
   "cell_type": "markdown",
   "metadata": {},
   "source": [
    "## 檢查聯結中是否含有PDF 字樣"
   ]
  },
  {
   "cell_type": "code",
   "execution_count": 11,
   "metadata": {
    "collapsed": false
   },
   "outputs": [
    {
     "name": "stdout",
     "output_type": "stream",
     "text": [
      "https://www.cathayholdings.com/bank/cathaybk/enterprise/pdf/pdf34.pdf\n",
      "https://www.cathayholdings.com/bank/cathaybk/enterprise/pdf/pdf33.pdf\n",
      "https://www.cathayholdings.com/bank/cathaybk/enterprise/pdf/pdf32.pdf\n",
      "https://www.cathayholdings.com/bank/cathaybk/enterprise/pdf/pdf31.pdf\n",
      "https://www.cathayholdings.com/bank/cathaybk/enterprise/pdf/pdf30.pdf\n",
      "https://www.cathayholdings.com/bank/cathaybk/doc/cathay20160705.pdf\n"
     ]
    }
   ],
   "source": [
    "for link in cathay:\n",
    "    if 'pdf' in link:\n",
    "        print(link)"
   ]
  },
  {
   "cell_type": "markdown",
   "metadata": {},
   "source": [
    "## 將包含PDF檔名的聯結整理成一個list"
   ]
  },
  {
   "cell_type": "code",
   "execution_count": 12,
   "metadata": {
    "collapsed": true
   },
   "outputs": [],
   "source": [
    "pdflist = []\n",
    "for link in cathay:\n",
    "    if 'pdf' in link:\n",
    "        pdflist.append(link) # append new item into list    "
   ]
  },
  {
   "cell_type": "markdown",
   "metadata": {},
   "source": [
    "## 裡面有多少副檔名包含pdf 的檔案"
   ]
  },
  {
   "cell_type": "code",
   "execution_count": 13,
   "metadata": {
    "collapsed": false
   },
   "outputs": [
    {
     "name": "stdout",
     "output_type": "stream",
     "text": [
      "6\n"
     ]
    }
   ],
   "source": [
    "print(len(pdflist))"
   ]
  },
  {
   "cell_type": "markdown",
   "metadata": {},
   "source": [
    "## 是否可以將包含pdf檔名的連結成整理一個List"
   ]
  },
  {
   "cell_type": "code",
   "execution_count": 16,
   "metadata": {
    "collapsed": false
   },
   "outputs": [
    {
     "name": "stdout",
     "output_type": "stream",
     "text": [
      "['https://www.cathayholdings.com/bank/cathaybk/enterprise/pdf/pdf34.pdf', 'https://www.cathayholdings.com/bank/cathaybk/enterprise/pdf/pdf33.pdf', 'https://www.cathayholdings.com/bank/cathaybk/enterprise/pdf/pdf32.pdf', 'https://www.cathayholdings.com/bank/cathaybk/enterprise/pdf/pdf31.pdf', 'https://www.cathayholdings.com/bank/cathaybk/enterprise/pdf/pdf30.pdf', 'https://www.cathayholdings.com/bank/cathaybk/doc/cathay20160705.pdf']\n"
     ]
    }
   ],
   "source": [
    "print(pdflist)"
   ]
  },
  {
   "cell_type": "markdown",
   "metadata": {},
   "source": [
    "##  除國泰世華網站 ( https://www.cathayholdings.com/ )外，這裡面有多少其他網域 (e.g. https://www.facebook.com/)"
   ]
  },
  {
   "cell_type": "code",
   "execution_count": 21,
   "metadata": {
    "collapsed": true
   },
   "outputs": [],
   "source": [
    "domainlist = []\n",
    "\n",
    "for link in cathay:\n",
    "    if ('http://' in link or 'https://' in link):\n",
    "        #domainlist.append(link) # append new item into list    \n",
    "        domainlist.append(link.split('/')[2]) # append new item into list    "
   ]
  },
  {
   "cell_type": "code",
   "execution_count": 23,
   "metadata": {
    "collapsed": false
   },
   "outputs": [
    {
     "name": "stdout",
     "output_type": "stream",
     "text": [
      "['www.cathayholdings.com', 'www.cathayholdings.com', 'www.cathayholdings.com', 'www.cathayholdings.com', 'www.cathayholdings.com', 'www.cathayholdings.com', 'www.cathayholdings.com', 'accessibility.cathaybk.com.tw', 'www.cathayholdings.com', 'www.cathaybk.com.tw', 'www.cathayholdings.com', 'www.cathayholdings.com', 'www.cathayholdings.com', 'www.cathayholdings.com', 'www.cathayholdings.com', 'www.cathayholdings.com', 'www.mybank.com.tw', 'www.mybank.com.tw', 'www.mybank.com.tw', 'www.mybank.com.tw', 'www.globalmyb2b.com', 'www.cathayholdings.com', 'www.cathayholdings.com', 'www.cathayholdings.com', 'www.kokobank.com', 'www.cathayholdings.com', 'www.cathaybk.com.tw', 'www.cathaybk.com.tw', 'www.cathaybk.com.tw', 'www.cathaybk.com.tw', 'www.cathaybk.com.tw', 'www.kokobank.com', 'www.cathaybk.com.tw', 'www.cathaybk.com.tw', 'www.cathayholdings.com', 'www.cathayholdings.com', 'www.cathayholdings.com', 'www.cathayholdings.com', 'www.cathayholdings.com', 'www.cathayholdings.com', 'www.cathayholdings.com', 'www.cathayholdings.com', 'www.cathayholdings.com', 'www.cathaybk.com.tw', 'www.cathayholdings.com', 'www.cathayholdings.com', 'www.cathayholdings.com', 'www.kokobank.com', 'www.mybank.com.tw', 'www.facebook.com', 'www.youtube.com', 'www.cathaybk.com.tw', 'www.mybank.com.tw']\n"
     ]
    }
   ],
   "source": [
    "print(domainlist)"
   ]
  },
  {
   "cell_type": "code",
   "execution_count": 32,
   "metadata": {
    "collapsed": false
   },
   "outputs": [],
   "source": [
    "domaindict = {}\n",
    "for link in cathay:\n",
    "    if ('http://' in link or 'https://' in link) and 'cathayholdings.com' not in link:\n",
    "        domain = link.split('/')[2].split('.', 1)[1]\n",
    "        if domain not in domaindict:\n",
    "            domaindict[domain] = domain"
   ]
  },
  {
   "cell_type": "code",
   "execution_count": 33,
   "metadata": {
    "collapsed": false
   },
   "outputs": [
    {
     "name": "stdout",
     "output_type": "stream",
     "text": [
      "globalmyb2b.com\n",
      "youtube.com\n",
      "mybank.com.tw\n",
      "facebook.com\n",
      "cathaybk.com.tw\n",
      "kokobank.com\n"
     ]
    }
   ],
   "source": [
    "for dns in domaindict:\n",
    "    print(dns)"
   ]
  },
  {
   "cell_type": "code",
   "execution_count": 28,
   "metadata": {
    "collapsed": false
   },
   "outputs": [
    {
     "name": "stdout",
     "output_type": "stream",
     "text": [
      "www.cathayholdings.com\n",
      "['www', 'cathayholdings', 'com']\n",
      "['www', 'cathayholdings.com']\n"
     ]
    }
   ],
   "source": [
    "a = 'https://www.cathayholdings.com/holdings'\n",
    "print(a.split('/')[2])\n",
    "print(a.split('/')[2].split('.'))\n",
    "print(a.split('/')[2].split('.', 1)) "
   ]
  },
  {
   "cell_type": "markdown",
   "metadata": {
    "collapsed": true
   },
   "source": [
    "## 1. 裡面有多少副檔名包含pdf 的檔案"
   ]
  },
  {
   "cell_type": "code",
   "execution_count": 34,
   "metadata": {
    "collapsed": false
   },
   "outputs": [
    {
     "name": "stdout",
     "output_type": "stream",
     "text": [
      "6\n"
     ]
    }
   ],
   "source": [
    "pdflist = []\n",
    "for link in cathay:\n",
    "    if 'pdf' in link:\n",
    "        pdflist.append(link)\n",
    "print(len(pdflist))"
   ]
  },
  {
   "cell_type": "markdown",
   "metadata": {},
   "source": [
    "## 2. 是否可以將包含pdf檔名的連結成整理一個List"
   ]
  },
  {
   "cell_type": "code",
   "execution_count": 36,
   "metadata": {
    "collapsed": false
   },
   "outputs": [
    {
     "name": "stdout",
     "output_type": "stream",
     "text": [
      "['https://www.cathayholdings.com/bank/cathaybk/enterprise/pdf/pdf34.pdf', 'https://www.cathayholdings.com/bank/cathaybk/enterprise/pdf/pdf33.pdf', 'https://www.cathayholdings.com/bank/cathaybk/enterprise/pdf/pdf32.pdf', 'https://www.cathayholdings.com/bank/cathaybk/enterprise/pdf/pdf31.pdf', 'https://www.cathayholdings.com/bank/cathaybk/enterprise/pdf/pdf30.pdf', 'https://www.cathayholdings.com/bank/cathaybk/doc/cathay20160705.pdf']\n"
     ]
    }
   ],
   "source": [
    "pdflist = []\n",
    "for link in cathay:\n",
    "    if 'pdf' in link:\n",
    "        pdflist.append(link)\n",
    "print(pdflist)"
   ]
  },
  {
   "cell_type": "markdown",
   "metadata": {},
   "source": [
    "## 3. 除國泰世華網站 ( https://www.cathayholdings.com/ )外，這裡面有多少其他網域 (e.g. https://www.facebook.com/)"
   ]
  },
  {
   "cell_type": "code",
   "execution_count": 16,
   "metadata": {
    "collapsed": false
   },
   "outputs": [
    {
     "name": "stdout",
     "output_type": "stream",
     "text": [
      "set(['kokobank.com', 'youtube.com', 'mybank.com.tw', 'globalmyb2b.com', 'facebook.com', 'cathaybk.com.tw'])\n"
     ]
    }
   ],
   "source": [
    "domainlist = []\n",
    "for link in cathay:\n",
    "    if ('http://' in link or 'https://' in link) and 'https://www.cathayholdings.com/' not in link :\n",
    "        domainlist.append(link.split('/')[2].split('.', 1)[1])\n",
    "print(set(domainlist))"
   ]
  }
 ],
 "metadata": {
  "anaconda-cloud": {},
  "kernelspec": {
   "display_name": "Python [Root]",
   "language": "python",
   "name": "Python [Root]"
  },
  "language_info": {
   "codemirror_mode": {
    "name": "ipython",
    "version": 3
   },
   "file_extension": ".py",
   "mimetype": "text/x-python",
   "name": "python",
   "nbconvert_exporter": "python",
   "pygments_lexer": "ipython3",
   "version": "3.5.2"
  }
 },
 "nbformat": 4,
 "nbformat_minor": 0
}
