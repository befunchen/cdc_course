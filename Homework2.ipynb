{
 "cells": [
  {
   "cell_type": "markdown",
   "metadata": {},
   "source": [
    "## 問題描述\n",
    "\n",
    "### 現有一疾管署闢謠專區資料集 (https://github.com/ywchiu/cdc_course/blob/master/data/cdc_info.tsv) ，包含網路謠言與闢謠回答。\n",
    "\n",
    "\n",
    "| 疾病別  | 題目                                                      | 日期       | 提供單位   | \n",
    "|---------|-----------------------------------------------------------|------------|------------|\n",
    "| A型肝炎 | 生吃青蔥會得到A型肝炎                                     | 2017/2/7   | 疾病管制署 |   \n",
    "| 愛滋病  | 疾管署澄清，未針對某媒體12/28報導「捐血中心篩檢嚴重漏洞」 | 2016/12/28 | 疾病管制署 |   \n",
    "\n",
    "### 現在為了能夠統計出該資料集各病例的數量，您必須應用課堂上所學到的 Python 方法回答下列問題:"
   ]
  },
  {
   "cell_type": "markdown",
   "metadata": {},
   "source": [
    "#### 1. 請讀取cdc_info.tsv 檔案中的「疾病別」欄位資料，並將資料整理至一名為disease_ary 的list之中 (提示: 使用變數、檔案IO、字串處理方法)"
   ]
  },
  {
   "cell_type": "markdown",
   "metadata": {},
   "source": [
    "#### 2. 請使用Python 統計「疾病別」欄位中各疾病出現的數量 (提示: 使用字典或Collections)"
   ]
  },
  {
   "cell_type": "markdown",
   "metadata": {},
   "source": [
    "#### 3. 請將「疾病別」出現的統計結果以csv (用\",\" 分隔欄位)形式寫入到一名為stat.csv 的檔案  (提示: 使用變數、檔案IO、字串處理方法)\n",
    "\n",
    "#### 輸出範例如下\n"
   ]
  },
  {
   "cell_type": "code",
   "execution_count": null,
   "metadata": {
    "collapsed": true
   },
   "outputs": [],
   "source": [
    "A型肝炎,1\n",
    "愛滋病,2"
   ]
  }
 ],
 "metadata": {
  "kernelspec": {
   "display_name": "Python 3",
   "language": "python",
   "name": "python3"
  },
  "language_info": {
   "codemirror_mode": {
    "name": "ipython",
    "version": 3
   },
   "file_extension": ".py",
   "mimetype": "text/x-python",
   "name": "python",
   "nbconvert_exporter": "python",
   "pygments_lexer": "ipython3",
   "version": "3.6.0"
  }
 },
 "nbformat": 4,
 "nbformat_minor": 2
}
