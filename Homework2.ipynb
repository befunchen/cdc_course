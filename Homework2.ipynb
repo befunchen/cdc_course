{
 "cells": [
  {
   "cell_type": "markdown",
   "metadata": {},
   "source": [
    "## 問題描述\n",
    "\n",
    "### 現有一疾管署闢謠專區資料集 (https://github.com/ywchiu/cdc_course/blob/master/data/cdc_info.tsv) ，包含網路謠言與闢謠回答。\n",
    "\n",
    "\n",
    "| 疾病別  | 題目                                                      | 日期       | 提供單位   | \n",
    "|---------|-----------------------------------------------------------|------------|------------|\n",
    "| A型肝炎 | 生吃青蔥會得到A型肝炎                                     | 2017/2/7   | 疾病管制署 |   \n",
    "| 愛滋病  | 疾管署澄清，未針對某媒體12/28報導「捐血中心篩檢嚴重漏洞」 | 2016/12/28 | 疾病管制署 |   \n",
    "\n",
    "### 現在為了能夠統計出該資料集各病例的數量，您必須應用課堂上所學到的 Python 方法回答下列問題:"
   ]
  },
  {
   "cell_type": "markdown",
   "metadata": {},
   "source": [
    "#### 1. 請讀取cdc_info.tsv 檔案中的「疾病別」欄位資料，並將資料整理至一名為disease_ary 的list之中 (提示: 使用變數、檔案IO、字串處理方法)"
   ]
  },
  {
   "cell_type": "code",
   "execution_count": 5,
   "metadata": {},
   "outputs": [],
   "source": [
    "disease_ary = []\n",
    "with open('C://Users//befun//Desktop/cdc_info.tsv' , 'r') as f:\n",
    "    for line in f.readlines():\n",
    "        disease_type = line.split()[0]\n",
    "        if disease_type != '疾病別':\n",
    "            disease_ary.append(line.split()[0])"
   ]
  },
  {
   "cell_type": "code",
   "execution_count": 13,
   "metadata": {},
   "outputs": [
    {
     "name": "stdout",
     "output_type": "stream",
     "text": [
      "['A型肝炎', '愛滋病', '愛滋病', 'A型肝炎', '流感', '流感', '流感', '流感', '流感', '流感', '流感', '流感', '流感', '流感', '日本腦炎疫苗', '疫苗安全', '愛滋病', '愛滋病', '腸病毒', '腸病毒', '蟲媒傳染病', '腸病毒', '病毒性腸胃炎/流感', '疫苗接種', '愛滋病', '愛滋病', '愛滋病', '愛滋病', '流感', '諾羅病毒', '腸病毒/病毒性腸胃炎/流感', '蟲媒傳染病', '蟲媒傳染病', '登革熱', '登革熱', '流感', '愛滋病', '其它', '愛滋病', '茲卡病毒', '蟲媒傳染病', 'MMR混合疫苗', '流感', '愛滋病', '愛滋病', '愛滋病', '愛滋病', '愛滋病', '愛滋病', '愛滋病', '登革熱', '登革熱', '登革熱', '登革熱', '登革熱', '登革熱', '登革熱', '登革熱', '登革熱', '愛滋病', '愛滋病', '愛滋病', '愛滋病', '愛滋病', '愛滋病', '同婚與愛滋', '同婚與愛滋', '同婚與愛滋', '同婚與愛滋', '同婚與愛滋', '同婚與愛滋', '同婚與愛滋', '同婚與愛滋', '同婚與愛滋', '同婚與愛滋', '愛滋病', '愛滋病', '愛滋病']\n"
     ]
    }
   ],
   "source": [
    "print(disease_ary)"
   ]
  },
  {
   "cell_type": "code",
   "execution_count": 12,
   "metadata": {},
   "outputs": [
    {
     "name": "stdout",
     "output_type": "stream",
     "text": [
      "['A型肝炎', '愛滋病', '愛滋病', 'A型肝炎', '流感', '流感', '流感', '流感', '流感', '流感', '流感', '流感', '流感', '流感', '日本腦炎疫苗', '疫苗安全', '愛滋病', '愛滋病', '腸病毒', '腸病毒', '蟲媒傳染病', '腸病毒', '病毒性腸胃炎/流感', '疫苗接種', '愛滋病', '愛滋病', '愛滋病', '愛滋病', '流感', '諾羅病毒', '腸病毒/病毒性腸胃炎/流感', '蟲媒傳染病', '蟲媒傳染病', '登革熱', '登革熱', '流感', '愛滋病', '其它', '愛滋病', '茲卡病毒', '蟲媒傳染病', 'MMR混合疫苗', '流感', '愛滋病', '愛滋病', '愛滋病', '愛滋病', '愛滋病', '愛滋病', '愛滋病', '登革熱', '登革熱', '登革熱', '登革熱', '登革熱', '登革熱', '登革熱', '登革熱', '登革熱', '愛滋病', '愛滋病', '愛滋病', '愛滋病', '愛滋病', '愛滋病', '同婚與愛滋', '同婚與愛滋', '同婚與愛滋', '同婚與愛滋', '同婚與愛滋', '同婚與愛滋', '同婚與愛滋', '同婚與愛滋', '同婚與愛滋', '同婚與愛滋', '愛滋病', '愛滋病', '愛滋病']\n"
     ]
    }
   ],
   "source": [
    "disease_ary = [line.split()[0] for line in open('C://Users//befun//Desktop/cdc_info.tsv' , 'r')][1:]\n",
    "print(disease_ary)"
   ]
  },
  {
   "cell_type": "markdown",
   "metadata": {},
   "source": [
    "#### 2. 請使用Python 統計「疾病別」欄位中各疾病出現的數量 (提示: 使用字典或Collections)"
   ]
  },
  {
   "cell_type": "code",
   "execution_count": 17,
   "metadata": {},
   "outputs": [
    {
     "name": "stdout",
     "output_type": "stream",
     "text": [
      "{'A型肝炎': 2, '愛滋病': 26, '流感': 13, '日本腦炎疫苗': 1, '疫苗安全': 1, '腸病毒': 3, '蟲媒傳染病': 4, '病毒性腸胃炎/流感': 1, '疫苗接種': 1, '諾羅病毒': 1, '腸病毒/病毒性腸胃炎/流感': 1, '登革熱': 11, '其它': 1, '茲卡病毒': 1, 'MMR混合疫苗': 1, '同婚與愛滋': 10}\n"
     ]
    }
   ],
   "source": [
    "# Dictionary\n",
    "dic = {}\n",
    "for disease in disease_ary:\n",
    "    #print(dic)\n",
    "    if disease not in dic:\n",
    "        dic[disease] = 1\n",
    "    else:\n",
    "        dic[disease] = dic[disease] + 1\n",
    "print(dic)"
   ]
  },
  {
   "cell_type": "code",
   "execution_count": 20,
   "metadata": {},
   "outputs": [
    {
     "name": "stdout",
     "output_type": "stream",
     "text": [
      "腸病毒 3\n",
      "諾羅病毒 1\n",
      "茲卡病毒 1\n",
      "疫苗安全 1\n",
      "愛滋病 26\n",
      "A型肝炎 2\n",
      "流感 13\n",
      "腸病毒/病毒性腸胃炎/流感 1\n",
      "登革熱 11\n",
      "同婚與愛滋 10\n",
      "日本腦炎疫苗 1\n",
      "蟲媒傳染病 4\n",
      "其它 1\n",
      "病毒性腸胃炎/流感 1\n",
      "MMR混合疫苗 1\n",
      "疫苗接種 1\n"
     ]
    }
   ],
   "source": [
    "# set\n",
    "disease_set = set(disease_ary)\n",
    "for disease in disease_set:\n",
    "    print(disease, disease_ary.count(disease))"
   ]
  },
  {
   "cell_type": "code",
   "execution_count": 22,
   "metadata": {},
   "outputs": [
    {
     "name": "stdout",
     "output_type": "stream",
     "text": [
      "Counter({'愛滋病': 26, '流感': 13, '登革熱': 11, '同婚與愛滋': 10, '蟲媒傳染病': 4, '腸病毒': 3, 'A型肝炎': 2, '日本腦炎疫苗': 1, '疫苗安全': 1, '病毒性腸胃炎/流感': 1, '疫苗接種': 1, '諾羅病毒': 1, '腸病毒/病毒性腸胃炎/流感': 1, '其它': 1, '茲卡病毒': 1, 'MMR混合疫苗': 1})\n"
     ]
    }
   ],
   "source": [
    "# collections\n",
    "from collections import Counter\n",
    "c = Counter(disease_ary)\n",
    "print(c)"
   ]
  },
  {
   "cell_type": "markdown",
   "metadata": {},
   "source": [
    "#### 3. 請將「疾病別」出現的統計結果以csv (用\",\" 分隔欄位)形式寫入到一名為stat.csv 的檔案  (提示: 使用變數、檔案IO、字串處理方法)\n",
    "\n",
    "#### 輸出範例如下\n"
   ]
  },
  {
   "cell_type": "code",
   "execution_count": null,
   "metadata": {
    "collapsed": true
   },
   "outputs": [],
   "source": [
    "A型肝炎,1\n",
    "愛滋病,1"
   ]
  },
  {
   "cell_type": "code",
   "execution_count": 26,
   "metadata": {},
   "outputs": [],
   "source": [
    "with open('stat.csv' , 'w') as f:\n",
    "    for disease, cnt in dic.items():\n",
    "        f.write('{},{}\\n'.format(disease,cnt))\n",
    "        #f.write('%s,%s\\n'%(disease,cnt))"
   ]
  },
  {
   "cell_type": "markdown",
   "metadata": {},
   "source": [
    "## PANDAS 範例"
   ]
  },
  {
   "cell_type": "code",
   "execution_count": 42,
   "metadata": {},
   "outputs": [],
   "source": [
    "import pandas\n",
    "df = pandas.read_csv('C://Users//befun//Desktop/cdc_info.tsv', sep='\\t', encoding='big5')\n",
    "df2 = df['疾病別'].value_counts()"
   ]
  },
  {
   "cell_type": "code",
   "execution_count": 45,
   "metadata": {},
   "outputs": [],
   "source": [
    "df2.to_frame().to_csv('stat2.csv')"
   ]
  },
  {
   "cell_type": "code",
   "execution_count": 46,
   "metadata": {
    "collapsed": true
   },
   "outputs": [],
   "source": [
    "df2.to_frame().to_clipboard()"
   ]
  },
  {
   "cell_type": "code",
   "execution_count": 49,
   "metadata": {
    "scrolled": true
   },
   "outputs": [],
   "source": [
    "df3 = pandas.read_clipboard()"
   ]
  },
  {
   "cell_type": "code",
   "execution_count": 50,
   "metadata": {},
   "outputs": [
    {
     "data": {
      "text/html": [
       "<div>\n",
       "<style>\n",
       "    .dataframe thead tr:only-child th {\n",
       "        text-align: right;\n",
       "    }\n",
       "\n",
       "    .dataframe thead th {\n",
       "        text-align: left;\n",
       "    }\n",
       "\n",
       "    .dataframe tbody tr th {\n",
       "        vertical-align: top;\n",
       "    }\n",
       "</style>\n",
       "<table border=\"1\" class=\"dataframe\">\n",
       "  <thead>\n",
       "    <tr style=\"text-align: right;\">\n",
       "      <th></th>\n",
       "      <th>A型肝炎</th>\n",
       "      <th>2</th>\n",
       "    </tr>\n",
       "  </thead>\n",
       "  <tbody>\n",
       "    <tr>\n",
       "      <th>0</th>\n",
       "      <td>愛滋病</td>\n",
       "      <td>26</td>\n",
       "    </tr>\n",
       "    <tr>\n",
       "      <th>1</th>\n",
       "      <td>流感</td>\n",
       "      <td>13</td>\n",
       "    </tr>\n",
       "    <tr>\n",
       "      <th>2</th>\n",
       "      <td>日本腦炎疫苗</td>\n",
       "      <td>1</td>\n",
       "    </tr>\n",
       "    <tr>\n",
       "      <th>3</th>\n",
       "      <td>疫苗安全</td>\n",
       "      <td>1</td>\n",
       "    </tr>\n",
       "    <tr>\n",
       "      <th>4</th>\n",
       "      <td>腸病毒</td>\n",
       "      <td>3</td>\n",
       "    </tr>\n",
       "    <tr>\n",
       "      <th>5</th>\n",
       "      <td>蟲媒傳染病</td>\n",
       "      <td>4</td>\n",
       "    </tr>\n",
       "    <tr>\n",
       "      <th>6</th>\n",
       "      <td>病毒性腸胃炎/流感</td>\n",
       "      <td>1</td>\n",
       "    </tr>\n",
       "    <tr>\n",
       "      <th>7</th>\n",
       "      <td>疫苗接種</td>\n",
       "      <td>1</td>\n",
       "    </tr>\n",
       "    <tr>\n",
       "      <th>8</th>\n",
       "      <td>諾羅病毒</td>\n",
       "      <td>1</td>\n",
       "    </tr>\n",
       "    <tr>\n",
       "      <th>9</th>\n",
       "      <td>腸病毒/病毒性腸胃炎/流感</td>\n",
       "      <td>1</td>\n",
       "    </tr>\n",
       "    <tr>\n",
       "      <th>10</th>\n",
       "      <td>登革熱</td>\n",
       "      <td>11</td>\n",
       "    </tr>\n",
       "    <tr>\n",
       "      <th>11</th>\n",
       "      <td>其它</td>\n",
       "      <td>1</td>\n",
       "    </tr>\n",
       "    <tr>\n",
       "      <th>12</th>\n",
       "      <td>茲卡病毒</td>\n",
       "      <td>1</td>\n",
       "    </tr>\n",
       "    <tr>\n",
       "      <th>13</th>\n",
       "      <td>MMR混合疫苗</td>\n",
       "      <td>1</td>\n",
       "    </tr>\n",
       "    <tr>\n",
       "      <th>14</th>\n",
       "      <td>同婚與愛滋</td>\n",
       "      <td>10</td>\n",
       "    </tr>\n",
       "  </tbody>\n",
       "</table>\n",
       "</div>"
      ],
      "text/plain": [
       "             A型肝炎   2\n",
       "0             愛滋病  26\n",
       "1              流感  13\n",
       "2          日本腦炎疫苗   1\n",
       "3            疫苗安全   1\n",
       "4             腸病毒   3\n",
       "5           蟲媒傳染病   4\n",
       "6       病毒性腸胃炎/流感   1\n",
       "7            疫苗接種   1\n",
       "8            諾羅病毒   1\n",
       "9   腸病毒/病毒性腸胃炎/流感   1\n",
       "10            登革熱  11\n",
       "11             其它   1\n",
       "12           茲卡病毒   1\n",
       "13        MMR混合疫苗   1\n",
       "14          同婚與愛滋  10"
      ]
     },
     "execution_count": 50,
     "metadata": {},
     "output_type": "execute_result"
    }
   ],
   "source": [
    "df3"
   ]
  },
  {
   "cell_type": "markdown",
   "metadata": {},
   "source": [
    "| a | b | c | d | e |\n",
    "|---|---|---|---|---|\n",
    "| 1 | 2 | 3 | 4 | 5 |\n",
    "|   |   |   |   |   |\n",
    "|   |   |   |   |   |"
   ]
  },
  {
   "cell_type": "code",
   "execution_count": null,
   "metadata": {
    "collapsed": true
   },
   "outputs": [],
   "source": []
  }
 ],
 "metadata": {
  "kernelspec": {
   "display_name": "Python 3",
   "language": "python",
   "name": "python3"
  },
  "language_info": {
   "codemirror_mode": {
    "name": "ipython",
    "version": 3
   },
   "file_extension": ".py",
   "mimetype": "text/x-python",
   "name": "python",
   "nbconvert_exporter": "python",
   "pygments_lexer": "ipython3",
   "version": "3.6.1"
  }
 },
 "nbformat": 4,
 "nbformat_minor": 2
}
